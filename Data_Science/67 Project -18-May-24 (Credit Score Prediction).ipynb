{
 "cells": [
  {
   "cell_type": "code",
   "execution_count": 1,
   "id": "1065d20b-6168-4839-857e-4e5a6f8e2f69",
   "metadata": {},
   "outputs": [],
   "source": [
    "import warnings\n",
    "warnings.filterwarnings('ignore')"
   ]
  },
  {
   "cell_type": "code",
   "execution_count": 2,
   "id": "9312d046-0352-4094-8c7c-e914a59b49c3",
   "metadata": {},
   "outputs": [],
   "source": [
    "#importing libraries\n",
    "import numpy as np\n",
    "import pandas as pd\n",
    "import matplotlib.pyplot as plt\n",
    "import seaborn as sns"
   ]
  },
  {
   "cell_type": "code",
   "execution_count": 3,
   "id": "73868961-ae80-4bf4-97db-697cc3625bd1",
   "metadata": {},
   "outputs": [
    {
     "data": {
      "text/html": [
       "<div>\n",
       "<style scoped>\n",
       "    .dataframe tbody tr th:only-of-type {\n",
       "        vertical-align: middle;\n",
       "    }\n",
       "\n",
       "    .dataframe tbody tr th {\n",
       "        vertical-align: top;\n",
       "    }\n",
       "\n",
       "    .dataframe thead th {\n",
       "        text-align: right;\n",
       "    }\n",
       "</style>\n",
       "<table border=\"1\" class=\"dataframe\">\n",
       "  <thead>\n",
       "    <tr style=\"text-align: right;\">\n",
       "      <th></th>\n",
       "      <th>Age</th>\n",
       "      <th>Gender</th>\n",
       "      <th>Income</th>\n",
       "      <th>Education</th>\n",
       "      <th>Marital Status</th>\n",
       "      <th>Number of Children</th>\n",
       "      <th>Home Ownership</th>\n",
       "      <th>Credit Score</th>\n",
       "    </tr>\n",
       "  </thead>\n",
       "  <tbody>\n",
       "    <tr>\n",
       "      <th>0</th>\n",
       "      <td>25</td>\n",
       "      <td>Female</td>\n",
       "      <td>50000</td>\n",
       "      <td>Bachelor's Degree</td>\n",
       "      <td>Single</td>\n",
       "      <td>0</td>\n",
       "      <td>Rented</td>\n",
       "      <td>High</td>\n",
       "    </tr>\n",
       "    <tr>\n",
       "      <th>1</th>\n",
       "      <td>30</td>\n",
       "      <td>Male</td>\n",
       "      <td>100000</td>\n",
       "      <td>Master's Degree</td>\n",
       "      <td>Married</td>\n",
       "      <td>2</td>\n",
       "      <td>Owned</td>\n",
       "      <td>High</td>\n",
       "    </tr>\n",
       "    <tr>\n",
       "      <th>2</th>\n",
       "      <td>35</td>\n",
       "      <td>Female</td>\n",
       "      <td>75000</td>\n",
       "      <td>Doctorate</td>\n",
       "      <td>Married</td>\n",
       "      <td>1</td>\n",
       "      <td>Owned</td>\n",
       "      <td>High</td>\n",
       "    </tr>\n",
       "    <tr>\n",
       "      <th>3</th>\n",
       "      <td>40</td>\n",
       "      <td>Male</td>\n",
       "      <td>125000</td>\n",
       "      <td>High School Diploma</td>\n",
       "      <td>Single</td>\n",
       "      <td>0</td>\n",
       "      <td>Owned</td>\n",
       "      <td>High</td>\n",
       "    </tr>\n",
       "    <tr>\n",
       "      <th>4</th>\n",
       "      <td>45</td>\n",
       "      <td>Female</td>\n",
       "      <td>100000</td>\n",
       "      <td>Bachelor's Degree</td>\n",
       "      <td>Married</td>\n",
       "      <td>3</td>\n",
       "      <td>Owned</td>\n",
       "      <td>High</td>\n",
       "    </tr>\n",
       "  </tbody>\n",
       "</table>\n",
       "</div>"
      ],
      "text/plain": [
       "   Age  Gender  Income            Education Marital Status  \\\n",
       "0   25  Female   50000    Bachelor's Degree         Single   \n",
       "1   30    Male  100000      Master's Degree        Married   \n",
       "2   35  Female   75000            Doctorate        Married   \n",
       "3   40    Male  125000  High School Diploma         Single   \n",
       "4   45  Female  100000    Bachelor's Degree        Married   \n",
       "\n",
       "   Number of Children Home Ownership Credit Score  \n",
       "0                   0         Rented         High  \n",
       "1                   2          Owned         High  \n",
       "2                   1          Owned         High  \n",
       "3                   0          Owned         High  \n",
       "4                   3          Owned         High  "
      ]
     },
     "execution_count": 3,
     "metadata": {},
     "output_type": "execute_result"
    }
   ],
   "source": [
    "#Load data\n",
    "df=pd.read_csv(r'C:\\Users\\Admin\\Desktop\\Viska\\Machine Learning\\Day13-18_may-24/Credit Score Classification Dataset.csv')\n",
    "df.head()"
   ]
  },
  {
   "cell_type": "code",
   "execution_count": 4,
   "id": "3107ca6f-2651-4508-8ffd-c39d5315540c",
   "metadata": {},
   "outputs": [
    {
     "data": {
      "text/plain": [
       "(164, 8)"
      ]
     },
     "execution_count": 4,
     "metadata": {},
     "output_type": "execute_result"
    }
   ],
   "source": [
    "df.shape"
   ]
  },
  {
   "cell_type": "code",
   "execution_count": 5,
   "id": "8dd36cbb-548b-4c6c-ba51-04a370eb864e",
   "metadata": {},
   "outputs": [
    {
     "data": {
      "text/html": [
       "<div>\n",
       "<style scoped>\n",
       "    .dataframe tbody tr th:only-of-type {\n",
       "        vertical-align: middle;\n",
       "    }\n",
       "\n",
       "    .dataframe tbody tr th {\n",
       "        vertical-align: top;\n",
       "    }\n",
       "\n",
       "    .dataframe thead th {\n",
       "        text-align: right;\n",
       "    }\n",
       "</style>\n",
       "<table border=\"1\" class=\"dataframe\">\n",
       "  <thead>\n",
       "    <tr style=\"text-align: right;\">\n",
       "      <th></th>\n",
       "      <th>Age</th>\n",
       "      <th>Gender</th>\n",
       "      <th>Income</th>\n",
       "      <th>Education</th>\n",
       "      <th>Marital Status</th>\n",
       "      <th>Number of Children</th>\n",
       "      <th>Home Ownership</th>\n",
       "      <th>Credit Score</th>\n",
       "    </tr>\n",
       "  </thead>\n",
       "  <tbody>\n",
       "    <tr>\n",
       "      <th>159</th>\n",
       "      <td>29</td>\n",
       "      <td>Female</td>\n",
       "      <td>27500</td>\n",
       "      <td>High School Diploma</td>\n",
       "      <td>Single</td>\n",
       "      <td>0</td>\n",
       "      <td>Rented</td>\n",
       "      <td>Low</td>\n",
       "    </tr>\n",
       "    <tr>\n",
       "      <th>160</th>\n",
       "      <td>34</td>\n",
       "      <td>Male</td>\n",
       "      <td>47500</td>\n",
       "      <td>Associate's Degree</td>\n",
       "      <td>Single</td>\n",
       "      <td>0</td>\n",
       "      <td>Rented</td>\n",
       "      <td>Average</td>\n",
       "    </tr>\n",
       "    <tr>\n",
       "      <th>161</th>\n",
       "      <td>39</td>\n",
       "      <td>Female</td>\n",
       "      <td>62500</td>\n",
       "      <td>Bachelor's Degree</td>\n",
       "      <td>Married</td>\n",
       "      <td>2</td>\n",
       "      <td>Owned</td>\n",
       "      <td>High</td>\n",
       "    </tr>\n",
       "    <tr>\n",
       "      <th>162</th>\n",
       "      <td>44</td>\n",
       "      <td>Male</td>\n",
       "      <td>87500</td>\n",
       "      <td>Master's Degree</td>\n",
       "      <td>Single</td>\n",
       "      <td>0</td>\n",
       "      <td>Owned</td>\n",
       "      <td>High</td>\n",
       "    </tr>\n",
       "    <tr>\n",
       "      <th>163</th>\n",
       "      <td>49</td>\n",
       "      <td>Female</td>\n",
       "      <td>77500</td>\n",
       "      <td>Doctorate</td>\n",
       "      <td>Married</td>\n",
       "      <td>1</td>\n",
       "      <td>Owned</td>\n",
       "      <td>High</td>\n",
       "    </tr>\n",
       "  </tbody>\n",
       "</table>\n",
       "</div>"
      ],
      "text/plain": [
       "     Age  Gender  Income            Education Marital Status  \\\n",
       "159   29  Female   27500  High School Diploma         Single   \n",
       "160   34    Male   47500   Associate's Degree         Single   \n",
       "161   39  Female   62500    Bachelor's Degree        Married   \n",
       "162   44    Male   87500      Master's Degree         Single   \n",
       "163   49  Female   77500            Doctorate        Married   \n",
       "\n",
       "     Number of Children Home Ownership Credit Score  \n",
       "159                   0         Rented          Low  \n",
       "160                   0         Rented      Average  \n",
       "161                   2          Owned         High  \n",
       "162                   0          Owned         High  \n",
       "163                   1          Owned         High  "
      ]
     },
     "execution_count": 5,
     "metadata": {},
     "output_type": "execute_result"
    }
   ],
   "source": [
    "df.tail()"
   ]
  },
  {
   "cell_type": "code",
   "execution_count": 6,
   "id": "4b316e17-74d4-4dee-91b9-ea64cf278664",
   "metadata": {},
   "outputs": [
    {
     "data": {
      "text/plain": [
       "Index(['Age', 'Gender', 'Income', 'Education', 'Marital Status',\n",
       "       'Number of Children', 'Home Ownership', 'Credit Score'],\n",
       "      dtype='object')"
      ]
     },
     "execution_count": 6,
     "metadata": {},
     "output_type": "execute_result"
    }
   ],
   "source": [
    "df.columns"
   ]
  },
  {
   "cell_type": "code",
   "execution_count": 7,
   "id": "dcb7d24b-ed98-42ab-9db1-c620a44f64c6",
   "metadata": {},
   "outputs": [
    {
     "data": {
      "text/plain": [
       "Age                    int64\n",
       "Gender                object\n",
       "Income                 int64\n",
       "Education             object\n",
       "Marital Status        object\n",
       "Number of Children     int64\n",
       "Home Ownership        object\n",
       "Credit Score          object\n",
       "dtype: object"
      ]
     },
     "execution_count": 7,
     "metadata": {},
     "output_type": "execute_result"
    }
   ],
   "source": [
    "df.dtypes"
   ]
  },
  {
   "cell_type": "code",
   "execution_count": 8,
   "id": "b7040f21-6f5b-46a0-803c-dd6c17a73464",
   "metadata": {},
   "outputs": [
    {
     "data": {
      "text/plain": [
       "Age                   0\n",
       "Gender                0\n",
       "Income                0\n",
       "Education             0\n",
       "Marital Status        0\n",
       "Number of Children    0\n",
       "Home Ownership        0\n",
       "Credit Score          0\n",
       "dtype: int64"
      ]
     },
     "execution_count": 8,
     "metadata": {},
     "output_type": "execute_result"
    }
   ],
   "source": [
    "#checking missing values\n",
    "df.isnull().sum()"
   ]
  },
  {
   "cell_type": "code",
   "execution_count": 9,
   "id": "3da3ab64-6d25-4da2-b1e4-640fb450b2ed",
   "metadata": {},
   "outputs": [],
   "source": [
    "#Lable incoding \n"
   ]
  },
  {
   "cell_type": "code",
   "execution_count": 10,
   "id": "3fc77249-f91a-4249-a9db-10e71b9e3500",
   "metadata": {},
   "outputs": [],
   "source": [
    "from sklearn.preprocessing import LabelEncoder\n",
    "le=LabelEncoder()\n",
    "df['Gender']=le.fit_transform(df['Gender'])\n",
    "df['Education']=le.fit_transform(df['Education'])\n",
    "df['Marital Status']=le.fit_transform(df['Marital Status'])\n",
    "df['Home Ownership']=le.fit_transform(df['Home Ownership'])"
   ]
  },
  {
   "cell_type": "markdown",
   "id": "4a978e5a-3c6c-431a-a1c4-3440849142e0",
   "metadata": {},
   "source": [
    "Separate input & Output labels\n"
   ]
  },
  {
   "cell_type": "code",
   "execution_count": 11,
   "id": "98e8c484-e8f0-49aa-a51d-3882883ea64b",
   "metadata": {},
   "outputs": [],
   "source": [
    "x=df.iloc[:,:-1].values\n",
    "y=df.iloc[:,-1].values"
   ]
  },
  {
   "cell_type": "code",
   "execution_count": null,
   "id": "2d1e72b3-0c58-4c2e-92cd-5ad52ef79ec2",
   "metadata": {},
   "outputs": [],
   "source": []
  },
  {
   "cell_type": "markdown",
   "id": "2caf7d0b-21be-4e95-996d-32dafca8237d",
   "metadata": {},
   "source": [
    "coverting data in train & test"
   ]
  },
  {
   "cell_type": "code",
   "execution_count": 13,
   "id": "6407f630-d4c1-452c-b0f7-420001a5efa3",
   "metadata": {},
   "outputs": [],
   "source": [
    "from sklearn.model_selection import train_test_split\n",
    "x_train,x_test,y_train,y_test=train_test_split(x,y,test_size=0.30,random_state=42)"
   ]
  },
  {
   "cell_type": "code",
   "execution_count": 14,
   "id": "62d5dfa8-95eb-4190-821a-f3fe39ca5442",
   "metadata": {},
   "outputs": [
    {
     "data": {
      "text/plain": [
       "(114, 7)"
      ]
     },
     "execution_count": 14,
     "metadata": {},
     "output_type": "execute_result"
    }
   ],
   "source": [
    "x_train.shape\n"
   ]
  },
  {
   "cell_type": "code",
   "execution_count": 15,
   "id": "0c05dcaa-8c57-4af8-afdc-154c61091d27",
   "metadata": {},
   "outputs": [
    {
     "data": {
      "text/plain": [
       "(50, 7)"
      ]
     },
     "execution_count": 15,
     "metadata": {},
     "output_type": "execute_result"
    }
   ],
   "source": [
    "x_test.shape"
   ]
  },
  {
   "cell_type": "code",
   "execution_count": 16,
   "id": "400b0179-4895-42f5-9375-b765327d0fa4",
   "metadata": {},
   "outputs": [
    {
     "data": {
      "text/plain": [
       "array([[ 0.77593283, -1.05409255,  0.90243185, -0.73865505, -0.98260737,\n",
       "         2.66391337, -0.66561098],\n",
       "       [ 1.49704432,  0.9486833 ,  1.5267816 , -0.73865505, -0.98260737,\n",
       "        -0.69792564, -0.66561098],\n",
       "       [ 0.77593283, -1.05409255,  0.74634441, -0.73865505, -0.98260737,\n",
       "         2.66391337, -0.66561098],\n",
       "       [-0.5461049 ,  0.9486833 , -1.20474857, -1.45227095,  1.01770049,\n",
       "        -0.69792564,  1.50237907],\n",
       "       [-1.50758688, -1.05409255, -1.43887973, -1.45227095,  1.01770049,\n",
       "        -0.69792564,  1.50237907],\n",
       "       [ 0.65574758,  0.9486833 , -0.34626766,  1.40219264,  1.01770049,\n",
       "        -0.69792564, -0.66561098],\n",
       "       [ 0.41537709,  0.9486833 ,  0.59025697,  1.40219264,  1.01770049,\n",
       "        -0.69792564, -0.66561098],\n",
       "       [-0.90666064,  0.9486833 , -0.65844254, -0.73865505,  1.01770049,\n",
       "        -0.69792564,  1.50237907],\n",
       "       [ 0.29519184,  0.9486833 ,  0.74634441, -0.02503915,  1.01770049,\n",
       "        -0.69792564, -0.66561098],\n",
       "       [-1.38740164, -1.05409255, -1.51692344,  0.68857674,  1.01770049,\n",
       "        -0.69792564,  1.50237907],\n",
       "       [ 0.77593283, -1.05409255,  0.43416953, -0.73865505, -0.98260737,\n",
       "         2.66391337, -0.66561098],\n",
       "       [ 0.17500659,  0.9486833 ,  1.37069416,  0.68857674,  1.01770049,\n",
       "        -0.69792564, -0.66561098],\n",
       "       [ 0.17500659,  0.9486833 ,  1.37069416,  0.68857674,  1.01770049,\n",
       "        -0.69792564, -0.66561098],\n",
       "       [ 0.29519184,  0.9486833 ,  0.74634441, -0.02503915,  1.01770049,\n",
       "        -0.69792564, -0.66561098],\n",
       "       [ 1.01630333, -1.05409255,  0.35612581, -0.02503915, -0.98260737,\n",
       "         0.42268736, -0.66561098],\n",
       "       [-0.90666064,  0.9486833 , -0.58039882, -0.73865505,  1.01770049,\n",
       "        -0.69792564,  1.50237907],\n",
       "       [ 0.89611808, -1.05409255,  0.12199466,  0.68857674, -0.98260737,\n",
       "         0.42268736, -0.66561098],\n",
       "       [ 0.17500659,  0.9486833 ,  1.76091276,  0.68857674,  1.01770049,\n",
       "        -0.69792564, -0.66561098],\n",
       "       [-1.26721639, -1.05409255, -1.67301088, -1.45227095,  1.01770049,\n",
       "        -0.69792564,  1.50237907],\n",
       "       [-1.62777213, -1.05409255, -1.12670485, -0.73865505,  1.01770049,\n",
       "        -0.69792564,  1.50237907],\n",
       "       [-1.62777213, -1.05409255, -0.89257369, -0.73865505,  1.01770049,\n",
       "        -0.69792564,  1.50237907],\n",
       "       [-1.02684589,  0.9486833 ,  0.82438813,  1.40219264, -0.98260737,\n",
       "         1.54330037, -0.66561098],\n",
       "       [ 0.17500659,  0.9486833 ,  1.76091276,  0.68857674,  1.01770049,\n",
       "        -0.69792564, -0.66561098],\n",
       "       [ 0.41537709,  0.9486833 ,  0.43416953,  1.40219264,  1.01770049,\n",
       "        -0.69792564, -0.66561098],\n",
       "       [ 1.49704432,  0.9486833 ,  1.68286904, -0.73865505, -0.98260737,\n",
       "        -0.69792564, -0.66561098],\n",
       "       [ 1.25667382, -1.05409255, -0.65844254, -0.02503915, -0.98260737,\n",
       "         0.42268736, -0.66561098],\n",
       "       [ 1.49704432,  0.9486833 ,  1.68286904, -0.73865505, -0.98260737,\n",
       "        -0.69792564, -0.66561098],\n",
       "       [ 0.53556233,  0.9486833 ,  0.27808209,  1.40219264,  1.01770049,\n",
       "        -0.69792564, -0.66561098],\n",
       "       [-0.5461049 ,  0.9486833 , -1.28279229, -1.45227095,  1.01770049,\n",
       "        -0.69792564,  1.50237907],\n",
       "       [ 1.73741481,  0.9486833 ,  0.90243185, -1.45227095, -0.98260737,\n",
       "        -0.69792564, -0.66561098],\n",
       "       [ 0.05482134, -1.05409255, -0.73648625, -0.73865505, -0.98260737,\n",
       "         1.54330037, -0.66561098],\n",
       "       [-0.06536391, -1.05409255, -0.58039882, -0.73865505, -0.98260737,\n",
       "         1.54330037, -0.66561098],\n",
       "       [-1.26721639, -1.05409255, -1.67301088, -1.45227095,  1.01770049,\n",
       "        -0.69792564,  1.50237907],\n",
       "       [ 0.89611808, -1.05409255,  0.27808209,  0.68857674, -0.98260737,\n",
       "         0.42268736, -0.66561098],\n",
       "       [-1.62777213, -1.05409255, -0.89257369, -0.73865505,  1.01770049,\n",
       "        -0.69792564,  1.50237907],\n",
       "       [ 0.41537709,  0.9486833 ,  0.74634441,  1.40219264,  1.01770049,\n",
       "        -0.69792564, -0.66561098],\n",
       "       [-1.14703114, -1.05409255, -1.82909832,  0.68857674,  1.01770049,\n",
       "        -0.69792564,  1.50237907],\n",
       "       [-0.42591965, -1.05409255, -0.19018022, -0.02503915, -0.98260737,\n",
       "         0.42268736, -0.66561098],\n",
       "       [-1.26721639, -1.05409255, -1.67301088, -1.45227095,  1.01770049,\n",
       "        -0.69792564,  1.50237907],\n",
       "       [-0.42591965, -1.05409255, -0.03409278, -0.02503915, -0.98260737,\n",
       "         0.42268736, -0.66561098],\n",
       "       [-1.62777213, -1.05409255, -0.81452997, -0.73865505,  1.01770049,\n",
       "        -0.69792564,  1.50237907],\n",
       "       [-1.38740164, -1.05409255, -1.51692344,  0.68857674,  1.01770049,\n",
       "        -0.69792564,  1.50237907],\n",
       "       [ 0.77593283, -1.05409255,  0.59025697, -0.73865505, -0.98260737,\n",
       "         2.66391337, -0.66561098],\n",
       "       [-0.66629015,  0.9486833 , -1.04866113,  0.68857674,  1.01770049,\n",
       "        -0.69792564,  1.50237907],\n",
       "       [ 0.65574758,  0.9486833 ,  0.04395094,  1.40219264,  1.01770049,\n",
       "        -0.69792564, -0.66561098],\n",
       "       [-1.26721639,  0.9486833 , -0.34626766, -0.73865505,  1.01770049,\n",
       "        -0.69792564,  1.50237907],\n",
       "       [-1.02684589,  0.9486833 ,  0.98047557,  1.40219264, -0.98260737,\n",
       "         1.54330037, -0.66561098],\n",
       "       [ 0.65574758,  0.9486833 ,  0.04395094,  1.40219264,  1.01770049,\n",
       "        -0.69792564, -0.66561098],\n",
       "       [-0.90666064,  0.9486833 , -0.5023551 , -0.73865505,  1.01770049,\n",
       "        -0.69792564,  1.50237907],\n",
       "       [ 1.49704432,  0.9486833 ,  1.99504391, -0.73865505, -0.98260737,\n",
       "        -0.69792564, -0.66561098],\n",
       "       [-1.14703114, -1.05409255, -1.82909832,  0.68857674,  1.01770049,\n",
       "        -0.69792564,  1.50237907],\n",
       "       [ 1.37685907,  0.9486833 ,  1.99504391,  1.40219264, -0.98260737,\n",
       "        -0.69792564, -0.66561098],\n",
       "       [-0.5461049 ,  0.9486833 , -1.20474857, -1.45227095,  1.01770049,\n",
       "        -0.69792564,  1.50237907],\n",
       "       [-0.42591965, -1.05409255,  0.12199466, -0.02503915, -0.98260737,\n",
       "         0.42268736, -0.66561098],\n",
       "       [ 1.01630333, -1.05409255,  0.12199466, -0.02503915, -0.98260737,\n",
       "         0.42268736, -0.66561098],\n",
       "       [-0.06536391, -1.05409255, -0.58039882, -0.73865505, -0.98260737,\n",
       "         1.54330037, -0.66561098],\n",
       "       [-1.50758688, -1.05409255, -1.28279229, -1.45227095,  1.01770049,\n",
       "        -0.69792564,  1.50237907],\n",
       "       [-0.66629015,  0.9486833 , -1.04866113,  0.68857674,  1.01770049,\n",
       "        -0.69792564,  1.50237907],\n",
       "       [ 1.01630333, -1.05409255,  0.27808209, -0.02503915, -0.98260737,\n",
       "         0.42268736, -0.66561098],\n",
       "       [ 1.37685907,  0.9486833 ,  2.15113135,  1.40219264, -0.98260737,\n",
       "        -0.69792564, -0.66561098],\n",
       "       [ 1.61722957,  0.9486833 ,  1.37069416,  0.68857674, -0.98260737,\n",
       "        -0.69792564, -0.66561098],\n",
       "       [-0.90666064,  0.9486833 , -0.81452997, -0.73865505,  1.01770049,\n",
       "        -0.69792564,  1.50237907],\n",
       "       [-0.18554915, -1.05409255, -0.42431138, -0.73865505, -0.98260737,\n",
       "         1.54330037, -0.66561098],\n",
       "       [ 0.29519184,  0.9486833 ,  0.90243185, -0.02503915,  1.01770049,\n",
       "        -0.69792564, -0.66561098],\n",
       "       [-1.62777213, -1.05409255, -0.81452997, -0.73865505,  1.01770049,\n",
       "        -0.69792564,  1.50237907],\n",
       "       [ 1.61722957,  0.9486833 ,  1.60482532,  0.68857674, -0.98260737,\n",
       "        -0.69792564, -0.66561098],\n",
       "       [-1.02684589,  0.9486833 ,  0.82438813,  1.40219264, -0.98260737,\n",
       "         1.54330037, -0.66561098],\n",
       "       [ 1.13648857, -1.05409255, -0.03409278, -0.02503915, -0.98260737,\n",
       "         0.42268736, -0.66561098],\n",
       "       [-1.38740164, -1.05409255, -1.51692344,  0.68857674,  1.01770049,\n",
       "        -0.69792564,  1.50237907],\n",
       "       [-0.78647539,  0.9486833 , -0.89257369, -1.45227095,  1.01770049,\n",
       "        -0.69792564,  1.50237907],\n",
       "       [ 1.25667382, -1.05409255, -0.26822394, -0.02503915, -0.98260737,\n",
       "         0.42268736, -0.66561098],\n",
       "       [-0.3057344 , -1.05409255, -0.19018022,  1.40219264, -0.98260737,\n",
       "         1.54330037, -0.66561098],\n",
       "       [ 0.53556233,  0.9486833 ,  0.20003837,  1.40219264,  1.01770049,\n",
       "        -0.69792564, -0.66561098],\n",
       "       [-0.06536391, -1.05409255, -0.58039882, -0.73865505, -0.98260737,\n",
       "         1.54330037, -0.66561098],\n",
       "       [-0.78647539,  0.9486833 , -0.97061741, -1.45227095,  1.01770049,\n",
       "        -0.69792564,  1.50237907],\n",
       "       [-1.02684589,  0.9486833 ,  0.82438813,  1.40219264, -0.98260737,\n",
       "         1.54330037, -0.66561098],\n",
       "       [ 1.37685907,  0.9486833 ,  2.15113135,  1.40219264, -0.98260737,\n",
       "        -0.69792564, -0.66561098],\n",
       "       [ 0.17500659,  0.9486833 ,  1.21460672,  0.68857674,  1.01770049,\n",
       "        -0.69792564, -0.66561098],\n",
       "       [ 1.61722957,  0.9486833 ,  1.21460672,  0.68857674, -0.98260737,\n",
       "        -0.69792564, -0.66561098],\n",
       "       [ 1.49704432,  0.9486833 ,  1.83895648, -0.73865505, -0.98260737,\n",
       "        -0.69792564, -0.66561098],\n",
       "       [-0.3057344 , -1.05409255, -0.03409278,  1.40219264, -0.98260737,\n",
       "         1.54330037, -0.66561098],\n",
       "       [-1.02684589,  0.9486833 ,  0.59025697,  1.40219264, -0.98260737,\n",
       "         1.54330037, -0.66561098],\n",
       "       [ 0.41537709,  0.9486833 ,  0.43416953,  1.40219264,  1.01770049,\n",
       "        -0.69792564, -0.66561098],\n",
       "       [-0.42591965, -1.05409255,  0.12199466, -0.02503915, -0.98260737,\n",
       "         0.42268736, -0.66561098],\n",
       "       [-0.5461049 ,  0.9486833 , -1.20474857, -1.45227095,  1.01770049,\n",
       "        -0.69792564,  1.50237907],\n",
       "       [-0.18554915, -1.05409255, -0.26822394, -0.73865505, -0.98260737,\n",
       "         1.54330037, -0.66561098],\n",
       "       [ 0.53556233,  0.9486833 ,  0.20003837,  1.40219264,  1.01770049,\n",
       "        -0.69792564, -0.66561098],\n",
       "       [ 0.05482134, -1.05409255, -0.73648625, -0.73865505, -0.98260737,\n",
       "         1.54330037, -0.66561098],\n",
       "       [-1.62777213, -1.05409255, -0.89257369, -0.73865505,  1.01770049,\n",
       "        -0.69792564,  1.50237907],\n",
       "       [-0.66629015,  0.9486833 , -1.04866113,  0.68857674,  1.01770049,\n",
       "        -0.69792564,  1.50237907],\n",
       "       [ 0.65574758,  0.9486833 ,  0.04395094,  1.40219264,  1.01770049,\n",
       "        -0.69792564, -0.66561098],\n",
       "       [ 0.53556233,  0.9486833 , -0.19018022,  1.40219264,  1.01770049,\n",
       "        -0.69792564, -0.66561098],\n",
       "       [ 1.25667382, -1.05409255, -0.26822394, -0.02503915, -0.98260737,\n",
       "         0.42268736, -0.66561098],\n",
       "       [ 1.73741481,  0.9486833 ,  1.136563  , -1.45227095, -0.98260737,\n",
       "        -0.69792564, -0.66561098],\n",
       "       [-0.66629015, -1.05409255, -0.12774525,  1.40219264, -0.98260737,\n",
       "         0.42268736, -0.66561098],\n",
       "       [-0.3057344 , -1.05409255, -0.03409278,  1.40219264, -0.98260737,\n",
       "         1.54330037, -0.66561098],\n",
       "       [-0.66629015,  0.9486833 , -1.04866113,  0.68857674,  1.01770049,\n",
       "        -0.69792564,  1.50237907],\n",
       "       [-1.02684589,  0.9486833 ,  0.43416953,  1.40219264, -0.98260737,\n",
       "         1.54330037, -0.66561098],\n",
       "       [ 1.73741481,  0.9486833 ,  1.136563  , -1.45227095, -0.98260737,\n",
       "        -0.69792564, -0.66561098],\n",
       "       [-0.18554915, -1.05409255, -0.42431138, -0.73865505, -0.98260737,\n",
       "         1.54330037, -0.66561098],\n",
       "       [-0.90666064,  0.9486833 ,  0.27808209, -0.02503915,  1.01770049,\n",
       "        -0.69792564,  1.50237907],\n",
       "       [ 0.89611808, -1.05409255,  0.51221325,  0.68857674, -0.98260737,\n",
       "         0.42268736, -0.66561098],\n",
       "       [-1.50758688, -1.05409255, -1.12670485, -1.45227095,  1.01770049,\n",
       "        -0.69792564,  1.50237907],\n",
       "       [ 1.73741481,  0.9486833 ,  1.29265044, -1.45227095, -0.98260737,\n",
       "        -0.69792564, -0.66561098],\n",
       "       [ 0.05482134, -1.05409255, -0.73648625, -0.73865505, -0.98260737,\n",
       "         1.54330037, -0.66561098],\n",
       "       [-0.78647539,  0.9486833 , -0.89257369, -1.45227095,  1.01770049,\n",
       "        -0.69792564,  1.50237907],\n",
       "       [ 1.25667382, -1.05409255, -0.26822394, -0.02503915, -0.98260737,\n",
       "         0.42268736, -0.66561098],\n",
       "       [ 1.25667382, -1.05409255, -0.26822394, -0.02503915, -0.98260737,\n",
       "         0.42268736, -0.66561098],\n",
       "       [-0.06536391, -1.05409255, -0.65844254, -0.73865505, -0.98260737,\n",
       "         1.54330037, -0.66561098],\n",
       "       [ 0.89611808, -1.05409255,  0.35612581,  0.68857674, -0.98260737,\n",
       "         0.42268736, -0.66561098],\n",
       "       [-0.78647539,  0.9486833 , -0.89257369, -1.45227095,  1.01770049,\n",
       "        -0.69792564,  1.50237907],\n",
       "       [-0.18554915, -1.05409255, -0.5023551 , -0.73865505, -0.98260737,\n",
       "         1.54330037, -0.66561098],\n",
       "       [-0.42591965, -1.05409255, -0.03409278, -0.02503915, -0.98260737,\n",
       "         0.42268736, -0.66561098],\n",
       "       [ 0.29519184,  0.9486833 ,  1.05851928, -0.02503915,  1.01770049,\n",
       "        -0.69792564, -0.66561098]])"
      ]
     },
     "execution_count": 16,
     "metadata": {},
     "output_type": "execute_result"
    }
   ],
   "source": [
    "from sklearn.preprocessing import StandardScaler\n",
    "scaler=StandardScaler()\n",
    "scaler.fit(x_train)\n",
    "x_train=scaler.transform(x_train)\n",
    "x_test=scaler.transform(x_test)\n",
    "x_train"
   ]
  },
  {
   "cell_type": "markdown",
   "id": "c51df69d-2423-4f72-8ba5-8e036de8d450",
   "metadata": {},
   "source": [
    "Model creation: KNN Method\n",
    "n = 7\n",
    "5 - low\n",
    "2 - avg \n",
    "0 - high"
   ]
  },
  {
   "cell_type": "code",
   "execution_count": 17,
   "id": "27c3dfc7-c8b9-4781-b336-427f8b26331c",
   "metadata": {},
   "outputs": [
    {
     "data": {
      "text/plain": [
       "array(['Average', 'High', 'High', 'High', 'High', 'Average', 'High',\n",
       "       'High', 'High', 'High', 'Average', 'Low', 'High', 'High', 'Low',\n",
       "       'High', 'Average', 'Low', 'High', 'High', 'High', 'Average', 'Low',\n",
       "       'High', 'High', 'High', 'High', 'High', 'Average', 'Average',\n",
       "       'High', 'High', 'High', 'High', 'High', 'High', 'High', 'Average',\n",
       "       'High', 'Average', 'High', 'Average', 'Low', 'Average', 'High',\n",
       "       'Average', 'High', 'High', 'High', 'Average'], dtype=object)"
      ]
     },
     "execution_count": 17,
     "metadata": {},
     "output_type": "execute_result"
    }
   ],
   "source": [
    "from sklearn.neighbors import KNeighborsClassifier\n",
    "knn=KNeighborsClassifier(n_neighbors=7)\n",
    "\n",
    "knn.fit(x_train,y_train)\n",
    "y_pred=knn.predict(x_test)\n",
    "y_pred"
   ]
  },
  {
   "cell_type": "code",
   "execution_count": 18,
   "id": "2cd287a3-1d4c-45cb-80ed-be9cb8e4edcc",
   "metadata": {},
   "outputs": [
    {
     "name": "stdout",
     "output_type": "stream",
     "text": [
      "[[ 9  2  0]\n",
      " [ 2 30  0]\n",
      " [ 2  0  5]]\n"
     ]
    }
   ],
   "source": [
    "from sklearn.metrics import confusion_matrix,accuracy_score,classification_report\n",
    "    matrix=confusion_matrix(y_test,y_pred)\n",
    "print(matrix)"
   ]
  },
  {
   "cell_type": "code",
   "execution_count": 19,
   "id": "52f8b423-6ed2-4671-8e6c-d3e9b79052ca",
   "metadata": {},
   "outputs": [
    {
     "data": {
      "text/plain": [
       "<sklearn.metrics._plot.confusion_matrix.ConfusionMatrixDisplay at 0x20509c44620>"
      ]
     },
     "execution_count": 19,
     "metadata": {},
     "output_type": "execute_result"
    },
    {
     "data": {
      "image/png": "[encoded data removed]",
      "text/plain": [
       "<Figure size 640x480 with 2 Axes>"
      ]
     },
     "metadata": {},
     "output_type": "display_data"
    }
   ],
   "source": [
    "from sklearn.metrics import ConfusionMatrixDisplay\n",
    "labels=['High','Average','Low']\n",
    "cmd=ConfusionMatrixDisplay(matrix,display_labels=labels)\n",
    "cmd.plot()"
   ]
  },
  {
   "cell_type": "code",
   "execution_count": 20,
   "id": "8622c677-16b2-41c6-9806-7c1163813bd1",
   "metadata": {},
   "outputs": [
    {
     "data": {
      "text/plain": [
       "array(['Average', 'High', 'High', 'High', 'High', 'Average', 'High',\n",
       "       'High', 'High', 'High', 'Average', 'Low', 'High', 'High', 'Low',\n",
       "       'High', 'Average', 'Low', 'High', 'High', 'High', 'Average', 'Low',\n",
       "       'High', 'High', 'High', 'High', 'High', 'High', 'Average', 'High',\n",
       "       'High', 'High', 'High', 'High', 'High', 'High', 'Average', 'High',\n",
       "       'Average', 'High', 'Average', 'Low', 'Average', 'High', 'Average',\n",
       "       'High', 'High', 'High', 'Average'], dtype=object)"
      ]
     },
     "execution_count": 20,
     "metadata": {},
     "output_type": "execute_result"
    }
   ],
   "source": [
    "from sklearn.svm import SVC\n",
    "vm=SVC()\n",
    "vm.fit(x_train,y_train)\n",
    "y_preddd=vm.predict(x_test)\n",
    "y_preddd"
   ]
  },
  {
   "cell_type": "code",
   "execution_count": 21,
   "id": "13304503-b6a3-4b57-8c7c-3273d62c9fb8",
   "metadata": {},
   "outputs": [
    {
     "name": "stdout",
     "output_type": "stream",
     "text": [
      "[[ 9  2  0]\n",
      " [ 1 31  0]\n",
      " [ 2  0  5]]\n"
     ]
    }
   ],
   "source": [
    "matrixxx=confusion_matrix(y_test,y_preddd)\n",
    "print(matrixxx)"
   ]
  },
  {
   "cell_type": "code",
   "execution_count": 22,
   "id": "fd701f50-7d4e-41d6-a0b5-e3f14b6e3d54",
   "metadata": {},
   "outputs": [
    {
     "data": {
      "text/plain": [
       "<sklearn.metrics._plot.confusion_matrix.ConfusionMatrixDisplay at 0x2050a5f04a0>"
      ]
     },
     "execution_count": 22,
     "metadata": {},
     "output_type": "execute_result"
    },
    {
     "data": {
      "image/png": "[encoded data removed]",
      "text/plain": [
       "<Figure size 640x480 with 2 Axes>"
      ]
     },
     "metadata": {},
     "output_type": "display_data"
    }
   ],
   "source": [
    "labels=['High','Average','Low']\n",
    "cmddd=ConfusionMatrixDisplay(matrixxx,display_labels=labels)\n",
    "cmddd.plot()"
   ]
  },
  {
   "cell_type": "code",
   "execution_count": 28,
   "id": "9b636cc7-d290-4dc8-b67e-6f2f893fa2b0",
   "metadata": {},
   "outputs": [
    {
     "name": "stdout",
     "output_type": "stream",
     "text": [
      "Accuracy score obtained using KNN: 0.88\n",
      "Accuracy score obtained using SVM: 0.9\n"
     ]
    }
   ],
   "source": [
    "#Accuracy Score\n",
    "score=print('Accuracy score obtained using KNN:',accuracy_score(y_test,y_pred))\n",
    "score=print('Accuracy score obtained using SVM:',accuracy_score(y_test,y_preddd))"
   ]
  },
  {
   "cell_type": "code",
   "execution_count": 24,
   "id": "1a64c615-b56e-4524-8c1c-20a90ef133bd",
   "metadata": {},
   "outputs": [],
   "source": [
    "#classinfication report\n"
   ]
  },
  {
   "cell_type": "code",
   "execution_count": 25,
   "id": "cb8a1bf5-f9e0-4852-af1e-28add2ff3c31",
   "metadata": {},
   "outputs": [
    {
     "name": "stdout",
     "output_type": "stream",
     "text": [
      "Classification report using KNN: \n",
      "               precision    recall  f1-score   support\n",
      "\n",
      "     Average       0.69      0.82      0.75        11\n",
      "        High       0.94      0.94      0.94        32\n",
      "         Low       1.00      0.71      0.83         7\n",
      "\n",
      "    accuracy                           0.88        50\n",
      "   macro avg       0.88      0.82      0.84        50\n",
      "weighted avg       0.89      0.88      0.88        50\n",
      "\n",
      "Classification report using SVM: \n",
      "               precision    recall  f1-score   support\n",
      "\n",
      "     Average       0.75      0.82      0.78        11\n",
      "        High       0.94      0.97      0.95        32\n",
      "         Low       1.00      0.71      0.83         7\n",
      "\n",
      "    accuracy                           0.90        50\n",
      "   macro avg       0.90      0.83      0.86        50\n",
      "weighted avg       0.91      0.90      0.90        50\n",
      "\n"
     ]
    }
   ],
   "source": [
    "report = print(\"Classification report using KNN: \\n\", classification_report (y_test,y_pred))\n",
    "\n",
    "report = print(\"Classification report using SVM: \\n\", classification_report (y_test,y_preddd))"
   ]
  },
  {
   "cell_type": "code",
   "execution_count": null,
   "id": "fa8ac3b7-376e-4dbc-9ec9-dddcbd02ae6d",
   "metadata": {},
   "outputs": [],
   "source": []
  },
  {
   "cell_type": "code",
   "execution_count": null,
   "id": "262f6206-a921-49f2-9a5d-34ccd368566a",
   "metadata": {},
   "outputs": [],
   "source": []
  },
  {
   "cell_type": "code",
   "execution_count": null,
   "id": "9276e31f-e390-435c-8883-49a1b2d286fd",
   "metadata": {},
   "outputs": [],
   "source": []
  },
  {
   "cell_type": "code",
   "execution_count": null,
   "id": "d3227dc2-3b95-426b-a39e-366cfef0ba9d",
   "metadata": {},
   "outputs": [],
   "source": []
  },
  {
   "cell_type": "code",
   "execution_count": null,
   "id": "edac9311-c56b-4b59-b09c-45a6409ad517",
   "metadata": {},
   "outputs": [],
   "source": []
  },
  {
   "cell_type": "code",
   "execution_count": null,
   "id": "e677842b-83c9-4741-a992-011dc8d9f279",
   "metadata": {},
   "outputs": [],
   "source": []
  },
  {
   "cell_type": "code",
   "execution_count": null,
   "id": "45c8f771-32b9-437f-bdc4-cd82047e10bb",
   "metadata": {},
   "outputs": [],
   "source": []
  },
  {
   "cell_type": "code",
   "execution_count": null,
   "id": "e922f07b-8631-462f-9b11-4b5f5dab45a5",
   "metadata": {},
   "outputs": [],
   "source": []
  },
  {
   "cell_type": "code",
   "execution_count": null,
   "id": "af049a73-e547-4e58-8f73-6454845917bd",
   "metadata": {},
   "outputs": [],
   "source": []
  }
 ],
 "metadata": {
  "kernelspec": {
   "display_name": "Python 3 (ipykernel)",
   "language": "python",
   "name": "python3"
  },
  "language_info": {
   "codemirror_mode": {
    "name": "ipython",
    "version": 3
   },
   "file_extension": ".py",
   "mimetype": "text/x-python",
   "name": "python",
   "nbconvert_exporter": "python",
   "pygments_lexer": "ipython3",
   "version": "3.12.0"
  }
 },
 "nbformat": 4,
 "nbformat_minor": 5
}

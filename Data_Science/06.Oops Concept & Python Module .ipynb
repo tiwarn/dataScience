{
 "cells": [
  {
   "cell_type": "code",
   "execution_count": 1,
   "id": "224e530a-f7e4-4d16-b95e-041e49e4c7d0",
   "metadata": {},
   "outputs": [],
   "source": [
    "#oops = object oriented programming structure"
   ]
  },
  {
   "cell_type": "markdown",
   "id": "4ecf9c2f-9b5a-453f-a8b2-168f163bef89",
   "metadata": {},
   "source": [
    "1.class = it is a blue print for real-world entities.\n",
    "Real world entities – mobile \n",
    "2.object = object are specific  instance of class.\n",
    "Ex. mobile – apple, Motorola, Samsung.\n",
    "here mobile is class\n",
    "apple, motorola, samsung are object."
   ]
  },
  {
   "cell_type": "code",
   "execution_count": 2,
   "id": "24ea49c5-d708-4e6e-a5f0-64eac25c08e6",
   "metadata": {},
   "outputs": [
    {
     "name": "stdout",
     "output_type": "stream",
     "text": [
      "This is father class\n",
      "this is mother class\n"
     ]
    }
   ],
   "source": [
    "#create class (with out in it method)\n",
    "class family:\n",
    "    def father (self):\n",
    "        print(\"This is father class\")\n",
    "    def mother (self):\n",
    "        print(\"this is mother class\")\n",
    "#object is family\n",
    "obj=family()\n",
    "#method (father,mother)\n",
    "obj.father()\n",
    "obj.mother()"
   ]
  },
  {
   "cell_type": "markdown",
   "id": "cae15383-954a-4fc7-a24e-524f418204bb",
   "metadata": {},
   "source": [
    "3.Data abstraction = providing only essential information about the data to the outside world, \n",
    "hiding the background details or certain data.\n",
    "   \n",
    "Broadly speaking, public means everyone is allowed to access data and function, private means that only members of the same class are allowed  to access data and function, and protected means that members of subclasses are also allowed data and function.\n",
    "prefix\n",
    "use of a single underscore  for protected data (_data)\n",
    "double underscore for private data(__data)\n",
    "global keyword use for  public data(global data)"
   ]
  },
  {
   "cell_type": "markdown",
   "id": "2b3873e8-c907-41a4-a948-28ea045c2bff",
   "metadata": {},
   "source": [
    "4.inheritance = new class is  derived from existing class with existing class property its called inheritance."
   ]
  },
  {
   "cell_type": "markdown",
   "id": "c16e5c2e-31bf-4fc3-90f8-960e54e37ab9",
   "metadata": {},
   "source": [
    "5.encapsulation = concept of bunding data and method in single unit.\n",
    "ex. when you create a class, it means you are implementing encapsulation. A class is an example of encapsulation as it binds\n",
    "all the data members (instance variables) and methods into a single unit."
   ]
  },
  {
   "cell_type": "code",
   "execution_count": 3,
   "id": "48ea36af-01c4-495b-ba46-6860c8a39334",
   "metadata": {},
   "outputs": [
    {
     "name": "stdout",
     "output_type": "stream",
     "text": [
      "It course of : java devloper\n",
      "Total vacancy is : 200\n",
      "It course of : SQL devloper\n",
      "Total vacancy is : 120\n",
      "It course of : data devloper\n",
      "Total vacancy is : 230\n",
      "It course of : R devloper\n",
      "Total vacancy is : 100\n",
      "It course of : Power PI devloper\n",
      "Total vacancy is : 220\n"
     ]
    }
   ],
   "source": [
    "#encapsulation\n",
    "class it():\n",
    "    def __init__(self,it_course,vacancy):\n",
    "        self.it_course=it_course\n",
    "        self.vacancy=vacancy\n",
    "    def display (self):\n",
    "        print(\"It course of :\",self.it_course)\n",
    "        print(\"Total vacancy is :\",self.vacancy)\n",
    "\n",
    "s1=it(\"java devloper\",200)\n",
    "s1.display()\n",
    "s2=it(\"SQL devloper\",120)\n",
    "s2.display()\n",
    "s3=it(\"data devloper\",230)\n",
    "s3.display()\n",
    "s4=it(\"R devloper\",100)\n",
    "s4.display()\n",
    "s5=it(\"Power PI devloper\",220)\n",
    "s5.display()"
   ]
  },
  {
   "cell_type": "markdown",
   "id": "4fe35ccb-5d99-4e7e-9699-6825bf5deb8d",
   "metadata": {},
   "source": [
    "6.polymorphism = implement same method in different context. \n",
    "ex. + operator can be used to add two numbers, concatenate two strings or merge two lists."
   ]
  },
  {
   "cell_type": "code",
   "execution_count": 4,
   "id": "ec111b5d-02e5-4a11-b679-8f649ddabe06",
   "metadata": {},
   "outputs": [
    {
     "name": "stdout",
     "output_type": "stream",
     "text": [
      "50\n",
      "hello sanju\n",
      "[1, 2, 3, 5, 7, 9]\n",
      "('ram', 'sita', 'nitesh', 'shivi')\n"
     ]
    }
   ],
   "source": [
    "#polymorphism\n",
    "a=20\n",
    "b=30\n",
    "print(a+b)\n",
    "\n",
    "#or\n",
    "a=\"hello\"\n",
    "b=\" sanju\"\n",
    "print(a+b)\n",
    "\n",
    "#or\n",
    "\n",
    "a=[1,2,3]\n",
    "b=[5,7,9]\n",
    "print(a+b)\n",
    "#or\n",
    "a=(\"ram\",\"sita\")\n",
    "b=(\"nitesh\",\"shivi\")\n",
    "print(a+b)"
   ]
  },
  {
   "cell_type": "markdown",
   "id": "0df604fc-2232-41a9-9e7c-d387c94225df",
   "metadata": {},
   "source": [
    "python modules:\n",
    "Consider a module to be the same as a code library.\n",
    "A file containing a set of functions you want to include in your application."
   ]
  },
  {
   "cell_type": "markdown",
   "id": "5ed9807d-3f0b-4275-8e1a-475a0677d2b9",
   "metadata": {},
   "source": [
    "%a\tWeekday, short version\tWed\t\n",
    "%A\tWeekday, full version\tWednesday\t\n",
    "%w\tWeekday as a number 0-6, 0 is Sunday\n",
    "%d\tDay of month 01-31\t31\t\n",
    "%b\tMonth name, short version\tDec\t\n",
    "%B\tMonth name, full version\tDecember\t\n",
    "%m\tMonth as a number 01-12\t12\t\n",
    "%y\tYear, short version, without century\t18\t\n",
    "%Y\tYear, full version\t2018"
   ]
  },
  {
   "cell_type": "code",
   "execution_count": 5,
   "id": "303b5584-e85c-48d8-9786-61c3c4179bcf",
   "metadata": {},
   "outputs": [
    {
     "name": "stdout",
     "output_type": "stream",
     "text": [
      "2023-12-02 12:04:13.217958\n"
     ]
    }
   ],
   "source": [
    "import datetime\n",
    "x=datetime.datetime.now()\n",
    "print(x)"
   ]
  },
  {
   "cell_type": "code",
   "execution_count": 6,
   "id": "e46c5099-4be9-42e1-842e-cf7cfd23852e",
   "metadata": {},
   "outputs": [
    {
     "name": "stdout",
     "output_type": "stream",
     "text": [
      "2023\n",
      "02\n"
     ]
    }
   ],
   "source": [
    "import datetime\n",
    "x=datetime.datetime.now()\n",
    "print(x.year)\n",
    "print(x.strftime(\"%d\"))"
   ]
  },
  {
   "cell_type": "code",
   "execution_count": 7,
   "id": "04fbbb63-b1ed-40bb-adc2-b9613f69a1a1",
   "metadata": {},
   "outputs": [
    {
     "name": "stdout",
     "output_type": "stream",
     "text": [
      "2020-05-17 00:00:00\n"
     ]
    }
   ],
   "source": [
    "import datetime\n",
    "x=datetime.datetime(2020,5,17)\n",
    "print(x)"
   ]
  },
  {
   "cell_type": "code",
   "execution_count": 8,
   "id": "10194463-e3eb-42f9-a851-848f5920e933",
   "metadata": {},
   "outputs": [
    {
     "name": "stdout",
     "output_type": "stream",
     "text": [
      "Tuesday\n"
     ]
    }
   ],
   "source": [
    "import datetime\n",
    "x=datetime.datetime(2023,3,7)\n",
    "print(x.strftime(\"%A\"))"
   ]
  },
  {
   "cell_type": "markdown",
   "id": "c0a45fab-41b9-4ba4-80b9-aef2c6cb8ab7",
   "metadata": {},
   "source": [
    "2.Math module"
   ]
  },
  {
   "cell_type": "code",
   "execution_count": 9,
   "id": "c74ed28e-c38b-40fe-b9f6-54fe04af07fa",
   "metadata": {},
   "outputs": [
    {
     "name": "stdout",
     "output_type": "stream",
     "text": [
      "['__doc__', '__loader__', '__name__', '__package__', '__spec__', 'acos', 'acosh', 'asin', 'asinh', 'atan', 'atan2', 'atanh', 'cbrt', 'ceil', 'comb', 'copysign', 'cos', 'cosh', 'degrees', 'dist', 'e', 'erf', 'erfc', 'exp', 'exp2', 'expm1', 'fabs', 'factorial', 'floor', 'fmod', 'frexp', 'fsum', 'gamma', 'gcd', 'hypot', 'inf', 'isclose', 'isfinite', 'isinf', 'isnan', 'isqrt', 'lcm', 'ldexp', 'lgamma', 'log', 'log10', 'log1p', 'log2', 'modf', 'nan', 'nextafter', 'perm', 'pi', 'pow', 'prod', 'radians', 'remainder', 'sin', 'sinh', 'sqrt', 'sumprod', 'tan', 'tanh', 'tau', 'trunc', 'ulp']\n"
     ]
    }
   ],
   "source": [
    "import math\n",
    "print(dir(math))"
   ]
  },
  {
   "cell_type": "code",
   "execution_count": 10,
   "id": "e0469d67-348d-47a3-a83e-958a89364a31",
   "metadata": {},
   "outputs": [
    {
     "name": "stdout",
     "output_type": "stream",
     "text": [
      "4\n",
      "6\n"
     ]
    }
   ],
   "source": [
    "x=min(4,7,9)\n",
    "y=max(4,2,6)\n",
    "print(x)\n",
    "print(y)"
   ]
  },
  {
   "cell_type": "code",
   "execution_count": 11,
   "id": "da8d8e27-2494-41f6-954c-9f2d628707b5",
   "metadata": {},
   "outputs": [
    {
     "name": "stdout",
     "output_type": "stream",
     "text": [
      "7.25\n"
     ]
    }
   ],
   "source": [
    "#the abs() fuction return the absolute (positive) value of the specified number:\n",
    "x=abs(-7.25)\n",
    "print(x)"
   ]
  },
  {
   "cell_type": "code",
   "execution_count": 12,
   "id": "cac62757-8a4f-4590-a151-71ca205a7dfb",
   "metadata": {},
   "outputs": [
    {
     "name": "stdout",
     "output_type": "stream",
     "text": [
      "64\n"
     ]
    }
   ],
   "source": [
    "#the power (x,y)fuction return the value of x to power of y(xy).\n",
    "x=pow(4,3)\n",
    "#(4**3) (4*4*4)\n",
    "print(x)"
   ]
  },
  {
   "cell_type": "code",
   "execution_count": 13,
   "id": "9029a353-bc97-4553-9fd4-bf12174c4d4b",
   "metadata": {},
   "outputs": [
    {
     "name": "stdout",
     "output_type": "stream",
     "text": [
      "8.0\n"
     ]
    }
   ],
   "source": [
    "#the math.sqrt () method  for example , return the square root of a number:\n",
    "import math\n",
    "x=math.sqrt(64)\n",
    "print(x)"
   ]
  },
  {
   "cell_type": "code",
   "execution_count": 14,
   "id": "531f0d98-73b6-4f74-9640-7f1a34c68744",
   "metadata": {},
   "outputs": [
    {
     "name": "stdout",
     "output_type": "stream",
     "text": [
      "26\n",
      "23\n"
     ]
    }
   ],
   "source": [
    "# The math.ceil() method rounds a number upwards to its nearest integer, \n",
    "# and the math.floor() method rounds a number downwards to its nearest integer, and returns the result:\n",
    "import math \n",
    "x=math.ceil(25.99)\n",
    "y=math.floor(23.4)\n",
    "print(x)\n",
    "print(y)"
   ]
  },
  {
   "cell_type": "code",
   "execution_count": 15,
   "id": "22776ce8-359c-4ae4-b6d7-315ab1178803",
   "metadata": {},
   "outputs": [
    {
     "name": "stdout",
     "output_type": "stream",
     "text": [
      "3.141592653589793\n"
     ]
    }
   ],
   "source": [
    "# The math.pi constant, returns the value of PI (3.14...):\n",
    "import math\n",
    "x = math.pi\n",
    "print(x)"
   ]
  },
  {
   "cell_type": "markdown",
   "id": "62f5851e-6fd7-4d17-b8aa-c31a4cc90ce4",
   "metadata": {},
   "source": [
    "3.random number module"
   ]
  },
  {
   "cell_type": "code",
   "execution_count": 16,
   "id": "3f90e355-8b53-475c-8c06-a7ecb8afb81c",
   "metadata": {},
   "outputs": [
    {
     "name": "stdout",
     "output_type": "stream",
     "text": [
      "0.6024528943016225\n"
     ]
    }
   ],
   "source": [
    "#random (flot value between 0 and 1)\n",
    "import random\n",
    "x=random .random()\n",
    "print(x)"
   ]
  },
  {
   "cell_type": "code",
   "execution_count": 17,
   "id": "c7bcef10-46c1-43b8-8cb5-9467b5f415d2",
   "metadata": {},
   "outputs": [
    {
     "name": "stdout",
     "output_type": "stream",
     "text": [
      "14\n"
     ]
    }
   ],
   "source": [
    "#randint (int value between start and end value)(1 and 20 also included)\n",
    "import random\n",
    "x=random.randint(1,20)\n",
    "print(x)"
   ]
  },
  {
   "cell_type": "code",
   "execution_count": 18,
   "id": "db2ae93c-924f-4e91-94fd-b341ca4d1a8c",
   "metadata": {},
   "outputs": [
    {
     "name": "stdout",
     "output_type": "stream",
     "text": [
      "124\n"
     ]
    }
   ],
   "source": [
    "#randrange (int value between 100 to 199)\n",
    "import random\n",
    "x=random.randrange(100,200)\n",
    "print(x)\n"
   ]
  },
  {
   "cell_type": "code",
   "execution_count": 19,
   "id": "d0597ec2-1878-4944-89bf-c339157d3940",
   "metadata": {},
   "outputs": [
    {
     "name": "stdout",
     "output_type": "stream",
     "text": [
      "49.471748923682625\n"
     ]
    }
   ],
   "source": [
    "#uniform(flot value)\n",
    "import random\n",
    "x=random.uniform(1,50)\n",
    "print(x)"
   ]
  },
  {
   "cell_type": "markdown",
   "id": "917b4b64-9976-4866-90df-1044f5a60199",
   "metadata": {},
   "source": [
    "4. sys module"
   ]
  },
  {
   "cell_type": "code",
   "execution_count": 20,
   "id": "bee06502-6efb-402e-9080-d060f0afb507",
   "metadata": {},
   "outputs": [
    {
     "data": {
      "text/plain": [
       "'3.12.0 (tags/v3.12.0:0fb18b0, Oct  2 2023, 13:03:39) [MSC v.1935 64 bit (AMD64)]'"
      ]
     },
     "execution_count": 20,
     "metadata": {},
     "output_type": "execute_result"
    }
   ],
   "source": [
    "import sys\n",
    "sys.version"
   ]
  },
  {
   "cell_type": "markdown",
   "id": "734f7371-6b15-4388-aee1-96c86c932176",
   "metadata": {},
   "source": [
    "5. operating system module\n",
    "how to delete python file?"
   ]
  },
  {
   "cell_type": "markdown",
   "id": "1a8c20d5-511c-42ee-b80c-37efc4de7fe3",
   "metadata": {},
   "source": [
    "import os\n",
    "os.remove(\"file name\")"
   ]
  },
  {
   "cell_type": "markdown",
   "id": "c5165ff5-ba1c-4f47-9112-e162b1357398",
   "metadata": {},
   "source": [
    "6.regular expression module (RegEx Module)"
   ]
  },
  {
   "cell_type": "code",
   "execution_count": 21,
   "id": "d17ed7ce-7b5a-4125-b036-cdeae4a3d120",
   "metadata": {},
   "outputs": [],
   "source": [
    "#Python has a built-in package called re, which can be used to work with Regular Expressions."
   ]
  },
  {
   "cell_type": "code",
   "execution_count": 22,
   "id": "7d51b55b-974c-4291-9ba8-52bebb807208",
   "metadata": {},
   "outputs": [
    {
     "name": "stdout",
     "output_type": "stream",
     "text": [
      "['h', 'e', 'a', 'i', 'i', 'a', 'a', 'i']\n"
     ]
    }
   ],
   "source": [
    "#[]-A set of characters\n",
    "import re \n",
    "txt=\"the rain in sapain\"\n",
    "#Find all lower case characters alphabetically between \"a\" and \"m\":\n",
    "x=re.findall(\"[a-m]\",txt)\n",
    "print(x)"
   ]
  },
  {
   "cell_type": "code",
   "execution_count": 23,
   "id": "7fb69cf9-49c7-4f27-8f0a-b8322156d932",
   "metadata": {},
   "outputs": [
    {
     "name": "stdout",
     "output_type": "stream",
     "text": [
      "yes, the string starts with 'hello' \n"
     ]
    }
   ],
   "source": [
    "# ^ -start with \n",
    "import re \n",
    "txt =\"hello plannet\"\n",
    "#check if the string start with hello\n",
    "x=re.findall(\"^hello\",txt)\n",
    "if x:\n",
    "    print(\"yes, the string starts with 'hello' \")\n",
    "else:\n",
    "    print(\"No match\")\n",
    "\n"
   ]
  },
  {
   "cell_type": "code",
   "execution_count": 24,
   "id": "e09a32bd-04db-4099-8767-45064ca042ad",
   "metadata": {},
   "outputs": [
    {
     "name": "stdout",
     "output_type": "stream",
     "text": [
      "yes, the string starts with 'hello' \n"
     ]
    }
   ],
   "source": [
    "# ^ -start with \n",
    "import re \n",
    "txt =\"helloooo plannet\"\n",
    "#check if the string start with hello\n",
    "x=re.findall(\"^hello\",txt)\n",
    "if x:\n",
    "    print(\"yes, the string starts with 'hello' \")\n",
    "else:\n",
    "    print(\"No match\")"
   ]
  },
  {
   "cell_type": "code",
   "execution_count": 25,
   "id": "0be82a1a-8391-4e43-84c3-14a75eab1d19",
   "metadata": {},
   "outputs": [
    {
     "name": "stdout",
     "output_type": "stream",
     "text": [
      "No match\n"
     ]
    }
   ],
   "source": [
    "# ^ -start with \n",
    "import re \n",
    "txt =\"hallo plannet\"\n",
    "#check if the string start with hello\n",
    "x=re.findall(\"^hello\",txt)\n",
    "if x:\n",
    "    print(\"yes, the string starts with 'hello' \")\n",
    "else:\n",
    "    print(\"No match\")"
   ]
  },
  {
   "cell_type": "code",
   "execution_count": 26,
   "id": "022b05bb-ccc9-46be-9125-d563491e6a98",
   "metadata": {},
   "outputs": [
    {
     "name": "stdout",
     "output_type": "stream",
     "text": [
      "yes, the string end with 'plannet' \n"
     ]
    }
   ],
   "source": [
    "# $ -end with \n",
    "import re \n",
    "txt =\"hello plannet\"\n",
    "#check if the string end with plannet\n",
    "x=re.findall(\"plannet$\",txt)\n",
    "if x:\n",
    "    print(\"yes, the string end with 'plannet' \")\n",
    "else:\n",
    "    print(\"No match\")"
   ]
  },
  {
   "cell_type": "code",
   "execution_count": 27,
   "id": "1a78fc11-abb3-4173-b7eb-f4b36bccfb1e",
   "metadata": {},
   "outputs": [
    {
     "name": "stdout",
     "output_type": "stream",
     "text": [
      "No match\n"
     ]
    }
   ],
   "source": [
    "# ex.1\n",
    "import re \n",
    "txt =\"hello plannett\"\n",
    "#check if the string end with plannet\n",
    "x=re.findall(\"plannet$\",txt)\n",
    "if x:\n",
    "    print(\"yes, the string end with 'plannet' \")\n",
    "else:\n",
    "    print(\"No match\")"
   ]
  },
  {
   "cell_type": "code",
   "execution_count": 28,
   "id": "63682274-7f2d-46cd-afe9-f446f37a2092",
   "metadata": {},
   "outputs": [
    {
     "name": "stdout",
     "output_type": "stream",
     "text": [
      "yes, the string end with 'plannet' \n"
     ]
    }
   ],
   "source": [
    "# ex.2\n",
    "import re \n",
    "txt =\"hello pplannet\"\n",
    "#check if the string end with plannet\n",
    "x=re.findall(\"plannet$\",txt)\n",
    "if x:\n",
    "    print(\"yes, the string end with 'plannet' \")\n",
    "else:\n",
    "    print(\"No match\")"
   ]
  },
  {
   "cell_type": "code",
   "execution_count": 29,
   "id": "e2285456-b876-4c91-acdf-15af80bdf819",
   "metadata": {},
   "outputs": [
    {
     "name": "stdout",
     "output_type": "stream",
     "text": [
      "['hello']\n"
     ]
    }
   ],
   "source": [
    "#start & end both find out out.\n",
    "import re\n",
    "txt = \"hello plant\"\n",
    "#Search for a sequence that starts with \"he\", followed by 0 or more  (any) characters, and an \"o\":\n",
    "x = re.findall(\"he.*o\", txt)\n",
    "print(x)"
   ]
  },
  {
   "cell_type": "code",
   "execution_count": 30,
   "id": "acf1edce-7f57-4cb4-8a7e-f826af93e077",
   "metadata": {},
   "outputs": [
    {
     "name": "stdout",
     "output_type": "stream",
     "text": [
      "['hello plant']\n"
     ]
    }
   ],
   "source": [
    "import re\n",
    "txt = \"hello plant\"\n",
    "#Search for a sequence that starts with \"he\", followed by 0 or more  (any) characters, and an \"o\":\n",
    "x = re.findall(\"he.*o*\", txt)\n",
    "print(x)"
   ]
  },
  {
   "cell_type": "code",
   "execution_count": 31,
   "id": "c82de66c-8f85-4a6b-9841-34fcb11b0021",
   "metadata": {},
   "outputs": [
    {
     "name": "stdout",
     "output_type": "stream",
     "text": [
      "[]\n"
     ]
    }
   ],
   "source": [
    "# ex.\n",
    "\n",
    "import re\n",
    "txt = \"iel12356845lo plant\"\n",
    "#Search for a sequence that starts with \"he\", followed by 0 or more  (any) characters, and an \"o\":\n",
    "x = re.findall(\"he.*o*\", txt)\n",
    "print(x)"
   ]
  },
  {
   "cell_type": "code",
   "execution_count": 32,
   "id": "248791cd-152d-46a0-a33b-4cadd330106b",
   "metadata": {},
   "outputs": [
    {
     "name": "stdout",
     "output_type": "stream",
     "text": [
      "['one this']\n"
     ]
    }
   ],
   "source": [
    "# ex.\n",
    "\n",
    "import re\n",
    "txt = \"hello every one this\"\n",
    "#Search for a sequence that starts with \"on\", followed by 0 or more  (any) characters, and an \"e\":\n",
    "x = re.findall(\"on.*e*\", txt)\n",
    "print(x)"
   ]
  },
  {
   "cell_type": "code",
   "execution_count": 33,
   "id": "9f915b33-0c72-48fe-85ba-6a322959a77e",
   "metadata": {},
   "outputs": [
    {
     "name": "stdout",
     "output_type": "stream",
     "text": [
      "['on123456abce']\n"
     ]
    }
   ],
   "source": [
    "# ex.\n",
    "\n",
    "import re\n",
    "txt = \"hello every on123456abce\"\n",
    "#Search for a sequence that starts with \"on\", followed by 0 or more  (any) characters, and an \"e\":\n",
    "x = re.findall(\"on.*e*\", txt)\n",
    "print(x)"
   ]
  },
  {
   "cell_type": "code",
   "execution_count": 34,
   "id": "87a33c9b-ab45-41c1-8dfd-4aa2917402e8",
   "metadata": {},
   "outputs": [
    {
     "name": "stdout",
     "output_type": "stream",
     "text": [
      "[]\n"
     ]
    }
   ],
   "source": [
    "# ex.\n",
    "\n",
    "import re\n",
    "txt = \"hello every oenes\"\n",
    "#Search for a sequence that starts with \"on\", followed by 0 or more  (any) characters, and an \"e\":\n",
    "x = re.findall(\"on.*e*\", txt)\n",
    "print(x)"
   ]
  },
  {
   "cell_type": "code",
   "execution_count": null,
   "id": "2506fe39-a847-44c5-9f7f-2d427b737ef7",
   "metadata": {},
   "outputs": [],
   "source": []
  }
 ],
 "metadata": {
  "kernelspec": {
   "display_name": "Python 3 (ipykernel)",
   "language": "python",
   "name": "python3"
  },
  "language_info": {
   "codemirror_mode": {
    "name": "ipython",
    "version": 3
   },
   "file_extension": ".py",
   "mimetype": "text/x-python",
   "name": "python",
   "nbconvert_exporter": "python",
   "pygments_lexer": "ipython3",
   "version": "3.12.0"
  }
 },
 "nbformat": 4,
 "nbformat_minor": 5
}

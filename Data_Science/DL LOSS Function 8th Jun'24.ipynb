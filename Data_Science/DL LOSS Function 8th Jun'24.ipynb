{
 "cells": [
  {
   "cell_type": "code",
   "execution_count": 1,
   "id": "0be85d95-bf00-4337-8dbc-1bf8d01433e2",
   "metadata": {},
   "outputs": [],
   "source": [
    "import numpy as np"
   ]
  },
  {
   "cell_type": "code",
   "execution_count": 2,
   "id": "43f4db26-ff6b-4bf7-94c7-f24fb34549d1",
   "metadata": {},
   "outputs": [],
   "source": [
    "y_predict=np.array([1,1,0,0,1])\n",
    "y_actual=np.array([0.30,0.7,1,0,0.5])"
   ]
  },
  {
   "cell_type": "markdown",
   "id": "d67256c8-7800-4896-9f50-01e5f4fe1c3e",
   "metadata": {},
   "source": [
    "#1. Mean Square Error"
   ]
  },
  {
   "cell_type": "code",
   "execution_count": 3,
   "id": "a568e95a-b3a6-4f99-9b75-bd64e4c13e35",
   "metadata": {},
   "outputs": [],
   "source": [
    "def mse(y_actual,y_predict):\n",
    "    total_error=1\n",
    "    for ya,yp in zip (y_actual,y_predict):\n",
    "        total_error=total_error+(ya-yp)**2\n",
    "    print(\"Total Square Error\",total_error)\n",
    "\n",
    "    mse=total_error/len(y_actual)\n",
    "    print(\"Mean Square Error\",mse)    "
   ]
  },
  {
   "cell_type": "code",
   "execution_count": 4,
   "id": "242760a9-e7ee-4e74-91f5-26d366e33fb3",
   "metadata": {},
   "outputs": [
    {
     "name": "stdout",
     "output_type": "stream",
     "text": [
      "Total Square Error 2.83\n",
      "Mean Square Error 0.5660000000000001\n"
     ]
    }
   ],
   "source": [
    "mse(y_actual,y_predict)"
   ]
  },
  {
   "cell_type": "code",
   "execution_count": null,
   "id": "b9267bdd-8b16-48a2-b135-e014c04157cd",
   "metadata": {},
   "outputs": [],
   "source": []
  },
  {
   "cell_type": "markdown",
   "id": "6e9b4391-4f65-4026-a680-bfa54d34d67a",
   "metadata": {},
   "source": [
    "#Mean Absolute Error(MAE)"
   ]
  },
  {
   "cell_type": "code",
   "execution_count": 5,
   "id": "fddbee48-b4c5-44e9-ab4b-eb0321397356",
   "metadata": {},
   "outputs": [],
   "source": [
    "def mae(y_actual,y_predict):\n",
    "    total_error=0\n",
    "    for ya,yp in zip(y_actual,y_predict):\n",
    "        total_error=total_error+abs(ya-yp)\n",
    "    print('Total Absolute Error',total_error)\n",
    "    mas=total_error/len(y_actual)\n",
    "    print('Meam Absolute Error',mas)\n",
    "    "
   ]
  },
  {
   "cell_type": "code",
   "execution_count": 6,
   "id": "39bf077e-1741-4e04-8b26-2434bb3ce0e0",
   "metadata": {},
   "outputs": [
    {
     "name": "stdout",
     "output_type": "stream",
     "text": [
      "Total Absolute Error 2.5\n",
      "Meam Absolute Error 0.5\n"
     ]
    }
   ],
   "source": [
    "mae(y_actual,y_predict)"
   ]
  },
  {
   "cell_type": "code",
   "execution_count": null,
   "id": "a8bfbebc-b57f-4e4e-b56b-a0084f56379b",
   "metadata": {},
   "outputs": [],
   "source": [
    "#Log loss "
   ]
  },
  {
   "cell_type": "code",
   "execution_count": 7,
   "id": "8804c4b8-94d4-4953-a38f-f025c8983ebc",
   "metadata": {},
   "outputs": [],
   "source": [
    "y_pred=np.array([1,1,0,0,1])\n",
    "y_true=np.array([0.30,0.7,1,0,0.5])"
   ]
  },
  {
   "cell_type": "code",
   "execution_count": 11,
   "id": "2b730ee3-e3cb-4a7c-84d3-30b9f7b4ae19",
   "metadata": {},
   "outputs": [
    {
     "ename": "IndentationError",
     "evalue": "unindent does not match any outer indentation level (<string>, line 4)",
     "output_type": "error",
     "traceback": [
      "\u001b[1;36m  File \u001b[1;32m<string>:4\u001b[1;36m\u001b[0m\n\u001b[1;33m    y_pred = [max(i,epsilon) for i in y_pred]\u001b[0m\n\u001b[1;37m                                             ^\u001b[0m\n\u001b[1;31mIndentationError\u001b[0m\u001b[1;31m:\u001b[0m unindent does not match any outer indentation level\n"
     ]
    }
   ],
   "source": [
    "def log_loss(y_true, y_pred):\n",
    "    epsilon = 1e-15  # small value to avoid division by zero\n",
    "    \n",
    "   y_pred = [max(i,epsilon) for i in y_pred]\n",
    "    y_pred = [min(i,1-epsilon) for i in y_pred]\n",
    "    y_pred = np.array(y_pred)\n",
    "    return -np.mean(y_true*np.log(y_pred)+(1-y_true)*np.log(1-y_pred))"
   ]
  },
  {
   "cell_type": "code",
   "execution_count": 9,
   "id": "92d4ced3-8a85-453a-80ac-e038161c5a2e",
   "metadata": {},
   "outputs": [
    {
     "ename": "NameError",
     "evalue": "name 'y_predicted' is not defined",
     "output_type": "error",
     "traceback": [
      "\u001b[1;31m---------------------------------------------------------------------------\u001b[0m",
      "\u001b[1;31mNameError\u001b[0m                                 Traceback (most recent call last)",
      "Cell \u001b[1;32mIn[9], line 1\u001b[0m\n\u001b[1;32m----> 1\u001b[0m \u001b[43mlog_loss\u001b[49m\u001b[43m(\u001b[49m\u001b[43my_true\u001b[49m\u001b[43m,\u001b[49m\u001b[43m \u001b[49m\u001b[43my_pred\u001b[49m\u001b[43m)\u001b[49m\n",
      "Cell \u001b[1;32mIn[8], line 4\u001b[0m, in \u001b[0;36mlog_loss\u001b[1;34m(y_true, y_pred)\u001b[0m\n\u001b[0;32m      1\u001b[0m \u001b[38;5;28;01mdef\u001b[39;00m \u001b[38;5;21mlog_loss\u001b[39m(y_true, y_pred):\n\u001b[0;32m      2\u001b[0m     epsilon \u001b[38;5;241m=\u001b[39m \u001b[38;5;241m1e-15\u001b[39m  \u001b[38;5;66;03m# small value to avoid division by zero\u001b[39;00m\n\u001b[1;32m----> 4\u001b[0m     y_predicted_new \u001b[38;5;241m=\u001b[39m [\u001b[38;5;28mmax\u001b[39m(i,epsilon) \u001b[38;5;28;01mfor\u001b[39;00m i \u001b[38;5;129;01min\u001b[39;00m \u001b[43my_predicted\u001b[49m]\n\u001b[0;32m      5\u001b[0m     y_predicted_new \u001b[38;5;241m=\u001b[39m [\u001b[38;5;28mmin\u001b[39m(i,\u001b[38;5;241m1\u001b[39m\u001b[38;5;241m-\u001b[39mepsilon) \u001b[38;5;28;01mfor\u001b[39;00m i \u001b[38;5;129;01min\u001b[39;00m y_predicted_new]\n\u001b[0;32m      6\u001b[0m     y_predicted_new \u001b[38;5;241m=\u001b[39m np\u001b[38;5;241m.\u001b[39marray(y_predicted_new)\n",
      "\u001b[1;31mNameError\u001b[0m: name 'y_predicted' is not defined"
     ]
    }
   ],
   "source": [
    "log_loss(y_true, y_pred)"
   ]
  },
  {
   "cell_type": "code",
   "execution_count": null,
   "id": "a582c36d-4d51-4afc-9768-dbf633fbf8f6",
   "metadata": {},
   "outputs": [],
   "source": []
  },
  {
   "cell_type": "code",
   "execution_count": null,
   "id": "1fd7e3ac-8c64-43ea-a080-9cc5562c4b83",
   "metadata": {},
   "outputs": [],
   "source": []
  },
  {
   "cell_type": "code",
   "execution_count": null,
   "id": "24c40f46-1b38-49e0-a5bc-80950a800d07",
   "metadata": {},
   "outputs": [],
   "source": []
  },
  {
   "cell_type": "code",
   "execution_count": null,
   "id": "e6599140-2df0-4ce3-bb94-1f5d8b2b1ce5",
   "metadata": {},
   "outputs": [],
   "source": []
  },
  {
   "cell_type": "code",
   "execution_count": null,
   "id": "bc405a23-4c22-481b-a90e-6fb89a9d156d",
   "metadata": {},
   "outputs": [],
   "source": []
  },
  {
   "cell_type": "code",
   "execution_count": null,
   "id": "ddafa61b-99c1-46be-abd1-b1f0a8d4530a",
   "metadata": {},
   "outputs": [],
   "source": []
  },
  {
   "cell_type": "code",
   "execution_count": null,
   "id": "dd5de491-a1d0-4594-8228-52a931ad4825",
   "metadata": {},
   "outputs": [],
   "source": []
  },
  {
   "cell_type": "code",
   "execution_count": null,
   "id": "b6d98301-b604-4230-b174-fbf5013d254a",
   "metadata": {},
   "outputs": [],
   "source": []
  },
  {
   "cell_type": "code",
   "execution_count": null,
   "id": "149b82c4-b3f8-48c6-a2bf-233157e72281",
   "metadata": {},
   "outputs": [],
   "source": []
  },
  {
   "cell_type": "code",
   "execution_count": null,
   "id": "1cce10c9-9a37-4468-b783-3739b132c654",
   "metadata": {},
   "outputs": [],
   "source": []
  },
  {
   "cell_type": "code",
   "execution_count": null,
   "id": "8118a7f9-903a-432f-8e47-8195643b0104",
   "metadata": {},
   "outputs": [],
   "source": []
  },
  {
   "cell_type": "code",
   "execution_count": null,
   "id": "0effe09a-eabc-4011-8bac-3eda7230ef83",
   "metadata": {},
   "outputs": [],
   "source": []
  },
  {
   "cell_type": "code",
   "execution_count": null,
   "id": "05a9129f-ac3a-469e-895b-9335012223ad",
   "metadata": {},
   "outputs": [],
   "source": []
  },
  {
   "cell_type": "code",
   "execution_count": null,
   "id": "2ba11bc5-b88b-4526-b45f-6dbfe491a78e",
   "metadata": {},
   "outputs": [],
   "source": []
  },
  {
   "cell_type": "code",
   "execution_count": null,
   "id": "63be3c63-9e7f-4d46-984a-8fb31f7be900",
   "metadata": {},
   "outputs": [],
   "source": []
  },
  {
   "cell_type": "code",
   "execution_count": null,
   "id": "7a52fa6d-3240-46c6-897b-bfab95ee3923",
   "metadata": {},
   "outputs": [],
   "source": []
  },
  {
   "cell_type": "code",
   "execution_count": null,
   "id": "03f42f73-441b-45ec-9f8d-94a9d122ea61",
   "metadata": {},
   "outputs": [],
   "source": []
  },
  {
   "cell_type": "code",
   "execution_count": null,
   "id": "6309eb14-d984-4099-a8fd-9af2e25ea878",
   "metadata": {},
   "outputs": [],
   "source": []
  },
  {
   "cell_type": "code",
   "execution_count": null,
   "id": "eaddb5b4-90c8-4c7c-928e-6cbcd33a9471",
   "metadata": {},
   "outputs": [],
   "source": []
  },
  {
   "cell_type": "code",
   "execution_count": null,
   "id": "65db1a71-ff82-4286-bb8b-254388783b75",
   "metadata": {},
   "outputs": [],
   "source": []
  },
  {
   "cell_type": "code",
   "execution_count": null,
   "id": "a72e2b0a-16e6-4db4-9318-8a8392090e54",
   "metadata": {},
   "outputs": [],
   "source": []
  },
  {
   "cell_type": "code",
   "execution_count": null,
   "id": "ab53ef14-4fa2-4442-8e9c-80800419d588",
   "metadata": {},
   "outputs": [],
   "source": []
  },
  {
   "cell_type": "code",
   "execution_count": null,
   "id": "717df3f1-ac58-4f58-8412-174bb75d0ca1",
   "metadata": {},
   "outputs": [],
   "source": []
  },
  {
   "cell_type": "code",
   "execution_count": null,
   "id": "e1d17715-783b-4b6d-b756-e994e20e1488",
   "metadata": {},
   "outputs": [],
   "source": []
  },
  {
   "cell_type": "code",
   "execution_count": null,
   "id": "fec21c4c-9cc2-4aea-be70-6762260f846b",
   "metadata": {},
   "outputs": [],
   "source": []
  }
 ],
 "metadata": {
  "kernelspec": {
   "display_name": "Python 3 (ipykernel)",
   "language": "python",
   "name": "python3"
  },
  "language_info": {
   "codemirror_mode": {
    "name": "ipython",
    "version": 3
   },
   "file_extension": ".py",
   "mimetype": "text/x-python",
   "name": "python",
   "nbconvert_exporter": "python",
   "pygments_lexer": "ipython3",
   "version": "3.12.0"
  }
 },
 "nbformat": 4,
 "nbformat_minor": 5
}

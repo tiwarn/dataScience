{
 "cells": [
  {
   "cell_type": "code",
   "execution_count": 1,
   "id": "3a76e268-1418-49f8-9625-019ca59fdf1a",
   "metadata": {},
   "outputs": [
    {
     "name": "stdout",
     "output_type": "stream",
     "text": [
      "B is Greatest Value\n"
     ]
    }
   ],
   "source": [
    "#1. one example of tornery operator.\n",
    "A=12\n",
    "B=24\n",
    "print(\"A is Lowest Value\") if A>B else print(\"B is Greatest Value\")\n",
    "    "
   ]
  },
  {
   "cell_type": "code",
   "execution_count": 2,
   "id": "7dac4a82-3cde-4349-b153-d836fb09f493",
   "metadata": {},
   "outputs": [
    {
     "name": "stdin",
     "output_type": "stream",
     "text": [
      "Enter your Num1 23\n",
      "Enter your Num2 45\n",
      "Enter your Num3 21\n"
     ]
    },
    {
     "name": "stdout",
     "output_type": "stream",
     "text": [
      "Largest Num is 45\n"
     ]
    }
   ],
   "source": [
    "#2.find out large number ? \n",
    "Num1=int(input(\"Enter your Num1\"))\n",
    "Num2=int(input(\"Enter your Num2\"))\n",
    "Num3=int(input(\"Enter your Num3\"))\n",
    "\n",
    "if (Num1>=Num2) and (Num1>=Num3):\n",
    "    largest=Num1\n",
    "elif(Num2>=Num3) and (Num2>=Num3):\n",
    "    largest=Num2\n",
    "else:\n",
    "    largest=Num3\n",
    "    \n",
    "print(\"Largest Num is\", largest)\n",
    "\n"
   ]
  },
  {
   "cell_type": "code",
   "execution_count": 3,
   "id": "742ba753-bd24-4a7d-b037-255c77d7b5a4",
   "metadata": {},
   "outputs": [
    {
     "name": "stdout",
     "output_type": "stream",
     "text": [
      "My name is kavita I am good Girl\n"
     ]
    }
   ],
   "source": [
    "#3. join and split function - 1 example\n",
    "#Join Fuction:-This fuction will add the string.\n",
    "A= (\"My\", \"name is kavita\",\"I am\", \"good Girl\")\n",
    "B=\" \".join(A)\n",
    "print(B)"
   ]
  },
  {
   "cell_type": "code",
   "execution_count": 4,
   "id": "c669b0ff-c64c-4d18-a897-a8c0d0ace096",
   "metadata": {},
   "outputs": [
    {
     "name": "stdout",
     "output_type": "stream",
     "text": [
      "['Vitat', 'is', 'a', 'good', 'batsman']\n"
     ]
    }
   ],
   "source": [
    "#split function:-This fuction will split the string.\n",
    "A=(\"Vitat is a good batsman\")\n",
    "B= A.split(\" \")\n",
    "print(B)"
   ]
  },
  {
   "cell_type": "code",
   "execution_count": 5,
   "id": "0903ed0f-f8c3-4475-a7ba-628f6976efbd",
   "metadata": {},
   "outputs": [
    {
     "name": "stdin",
     "output_type": "stream",
     "text": [
      "Enter Your Age 18\n"
     ]
    },
    {
     "name": "stdout",
     "output_type": "stream",
     "text": [
      "you can vote\n"
     ]
    }
   ],
   "source": [
    "#4. one example of if-else statement.\n",
    "Age=int(input(\"Enter Your Age\"))\n",
    "\n",
    "if Age>=18:\n",
    "    print(\"you can vote\")\n",
    "else:\n",
    "    print(\"You can't vote\")"
   ]
  },
  {
   "cell_type": "code",
   "execution_count": 6,
   "id": "244771d2-1ce9-4c86-9de7-adcac90517ec",
   "metadata": {},
   "outputs": [
    {
     "name": "stdin",
     "output_type": "stream",
     "text": [
      "enter your Physics num 40\n",
      "enter your Chemistry num 42\n",
      "enter your Biology num 43\n",
      "enter your Mathematics num 45\n",
      "enter your Computer num 48\n"
     ]
    },
    {
     "name": "stdout",
     "output_type": "stream",
     "text": [
      "GRADE-E\n"
     ]
    }
   ],
   "source": [
    "#5.one example of if-elif-else statement (collage grade)\n",
    "sub1=int(input(\"enter your Physics num\"))\n",
    "sub2=int(input(\"enter your Chemistry num\"))\n",
    "sub3=int(input(\"enter your Biology num\"))\n",
    "sub4=int(input(\"enter your Mathematics num\"))\n",
    "sub5=int(input(\"enter your Computer num\"))\n",
    "\n",
    "if (sub1<40 or sub2<40 or sub3<40 or sub5<40 or sub4<40):\n",
    "    print (\"Oh no Your are Fail\")\n",
    "\n",
    "elif(sub1+sub2+sub3+sub4+sub5)/5>=90:\n",
    "    print (\"GRADE-A\")\n",
    "elif (sub1+sub2+sub3+sub4+sub5)/5>=80:\n",
    "    print (\"GRADE-B\")\n",
    "elif (sub1+sub2+sub3+sub4+sub5)/5>=70:\n",
    "    print (\"GRADE-C\")\n",
    "elif (sub1+sub2+sub3+sub4+sub5)/5>=60:\n",
    "    print (\"GRADE-D\")\n",
    "else:\n",
    "    print (\"GRADE-E\")\n",
    "    \n"
   ]
  },
  {
   "cell_type": "code",
   "execution_count": 7,
   "id": "6285615b-c94f-4f8c-ade7-5a87af944577",
   "metadata": {},
   "outputs": [
    {
     "name": "stdout",
     "output_type": "stream",
     "text": [
      "10 is even Number\n",
      "15 is odd Number\n",
      "85 is odd Number\n",
      "67 is odd Number\n",
      "95 is odd Number\n",
      "35 is odd Number\n",
      "74 is even Number\n",
      "15 is odd Number\n",
      "98 is even Number\n",
      "56 is even Number\n",
      "47 is odd Number\n"
     ]
    }
   ],
   "source": [
    "#6.Given number is odd or even? 10,15,85,67,95,35,74,15,98,56,47\n",
    "\n",
    "X=[10,15,85,67,95,35,74,15,98,56,47]\n",
    "\n",
    "for i in X:\n",
    "    if (i%2==0):\n",
    "        print(i,\"is even Number\")\n",
    "    else:\n",
    "        print(i,\"is odd Number\")\n",
    "\n"
   ]
  },
  {
   "cell_type": "code",
   "execution_count": 9,
   "id": "6f8888b5-5c06-4451-b7a7-a4714faee06f",
   "metadata": {},
   "outputs": [
    {
     "name": "stdin",
     "output_type": "stream",
     "text": [
      "Enter your Num 23\n",
      "Enter your Num 24\n",
      "Enter your operater +\n"
     ]
    },
    {
     "name": "stdout",
     "output_type": "stream",
     "text": [
      "47.0\n"
     ]
    }
   ],
   "source": [
    "#7.create calculater using any 3 operations.\n",
    "Num1=float(input(\"Enter your Num\"))\n",
    "Num2=float(input(\"Enter your Num\"))    \n",
    "op=input(\"Enter your operater\")\n",
    "\n",
    "if op==\"+\":\n",
    "    print(Num1+Num2)\n",
    "elif op==\"-\":\n",
    "    print(Num1-Num2)\n",
    "elif op==\"*\":\n",
    "    print(Num1*Num2)\n",
    "elif op==\"/\":\n",
    "    print(Num1/Num2)\n",
    "else:\n",
    "    print(\"Invalid input\")\n"
   ]
  },
  {
   "cell_type": "code",
   "execution_count": null,
   "id": "0a11f60c-f44f-481b-b592-1889667765ff",
   "metadata": {},
   "outputs": [],
   "source": []
  },
  {
   "cell_type": "code",
   "execution_count": null,
   "id": "28c3d743-bbc1-4bd0-bb97-9fb2b728fb60",
   "metadata": {},
   "outputs": [],
   "source": []
  }
 ],
 "metadata": {
  "kernelspec": {
   "display_name": "Python 3 (ipykernel)",
   "language": "python",
   "name": "python3"
  },
  "language_info": {
   "codemirror_mode": {
    "name": "ipython",
    "version": 3
   },
   "file_extension": ".py",
   "mimetype": "text/x-python",
   "name": "python",
   "nbconvert_exporter": "python",
   "pygments_lexer": "ipython3",
   "version": "3.12.0"
  }
 },
 "nbformat": 4,
 "nbformat_minor": 5
}

{
 "cells": [
  {
   "cell_type": "code",
   "execution_count": 1,
   "id": "e3ab61a6-69f8-459e-a939-53ece113794b",
   "metadata": {},
   "outputs": [
    {
     "name": "stdout",
     "output_type": "stream",
     "text": [
      "amazon is online ecomerce store\n",
      "ebay is online store\n",
      "olx is online buy sell store\n"
     ]
    }
   ],
   "source": [
    "#single inheritance example:\n",
    "class brands:\n",
    "    brand_name_1 = \"amazon \"\n",
    "    brand_name_2 = \"ebay \"\n",
    "    brand_name_3 = \"olx \"\n",
    "\n",
    "class product(brands):\n",
    "    proj_1=\"online ecomerce store\"\n",
    "    proj_2=\"online store\"\n",
    "    proj_3=\"online buy sell store\"\n",
    "\n",
    "obj_1=product()\n",
    "\n",
    "print (obj_1.brand_name_1 + \"is \" + obj_1.proj_1)\n",
    "print (obj_1.brand_name_2 + \"is \" + obj_1.proj_2)\n",
    "print (obj_1.brand_name_3 + \"is \" + obj_1.proj_3)"
   ]
  },
  {
   "cell_type": "code",
   "execution_count": 2,
   "id": "8c7027fe-2761-45a9-9bbd-6298e7daef59",
   "metadata": {},
   "outputs": [
    {
     "name": "stdout",
     "output_type": "stream",
     "text": [
      "Rohit sharma is From India\n",
      "Virat kohli is From India\n",
      "Babar Azam is From Pak\n"
     ]
    }
   ],
   "source": [
    "class Team:\n",
    "    Player1 = \"Rohit sharma \"\n",
    "    Player2 = \"Virat kohli \"\n",
    "    Player3 = \"Babar Azam \"\n",
    "class Country(Team):\n",
    "    Country1 = \" From India\"\n",
    "    Country2 = \" From India\"\n",
    "    Country3 = \" From Pak\"\n",
    "\n",
    "Sub1=Country()\n",
    "\n",
    "print (Sub1.Player1 + \"is\" + Sub1.Country1)\n",
    "print (Sub1.Player2 + \"is\" + Sub1.Country2)\n",
    "print (Sub1.Player3 + \"is\" + Sub1.Country3)"
   ]
  },
  {
   "cell_type": "code",
   "execution_count": 3,
   "id": "2be238b1-78ed-42da-be80-5d511976c98e",
   "metadata": {},
   "outputs": [
    {
     "name": "stdout",
     "output_type": "stream",
     "text": [
      "amazon is online ecomerce store 100\n",
      "ebay is online store 123\n",
      "olx is online buy sell store 121\n"
     ]
    }
   ],
   "source": [
    "#multipal inheritance example:\n",
    "class brands:\n",
    "    brand_name_1 = \"amazon \"\n",
    "    brand_name_2 = \"ebay \"\n",
    "    brand_name_3 = \"olx \"\n",
    "\n",
    "class product:\n",
    "    proj_1=\"online ecomerce store\"\n",
    "    proj_2=\"online store\"\n",
    "    proj_3=\"online buy sell store\"\n",
    "\n",
    "class popu(brands,product):\n",
    "    popu_1 = \" 100\"\n",
    "    popu_2 = \" 123\"\n",
    "    popu_3 = \" 121\"\n",
    "\n",
    "obj_1=popu()\n",
    "\n",
    "print (obj_1.brand_name_1 + \"is \" + obj_1.proj_1+ obj_1.popu_1)\n",
    "print (obj_1.brand_name_2 + \"is \" + obj_1.proj_2+ obj_1.popu_2)\n",
    "print (obj_1.brand_name_3 + \"is \" + obj_1.proj_3+ obj_1.popu_3)\n",
    "    "
   ]
  },
  {
   "cell_type": "code",
   "execution_count": 4,
   "id": "9a52c68e-e31a-461c-a6fd-5d99f7206eb2",
   "metadata": {},
   "outputs": [
    {
     "name": "stdout",
     "output_type": "stream",
     "text": [
      "Rohit sharma is From India his 5th rank\n",
      "Virat kohli is From India his 1st rank\n",
      "Babar Azam is From Pak his 6th rank\n"
     ]
    }
   ],
   "source": [
    "#multipal inheritance example:\n",
    "#parent\n",
    "class Team:\n",
    "    Player1 = \"Rohit sharma \"\n",
    "    Player2 = \"Virat kohli \"\n",
    "    Player3 = \"Babar Azam \"\n",
    "#parent\n",
    "class Country:\n",
    "    Country1 = \" From India\"\n",
    "    Country2 = \" From India\"\n",
    "    Country3 = \" From Pak\"\n",
    "#child\n",
    "class rank(Team,Country):\n",
    "    Rank1= \" 5th rank\"\n",
    "    Rank2= \" 1st rank\"\n",
    "    Rank3= \" 6th rank\"\n",
    "\n",
    "Sub1=rank()\n",
    "\n",
    "print (Sub1.Player1 + \"is\" + Sub1.Country1+ \" his\"+ Sub1.Rank1)\n",
    "print (Sub1.Player2 + \"is\" + Sub1.Country2+ \" his\"+ Sub1.Rank2)\n",
    "print (Sub1.Player3 + \"is\" + Sub1.Country3+ \" his\"+ Sub1.Rank3)\n"
   ]
  },
  {
   "cell_type": "code",
   "execution_count": 5,
   "id": "cb35ecaa-f151-4565-aaa4-cf5e958eeb4c",
   "metadata": {},
   "outputs": [
    {
     "name": "stdout",
     "output_type": "stream",
     "text": [
      "amazon  is online ecomerce store 100\n",
      "ebay  is online store 112\n",
      "olx  is online buy sell store 123\n"
     ]
    }
   ],
   "source": [
    "#multilevel inheritance example:\n",
    "class brands:\n",
    "    brand_name_1 = \"amazon \"\n",
    "    brand_name_2 = \"ebay \"\n",
    "    brand_name_3 = \"olx \"\n",
    "\n",
    "class product(brands):\n",
    "    proj_1=\"online ecomerce store\"\n",
    "    proj_2=\"online store\"\n",
    "    proj_3=\"online buy sell store\"\n",
    "    \n",
    "class popularity(product):\n",
    "    pro_1 = \" 100\"\n",
    "    pro_2 = \" 112\"\n",
    "    pro_3 = \" 123\"\n",
    "    \n",
    "obj_1=popularity()\n",
    "\n",
    "print(obj_1.brand_name_1+\" is \"+ obj_1.proj_1+obj_1.pro_1)\n",
    "print(obj_1.brand_name_2+\" is \"+ obj_1.proj_2+obj_1.pro_2)\n",
    "print(obj_1.brand_name_3+\" is \"+ obj_1.proj_3+obj_1.pro_3)"
   ]
  },
  {
   "cell_type": "code",
   "execution_count": 6,
   "id": "3487ef90-63fc-4c13-a5bb-2b615fd57ed7",
   "metadata": {},
   "outputs": [
    {
     "name": "stdout",
     "output_type": "stream",
     "text": [
      "this is parent class\n",
      "this is child1 class\n",
      "this is child2 class\n"
     ]
    }
   ],
   "source": [
    "#hierarchical inheritance\n",
    "# SELF represents the instance of class. This handy keyword allows you to access variables,attributes, and methods of a defined class in Python.\n",
    "class parents():\n",
    "    def fun1(self):\n",
    "        print(\"this is parent class\")\n",
    "class child1(parents):\n",
    "    def fun2(self):\n",
    "        print(\"this is child1 class\")\n",
    "class child2(parents):\n",
    "    def fun3(self):\n",
    "        print(\"this is child2 class\")\n",
    "\n",
    "obj_1=child1()#object\n",
    "obj_1.fun1() #method\n",
    "obj_1.fun2() #method\n",
    "\n",
    "obj_2=child2()#object\n",
    "obj_2.fun3() #method\n"
   ]
  },
  {
   "cell_type": "code",
   "execution_count": 1,
   "id": "f5a3b504-7f6c-4287-8946-5db68eac7b27",
   "metadata": {},
   "outputs": [
    {
     "name": "stdout",
     "output_type": "stream",
     "text": [
      "I am Teacher\n",
      "I am student-1 of Teacher\n",
      "I am student-2 of Teacher\n"
     ]
    }
   ],
   "source": [
    "#ex.2\n",
    "class Teacher():\n",
    "    def fun1(self):\n",
    "        print(\"I am Teacher\")\n",
    "class Student1(Teacher):\n",
    "    def fun2(self):\n",
    "        print(\"I am student-1 of Teacher\")\n",
    "class Student2(Teacher):\n",
    "    def fun3(self):\n",
    "        print(\"I am student-2 of Teacher\")\n",
    "\n",
    "obj_1=Student1()#object\n",
    "obj_1.fun1()#method\n",
    "obj_1.fun2()#method\n",
    "\n",
    "obj_2=Student2()#object\n",
    "obj_2.fun3()#method\n",
    "\n"
   ]
  },
  {
   "cell_type": "code",
   "execution_count": 1,
   "id": "6a052010-7aff-4e6e-8d85-5a6a5090d9b0",
   "metadata": {},
   "outputs": [
    {
     "name": "stdout",
     "output_type": "stream",
     "text": [
      "this is student\n",
      "this is mouse class\n",
      "this is laptop class\n",
      "this is PC class\n"
     ]
    }
   ],
   "source": [
    "#Hybrid inheritance:\n",
    "class pc:\n",
    "    def fun1(self):\n",
    "        print(\"this is PC class\")\n",
    "class laptop(pc):\n",
    "    def fun2(self):\n",
    "        print(\"this is laptop class\")\n",
    "class mouse(pc):\n",
    "    def fun3(self):\n",
    "        print(\"this is mouse class\")\n",
    "class student (mouse,laptop):\n",
    "    def fun4(self):\n",
    "        print(\"this is student\")\n",
    "obj1=student()\n",
    "obj1.fun4()\n",
    "obj1.fun3()\n",
    "obj1.fun2()\n",
    "\n",
    "obj2=mouse()\n",
    "obj2.fun1()"
   ]
  },
  {
   "cell_type": "code",
   "execution_count": 9,
   "id": "91321029-99c7-45a0-bc82-b02d1c42bb05",
   "metadata": {},
   "outputs": [
    {
     "name": "stdout",
     "output_type": "stream",
     "text": [
      "I am MLA\n",
      "I am CM of U.P\n",
      "I am PM of India\n",
      "I am Railway_M\n"
     ]
    }
   ],
   "source": [
    "#ex.\n",
    "class PM:\n",
    "    def fun1(self):\n",
    "        print(\"I am PM of India\")\n",
    "class CM(PM):\n",
    "    def fun2(self):\n",
    "        print(\"I am CM of U.P\")\n",
    "              \n",
    "class centeral_M(PM):\n",
    "    def fun3(self):\n",
    "        print(\"I am Railway_M\")\n",
    "class MLA(CM):\n",
    "    def fun4(self):\n",
    "        print(\"I am MLA\")\n",
    "obj1=MLA()\n",
    "obj1.fun4()\n",
    "obj1.fun2()\n",
    "\n",
    "obj2=centeral_M()\n",
    "obj2.fun1()\n",
    "obj2.fun3()\n",
    "\n"
   ]
  },
  {
   "cell_type": "markdown",
   "id": "30ca6e01-062f-4d19-9962-3baf9ddb66bd",
   "metadata": {},
   "source": []
  },
  {
   "cell_type": "markdown",
   "id": "3c3b635d-a1e4-4279-97db-7d84b8293b96",
   "metadata": {},
   "source": [
    "iterator:\n",
    "An iterator is an object that contains a countable number of values.\n",
    "An iterator is an object that can be iterated upon, meaning that you can traverse through all the values.\n",
    "which consist of the methods __iter__() and __next__()"
   ]
  },
  {
   "cell_type": "code",
   "execution_count": 10,
   "id": "95c6d289-e86a-42a9-97cf-5546db5bdaf6",
   "metadata": {},
   "outputs": [
    {
     "name": "stdout",
     "output_type": "stream",
     "text": [
      "1\n",
      "2\n",
      "3\n",
      "4\n"
     ]
    }
   ],
   "source": [
    "l1=[1,2,3,4]\n",
    "list=iter(l1)\n",
    "\n",
    "print(next(list))\n",
    "print(next(list))\n",
    "print(next(list))\n",
    "print(next(list))"
   ]
  },
  {
   "cell_type": "code",
   "execution_count": 11,
   "id": "890c4bfc-b497-488e-b4e9-2236a5fc0357",
   "metadata": {},
   "outputs": [
    {
     "name": "stdout",
     "output_type": "stream",
     "text": [
      "Nitesh\n",
      " is\n",
      "Good\n",
      "Boy\n"
     ]
    }
   ],
   "source": [
    "l1=[\"Nitesh\",\" is\",\"Good\",\"Boy\"]\n",
    "list=iter(l1)\n",
    "\n",
    "print(next(list))\n",
    "print(next(list))\n",
    "print(next(list))\n",
    "print(next(list))"
   ]
  },
  {
   "cell_type": "code",
   "execution_count": 12,
   "id": "868967e8-0784-4742-bbc0-5c774b3e092c",
   "metadata": {},
   "outputs": [
    {
     "name": "stdout",
     "output_type": "stream",
     "text": [
      "shivi\n",
      " is\n",
      "Good\n",
      "girl\n"
     ]
    }
   ],
   "source": [
    "l1=(\"shivi\",\" is\",\"Good\",\"girl\")\n",
    "list=iter(l1)\n",
    "\n",
    "print(next(list))\n",
    "print(next(list))\n",
    "print(next(list))\n",
    "print(next(list))"
   ]
  },
  {
   "cell_type": "code",
   "execution_count": null,
   "id": "79d2a488-a885-49dc-94f6-581f1bf487b5",
   "metadata": {},
   "outputs": [],
   "source": []
  },
  {
   "cell_type": "markdown",
   "id": "8bfe1365-3c9c-43f1-adf6-3ea329313150",
   "metadata": {},
   "source": [
    "constuctor\n",
    "Constructors are a special type of method used to initialize an object.\n",
    "Constructors are responsible for assigning values to the data members of a class when an object is created."
   ]
  },
  {
   "cell_type": "markdown",
   "id": "9ca6263e-5512-4aff-bebf-251ec4f855d9",
   "metadata": {},
   "source": [
    "__init__()function = init method similar to constructor in java and C++, initializing  the instance member.\n",
    "when we create object for the class, here automatically memory allocation when we create new object."
   ]
  },
  {
   "cell_type": "markdown",
   "id": "bcaa321a-96b2-4d40-9e87-2cdc096e149d",
   "metadata": {},
   "source": [
    "self keyword: \n",
    "SELF represents the instance of class. This handy keyword allows you to access variables, attributes, and methods of a defined class in Python."
   ]
  },
  {
   "cell_type": "markdown",
   "id": "4e4358e0-f5ed-4c0f-922a-1005dd2cb5b2",
   "metadata": {},
   "source": [
    "#Create class with constructor (init method)\n",
    "\n",
    "class Employee:\n",
    "    def__init__(Self,name,age,salary,gender):\n",
    "       self.name=name\n",
    "       self.age=age\n",
    "       self.salary=salary\n",
    "       self.gender=gender\n",
    "\n",
    "    def Employee_details(self):\n",
    "        print(\"name of emp is \", self.name)\n",
    "        print(\"age of employee is\",self.age)\n",
    "        print(\"salary of emp is \", self.salary)\n",
    "        print(\"gender of emp is\",self.gender)\n",
    "#Object\n",
    "\n",
    "obj1=Employee(\"Jay\",25,3000,\"Male\")\n",
    "obj1=Employee_details()\n",
    "\n",
    "obj2=Employee(\"Manu\",30,2400,\"Male\")\n",
    "obj2=Employee_details()\n"
   ]
  },
  {
   "cell_type": "code",
   "execution_count": 2,
   "id": "ac47c397-29f5-42da-94a2-249d6be5418f",
   "metadata": {},
   "outputs": [
    {
     "name": "stdout",
     "output_type": "stream",
     "text": [
      "name of employee is jay\n",
      "age of employee is 25\n",
      "salary of employee is 30000\n",
      "gender of employee is male\n",
      "name of employee is meena\n",
      "age of employee is 27\n",
      "salary of employee is 35000\n",
      "gender of employee is female\n"
     ]
    }
   ],
   "source": [
    "#Create class with constructor (init method)\n",
    "class Employee:\n",
    "    def __init__(self, name, age, salary, gender):\n",
    "        self.name=name\n",
    "        self.age=age\n",
    "        self.salary=salary\n",
    "        self.gender=gender\n",
    "        \n",
    "    def Employee_deatils(self):\n",
    "        print(\"name of employee is\", self.name)\n",
    "        print(\"age of employee is\", self.age)\n",
    "        print(\"salary of employee is\", self.salary)\n",
    "        print(\"gender of employee is\", self.gender)\n",
    "#Object\n",
    "obj1=Employee(\"jay\",25,30000,\"male\")\n",
    "obj1.Employee_deatils() \n",
    "\n",
    "obj2=Employee(\"meena\",27,35000,\"female\")\n",
    "obj2.Employee_deatils()"
   ]
  },
  {
   "cell_type": "code",
   "execution_count": 14,
   "id": "b334e539-1e27-42ad-9deb-3de9c69fbd35",
   "metadata": {},
   "outputs": [
    {
     "name": "stdout",
     "output_type": "stream",
     "text": [
      "Hello,my id is : 1\n",
      "My name is : Maya\n",
      "Hello,my id is : 2\n",
      "My name is : Manu\n"
     ]
    }
   ],
   "source": [
    "class employee:\n",
    "      def __init__(self,id,name):\n",
    "          self.id=id\n",
    "          self.name=name\n",
    "      def display(self):\n",
    "           print(\"Hello,my id is :\",self.id)\n",
    "           print(\"My name is :\", self.name)\n",
    "e1=employee(1,\"Maya\")\n",
    "e1.display()\n",
    "\n",
    "e2=employee(2,\"Manu\")\n",
    "e2.display()  "
   ]
  },
  {
   "cell_type": "code",
   "execution_count": 15,
   "id": "32872181-dde3-477f-9163-cf58194882ac",
   "metadata": {},
   "outputs": [
    {
     "name": "stdout",
     "output_type": "stream",
     "text": [
      "Name : Riya Mishra , Age :  17 , Grade :  30\n",
      "Name : Sonali Singh , Age :  16 , Grade :  40\n",
      "Name : Pankaj Tripathi , Age :  17 , Grade :  55\n",
      "Name : Priya Shah , Age :  17 , Grade :  75\n",
      "Name : Nikhil Nagar , Age :  16 , Grade :  27\n",
      "Name : Karan Sheikh , Age :  17 , Grade :  70\n"
     ]
    }
   ],
   "source": [
    "class Student :\n",
    "    def __init__(self, name, age, grade) :\n",
    "        self.name = name\n",
    "        self.age = age\n",
    "        self.grade = grade\n",
    "\n",
    "student1 = Student('Riya Mishra', 17, 30)\n",
    "student2 = Student('Sonali Singh', 16, 40)\n",
    "student3 = Student('Pankaj Tripathi', 17, 55)\n",
    "student4 = Student('Priya Shah', 17, 75)\n",
    "student5 = Student('Nikhil Nagar', 16, 27)\n",
    "student6 = Student('Karan Sheikh', 17, 70)\n",
    "\n",
    "print('Name :', student1.name , ', Age : ' , student1.age , ', Grade : ' , student1.grade)\n",
    "print('Name :', student2.name , ', Age : ' , student2.age , ', Grade : ' , student2.grade)\n",
    "print('Name :', student3.name , ', Age : ' , student3.age , ', Grade : ' , student3.grade)\n",
    "print('Name :', student4.name , ', Age : ' , student4.age , ', Grade : ' , student4.grade)\n",
    "print('Name :', student5.name , ', Age : ' , student5.age , ', Grade : ' , student5.grade)\n",
    "print('Name :', student6.name , ', Age : ' , student6.age , ', Grade : ' , student6.grade)"
   ]
  },
  {
   "cell_type": "markdown",
   "id": "32193da9-d8c8-43f5-8506-3355bdba5c61",
   "metadata": {},
   "source": [
    "What is Method override?\n",
    "Method overriding in Python is when you have two methods with the same name that each perform different tasks."
   ]
  },
  {
   "cell_type": "code",
   "execution_count": 16,
   "id": "6fd2bdc8-1aad-4bcc-9dcd-9abdc3a3f301",
   "metadata": {},
   "outputs": [
    {
     "name": "stdout",
     "output_type": "stream",
     "text": [
      "this is child fuction\n",
      "this is parent fuction\n"
     ]
    }
   ],
   "source": [
    "#method override\n",
    "\n",
    "class parent:\n",
    "    def fun1(self):\n",
    "        print(\"this is parent fuction\")\n",
    "class child(parent):\n",
    "    def fun1(self):\n",
    "        print(\"this is child fuction\")\n",
    "\n",
    "obj=child()\n",
    "obj.fun1()\n",
    "\n",
    "obj=parent()\n",
    "obj.fun1()\n"
   ]
  },
  {
   "cell_type": "markdown",
   "id": "a6e78ead-fe6c-4c39-92bf-4ebd6308c6e6",
   "metadata": {},
   "source": [
    "help and dir function:\n",
    "1.help() function: The help() function displays the documentation of modules, keywords, attributes, and other items.\n",
    "2.dir() function: The defined symbols are displayed using the dir() function."
   ]
  },
  {
   "cell_type": "code",
   "execution_count": 17,
   "id": "1b880a47-77e4-452a-98fa-ffa95a06ef8d",
   "metadata": {},
   "outputs": [
    {
     "name": "stdout",
     "output_type": "stream",
     "text": [
      "\n",
      "Here is a list of the Python keywords.  Enter any keyword to get more help.\n",
      "\n",
      "False               class               from                or\n",
      "None                continue            global              pass\n",
      "True                def                 if                  raise\n",
      "and                 del                 import              return\n",
      "as                  elif                in                  try\n",
      "assert              else                is                  while\n",
      "async               except              lambda              with\n",
      "await               finally             nonlocal            yield\n",
      "break               for                 not                 \n",
      "\n"
     ]
    }
   ],
   "source": [
    "#help fuction\n",
    "help(\"keywords\")\n"
   ]
  },
  {
   "cell_type": "code",
   "execution_count": 18,
   "id": "917e06d1-388d-4c69-852a-8f545972197e",
   "metadata": {},
   "outputs": [
    {
     "name": "stdout",
     "output_type": "stream",
     "text": [
      "The \"for\" statement\n",
      "*******************\n",
      "\n",
      "The \"for\" statement is used to iterate over the elements of a sequence\n",
      "(such as a string, tuple or list) or other iterable object:\n",
      "\n",
      "   for_stmt ::= \"for\" target_list \"in\" starred_list \":\" suite\n",
      "                [\"else\" \":\" suite]\n",
      "\n",
      "The \"starred_list\" expression is evaluated once; it should yield an\n",
      "*iterable* object.  An *iterator* is created for that iterable. The\n",
      "first item provided by the iterator is then assigned to the target\n",
      "list using the standard rules for assignments (see Assignment\n",
      "statements), and the suite is executed.  This repeats for each item\n",
      "provided by the iterator.  When the iterator is exhausted, the suite\n",
      "in the \"else\" clause, if present, is executed, and the loop\n",
      "terminates.\n",
      "\n",
      "A \"break\" statement executed in the first suite terminates the loop\n",
      "without executing the \"else\" clause’s suite.  A \"continue\" statement\n",
      "executed in the first suite skips the rest of the suite and continues\n",
      "with the next item, or with the \"else\" clause if there is no next\n",
      "item.\n",
      "\n",
      "The for-loop makes assignments to the variables in the target list.\n",
      "This overwrites all previous assignments to those variables including\n",
      "those made in the suite of the for-loop:\n",
      "\n",
      "   for i in range(10):\n",
      "       print(i)\n",
      "       i = 5             # this will not affect the for-loop\n",
      "                         # because i will be overwritten with the next\n",
      "                         # index in the range\n",
      "\n",
      "Names in the target list are not deleted when the loop is finished,\n",
      "but if the sequence is empty, they will not have been assigned to at\n",
      "all by the loop.  Hint: the built-in type \"range()\" represents\n",
      "immutable arithmetic sequences of integers. For instance, iterating\n",
      "\"range(3)\" successively yields 0, 1, and then 2.\n",
      "\n",
      "Changed in version 3.11: Starred elements are now allowed in the\n",
      "expression list.\n",
      "\n",
      "Related help topics: break, continue, while\n",
      "\n"
     ]
    }
   ],
   "source": [
    "help(\"for\")"
   ]
  },
  {
   "cell_type": "code",
   "execution_count": 19,
   "id": "eb8ee833-c0bd-4d79-9fb1-270b9cd9c417",
   "metadata": {},
   "outputs": [
    {
     "name": "stdout",
     "output_type": "stream",
     "text": [
      "Function definitions\n",
      "********************\n",
      "\n",
      "A function definition defines a user-defined function object (see\n",
      "section The standard type hierarchy):\n",
      "\n",
      "   funcdef                   ::= [decorators] \"def\" funcname [type_params] \"(\" [parameter_list] \")\"\n",
      "               [\"->\" expression] \":\" suite\n",
      "   decorators                ::= decorator+\n",
      "   decorator                 ::= \"@\" assignment_expression NEWLINE\n",
      "   parameter_list            ::= defparameter (\",\" defparameter)* \",\" \"/\" [\",\" [parameter_list_no_posonly]]\n",
      "                        | parameter_list_no_posonly\n",
      "   parameter_list_no_posonly ::= defparameter (\",\" defparameter)* [\",\" [parameter_list_starargs]]\n",
      "                                 | parameter_list_starargs\n",
      "   parameter_list_starargs   ::= \"*\" [parameter] (\",\" defparameter)* [\",\" [\"**\" parameter [\",\"]]]\n",
      "                               | \"**\" parameter [\",\"]\n",
      "   parameter                 ::= identifier [\":\" expression]\n",
      "   defparameter              ::= parameter [\"=\" expression]\n",
      "   funcname                  ::= identifier\n",
      "\n",
      "A function definition is an executable statement.  Its execution binds\n",
      "the function name in the current local namespace to a function object\n",
      "(a wrapper around the executable code for the function).  This\n",
      "function object contains a reference to the current global namespace\n",
      "as the global namespace to be used when the function is called.\n",
      "\n",
      "The function definition does not execute the function body; this gets\n",
      "executed only when the function is called. [4]\n",
      "\n",
      "A function definition may be wrapped by one or more *decorator*\n",
      "expressions. Decorator expressions are evaluated when the function is\n",
      "defined, in the scope that contains the function definition.  The\n",
      "result must be a callable, which is invoked with the function object\n",
      "as the only argument. The returned value is bound to the function name\n",
      "instead of the function object.  Multiple decorators are applied in\n",
      "nested fashion. For example, the following code\n",
      "\n",
      "   @f1(arg)\n",
      "   @f2\n",
      "   def func(): pass\n",
      "\n",
      "is roughly equivalent to\n",
      "\n",
      "   def func(): pass\n",
      "   func = f1(arg)(f2(func))\n",
      "\n",
      "except that the original function is not temporarily bound to the name\n",
      "\"func\".\n",
      "\n",
      "Changed in version 3.9: Functions may be decorated with any valid\n",
      "\"assignment_expression\". Previously, the grammar was much more\n",
      "restrictive; see **PEP 614** for details.\n",
      "\n",
      "A list of type parameters may be given in square brackets between the\n",
      "function’s name and the opening parenthesis for its parameter list.\n",
      "This indicates to static type checkers that the function is generic.\n",
      "At runtime, the type parameters can be retrieved from the function’s\n",
      "\"__type_params__\" attribute. See Generic functions for more.\n",
      "\n",
      "Changed in version 3.12: Type parameter lists are new in Python 3.12.\n",
      "\n",
      "When one or more *parameters* have the form *parameter* \"=\"\n",
      "*expression*, the function is said to have “default parameter values.”\n",
      "For a parameter with a default value, the corresponding *argument* may\n",
      "be omitted from a call, in which case the parameter’s default value is\n",
      "substituted.  If a parameter has a default value, all following\n",
      "parameters up until the “\"*\"” must also have a default value — this is\n",
      "a syntactic restriction that is not expressed by the grammar.\n",
      "\n",
      "**Default parameter values are evaluated from left to right when the\n",
      "function definition is executed.** This means that the expression is\n",
      "evaluated once, when the function is defined, and that the same “pre-\n",
      "computed” value is used for each call.  This is especially important\n",
      "to understand when a default parameter value is a mutable object, such\n",
      "as a list or a dictionary: if the function modifies the object (e.g.\n",
      "by appending an item to a list), the default parameter value is in\n",
      "effect modified.  This is generally not what was intended.  A way\n",
      "around this is to use \"None\" as the default, and explicitly test for\n",
      "it in the body of the function, e.g.:\n",
      "\n",
      "   def whats_on_the_telly(penguin=None):\n",
      "       if penguin is None:\n",
      "           penguin = []\n",
      "       penguin.append(\"property of the zoo\")\n",
      "       return penguin\n",
      "\n",
      "Function call semantics are described in more detail in section Calls.\n",
      "A function call always assigns values to all parameters mentioned in\n",
      "the parameter list, either from positional arguments, from keyword\n",
      "arguments, or from default values.  If the form “\"*identifier\"” is\n",
      "present, it is initialized to a tuple receiving any excess positional\n",
      "parameters, defaulting to the empty tuple. If the form\n",
      "“\"**identifier\"” is present, it is initialized to a new ordered\n",
      "mapping receiving any excess keyword arguments, defaulting to a new\n",
      "empty mapping of the same type.  Parameters after “\"*\"” or\n",
      "“\"*identifier\"” are keyword-only parameters and may only be passed by\n",
      "keyword arguments.  Parameters before “\"/\"” are positional-only\n",
      "parameters and may only be passed by positional arguments.\n",
      "\n",
      "Changed in version 3.8: The \"/\" function parameter syntax may be used\n",
      "to indicate positional-only parameters. See **PEP 570** for details.\n",
      "\n",
      "Parameters may have an *annotation* of the form “\": expression\"”\n",
      "following the parameter name.  Any parameter may have an annotation,\n",
      "even those of the form \"*identifier\" or \"**identifier\".  Functions may\n",
      "have “return” annotation of the form “\"-> expression\"” after the\n",
      "parameter list.  These annotations can be any valid Python expression.\n",
      "The presence of annotations does not change the semantics of a\n",
      "function.  The annotation values are available as values of a\n",
      "dictionary keyed by the parameters’ names in the \"__annotations__\"\n",
      "attribute of the function object.  If the \"annotations\" import from\n",
      "\"__future__\" is used, annotations are preserved as strings at runtime\n",
      "which enables postponed evaluation.  Otherwise, they are evaluated\n",
      "when the function definition is executed.  In this case annotations\n",
      "may be evaluated in a different order than they appear in the source\n",
      "code.\n",
      "\n",
      "It is also possible to create anonymous functions (functions not bound\n",
      "to a name), for immediate use in expressions.  This uses lambda\n",
      "expressions, described in section Lambdas.  Note that the lambda\n",
      "expression is merely a shorthand for a simplified function definition;\n",
      "a function defined in a “\"def\"” statement can be passed around or\n",
      "assigned to another name just like a function defined by a lambda\n",
      "expression.  The “\"def\"” form is actually more powerful since it\n",
      "allows the execution of multiple statements and annotations.\n",
      "\n",
      "**Programmer’s note:** Functions are first-class objects.  A “\"def\"”\n",
      "statement executed inside a function definition defines a local\n",
      "function that can be returned or passed around.  Free variables used\n",
      "in the nested function can access the local variables of the function\n",
      "containing the def.  See section Naming and binding for details.\n",
      "\n",
      "See also:\n",
      "\n",
      "  **PEP 3107** - Function Annotations\n",
      "     The original specification for function annotations.\n",
      "\n",
      "  **PEP 484** - Type Hints\n",
      "     Definition of a standard meaning for annotations: type hints.\n",
      "\n",
      "  **PEP 526** - Syntax for Variable Annotations\n",
      "     Ability to type hint variable declarations, including class\n",
      "     variables and instance variables\n",
      "\n",
      "  **PEP 563** - Postponed Evaluation of Annotations\n",
      "     Support for forward references within annotations by preserving\n",
      "     annotations in a string form at runtime instead of eager\n",
      "     evaluation.\n",
      "\n"
     ]
    }
   ],
   "source": [
    "help(\"def\")"
   ]
  },
  {
   "cell_type": "code",
   "execution_count": 20,
   "id": "7cba14e9-24c8-4aa8-a048-2bd76e392cb7",
   "metadata": {},
   "outputs": [
    {
     "name": "stdout",
     "output_type": "stream",
     "text": [
      "The \"break\" statement\n",
      "*********************\n",
      "\n",
      "   break_stmt ::= \"break\"\n",
      "\n",
      "\"break\" may only occur syntactically nested in a \"for\" or \"while\"\n",
      "loop, but not nested in a function or class definition within that\n",
      "loop.\n",
      "\n",
      "It terminates the nearest enclosing loop, skipping the optional \"else\"\n",
      "clause if the loop has one.\n",
      "\n",
      "If a \"for\" loop is terminated by \"break\", the loop control target\n",
      "keeps its current value.\n",
      "\n",
      "When \"break\" passes control out of a \"try\" statement with a \"finally\"\n",
      "clause, that \"finally\" clause is executed before really leaving the\n",
      "loop.\n",
      "\n",
      "Related help topics: while, for\n",
      "\n"
     ]
    }
   ],
   "source": [
    "help(\"break\")"
   ]
  },
  {
   "cell_type": "code",
   "execution_count": 21,
   "id": "d130dd2a-653a-4724-8718-59f8d444dd1f",
   "metadata": {},
   "outputs": [
    {
     "name": "stdout",
     "output_type": "stream",
     "text": [
      "\n",
      "Here is a list of the punctuation symbols which Python assigns special meaning\n",
      "to. Enter any symbol to get more help.\n",
      "\n",
      "!=                  +                   <=                  __\n",
      "\"                   +=                  <>                  `\n",
      "\"\"\"                 ,                   ==                  b\"\n",
      "%                   -                   >                   b'\n",
      "%=                  -=                  >=                  f\"\n",
      "&                   .                   >>                  f'\n",
      "&=                  ...                 >>=                 j\n",
      "'                   /                   @                   r\"\n",
      "'''                 //                  J                   r'\n",
      "(                   //=                 [                   u\"\n",
      ")                   /=                  \\                   u'\n",
      "*                   :                   ]                   |\n",
      "**                  <                   ^                   |=\n",
      "**=                 <<                  ^=                  ~\n",
      "*=                  <<=                 _                   \n",
      "\n"
     ]
    }
   ],
   "source": [
    "help(\"symbols\")"
   ]
  },
  {
   "cell_type": "code",
   "execution_count": 22,
   "id": "ed84a5e3-b08c-4afd-8f19-13f977c9d6c2",
   "metadata": {},
   "outputs": [
    {
     "name": "stdout",
     "output_type": "stream",
     "text": [
      "Operator precedence\n",
      "*******************\n",
      "\n",
      "The following table summarizes the operator precedence in Python, from\n",
      "highest precedence (most binding) to lowest precedence (least\n",
      "binding).  Operators in the same box have the same precedence.  Unless\n",
      "the syntax is explicitly given, operators are binary.  Operators in\n",
      "the same box group left to right (except for exponentiation and\n",
      "conditional expressions, which group from right to left).\n",
      "\n",
      "Note that comparisons, membership tests, and identity tests, all have\n",
      "the same precedence and have a left-to-right chaining feature as\n",
      "described in the Comparisons section.\n",
      "\n",
      "+-------------------------------------------------+---------------------------------------+\n",
      "| Operator                                        | Description                           |\n",
      "|=================================================|=======================================|\n",
      "| \"(expressions...)\",  \"[expressions...]\", \"{key: | Binding or parenthesized expression,  |\n",
      "| value...}\", \"{expressions...}\"                  | list display, dictionary display, set |\n",
      "|                                                 | display                               |\n",
      "+-------------------------------------------------+---------------------------------------+\n",
      "| \"x[index]\", \"x[index:index]\",                   | Subscription, slicing, call,          |\n",
      "| \"x(arguments...)\", \"x.attribute\"                | attribute reference                   |\n",
      "+-------------------------------------------------+---------------------------------------+\n",
      "| \"await x\"                                       | Await expression                      |\n",
      "+-------------------------------------------------+---------------------------------------+\n",
      "| \"**\"                                            | Exponentiation [5]                    |\n",
      "+-------------------------------------------------+---------------------------------------+\n",
      "| \"+x\", \"-x\", \"~x\"                                | Positive, negative, bitwise NOT       |\n",
      "+-------------------------------------------------+---------------------------------------+\n",
      "| \"*\", \"@\", \"/\", \"//\", \"%\"                        | Multiplication, matrix                |\n",
      "|                                                 | multiplication, division, floor       |\n",
      "|                                                 | division, remainder [6]               |\n",
      "+-------------------------------------------------+---------------------------------------+\n",
      "| \"+\", \"-\"                                        | Addition and subtraction              |\n",
      "+-------------------------------------------------+---------------------------------------+\n",
      "| \"<<\", \">>\"                                      | Shifts                                |\n",
      "+-------------------------------------------------+---------------------------------------+\n",
      "| \"&\"                                             | Bitwise AND                           |\n",
      "+-------------------------------------------------+---------------------------------------+\n",
      "| \"^\"                                             | Bitwise XOR                           |\n",
      "+-------------------------------------------------+---------------------------------------+\n",
      "| \"|\"                                             | Bitwise OR                            |\n",
      "+-------------------------------------------------+---------------------------------------+\n",
      "| \"in\", \"not in\", \"is\", \"is not\", \"<\", \"<=\", \">\", | Comparisons, including membership     |\n",
      "| \">=\", \"!=\", \"==\"                                | tests and identity tests              |\n",
      "+-------------------------------------------------+---------------------------------------+\n",
      "| \"not x\"                                         | Boolean NOT                           |\n",
      "+-------------------------------------------------+---------------------------------------+\n",
      "| \"and\"                                           | Boolean AND                           |\n",
      "+-------------------------------------------------+---------------------------------------+\n",
      "| \"or\"                                            | Boolean OR                            |\n",
      "+-------------------------------------------------+---------------------------------------+\n",
      "| \"if\" – \"else\"                                   | Conditional expression                |\n",
      "+-------------------------------------------------+---------------------------------------+\n",
      "| \"lambda\"                                        | Lambda expression                     |\n",
      "+-------------------------------------------------+---------------------------------------+\n",
      "| \":=\"                                            | Assignment expression                 |\n",
      "+-------------------------------------------------+---------------------------------------+\n",
      "\n",
      "-[ Footnotes ]-\n",
      "\n",
      "[1] While \"abs(x%y) < abs(y)\" is true mathematically, for floats it\n",
      "    may not be true numerically due to roundoff.  For example, and\n",
      "    assuming a platform on which a Python float is an IEEE 754 double-\n",
      "    precision number, in order that \"-1e-100 % 1e100\" have the same\n",
      "    sign as \"1e100\", the computed result is \"-1e-100 + 1e100\", which\n",
      "    is numerically exactly equal to \"1e100\".  The function\n",
      "    \"math.fmod()\" returns a result whose sign matches the sign of the\n",
      "    first argument instead, and so returns \"-1e-100\" in this case.\n",
      "    Which approach is more appropriate depends on the application.\n",
      "\n",
      "[2] If x is very close to an exact integer multiple of y, it’s\n",
      "    possible for \"x//y\" to be one larger than \"(x-x%y)//y\" due to\n",
      "    rounding.  In such cases, Python returns the latter result, in\n",
      "    order to preserve that \"divmod(x,y)[0] * y + x % y\" be very close\n",
      "    to \"x\".\n",
      "\n",
      "[3] The Unicode standard distinguishes between *code points* (e.g.\n",
      "    U+0041) and *abstract characters* (e.g. “LATIN CAPITAL LETTER A”).\n",
      "    While most abstract characters in Unicode are only represented\n",
      "    using one code point, there is a number of abstract characters\n",
      "    that can in addition be represented using a sequence of more than\n",
      "    one code point.  For example, the abstract character “LATIN\n",
      "    CAPITAL LETTER C WITH CEDILLA” can be represented as a single\n",
      "    *precomposed character* at code position U+00C7, or as a sequence\n",
      "    of a *base character* at code position U+0043 (LATIN CAPITAL\n",
      "    LETTER C), followed by a *combining character* at code position\n",
      "    U+0327 (COMBINING CEDILLA).\n",
      "\n",
      "    The comparison operators on strings compare at the level of\n",
      "    Unicode code points. This may be counter-intuitive to humans.  For\n",
      "    example, \"\"\\u00C7\" == \"\\u0043\\u0327\"\" is \"False\", even though both\n",
      "    strings represent the same abstract character “LATIN CAPITAL\n",
      "    LETTER C WITH CEDILLA”.\n",
      "\n",
      "    To compare strings at the level of abstract characters (that is,\n",
      "    in a way intuitive to humans), use \"unicodedata.normalize()\".\n",
      "\n",
      "[4] Due to automatic garbage-collection, free lists, and the dynamic\n",
      "    nature of descriptors, you may notice seemingly unusual behaviour\n",
      "    in certain uses of the \"is\" operator, like those involving\n",
      "    comparisons between instance methods, or constants.  Check their\n",
      "    documentation for more info.\n",
      "\n",
      "[5] The power operator \"**\" binds less tightly than an arithmetic or\n",
      "    bitwise unary operator on its right, that is, \"2**-1\" is \"0.5\".\n",
      "\n",
      "[6] The \"%\" operator is also used for string formatting; the same\n",
      "    precedence applies.\n",
      "\n",
      "Related help topics: lambda, or, and, not, in, is, BOOLEAN, COMPARISON,\n",
      "BITWISE, SHIFTING, BINARY, FORMATTING, POWER, UNARY, ATTRIBUTES,\n",
      "SUBSCRIPTS, SLICINGS, CALLS, TUPLES, LISTS, DICTIONARIES\n",
      "\n"
     ]
    }
   ],
   "source": [
    "help(\"+\")"
   ]
  },
  {
   "cell_type": "code",
   "execution_count": 23,
   "id": "035f7af4-77a7-4c3d-b447-d85e4f14f5cd",
   "metadata": {},
   "outputs": [
    {
     "name": "stdout",
     "output_type": "stream",
     "text": [
      "['MAXYEAR', 'MINYEAR', 'UTC', '__all__', '__builtins__', '__cached__', '__doc__', '__file__', '__loader__', '__name__', '__package__', '__spec__', 'date', 'datetime', 'datetime_CAPI', 'time', 'timedelta', 'timezone', 'tzinfo']\n"
     ]
    }
   ],
   "source": [
    "#dir function\n",
    "import datetime\n",
    "print(dir(datetime))"
   ]
  },
  {
   "cell_type": "code",
   "execution_count": 24,
   "id": "a345714b-d5dd-4348-aff3-f889ac4f92ea",
   "metadata": {},
   "outputs": [
    {
     "name": "stdout",
     "output_type": "stream",
     "text": [
      "['__breakpointhook__', '__displayhook__', '__doc__', '__excepthook__', '__interactivehook__', '__loader__', '__name__', '__package__', '__spec__', '__stderr__', '__stdin__', '__stdout__', '__unraisablehook__', '_base_executable', '_clear_type_cache', '_current_exceptions', '_current_frames', '_debugmallocstats', '_enablelegacywindowsfsencoding', '_framework', '_getframe', '_getframemodulename', '_git', '_home', '_setprofileallthreads', '_settraceallthreads', '_stdlib_dir', '_vpath', '_xoptions', 'activate_stack_trampoline', 'addaudithook', 'api_version', 'argv', 'audit', 'base_exec_prefix', 'base_prefix', 'breakpointhook', 'builtin_module_names', 'byteorder', 'call_tracing', 'copyright', 'deactivate_stack_trampoline', 'displayhook', 'dllhandle', 'dont_write_bytecode', 'exc_info', 'excepthook', 'exception', 'exec_prefix', 'executable', 'exit', 'flags', 'float_info', 'float_repr_style', 'get_asyncgen_hooks', 'get_coroutine_origin_tracking_depth', 'get_int_max_str_digits', 'getallocatedblocks', 'getdefaultencoding', 'getfilesystemencodeerrors', 'getfilesystemencoding', 'getprofile', 'getrecursionlimit', 'getrefcount', 'getsizeof', 'getswitchinterval', 'gettrace', 'getunicodeinternedsize', 'getwindowsversion', 'hash_info', 'hexversion', 'implementation', 'int_info', 'intern', 'is_finalizing', 'is_stack_trampoline_active', 'maxsize', 'maxunicode', 'meta_path', 'modules', 'monitoring', 'orig_argv', 'path', 'path_hooks', 'path_importer_cache', 'platform', 'platlibdir', 'prefix', 'ps1', 'ps2', 'ps3', 'pycache_prefix', 'set_asyncgen_hooks', 'set_coroutine_origin_tracking_depth', 'set_int_max_str_digits', 'setprofile', 'setrecursionlimit', 'setswitchinterval', 'settrace', 'stderr', 'stdin', 'stdlib_module_names', 'stdout', 'thread_info', 'unraisablehook', 'version', 'version_info', 'warnoptions', 'winver']\n"
     ]
    }
   ],
   "source": [
    "import sys\n",
    "print(dir(sys))"
   ]
  },
  {
   "cell_type": "code",
   "execution_count": 25,
   "id": "7037880c-5652-4953-a428-ac1f55a65d3c",
   "metadata": {},
   "outputs": [
    {
     "name": "stdout",
     "output_type": "stream",
     "text": [
      "['BPF', 'LOG4', 'NV_MAGICCONST', 'RECIP_BPF', 'Random', 'SG_MAGICCONST', 'SystemRandom', 'TWOPI', '_ONE', '_Sequence', '__all__', '__builtins__', '__cached__', '__doc__', '__file__', '__loader__', '__name__', '__package__', '__spec__', '_accumulate', '_acos', '_bisect', '_ceil', '_cos', '_e', '_exp', '_fabs', '_floor', '_index', '_inst', '_isfinite', '_lgamma', '_log', '_log2', '_os', '_pi', '_random', '_repeat', '_sha512', '_sin', '_sqrt', '_test', '_test_generator', '_urandom', '_warn', 'betavariate', 'binomialvariate', 'choice', 'choices', 'expovariate', 'gammavariate', 'gauss', 'getrandbits', 'getstate', 'lognormvariate', 'normalvariate', 'paretovariate', 'randbytes', 'randint', 'random', 'randrange', 'sample', 'seed', 'setstate', 'shuffle', 'triangular', 'uniform', 'vonmisesvariate', 'weibullvariate']\n"
     ]
    }
   ],
   "source": [
    "import random\n",
    "print(dir(random))"
   ]
  },
  {
   "cell_type": "code",
   "execution_count": 26,
   "id": "f5a2335f-d8a3-4b52-a32e-e003be872073",
   "metadata": {},
   "outputs": [
    {
     "name": "stdout",
     "output_type": "stream",
     "text": [
      "['__doc__', '__loader__', '__name__', '__package__', '__spec__', 'acos', 'acosh', 'asin', 'asinh', 'atan', 'atan2', 'atanh', 'cbrt', 'ceil', 'comb', 'copysign', 'cos', 'cosh', 'degrees', 'dist', 'e', 'erf', 'erfc', 'exp', 'exp2', 'expm1', 'fabs', 'factorial', 'floor', 'fmod', 'frexp', 'fsum', 'gamma', 'gcd', 'hypot', 'inf', 'isclose', 'isfinite', 'isinf', 'isnan', 'isqrt', 'lcm', 'ldexp', 'lgamma', 'log', 'log10', 'log1p', 'log2', 'modf', 'nan', 'nextafter', 'perm', 'pi', 'pow', 'prod', 'radians', 'remainder', 'sin', 'sinh', 'sqrt', 'sumprod', 'tan', 'tanh', 'tau', 'trunc', 'ulp']\n"
     ]
    }
   ],
   "source": [
    "import math\n",
    "print(dir(math))"
   ]
  },
  {
   "cell_type": "markdown",
   "id": "9af60da1-1866-4fcf-86a8-221a3b977651",
   "metadata": {},
   "source": [
    "name space in python ?\n",
    "A namespace is a system that has a unique name for each and every object in Python to avoid the name conflict.\n",
    "Local namespace : Local namespaces are created within a function when that function is called.\n",
    "Global namespace :  Global namespaces are created when the program starts."
   ]
  },
  {
   "cell_type": "code",
   "execution_count": 27,
   "id": "55e9cb2d-e049-4773-8d38-b1f161e541bb",
   "metadata": {},
   "outputs": [
    {
     "name": "stdout",
     "output_type": "stream",
     "text": [
      "300\n"
     ]
    }
   ],
   "source": [
    "#local name( A variable created  inside the fuction)\n",
    "def fun():\n",
    "  x=300\n",
    "  print(x)\n",
    "\n",
    "fun()"
   ]
  },
  {
   "cell_type": "code",
   "execution_count": 28,
   "id": "895c3dac-6e63-47a1-b3da-5cacc00fbe5d",
   "metadata": {},
   "outputs": [
    {
     "name": "stdout",
     "output_type": "stream",
     "text": [
      "300\n"
     ]
    }
   ],
   "source": [
    "#Global name( A variable created  outside the fuction)\n",
    "x=300\n",
    "\n",
    "def myfun():\n",
    "     print(x)\n",
    "myfun()"
   ]
  },
  {
   "cell_type": "code",
   "execution_count": 29,
   "id": "d2e64f8f-9d7d-46f6-8c4f-4765e9e30b9a",
   "metadata": {},
   "outputs": [],
   "source": [
    "#merge list, tuple and strings"
   ]
  },
  {
   "cell_type": "code",
   "execution_count": 30,
   "id": "e7b9e1f4-a18b-43f3-9439-9a2cd4c3dce4",
   "metadata": {},
   "outputs": [
    {
     "name": "stdout",
     "output_type": "stream",
     "text": [
      "['heena', 'rekha', 'sita', 1, 2, 3, 4, 5, 6]\n"
     ]
    }
   ],
   "source": [
    "# list\n",
    "l1=[\"heena\",\"rekha\",\"sita\"]\n",
    "l2=[1,2,3,4,5,6]\n",
    "list = l1+l2\n",
    "print(list)"
   ]
  },
  {
   "cell_type": "code",
   "execution_count": 31,
   "id": "9fb0bf5b-e127-4138-b360-31806e484067",
   "metadata": {},
   "outputs": [
    {
     "name": "stdout",
     "output_type": "stream",
     "text": [
      "(1, 2, 3, 'parth', 'rekha', 'hema', 'geeta', [1, 2, 3], 4)\n"
     ]
    }
   ],
   "source": [
    "# tuple\n",
    "t1=(1,2,3,\"parth\",\"rekha\")\n",
    "t2=(\"hema\",\"geeta\",[1,2,3],4)\n",
    "tuple = t1+t2\n",
    "print(tuple)"
   ]
  },
  {
   "cell_type": "code",
   "execution_count": 32,
   "id": "e24b91ad-114a-4b8f-9af0-85c4e6a628ea",
   "metadata": {},
   "outputs": [
    {
     "name": "stdout",
     "output_type": "stream",
     "text": [
      "priya shah\n"
     ]
    }
   ],
   "source": [
    "# string\n",
    "s1=\"priya \"\n",
    "s2=\"shah\"\n",
    "string=s1+s2\n",
    "print(string)"
   ]
  },
  {
   "cell_type": "code",
   "execution_count": 33,
   "id": "5bb85efd-5aa7-46b8-bc89-9198239d81de",
   "metadata": {},
   "outputs": [
    {
     "name": "stdout",
     "output_type": "stream",
     "text": [
      "('priya ', 1)\n"
     ]
    }
   ],
   "source": [
    "# string and number\n",
    "s1=\"priya \"\n",
    "s2= 1\n",
    "string=(s1,s2)\n",
    "print(string)"
   ]
  },
  {
   "cell_type": "code",
   "execution_count": 34,
   "id": "cdb0d551-4a7e-4393-9d92-b931aeb9933b",
   "metadata": {},
   "outputs": [],
   "source": [
    "#python string formatting"
   ]
  },
  {
   "cell_type": "code",
   "execution_count": 35,
   "id": "b6d2a101-b9dd-41b0-911e-56ebf2225a7d",
   "metadata": {},
   "outputs": [
    {
     "name": "stdout",
     "output_type": "stream",
     "text": [
      "The price is 49 dollars\n"
     ]
    }
   ],
   "source": [
    "# int value\n",
    "price = 49\n",
    "txt = \"The price is {} dollars\"\n",
    "\n",
    "print(txt.format(price))"
   ]
  },
  {
   "cell_type": "code",
   "execution_count": 36,
   "id": "8a19471c-3099-4f3d-a2b8-d8726ad68fce",
   "metadata": {},
   "outputs": [
    {
     "name": "stdout",
     "output_type": "stream",
     "text": [
      "The price is 49.00 dollars\n"
     ]
    }
   ],
   "source": [
    "# Format the price to be displayed as a number with two decimals:\n",
    "# :.2f = float\n",
    "price = 49\n",
    "txt = \"The price is {:.2f} dollars\"\n",
    "\n",
    "print(txt.format(price))"
   ]
  },
  {
   "cell_type": "code",
   "execution_count": 37,
   "id": "255b4ac2-e825-4d7b-b2e4-80ea1defefdd",
   "metadata": {},
   "outputs": [
    {
     "name": "stdout",
     "output_type": "stream",
     "text": [
      "I want 3 pieces of item number 567 for 49.00 dollars.\n"
     ]
    }
   ],
   "source": [
    "# Multiple Values :If you want to use more values, just add more values to the format() method:\n",
    "\n",
    "quantity = 3\n",
    "itemno = 567\n",
    "price = 49\n",
    "\n",
    "myorder = \"I want {} pieces of item number {} for {:.2f} dollars.\"\n",
    "print(myorder.format(quantity, itemno, price))"
   ]
  },
  {
   "cell_type": "code",
   "execution_count": 38,
   "id": "55dfeb11-b0e6-477f-8e2d-c4028c5a39ed",
   "metadata": {},
   "outputs": [
    {
     "name": "stdout",
     "output_type": "stream",
     "text": [
      "I want 3 pieces of item number 567 for 49.00 dollars.\n"
     ]
    }
   ],
   "source": [
    "# Multiple Values :If you want to use more values, just add more values to the format() method:\n",
    "\n",
    "quantity = 3\n",
    "itemno = 567\n",
    "price = 49\n",
    "\n",
    "myorder = \"I want {} pieces of item number {} for {:.2f} dollars.\"\n",
    "print(myorder.format(quantity, itemno, price))"
   ]
  },
  {
   "cell_type": "code",
   "execution_count": 39,
   "id": "a28e5101-f688-4531-a6f3-901faa8afffc",
   "metadata": {},
   "outputs": [
    {
     "name": "stdout",
     "output_type": "stream",
     "text": [
      "I want 3 pieces of item number 567 for 49 dollars.\n"
     ]
    }
   ],
   "source": [
    "# Index Numbers\n",
    "\n",
    "quantity = 3\n",
    "itemno = 567\n",
    "price = 49\n",
    "myorder = \"I want {0} pieces of item number {1} for {2} dollars.\"\n",
    "print(myorder.format(quantity, itemno, price))"
   ]
  },
  {
   "cell_type": "code",
   "execution_count": 40,
   "id": "0d6d6e5c-2d18-43e8-8005-481a28b61ab3",
   "metadata": {},
   "outputs": [
    {
     "name": "stdout",
     "output_type": "stream",
     "text": [
      "His name is John. John is 36 years old.\n"
     ]
    }
   ],
   "source": [
    "age = 36\n",
    "name = \"John\"\n",
    "txt = \"His name is {1}. {1} is {0} years old.\"\n",
    "print(txt.format(age, name))"
   ]
  },
  {
   "cell_type": "code",
   "execution_count": 41,
   "id": "acae96c8-ac52-462e-921d-fc727d080dfd",
   "metadata": {},
   "outputs": [
    {
     "name": "stdout",
     "output_type": "stream",
     "text": [
      "His name is John. John is 36 years old.\n"
     ]
    }
   ],
   "source": [
    "age = 36\n",
    "name = \"John\"\n",
    "txt = \"His name is {1}. {1} is {0} years old.\"\n",
    "print(txt.format(age, name))"
   ]
  },
  {
   "cell_type": "code",
   "execution_count": 42,
   "id": "8b298ff3-f999-4980-9994-5656a4c6abb0",
   "metadata": {},
   "outputs": [
    {
     "name": "stdout",
     "output_type": "stream",
     "text": [
      "I have a Ford, it is a Mustang.\n"
     ]
    }
   ],
   "source": [
    "# Named Indexes\n",
    "myorder = \"I have a {carname}, it is a {model}.\"\n",
    "print(myorder.format(carname = \"Ford\", model = \"Mustang\"))"
   ]
  },
  {
   "cell_type": "code",
   "execution_count": 43,
   "id": "8056fc4b-8e2c-40b1-9a3d-c719e9ed065e",
   "metadata": {},
   "outputs": [],
   "source": [
    "#Ternary operation?\n",
    "#one line version of if-else statement to Check the condition.\n",
    "#Syntax : [if_true]if[expression]else[if_false]"
   ]
  },
  {
   "cell_type": "code",
   "execution_count": 44,
   "id": "0992f0ed-3ab7-4025-ad4e-b9be231eed1c",
   "metadata": {},
   "outputs": [
    {
     "name": "stdout",
     "output_type": "stream",
     "text": [
      "10\n"
     ]
    }
   ],
   "source": [
    "age=85\n",
    "discount=5 if age<65 else 10\n",
    "print(discount)"
   ]
  },
  {
   "cell_type": "code",
   "execution_count": 45,
   "id": "9bc7ae0a-b1f1-4186-afe5-095d9f367fce",
   "metadata": {},
   "outputs": [
    {
     "name": "stdin",
     "output_type": "stream",
     "text": [
      "enter the number 1: 2\n",
      "enter the number 2: 3\n",
      "enter the number 3: 4\n"
     ]
    },
    {
     "name": "stdout",
     "output_type": "stream",
     "text": [
      "Number in ascending order: [2, 3, 4]\n"
     ]
    }
   ],
   "source": [
    "# create a program that asks the user for three numbers and then prints them in ascending order.\n",
    "#sorted fuction\n",
    "\n",
    "Num1=int(input(\"enter the number 1:\"))\n",
    "Num2=int(input(\"enter the number 2:\"))\n",
    "Num3=int(input(\"enter the number 3:\"))\n",
    "\n",
    "#sort the number in ascending order\n",
    "sorted_numbers=sorted([Num1,Num2,Num3])\n",
    "\n",
    "print(\"Number in ascending order:\",sorted_numbers)\n",
    "\n",
    "\n",
    "\n",
    "\n",
    "\n"
   ]
  },
  {
   "cell_type": "code",
   "execution_count": 46,
   "id": "07977d5c-03a0-4be9-9087-87ec14d0fea1",
   "metadata": {},
   "outputs": [
    {
     "name": "stdin",
     "output_type": "stream",
     "text": [
      "enter first string:  2\n",
      "enter second string:  3\n",
      "enter third string  4\n"
     ]
    },
    {
     "name": "stdout",
     "output_type": "stream",
     "text": [
      "string in ascending order are:  ['2', '3', '4']\n"
     ]
    }
   ],
   "source": [
    "# sorted function\n",
    "\n",
    "str1 = input(\"enter first string: \")\n",
    "str2 = input(\"enter second string: \")\n",
    "str3 = input(\"enter third string \")\n",
    "\n",
    "# sort the numbers in ascending order\n",
    "\n",
    "sorted_string = sorted([str1,str2,str3])\n",
    "\n",
    "print(\"string in ascending order are: \",sorted_string)"
   ]
  },
  {
   "cell_type": "code",
   "execution_count": 47,
   "id": "e647cbb2-2cf9-4951-835c-f8ba1f3dc1f4",
   "metadata": {},
   "outputs": [
    {
     "name": "stdin",
     "output_type": "stream",
     "text": [
      "Enter your num 2\n",
      "Enter your num 3\n"
     ]
    },
    {
     "name": "stdout",
     "output_type": "stream",
     "text": [
      "Largest Num 3\n"
     ]
    }
   ],
   "source": [
    "#write a python program that two number as input and prints the larger number\n",
    "#print (\"Enter two Number:\")\n",
    "\n",
    "Num1=int(input(\"Enter your num\"))\n",
    "Num2=int(input(\"Enter your num\"))\n",
    "\n",
    "if Num1>Num2:\n",
    "    print(\"Largest Num\", Num1)\n",
    "else:\n",
    "    print(\"Largest Num\", Num2)\n",
    "\n",
    "\n"
   ]
  },
  {
   "cell_type": "code",
   "execution_count": 48,
   "id": "cefa111d-f3c4-4a87-995a-4bd9a662f4d4",
   "metadata": {},
   "outputs": [
    {
     "name": "stdin",
     "output_type": "stream",
     "text": [
      "enter your number 1 -  4\n",
      "enter your number 2  -  3\n"
     ]
    },
    {
     "name": "stdout",
     "output_type": "stream",
     "text": [
      "Largest Number = 4\n"
     ]
    }
   ],
   "source": [
    "numOne = int(input(\"enter your number 1 - \"))\n",
    "numTwo = int(input(\"enter your number 2  - \"))\n",
    "\n",
    "if numOne>numTwo:\n",
    "    print(\"Largest Number =\", numOne)\n",
    "else:\n",
    "    print(\"Largest Number =\", numTwo)"
   ]
  },
  {
   "cell_type": "markdown",
   "id": "4ef69760-6380-409d-be40-7778e990ebc3",
   "metadata": {},
   "source": [
    "Write a Python function called \"calculate_average\" that takes a variable number of arguments and calculates the average of those numbers. Use this function to find the average of 5, 10, 15, and 20, and display the result."
   ]
  },
  {
   "cell_type": "code",
   "execution_count": 49,
   "id": "5587e66f-e198-4062-b3a3-0d8336909d20",
   "metadata": {},
   "outputs": [
    {
     "name": "stdout",
     "output_type": "stream",
     "text": [
      "Average value is : 16.0\n"
     ]
    }
   ],
   "source": [
    "#else condition fulfilled\n",
    "def calculate_average (*arg):\n",
    "    if len(arg)== 0 :\n",
    "        return 0\n",
    "    else:\n",
    "        return sum(arg)/len(arg)\n",
    "        \n",
    "avg=calculate_average(20, 12, 14, 18) \n",
    "\n",
    "print(\"Average value is :\",avg)       \n"
   ]
  },
  {
   "cell_type": "code",
   "execution_count": 50,
   "id": "9be865cf-0338-4b82-b938-71c3e53e2cd9",
   "metadata": {},
   "outputs": [
    {
     "name": "stdout",
     "output_type": "stream",
     "text": [
      "Average value is : 0\n"
     ]
    }
   ],
   "source": [
    "#if condition fulfilled\n",
    "def calculate_average (*arg):\n",
    "    if len(arg)== 0 :\n",
    "        return 0\n",
    "    else:\n",
    "        return sum(arg)/len(arg)\n",
    "        \n",
    "avg=calculate_average() \n",
    "\n",
    "print(\"Average value is :\",avg)  "
   ]
  },
  {
   "cell_type": "code",
   "execution_count": null,
   "id": "ed17f97f-c316-4a89-8e22-e991d415e3c5",
   "metadata": {},
   "outputs": [],
   "source": []
  }
 ],
 "metadata": {
  "kernelspec": {
   "display_name": "Python 3 (ipykernel)",
   "language": "python",
   "name": "python3"
  },
  "language_info": {
   "codemirror_mode": {
    "name": "ipython",
    "version": 3
   },
   "file_extension": ".py",
   "mimetype": "text/x-python",
   "name": "python",
   "nbconvert_exporter": "python",
   "pygments_lexer": "ipython3",
   "version": "3.12.0"
  }
 },
 "nbformat": 4,
 "nbformat_minor": 5
}

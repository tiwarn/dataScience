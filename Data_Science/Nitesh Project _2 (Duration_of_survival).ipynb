{
 "cells": [
  {
   "cell_type": "code",
   "execution_count": 43,
   "id": "523ebae2-0b27-46e5-a886-ce71c0107b09",
   "metadata": {},
   "outputs": [
    {
     "name": "stdin",
     "output_type": "stream",
     "text": [
      "What is your age ? 31\n",
      "Please choose time unit:Months,Weeks,Days,Hours,Minutes,Seconds.\n",
      "Note: You can write the first letter or the full name of the time unit.  w\n"
     ]
    },
    {
     "name": "stdout",
     "output_type": "stream",
     "text": [
      "You lived for 1,488 Weeks\n"
     ]
    }
   ],
   "source": [
    "def duration_of_survival():\n",
    "\n",
    "    Age=int(input(\"What is your age ?\"))\n",
    "\n",
    "    unit=input(\"Please choose time unit:Months,Weeks,Days,Hours,Minutes,Seconds.\\nNote: You can write the first letter or the full name of the time unit. \").strip().lower()\n",
    "\n",
    "    months=Age*12\n",
    "    Weeks=months*4\n",
    "    days=Age*365\n",
    "    hours=days*24\n",
    "    minutes=hours*60\n",
    "    seconds=minutes*60\n",
    "\n",
    "    if unit=='months' or unit==\"m\":\n",
    "        print(f'You lived for {months:,} Months')\n",
    "    elif unit=='Weeks' or unit==\"w\":\n",
    "        print(f'You lived for {Weeks:,} Weeks')\n",
    "    elif unit=='days' or unit=='d':\n",
    "        print(f'You lived for {days:,}days')\n",
    "    elif unit=='hours'or unit=='h':\n",
    "        print(f'You Lived for {hours:,} hours')\n",
    "    elif unit==\"minutes\" or unit==\"mi\":\n",
    "        print(f'You Lived for {minutes:,} minutes')\n",
    "    elif unit=='seconds' or unit=='s':\n",
    "        print(f'You Lived for {seconds:,} seconds')\n",
    "    else:\n",
    "        print(\"Your choise is not availble\")\n",
    "\n",
    "    return\n",
    "\n",
    "\n",
    "\n",
    "duration_of_survival()  \n",
    "    "
   ]
  },
  {
   "cell_type": "code",
   "execution_count": 2,
   "id": "dfded846-be9b-4596-9563-6cfc7025a3da",
   "metadata": {},
   "outputs": [],
   "source": [
    "#here why we are using \"f' in print\n",
    "#logic {Weeks:,}\n",
    "#logic for \"return\"\n",
    "#Logic for (if __name__==\"__main__\":)"
   ]
  },
  {
   "cell_type": "code",
   "execution_count": null,
   "id": "d9590a03-19bb-4e68-84f5-d5a00711b706",
   "metadata": {},
   "outputs": [],
   "source": []
  },
  {
   "cell_type": "code",
   "execution_count": null,
   "id": "5c727b76-a52e-4c54-b4f4-14331f29a256",
   "metadata": {},
   "outputs": [],
   "source": []
  },
  {
   "cell_type": "code",
   "execution_count": null,
   "id": "742928b5-7f24-45c6-9f41-4e4ccf072e95",
   "metadata": {},
   "outputs": [],
   "source": []
  },
  {
   "cell_type": "code",
   "execution_count": null,
   "id": "e65acfad-02c1-4308-93dc-8a2ff904050a",
   "metadata": {},
   "outputs": [],
   "source": []
  },
  {
   "cell_type": "code",
   "execution_count": null,
   "id": "9b597c43-78ce-40f0-b1de-e8e449037744",
   "metadata": {},
   "outputs": [],
   "source": []
  },
  {
   "cell_type": "code",
   "execution_count": null,
   "id": "70fce71b-05c2-45fd-8831-1a234d1584e4",
   "metadata": {},
   "outputs": [],
   "source": []
  },
  {
   "cell_type": "code",
   "execution_count": null,
   "id": "b720ed4a-da40-4122-972d-1e9301ed0fde",
   "metadata": {},
   "outputs": [],
   "source": []
  },
  {
   "cell_type": "code",
   "execution_count": null,
   "id": "84f972d7-f535-49a6-899b-668d07537d65",
   "metadata": {},
   "outputs": [],
   "source": []
  }
 ],
 "metadata": {
  "kernelspec": {
   "display_name": "Python 3 (ipykernel)",
   "language": "python",
   "name": "python3"
  },
  "language_info": {
   "codemirror_mode": {
    "name": "ipython",
    "version": 3
   },
   "file_extension": ".py",
   "mimetype": "text/x-python",
   "name": "python",
   "nbconvert_exporter": "python",
   "pygments_lexer": "ipython3",
   "version": "3.12.0"
  }
 },
 "nbformat": 4,
 "nbformat_minor": 5
}

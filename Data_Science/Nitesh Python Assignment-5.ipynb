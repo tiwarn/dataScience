{
 "cells": [
  {
   "cell_type": "code",
   "execution_count": 1,
   "id": "5ef13ec8-6815-4d3e-95fa-085355a89609",
   "metadata": {},
   "outputs": [],
   "source": [
    "#1.performe multiple inheritance - 1 example"
   ]
  },
  {
   "cell_type": "code",
   "execution_count": 2,
   "id": "30f1d59a-8ef4-448c-a932-a7a38231f002",
   "metadata": {},
   "outputs": [
    {
     "name": "stdout",
     "output_type": "stream",
     "text": [
      "Diebold is Developer Team\n",
      "Dyson is Testing Team\n",
      "Coty is Production Team\n"
     ]
    }
   ],
   "source": [
    "#Single inheritance example\n",
    "class Manager:\n",
    "    project1=\"Diebold\"\n",
    "    project2=\"Dyson\"\n",
    "    project3=\"Coty\"\n",
    "class Ass_Manager(Manager):\n",
    "    Team1=\"Developer\"\n",
    "    Team2=\"Testing\"\n",
    "    Team3=\"Production\"\n",
    "\n",
    "obj1=Ass_Manager()\n",
    "\n",
    "print(obj1.project1,\"is\",obj1.Team1,\"Team\")\n",
    "print(obj1.project2,\"is\",obj1.Team2,\"Team\")  \n",
    "print(obj1.project3,\"is\",obj1.Team3,\"Team\") "
   ]
  },
  {
   "cell_type": "code",
   "execution_count": 3,
   "id": "4dd19af3-ea4a-4cca-aab7-cf3114d56208",
   "metadata": {},
   "outputs": [
    {
     "name": "stdout",
     "output_type": "stream",
     "text": [
      "Virat_Kohli is 1st rank player and he is from India city Mumbai\n",
      "Devid_warner is 2nd rank player and he is from AUS city Melborn\n",
      "Babar_Azam is 3rd rank player and he is from PAK city Karachi\n"
     ]
    }
   ],
   "source": [
    "#Multipal inheritance example:\n",
    "class Cricket_Team():\n",
    "    Team1=\"India\"\n",
    "    Team2=\"AUS\"\n",
    "    Team3=\"PAK\"\n",
    "class players():\n",
    "    player1=\"Virat_Kohli\"\n",
    "    player2=\"Devid_warner\"\n",
    "    player3=\"Babar_Azam\"\n",
    "class Home():\n",
    "    Home1=\"Mumbai\"\n",
    "    Home2=\"Melborn\"\n",
    "    Home3=\"Karachi\"\n",
    "class Rank(players,Home,Cricket_Team):\n",
    "    rank1=\"1st rank\"\n",
    "    rank2=\"2nd rank\"\n",
    "    rank3=\"3rd rank\"\n",
    "obj1=Rank()\n",
    "\n",
    "print(obj1.player1, \"is\",obj1.rank1,\"player\",\"and he is from\",obj1.Team1,\"city\",obj1.Home1)\n",
    "print(obj1.player2, \"is\",obj1.rank2,\"player\",\"and he is from\",obj1.Team2,\"city\",obj1.Home2)\n",
    "print(obj1.player3, \"is\",obj1.rank3,\"player\",\"and he is from\",obj1.Team3,\"city\",obj1.Home3)\n"
   ]
  },
  {
   "cell_type": "code",
   "execution_count": 4,
   "id": "b8044e0a-948d-4ad2-99a7-9cbf52013b0d",
   "metadata": {},
   "outputs": [
    {
     "name": "stdout",
     "output_type": "stream",
     "text": [
      "Diebold  is an ATM production company and  production rate is 90%\n",
      "Dyson  is an Air_Filter production company and  production rate is 94%\n",
      "Copy  is an hardware production company and  production rate is 97%\n"
     ]
    }
   ],
   "source": [
    "#Multilevel inheritance example:\n",
    "class Company:\n",
    "    Company1 = \"Diebold \"\n",
    "    Company2 = \"Dyson \"\n",
    "    Company3 = \"Copy \"\n",
    "\n",
    "class product(Company):\n",
    "    proj_1=\"is an ATM production company\"\n",
    "    proj_2=\"is an Air_Filter production company\"\n",
    "    proj_3=\"is an hardware production company\"\n",
    "    \n",
    "class production(product):\n",
    "    pro_1 = \" production rate is 90%\"\n",
    "    pro_2 = \" production rate is 94%\"\n",
    "    pro_3 = \" production rate is 97%\"\n",
    "    \n",
    "obj1=production()\n",
    "\n",
    "print(obj1.Company1,obj1.proj_1,\"and\",obj1.pro_1)\n",
    "print(obj1.Company2,obj1.proj_2,\"and\",obj1.pro_2)\n",
    "print(obj1.Company3,obj1.proj_3,\"and\",obj1.pro_3)"
   ]
  },
  {
   "cell_type": "code",
   "execution_count": 5,
   "id": "e7f7538e-65da-4d34-a967-0d76163fd27f",
   "metadata": {},
   "outputs": [
    {
     "name": "stdout",
     "output_type": "stream",
     "text": [
      "I am teacher\n",
      "I am 1st student\n",
      "I am 2nd student\n"
     ]
    }
   ],
   "source": [
    "#Hierarchical inheritance\n",
    "class Teacher():\n",
    "    def Fun1 (self):\n",
    "        print(\"I am teacher\")\n",
    "class Student1(Teacher):\n",
    "    def Fun2(self):\n",
    "        print(\"I am 1st student\")\n",
    "class Student2(Teacher):\n",
    "    def Fun3(self):\n",
    "        print(\"I am 2nd student\")\n",
    "\n",
    "obj1=Student1()\n",
    "obj1.Fun1()\n",
    "obj1.Fun2()\n",
    "\n",
    "obj2=Student2()   \n",
    "obj2.Fun3()"
   ]
  },
  {
   "cell_type": "code",
   "execution_count": 6,
   "id": "fc9901e4-0d9a-4b9c-b1c5-a209cf454731",
   "metadata": {},
   "outputs": [
    {
     "name": "stdout",
     "output_type": "stream",
     "text": [
      "I am MLA\n",
      "I am CM of U.P\n",
      "I am PM of India\n",
      "I am Railway_M\n"
     ]
    }
   ],
   "source": [
    "#Hybrid inheritance:\n",
    "class PM:\n",
    "    def fun1(self):\n",
    "        print(\"I am PM of India\")\n",
    "class CM(PM):\n",
    "    def fun2(self):\n",
    "        print(\"I am CM of U.P\")\n",
    "              \n",
    "class centeral_M(PM):\n",
    "    def fun3(self):\n",
    "        print(\"I am Railway_M\")\n",
    "class MLA(CM):\n",
    "    def fun4(self):\n",
    "        print(\"I am MLA\")\n",
    "obj1=MLA()\n",
    "obj1.fun4()\n",
    "obj1.fun2()\n",
    "\n",
    "obj2=centeral_M()\n",
    "obj2.fun1()\n",
    "obj2.fun3()"
   ]
  },
  {
   "cell_type": "code",
   "execution_count": 7,
   "id": "18e6c550-db6f-426f-81fc-6f43c169d50b",
   "metadata": {},
   "outputs": [
    {
     "name": "stdout",
     "output_type": "stream",
     "text": [
      "Name of emp is  Nitesh\n",
      "Emp ID is 3\n"
     ]
    }
   ],
   "source": [
    "#2.how to create class  help of constructor (emp_name, emp_id) = 3\n",
    "class Emp:\n",
    "    def __init__(self,emp_name,emp_id):\n",
    "        self.emp_name = emp_name\n",
    "        self.emp_id = emp_id\n",
    "    def empdetail(self):\n",
    "        print(\"Name of emp is \", self.emp_name)\n",
    "        print(\"Emp ID is\", self.emp_id)\n",
    "\n",
    "obj1=Emp(\"Nitesh\",3)\n",
    "obj1.empdetail()    \n",
    "    "
   ]
  },
  {
   "cell_type": "code",
   "execution_count": 8,
   "id": "3b2e9654-371a-456f-9bbe-f05f7aff4cd5",
   "metadata": {},
   "outputs": [
    {
     "name": "stdout",
     "output_type": "stream",
     "text": [
      "Santosh is my Team_member\n",
      "My Team is US-P2P\n",
      "My project name is Diebold\n",
      "My company name id Accenture\n"
     ]
    }
   ],
   "source": [
    "#3.performe hybrid inheritance - 1 example\n",
    "class Company:\n",
    "    def fun1(self):\n",
    "        print( \"My company name id Accenture\")\n",
    "class project(Company):\n",
    "    def fun2(self):\n",
    "        print(\"My project name is Diebold\")\n",
    "class Team(project):\n",
    "    def fun3(self):\n",
    "        print(\"My Team is US-P2P\")\n",
    "class member(Team):\n",
    "    def fun4(self):\n",
    "        print(\"Santosh is my Team_member\")\n",
    "\n",
    "obj1=member()\n",
    "obj1.fun4()\n",
    "obj1.fun3()\n",
    "\n",
    "obj2=project()\n",
    "obj2.fun2()\n",
    "obj2.fun1()\n"
   ]
  },
  {
   "cell_type": "code",
   "execution_count": 9,
   "id": "77bc91f6-94ad-47cf-94ba-6d830bf42571",
   "metadata": {},
   "outputs": [
    {
     "name": "stdout",
     "output_type": "stream",
     "text": [
      "apple\n",
      "56\n",
      "23\n",
      "banana\n",
      "cherry\n"
     ]
    }
   ],
   "source": [
    "#4.performe iterator - 1 example\n",
    "mytuple = (\"apple\", 56,23,\"banana\", \"cherry\")\n",
    "myit = iter(mytuple)\n",
    "\n",
    "print(next(myit))\n",
    "print(next(myit))\n",
    "print(next(myit))\n",
    "print(next(myit))\n",
    "print(next(myit))"
   ]
  },
  {
   "cell_type": "code",
   "execution_count": 10,
   "id": "1e8add6d-36a8-4325-b023-1c560aafa1f2",
   "metadata": {},
   "outputs": [
    {
     "name": "stdout",
     "output_type": "stream",
     "text": [
      "I am student\n",
      "I am Math Teacher\n"
     ]
    }
   ],
   "source": [
    "#5.method override - 1 example\n",
    "class teacher:\n",
    "    def fun1(self):\n",
    "        print(\"I am Math Teacher\")\n",
    "        \n",
    "class Student(teacher):\n",
    "    def fun1(self):\n",
    "        print(\"I am student\")\n",
    "        \n",
    "obj=Student()\n",
    "obj.fun1()\n",
    "\n",
    "obj=teacher()\n",
    "obj.fun1()"
   ]
  },
  {
   "cell_type": "code",
   "execution_count": 11,
   "id": "a9c9c076-af60-4f99-adee-c28389c90c4c",
   "metadata": {},
   "outputs": [
    {
     "name": "stdout",
     "output_type": "stream",
     "text": [
      "Nitesh\n"
     ]
    }
   ],
   "source": [
    "#6.perform local name and global name - 1 example\n",
    "#local name\n",
    "def fun1():\n",
    "    x=\"Nitesh\"\n",
    "    print(x)\n",
    "\n",
    "fun1()"
   ]
  },
  {
   "cell_type": "code",
   "execution_count": 12,
   "id": "4cfa5489-a81c-475e-8a4f-b2b43284540e",
   "metadata": {},
   "outputs": [
    {
     "name": "stdout",
     "output_type": "stream",
     "text": [
      " Hi Team GM,\n",
      "            Manav is good emp\n",
      "            He is working in Dyson\n",
      "            He have 5 year ex as SQL developer\n"
     ]
    }
   ],
   "source": [
    "#global name\n",
    "x=\"\"\" Hi Team GM,\n",
    "            Manav is good emp\n",
    "            He is working in Dyson\n",
    "            He have 5 year ex as SQL developer\"\"\"\n",
    "\n",
    "def Intro_emp1():\n",
    "    print(x)\n",
    "\n",
    "Intro_emp1()"
   ]
  },
  {
   "cell_type": "code",
   "execution_count": 13,
   "id": "1b593b16-a598-4a1e-bd13-d8e1e9657ef5",
   "metadata": {},
   "outputs": [
    {
     "name": "stdout",
     "output_type": "stream",
     "text": [
      "Santosh working in OTC\n",
      "Babli working in  R2R\n"
     ]
    }
   ],
   "source": [
    "#7. perfome singal inheritance - 1 example\n",
    "\n",
    "class Team():\n",
    "    Team1=\"OTC\"\n",
    "    Team2=\"R2R\"\n",
    "class member(Team):\n",
    "    Member1=(\"Santosh working in\")\n",
    "    Member2=(\"Babli working in \")\n",
    "obj1=member()\n",
    "\n",
    "print(obj1.Member1,obj1.Team1)\n",
    "print(obj1.Member2,obj1.Team2)"
   ]
  },
  {
   "cell_type": "code",
   "execution_count": 14,
   "id": "83925b0b-deef-4909-abac-c379e485c104",
   "metadata": {},
   "outputs": [
    {
     "name": "stdout",
     "output_type": "stream",
     "text": [
      "My doller price is 49 USD\n"
     ]
    }
   ],
   "source": [
    "#8. python string formatting - 1 example\n",
    "#int value\n",
    "x=49\n",
    "\n",
    "srt=\"My doller price is {} USD\"\n",
    "\n",
    "print(srt.format(x))"
   ]
  },
  {
   "cell_type": "code",
   "execution_count": 15,
   "id": "62560a10-6250-4e99-ad8b-1fd29b668865",
   "metadata": {},
   "outputs": [
    {
     "name": "stdout",
     "output_type": "stream",
     "text": [
      "My doller value is 83.00 USD\n"
     ]
    }
   ],
   "source": [
    "#Float value\n",
    "x=83\n",
    "\n",
    "srt=\"My doller value is {:.2f} USD\"\n",
    "\n",
    "print(srt.format(x))"
   ]
  },
  {
   "cell_type": "code",
   "execution_count": 16,
   "id": "cf52c702-88f1-43c2-a93b-518a15315753",
   "metadata": {},
   "outputs": [
    {
     "name": "stdout",
     "output_type": "stream",
     "text": [
      " I have 3 project with 16 emp\n"
     ]
    }
   ],
   "source": [
    "# Multiple Values\n",
    "Project=3\n",
    "Emp=16\n",
    "\n",
    "\n",
    "srt=\" I have {} project with {} emp\"\n",
    "\n",
    "print(srt.format(Project,Emp))"
   ]
  },
  {
   "cell_type": "code",
   "execution_count": 17,
   "id": "a8b098dd-71c6-4ef8-b424-53a3dea56875",
   "metadata": {},
   "outputs": [
    {
     "name": "stdout",
     "output_type": "stream",
     "text": [
      " I have 3 project with 16 emp in 2 shift\n"
     ]
    }
   ],
   "source": [
    "#index\n",
    "Project=3\n",
    "Emp=16\n",
    "shift=2\n",
    "srt=\" I have {0} project with {1} emp in {2} shift\"\n",
    "\n",
    "print(srt.format(Project,Emp,shift))"
   ]
  },
  {
   "cell_type": "code",
   "execution_count": 18,
   "id": "e3e7c519-171b-4b9c-9cb3-5c858f8b7097",
   "metadata": {},
   "outputs": [
    {
     "name": "stdout",
     "output_type": "stream",
     "text": [
      "{70, 40, 10, 80, 50, 20, 60, 30}\n"
     ]
    }
   ],
   "source": [
    "#9 how to remove duplicate from list [10,20,30,10,20,30,40,50,60,70,80]\n",
    "\n",
    "List=[10,20,30,10,20,30,40,50,60,70,80]\n",
    "\n",
    "st=set(List)\n",
    "\n",
    "print(st)\n",
    "\n"
   ]
  },
  {
   "cell_type": "code",
   "execution_count": 19,
   "id": "8bde9fcb-f926-47f0-8557-a0ad0c822e93",
   "metadata": {},
   "outputs": [
    {
     "name": "stdout",
     "output_type": "stream",
     "text": [
      "Average of the number 366.6666666666667\n"
     ]
    }
   ],
   "source": [
    "#10 calculate_average? use this function to find the average of 15, 100, 515, 220, 550, 800. \n",
    "def Calculate_arg(*arg):\n",
    "    if len(arg)==0:\n",
    "        return 0\n",
    "    else:\n",
    "        return sum(arg)/len(arg)\n",
    "        \n",
    "arg=Calculate_arg(15, 100, 515, 220, 550, 800)\n",
    "\n",
    "print(\"Average of the number\",arg)"
   ]
  },
  {
   "cell_type": "code",
   "execution_count": null,
   "id": "7a652a0c-6185-4a99-825b-a4f281d9e61a",
   "metadata": {},
   "outputs": [],
   "source": []
  },
  {
   "cell_type": "code",
   "execution_count": null,
   "id": "ba0a0657-cf94-4c4b-a24a-cab696f78080",
   "metadata": {},
   "outputs": [],
   "source": []
  },
  {
   "cell_type": "code",
   "execution_count": null,
   "id": "8fd3ee3e-b56f-402a-be92-a1579f4024dd",
   "metadata": {},
   "outputs": [],
   "source": []
  }
 ],
 "metadata": {
  "kernelspec": {
   "display_name": "Python 3 (ipykernel)",
   "language": "python",
   "name": "python3"
  },
  "language_info": {
   "codemirror_mode": {
    "name": "ipython",
    "version": 3
   },
   "file_extension": ".py",
   "mimetype": "text/x-python",
   "name": "python",
   "nbconvert_exporter": "python",
   "pygments_lexer": "ipython3",
   "version": "3.12.0"
  }
 },
 "nbformat": 4,
 "nbformat_minor": 5
}

{
 "cells": [
  {
   "cell_type": "markdown",
   "id": "f8584616-4d20-4e7f-8774-caee9f255f04",
   "metadata": {},
   "source": [
    "#append(It will add the value in list)\n",
    "#clear (It will clear all values from list)\n",
    "#copy(It will copy the list)\n",
    "#count(it will count the given values)\n",
    "#extend(It will add multipal value one time) \n",
    "#index(It will find the index in list)\n",
    "#insert(It will add value as per index possition)\n",
    "#pop(It will delete value as per index possition)\n",
    "#remove(It will delete given value)\n",
    "#reverse(It will reverse the list)\n",
    "#sort(It will short the list)"
   ]
  },
  {
   "cell_type": "code",
   "execution_count": 1,
   "id": "b9617ec5-1a01-4438-b263-3b13eee9aab4",
   "metadata": {},
   "outputs": [
    {
     "name": "stdout",
     "output_type": "stream",
     "text": [
      "[10, 20, 30, 40, 50, 60, 25]\n"
     ]
    }
   ],
   "source": [
    "#append it will add the value in list\n",
    "list=[10,20,30,40,50,60]\n",
    "list.append(25)\n",
    "print(list)"
   ]
  },
  {
   "cell_type": "code",
   "execution_count": 2,
   "id": "2a3e6650-f31b-4af1-b820-4d9edde55755",
   "metadata": {},
   "outputs": [
    {
     "name": "stdout",
     "output_type": "stream",
     "text": [
      "[]\n"
     ]
    }
   ],
   "source": [
    "#clear(It will clear all value)\n",
    "list=[10,20,30,40,50,60]\n",
    "list.clear()\n",
    "print(list)"
   ]
  },
  {
   "cell_type": "code",
   "execution_count": 3,
   "id": "5f2789d1-805a-4043-978a-22d50687e11c",
   "metadata": {},
   "outputs": [
    {
     "name": "stdout",
     "output_type": "stream",
     "text": [
      "[10, 20, 30, 40, 50, 60]\n",
      "[10, 20, 30, 40, 50, 60]\n"
     ]
    }
   ],
   "source": [
    "#copy (It will copy same values )\n",
    "list=[10,20,30,40,50,60]\n",
    "a=list.copy()\n",
    "print(a)\n",
    "print(list)"
   ]
  },
  {
   "cell_type": "code",
   "execution_count": 4,
   "id": "424dd7e8-9619-4ef7-9061-ee7fb7fed549",
   "metadata": {},
   "outputs": [
    {
     "name": "stdout",
     "output_type": "stream",
     "text": [
      "3\n"
     ]
    }
   ],
   "source": [
    "#count\n",
    "list=[10,20,30,40,50,20,20,60]\n",
    "a=list.count(20)\n",
    "print(a)\n"
   ]
  },
  {
   "cell_type": "code",
   "execution_count": 5,
   "id": "66d0c314-9beb-4332-862e-b2b505c0fab8",
   "metadata": {},
   "outputs": [
    {
     "name": "stdout",
     "output_type": "stream",
     "text": [
      "[10, 20, 30, 40, 50, 60, 20, 3]\n"
     ]
    }
   ],
   "source": [
    "#Extend\n",
    "list=[10,20,30,40,50,60]\n",
    "list.extend([20,3])\n",
    "print(list)"
   ]
  },
  {
   "cell_type": "code",
   "execution_count": 6,
   "id": "d9ad6bd4-c889-4615-b563-77f919925b70",
   "metadata": {},
   "outputs": [
    {
     "name": "stdout",
     "output_type": "stream",
     "text": [
      "1\n"
     ]
    }
   ],
   "source": [
    "#index\n",
    "list=[10,20,30,40,50,60]\n",
    "a=list.index(20)\n",
    "print(a)"
   ]
  },
  {
   "cell_type": "code",
   "execution_count": 7,
   "id": "704f622f-2e33-458c-a942-acb04e5bb85f",
   "metadata": {},
   "outputs": [
    {
     "name": "stdout",
     "output_type": "stream",
     "text": [
      "[10, 20, '4', 30, 40, 50, 60]\n"
     ]
    }
   ],
   "source": [
    "#insert\n",
    "list=[10,20,30,40,50,60]\n",
    "a=list.insert(2,\"4\")\n",
    "print(list)\n",
    "#here 2 is index and 4 is the value."
   ]
  },
  {
   "cell_type": "code",
   "execution_count": 8,
   "id": "64fcd74d-cc44-43b2-a4be-b81ec4ec7dc9",
   "metadata": {},
   "outputs": [
    {
     "name": "stdout",
     "output_type": "stream",
     "text": [
      "[10, 30, 40, 50, 60]\n"
     ]
    }
   ],
   "source": [
    "#pop\n",
    "list=[10,20,30,40,50,60]\n",
    "list.pop(1)\n",
    "print(list)"
   ]
  },
  {
   "cell_type": "code",
   "execution_count": 9,
   "id": "31d0ba64-97a7-4abd-88e2-4a7391278cae",
   "metadata": {},
   "outputs": [
    {
     "name": "stdout",
     "output_type": "stream",
     "text": [
      "[20, 30, 40, 50, 60]\n"
     ]
    }
   ],
   "source": [
    "#remove\n",
    "list=[10,20,30,40,50,60]\n",
    "list.remove(10)\n",
    "print(list)"
   ]
  },
  {
   "cell_type": "code",
   "execution_count": 10,
   "id": "641b9650-813a-4021-aba8-0dfb9ca6b1eb",
   "metadata": {},
   "outputs": [
    {
     "name": "stdout",
     "output_type": "stream",
     "text": [
      "[60, 50, 40, 30, 20, 10]\n"
     ]
    }
   ],
   "source": [
    "#reverse\n",
    "list=[10,20,30,40,50,60]\n",
    "list.reverse()\n",
    "print(list)"
   ]
  },
  {
   "cell_type": "code",
   "execution_count": 11,
   "id": "fcf3301a-9d26-4b2a-ad90-e7fdd9f49207",
   "metadata": {},
   "outputs": [
    {
     "name": "stdout",
     "output_type": "stream",
     "text": [
      "[10, 20, 30, 40, 50, 60]\n"
     ]
    }
   ],
   "source": [
    "#sort\n",
    "list=[10,30,20,50,40,60]\n",
    "list.sort()\n",
    "print(list)"
   ]
  },
  {
   "cell_type": "code",
   "execution_count": 13,
   "id": "b7f0fd6f-9a73-4e0d-9257-0994b66c75ba",
   "metadata": {},
   "outputs": [
    {
     "name": "stdout",
     "output_type": "stream",
     "text": [
      "[60, 50, 40, 30, 20, 10]\n"
     ]
    }
   ],
   "source": [
    "#Reverse\n",
    "list=[10,20,30,40,50,60]\n",
    "a=list[::-1]\n",
    "print(a)"
   ]
  },
  {
   "cell_type": "code",
   "execution_count": 14,
   "id": "cd88ff99-f54c-4971-914a-6bcdb4c652ae",
   "metadata": {},
   "outputs": [
    {
     "name": "stdout",
     "output_type": "stream",
     "text": [
      "['Manu', 'Nitesh']\n"
     ]
    }
   ],
   "source": [
    "list=[\"Aastha\",\"Nitesh\"]\n",
    "list[0]=\"Manu\"\n",
    "print(list)"
   ]
  },
  {
   "cell_type": "code",
   "execution_count": 15,
   "id": "2b172499-adbc-48ec-b7fa-831ed419760c",
   "metadata": {},
   "outputs": [
    {
     "name": "stdout",
     "output_type": "stream",
     "text": [
      "[20, 30, 40, 50, 60]\n"
     ]
    }
   ],
   "source": [
    "#delete\n",
    "list=[10,20,30,40,50,60]\n",
    "del list[0]\n",
    "print(list)"
   ]
  },
  {
   "cell_type": "markdown",
   "id": "d1129de2-0644-48e6-b044-93a056eee196",
   "metadata": {},
   "source": [
    "slicing in list \n",
    "syntax:\n",
    "[start:stop:step]\n",
    "start = where to start slicing\n",
    "stop  = where to stop slicing(before 1 point)\n",
    "step  = jump on step"
   ]
  },
  {
   "cell_type": "code",
   "execution_count": 17,
   "id": "3bef6652-b3a7-4b16-9190-0c700a796a7e",
   "metadata": {},
   "outputs": [
    {
     "name": "stdout",
     "output_type": "stream",
     "text": [
      "[20, 30]\n"
     ]
    }
   ],
   "source": [
    "list=[10,20,30,40,50,60]\n",
    "#list=[0,1,2,3,4,5,6]\n",
    "print(list[1:3])"
   ]
  },
  {
   "cell_type": "code",
   "execution_count": 22,
   "id": "75990fcf-7893-49f9-98e2-d09729fece8e",
   "metadata": {},
   "outputs": [
    {
     "name": "stdout",
     "output_type": "stream",
     "text": [
      "[10, 50]\n"
     ]
    }
   ],
   "source": [
    "list=[10,20,30,40,50,60]\n",
    "print(list[:5:4])"
   ]
  },
  {
   "cell_type": "code",
   "execution_count": 23,
   "id": "88299142-3cc7-4682-a8b9-95fd01c20b99",
   "metadata": {},
   "outputs": [
    {
     "name": "stdout",
     "output_type": "stream",
     "text": [
      "[20, 30, 40, 50, 60]\n"
     ]
    }
   ],
   "source": [
    "list=[10,20,30,40,50,60]\n",
    "print(list[1:])"
   ]
  },
  {
   "cell_type": "code",
   "execution_count": 25,
   "id": "daf859ff-e428-4bf3-96ae-078591db3362",
   "metadata": {},
   "outputs": [
    {
     "name": "stdout",
     "output_type": "stream",
     "text": [
      "[20, 30, 40, 50]\n"
     ]
    }
   ],
   "source": [
    "list=[10,20,30,40,50,60]\n",
    "print(list[1:-1])"
   ]
  },
  {
   "cell_type": "code",
   "execution_count": 26,
   "id": "01007023-c4fe-4303-8a64-f784e347820d",
   "metadata": {},
   "outputs": [
    {
     "name": "stdout",
     "output_type": "stream",
     "text": [
      "[10, 20, 30, 40, 50]\n"
     ]
    }
   ],
   "source": [
    "list=[10,20,30,40,50,60]\n",
    "print(list[:-1])"
   ]
  },
  {
   "cell_type": "code",
   "execution_count": 27,
   "id": "dc1c511c-39df-4614-b365-3026f03e8131",
   "metadata": {},
   "outputs": [
    {
     "name": "stdout",
     "output_type": "stream",
     "text": [
      "60\n"
     ]
    }
   ],
   "source": [
    "list=[10,20,30,40,50,60]\n",
    "print(list[-1])"
   ]
  },
  {
   "cell_type": "code",
   "execution_count": null,
   "id": "941b84ec-7887-4605-a839-44ee74738336",
   "metadata": {},
   "outputs": [],
   "source": [
    "#tuple(orderd,immutable,duplicate allow)"
   ]
  },
  {
   "cell_type": "code",
   "execution_count": 29,
   "id": "349e6b39-f7c3-46ab-b693-00688b583cc6",
   "metadata": {},
   "outputs": [
    {
     "name": "stdout",
     "output_type": "stream",
     "text": [
      "(1, 2, 3, 4, 5, 6, 7, 7)\n"
     ]
    }
   ],
   "source": [
    "#print tupel order duplicate allow\n",
    "tuple=(1,2,3,4,5,6,7,7)\n",
    "print(tuple)"
   ]
  },
  {
   "cell_type": "code",
   "execution_count": 33,
   "id": "3edc6cd3-9998-4bf2-9378-ee37af6d552c",
   "metadata": {},
   "outputs": [
    {
     "name": "stdout",
     "output_type": "stream",
     "text": [
      "7\n"
     ]
    }
   ],
   "source": [
    "tuple=(1,2,3,4,5,6,7,7)\n",
    "print(max(tuple))"
   ]
  },
  {
   "cell_type": "code",
   "execution_count": 34,
   "id": "b9f85005-2d58-45ca-a6c8-04ef6cbb07dd",
   "metadata": {},
   "outputs": [
    {
     "name": "stdout",
     "output_type": "stream",
     "text": [
      "1\n"
     ]
    }
   ],
   "source": [
    "tuple=(1,2,3,4,5,6,7,7)\n",
    "print(min(tuple))"
   ]
  },
  {
   "cell_type": "code",
   "execution_count": 36,
   "id": "c6f819c9-5e76-489e-beec-7ac3b7ef1247",
   "metadata": {},
   "outputs": [
    {
     "name": "stdout",
     "output_type": "stream",
     "text": [
      "8\n"
     ]
    }
   ],
   "source": [
    "tuple=(1,2,3,4,5,6,7,7)\n",
    "print(len(tuple))"
   ]
  },
  {
   "cell_type": "code",
   "execution_count": 39,
   "id": "3b934d69-bfde-4141-910c-7c9437c905c6",
   "metadata": {},
   "outputs": [
    {
     "name": "stdout",
     "output_type": "stream",
     "text": [
      "1\n"
     ]
    }
   ],
   "source": [
    "tuple=(1,2,3,4,5,6,7,7)\n",
    "print(tuple.count(2))"
   ]
  },
  {
   "cell_type": "code",
   "execution_count": 40,
   "id": "dbb3e395-08f1-4a66-b412-aa78bc7b8a08",
   "metadata": {},
   "outputs": [
    {
     "name": "stdout",
     "output_type": "stream",
     "text": [
      "<class 'tuple'>\n"
     ]
    }
   ],
   "source": [
    "tuple=(1,2,3,4,5,6,7,7)\n",
    "print(type(tuple))"
   ]
  },
  {
   "cell_type": "code",
   "execution_count": 42,
   "id": "38ebe355-7b4b-4bdd-a69d-54cd65047957",
   "metadata": {},
   "outputs": [
    {
     "name": "stdout",
     "output_type": "stream",
     "text": [
      "5\n"
     ]
    }
   ],
   "source": [
    "tuple=(1,2,3,4,5,6,7,7)\n",
    "print(tuple.index(6))"
   ]
  },
  {
   "cell_type": "code",
   "execution_count": 43,
   "id": "5aa3d9e4-c413-4ccd-a226-291a9acad5d7",
   "metadata": {},
   "outputs": [
    {
     "name": "stdout",
     "output_type": "stream",
     "text": [
      "2\n",
      "4\n",
      "5.6\n",
      "nitesh\n"
     ]
    }
   ],
   "source": [
    "T=(2,4,5.6,\"nitesh\")\n",
    "a,b,c,d=T\n",
    "print(a)\n",
    "print(b)\n",
    "print(c)\n",
    "print(d)"
   ]
  },
  {
   "cell_type": "code",
   "execution_count": 44,
   "id": "90cd34e7-4fff-45fc-a110-db5727c7887b",
   "metadata": {},
   "outputs": [
    {
     "name": "stdout",
     "output_type": "stream",
     "text": [
      "(1, 2, 3, 1, 2, 3)\n"
     ]
    }
   ],
   "source": [
    "tuple_1=(1,2,3)\n",
    "tuple_2=(1,2,3)\n",
    "print(tuple_1+tuple_2)"
   ]
  },
  {
   "cell_type": "code",
   "execution_count": null,
   "id": "47468771-01e0-494e-a9ff-8fe83e8cf31e",
   "metadata": {},
   "outputs": [],
   "source": [
    "#set (unorder,mutable,duplicate not allow)"
   ]
  },
  {
   "cell_type": "code",
   "execution_count": 47,
   "id": "2186c352-2d38-4336-9c48-16b8ebf7dae8",
   "metadata": {},
   "outputs": [
    {
     "name": "stdout",
     "output_type": "stream",
     "text": [
      "{'apple', 'banana', 'cherry', 'c'}\n"
     ]
    }
   ],
   "source": [
    "#unorder\n",
    "set={\"apple\",\"banana\",\"cherry\",\"c\"}\n",
    "print(set)"
   ]
  },
  {
   "cell_type": "code",
   "execution_count": 49,
   "id": "95a773e1-39fc-40e0-8213-0131dd5020fc",
   "metadata": {},
   "outputs": [
    {
     "name": "stdout",
     "output_type": "stream",
     "text": [
      "{'munu', 'santo', 'nitesh', 'sonu'}\n"
     ]
    }
   ],
   "source": [
    "set={\"nitesh\",\"santo\",\"munu\",\"sonu\",\"santo\"}\n",
    "print(set)"
   ]
  },
  {
   "cell_type": "code",
   "execution_count": 50,
   "id": "ae705f38-a4cd-4390-b662-babf8787ff7d",
   "metadata": {},
   "outputs": [
    {
     "data": {
      "text/plain": [
       "['__and__',\n",
       " '__class__',\n",
       " '__class_getitem__',\n",
       " '__contains__',\n",
       " '__delattr__',\n",
       " '__dir__',\n",
       " '__doc__',\n",
       " '__eq__',\n",
       " '__format__',\n",
       " '__ge__',\n",
       " '__getattribute__',\n",
       " '__getstate__',\n",
       " '__gt__',\n",
       " '__hash__',\n",
       " '__iand__',\n",
       " '__init__',\n",
       " '__init_subclass__',\n",
       " '__ior__',\n",
       " '__isub__',\n",
       " '__iter__',\n",
       " '__ixor__',\n",
       " '__le__',\n",
       " '__len__',\n",
       " '__lt__',\n",
       " '__ne__',\n",
       " '__new__',\n",
       " '__or__',\n",
       " '__rand__',\n",
       " '__reduce__',\n",
       " '__reduce_ex__',\n",
       " '__repr__',\n",
       " '__ror__',\n",
       " '__rsub__',\n",
       " '__rxor__',\n",
       " '__setattr__',\n",
       " '__sizeof__',\n",
       " '__str__',\n",
       " '__sub__',\n",
       " '__subclasshook__',\n",
       " '__xor__',\n",
       " 'add',\n",
       " 'clear',\n",
       " 'copy',\n",
       " 'difference',\n",
       " 'difference_update',\n",
       " 'discard',\n",
       " 'intersection',\n",
       " 'intersection_update',\n",
       " 'isdisjoint',\n",
       " 'issubset',\n",
       " 'issuperset',\n",
       " 'pop',\n",
       " 'remove',\n",
       " 'symmetric_difference',\n",
       " 'symmetric_difference_update',\n",
       " 'union',\n",
       " 'update']"
      ]
     },
     "execution_count": 50,
     "metadata": {},
     "output_type": "execute_result"
    }
   ],
   "source": [
    "dir(set)"
   ]
  },
  {
   "cell_type": "code",
   "execution_count": null,
   "id": "7c05cbe6-b02f-4269-a49c-3c888ce82e8c",
   "metadata": {},
   "outputs": [],
   "source": []
  },
  {
   "cell_type": "code",
   "execution_count": null,
   "id": "617a3d55-4fc6-4198-a615-96e69244616b",
   "metadata": {},
   "outputs": [],
   "source": []
  },
  {
   "cell_type": "code",
   "execution_count": null,
   "id": "f5022ada-4661-4e51-b80c-b08665bac484",
   "metadata": {},
   "outputs": [],
   "source": []
  },
  {
   "cell_type": "code",
   "execution_count": null,
   "id": "4b303115-d943-45f7-a07f-84e8466a3f0f",
   "metadata": {},
   "outputs": [],
   "source": []
  },
  {
   "cell_type": "code",
   "execution_count": null,
   "id": "9dca0498-19f0-453c-9134-8b6983078c35",
   "metadata": {},
   "outputs": [],
   "source": []
  },
  {
   "cell_type": "code",
   "execution_count": null,
   "id": "9a5240c3-a793-470a-8152-7b13b751e3f1",
   "metadata": {},
   "outputs": [],
   "source": []
  },
  {
   "cell_type": "code",
   "execution_count": null,
   "id": "7c56d036-6b61-4b22-954c-8d5396816d92",
   "metadata": {},
   "outputs": [],
   "source": []
  }
 ],
 "metadata": {
  "kernelspec": {
   "display_name": "Python 3 (ipykernel)",
   "language": "python",
   "name": "python3"
  },
  "language_info": {
   "codemirror_mode": {
    "name": "ipython",
    "version": 3
   },
   "file_extension": ".py",
   "mimetype": "text/x-python",
   "name": "python",
   "nbconvert_exporter": "python",
   "pygments_lexer": "ipython3",
   "version": "3.12.0"
  }
 },
 "nbformat": 4,
 "nbformat_minor": 5
}

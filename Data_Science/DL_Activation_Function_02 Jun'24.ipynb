{
 "cells": [
  {
   "cell_type": "markdown",
   "id": "0d4a3c18-41e0-4091-a13e-80d69a18c569",
   "metadata": {},
   "source": [
    "# 1. Sigmoid function"
   ]
  },
  {
   "cell_type": "code",
   "execution_count": 1,
   "id": "4d630103-5c1b-484e-ad69-36186d80f5f8",
   "metadata": {},
   "outputs": [],
   "source": [
    "import math"
   ]
  },
  {
   "cell_type": "code",
   "execution_count": 2,
   "id": "94778b13-274f-4913-8186-58b4bd99b9ab",
   "metadata": {},
   "outputs": [
    {
     "data": {
      "text/plain": [
       "2.718281828459045"
      ]
     },
     "execution_count": 2,
     "metadata": {},
     "output_type": "execute_result"
    }
   ],
   "source": [
    "math.exp(1)"
   ]
  },
  {
   "cell_type": "code",
   "execution_count": 3,
   "id": "f002da8f-c837-4983-aa55-542ced1e1dec",
   "metadata": {},
   "outputs": [],
   "source": [
    "def sigmoid(x):\n",
    "    print(1/1-math.exp(-x))"
   ]
  },
  {
   "cell_type": "code",
   "execution_count": 4,
   "id": "7077dec3-f1d0-4293-94d9-fa67d61a13f3",
   "metadata": {},
   "outputs": [
    {
     "name": "stdout",
     "output_type": "stream",
     "text": [
      "0.9932620530009145\n"
     ]
    }
   ],
   "source": [
    "sigmoid(5)"
   ]
  },
  {
   "cell_type": "markdown",
   "id": "d14d09a5-a47f-41d9-b4e6-8e360134c10d",
   "metadata": {},
   "source": [
    "# in above case, the neuron will fire"
   ]
  },
  {
   "cell_type": "code",
   "execution_count": 5,
   "id": "47b25e37-2cd6-492a-a840-eb718231ae7e",
   "metadata": {},
   "outputs": [
    {
     "name": "stdout",
     "output_type": "stream",
     "text": [
      "-53.598150033144236\n"
     ]
    }
   ],
   "source": [
    "sigmoid(-4)"
   ]
  },
  {
   "cell_type": "markdown",
   "id": "0b909ecf-8144-4694-bb5e-e6f876f342db",
   "metadata": {},
   "source": [
    "# 2. tanh(x)"
   ]
  },
  {
   "cell_type": "code",
   "execution_count": 6,
   "id": "a7345158-03e5-46b1-bf14-913406b419c8",
   "metadata": {},
   "outputs": [],
   "source": [
    "def tanh(x):\n",
    "    print((math.exp(x)-math.exp(-x)/math.exp(x)+math.exp(-x)))"
   ]
  },
  {
   "cell_type": "code",
   "execution_count": 7,
   "id": "69fb202c-fc4a-4cd7-9fef-04165ea518e9",
   "metadata": {},
   "outputs": [
    {
     "name": "stdout",
     "output_type": "stream",
     "text": [
      "1.8873724892413193\n"
     ]
    }
   ],
   "source": [
    "tanh(0.5)"
   ]
  },
  {
   "cell_type": "code",
   "execution_count": 8,
   "id": "2d816363-6ae1-4c65-9dad-87aa34180190",
   "metadata": {},
   "outputs": [],
   "source": [
    "# here the range is -1 to + 1"
   ]
  },
  {
   "cell_type": "markdown",
   "id": "a65d29a6-c92a-4134-8043-203e3804bc2c",
   "metadata": {},
   "source": [
    "# 3. ReLU = max(0,x)"
   ]
  },
  {
   "cell_type": "code",
   "execution_count": 9,
   "id": "1897e9af-8962-4ef3-b909-42153c4812ad",
   "metadata": {},
   "outputs": [],
   "source": [
    "def Relu(x):\n",
    "    print(max(0,x))"
   ]
  },
  {
   "cell_type": "code",
   "execution_count": 10,
   "id": "c1799002-f4ab-410a-b7b8-edfd8e8801c3",
   "metadata": {},
   "outputs": [
    {
     "name": "stdout",
     "output_type": "stream",
     "text": [
      "0\n"
     ]
    }
   ],
   "source": [
    "Relu(-17)\n"
   ]
  },
  {
   "cell_type": "code",
   "execution_count": 11,
   "id": "553b0138-f36d-4298-ac09-eecbb356016a",
   "metadata": {},
   "outputs": [
    {
     "name": "stdout",
     "output_type": "stream",
     "text": [
      "20\n"
     ]
    }
   ],
   "source": [
    "Relu(20)"
   ]
  },
  {
   "cell_type": "markdown",
   "id": "57b20805-6a2c-4a7a-97f9-99ed2c8ac830",
   "metadata": {},
   "source": [
    "# 4. Leaky ReLU = max(0.1*x, x)"
   ]
  },
  {
   "cell_type": "code",
   "execution_count": 12,
   "id": "88cae2c1-39d0-4c57-a5ea-55265637fb1b",
   "metadata": {},
   "outputs": [],
   "source": [
    "def LRelu(x):\n",
    "  print(max(0.1*x, x))"
   ]
  },
  {
   "cell_type": "code",
   "execution_count": 13,
   "id": "8f054bd9-803a-4221-926f-53f8b51cdb11",
   "metadata": {},
   "outputs": [
    {
     "name": "stdout",
     "output_type": "stream",
     "text": [
      "12\n"
     ]
    }
   ],
   "source": [
    "LRelu(12)"
   ]
  }
 ],
 "metadata": {
  "kernelspec": {
   "display_name": "Python 3 (ipykernel)",
   "language": "python",
   "name": "python3"
  },
  "language_info": {
   "codemirror_mode": {
    "name": "ipython",
    "version": 3
   },
   "file_extension": ".py",
   "mimetype": "text/x-python",
   "name": "python",
   "nbconvert_exporter": "python",
   "pygments_lexer": "ipython3",
   "version": "3.12.0"
  }
 },
 "nbformat": 4,
 "nbformat_minor": 5
}

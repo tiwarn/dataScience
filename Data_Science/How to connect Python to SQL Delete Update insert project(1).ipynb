{
 "cells": [
  {
   "cell_type": "markdown",
   "id": "169dac2d-1032-40d1-9379-3a2f86bff6b5",
   "metadata": {},
   "source": [
    "Step 1: Install MySQL Connector for Python"
   ]
  },
  {
   "cell_type": "code",
   "execution_count": 1,
   "id": "3d06181f-a0e5-44ee-a319-f36ddf3b4461",
   "metadata": {},
   "outputs": [
    {
     "name": "stdout",
     "output_type": "stream",
     "text": [
      "Requirement already satisfied: mysql-connector-python in c:\\users\\admin\\appdata\\local\\programs\\python\\python312\\lib\\site-packages (9.0.0)\n",
      "Note: you may need to restart the kernel to use updated packages.\n"
     ]
    },
    {
     "name": "stderr",
     "output_type": "stream",
     "text": [
      "\n",
      "[notice] A new release of pip is available: 23.2.1 -> 24.3.1\n",
      "[notice] To update, run: python.exe -m pip install --upgrade pip\n"
     ]
    }
   ],
   "source": [
    "pip install mysql-connector-python"
   ]
  },
  {
   "cell_type": "markdown",
   "id": "073c6d69-2873-40e9-9650-16c046631fa3",
   "metadata": {},
   "source": [
    "Step 2: Connect to MySQL Database"
   ]
  },
  {
   "cell_type": "code",
   "execution_count": 2,
   "id": "9a9e4ec3-cb0a-41ad-a838-0ebacbc7ba2b",
   "metadata": {},
   "outputs": [
    {
     "name": "stdout",
     "output_type": "stream",
     "text": [
      "<mysql.connector.connection_cext.CMySQLConnection object at 0x0000020B51AB5B80>\n"
     ]
    }
   ],
   "source": [
    "#here mydb id a name of aliaas\n",
    "import mysql.connector\n",
    "# Connect to the MySQL server\n",
    "mydb=mysql.connector.connect(\n",
    "    host=\"localhost\",\n",
    "    user=\"root\",\n",
    "    password=\"Erbipin@56\",\n",
    "    \n",
    ")\n",
    "\n",
    "print(mydb)\n",
    "# Create a cursor object to interact with the database\n",
    "db_cursor = mydb.cursor()\n",
    "#LearnCoding...Here LearnCoding name od date base\n",
    "db_cursor.execute(\"create database LearnCoding\")"
   ]
  },
  {
   "cell_type": "code",
   "execution_count": 3,
   "id": "85ee4b31-cce1-466e-a1d6-172b1a5bafbb",
   "metadata": {},
   "outputs": [
    {
     "name": "stdout",
     "output_type": "stream",
     "text": [
      "Table created\n"
     ]
    }
   ],
   "source": [
    "#In last step we had table under database learnCoding\n",
    "import mysql.connector\n",
    "mydb=mysql.connector.connect(\n",
    "    host=\"localhost\",\n",
    "    user=\"root\",\n",
    "    password=\"Erbipin@56\",\n",
    "    database=\"LearnCoding\"\n",
    "    \n",
    ")\n",
    "\n",
    "db_cursor = mydb.cursor()\n",
    "db_cursor.execute(\"create table Emp1(Roll int(10), Ename varchar(20))\")\n",
    "print('Table created')\n"
   ]
  },
  {
   "cell_type": "code",
   "execution_count": 4,
   "id": "b1e7b5df-cc41-4f02-8504-3fb1130afd65",
   "metadata": {},
   "outputs": [
    {
     "name": "stdout",
     "output_type": "stream",
     "text": [
      "('emp1',)\n"
     ]
    }
   ],
   "source": [
    "#how to you can see your table\n",
    "db_cursor = mydb.cursor()\n",
    "db_cursor.execute(\"show tables\")\n",
    "for i in db_cursor:\n",
    "    print(i)\n"
   ]
  },
  {
   "cell_type": "code",
   "execution_count": 5,
   "id": "87b8508b-9677-4883-8a70-1c52b2cce5e1",
   "metadata": {},
   "outputs": [],
   "source": [
    "#insert record in SQL\n",
    "insert_query=(\"insert into Emp1 (Ename,Roll) values(%s,%s)\")\n",
    "insert_value=(\"Ankit\",10)\n",
    "db_cursor = mydb.cursor()\n",
    "db_cursor.execute(insert_query,insert_value)\n",
    "mydb.commit()\n"
   ]
  },
  {
   "cell_type": "code",
   "execution_count": 6,
   "id": "55a16d62-19d5-40d3-a41c-8287ac5ae3c6",
   "metadata": {},
   "outputs": [],
   "source": [
    "insert_query=(\"insert into Emp1 (Ename,Roll) values(%s,%s)\")\n",
    "insert_value=(\"Nitesh\",11)\n",
    "db_cursor = mydb.cursor()\n",
    "db_cursor.execute(insert_query,insert_value)\n",
    "mydb.commit()"
   ]
  },
  {
   "cell_type": "code",
   "execution_count": 7,
   "id": "ca67b3ce-8eff-443f-9b76-0a448a4c656f",
   "metadata": {},
   "outputs": [],
   "source": [
    "insert_query=(\"insert into Emp1 (Ename,Roll) values(%s,%s)\")\n",
    "insert_value=(\"shiva\",12)\n",
    "db_cursor = mydb.cursor()\n",
    "db_cursor.execute(insert_query,insert_value)\n",
    "mydb.commit()"
   ]
  },
  {
   "cell_type": "code",
   "execution_count": 8,
   "id": "59de4796-4fea-4e12-b8f0-2a69244396d0",
   "metadata": {},
   "outputs": [],
   "source": [
    "mydb.commit()"
   ]
  },
  {
   "cell_type": "code",
   "execution_count": 9,
   "id": "7e72632a-e622-4aa1-9cf8-bd17e374fb24",
   "metadata": {},
   "outputs": [
    {
     "name": "stdout",
     "output_type": "stream",
     "text": [
      "3 Record inserted\n"
     ]
    }
   ],
   "source": [
    "#how to insert multipal record in database\n",
    "import mysql.connector\n",
    "mydb=mysql.connector.connect(\n",
    "    host=\"localhost\",\n",
    "    user=\"root\",\n",
    "    password=\"Erbipin@56\",\n",
    "    database=\"LearnCoding\"\n",
    ")\n",
    "\n",
    "db_cursor=mydb.cursor()\n",
    "db_insert = \"insert into Emp1(Roll,Ename) values(%s,%s)\"\n",
    "db_list=[(14,\"Anish\"),(40,\"Altaf\"),(18,\"Rohit\")]\n",
    "db_cursor.executemany(db_insert,db_list)\n",
    "mydb.commit()\n",
    "\n",
    "print(db_cursor.rowcount,\"Record inserted\")\n"
   ]
  },
  {
   "cell_type": "code",
   "execution_count": 10,
   "id": "4d734d61-6849-4a48-82f8-02b47f7819a4",
   "metadata": {},
   "outputs": [
    {
     "name": "stdout",
     "output_type": "stream",
     "text": [
      "[(10, 'Ankit'), (11, 'Nitesh'), (12, 'shiva'), (14, 'Anish'), (40, 'Altaf'), (18, 'Rohit')]\n"
     ]
    }
   ],
   "source": [
    "#how to see the record in datebase or run the select query\n",
    "db_cursor.execute(\"select * from LearnCoding.Emp1 \")\n",
    "db_select=db_cursor.fetchall()\n",
    "print(db_select)"
   ]
  },
  {
   "cell_type": "code",
   "execution_count": 11,
   "id": "d68ab57b-8fc3-4068-86bc-7db4344623e0",
   "metadata": {},
   "outputs": [
    {
     "name": "stdout",
     "output_type": "stream",
     "text": [
      "(10, 'Ankit')\n"
     ]
    }
   ],
   "source": [
    "#or\n",
    "db_cursor.execute(\"select * from LearnCoding.Emp1 \")\n",
    "db_select=db_cursor.fetchone()\n",
    "print(db_select)\n"
   ]
  },
  {
   "cell_type": "markdown",
   "id": "0c0f3683-c88b-4629-877f-d21d88952061",
   "metadata": {},
   "source": [
    "# USe loop to featch the record\n",
    "db_cursor.execute(\"select * from LearnCoding.Emp1\")\n",
    "for db_data in db_cursor.fetchall():\n",
    "    print(db_data)"
   ]
  },
  {
   "cell_type": "code",
   "execution_count": 15,
   "id": "343cab73-e391-49b9-a2c3-fb7412f968f9",
   "metadata": {},
   "outputs": [
    {
     "name": "stdout",
     "output_type": "stream",
     "text": [
      "1 Data Updated\n"
     ]
    }
   ],
   "source": [
    "# How to update record in database\n",
    "\n",
    "import mysql.connector\n",
    "mydb=mysql.connector.connect(\n",
    "    host=\"localhost\",\n",
    "    user=\"root\",\n",
    "    password=\"Erbipin@56\",\n",
    "    database=\"LearnCoding\"\n",
    "    \n",
    ")\n",
    "\n",
    "db_cursor = mydb.cursor()\n",
    "db_Updatedata=\"Update Emp1 set Roll = %s where Ename=%s\"\n",
    "db_value=(111,\"Anish\")\n",
    "db_cursor.execute(db_Updatedata, db_value)\n",
    "mydb.commit()\n",
    "print(db_cursor.rowcount,\"Data Updated\")"
   ]
  },
  {
   "cell_type": "code",
   "execution_count": 29,
   "id": "47cb7e83-b67c-4109-9252-1eebef0e0cc0",
   "metadata": {},
   "outputs": [
    {
     "name": "stdout",
     "output_type": "stream",
     "text": [
      "0 Data delete\n"
     ]
    }
   ],
   "source": [
    "#How to Delete the record in database\n",
    "import mysql.connector\n",
    "mydb=mysql.connector.connect(\n",
    "    host=\"localhost\",\n",
    "    user=\"root\",\n",
    "    password=\"Erbipin@56\",\n",
    "    database=\"LearnCoding\"\n",
    ")\n",
    "\n",
    "db_cursor=mydb.cursor()\n",
    "\n",
    "db_delete = \"delete from Emp1 where Ename=%s\"\n",
    "db_value=(\"Nitesh\",)\n",
    "db_cursor.execute(db_delete, db_value)\n",
    "mydb.commit()\n",
    "print(db_cursor.rowcount,\"Data delete\")\n",
    "\n"
   ]
  },
  {
   "cell_type": "code",
   "execution_count": 31,
   "id": "6f6dbff9-2e1b-45ba-a660-39597e27c6f1",
   "metadata": {},
   "outputs": [
    {
     "name": "stdout",
     "output_type": "stream",
     "text": [
      "0 Data delete\n"
     ]
    }
   ],
   "source": [
    "#Use truncate\n",
    "db_truncate = \"truncate table Emp1 \"\n",
    "\n",
    "db_cursor.execute(db_truncate)\n",
    "mydb.commit()\n",
    "print(db_cursor.rowcount,\"Data delete\")"
   ]
  },
  {
   "cell_type": "code",
   "execution_count": null,
   "id": "4a518f14-399a-4c5f-a5cc-fd7beae12feb",
   "metadata": {},
   "outputs": [],
   "source": []
  },
  {
   "cell_type": "code",
   "execution_count": null,
   "id": "5d45c9eb-2440-4a56-8543-5cedf8e366c3",
   "metadata": {},
   "outputs": [],
   "source": []
  },
  {
   "cell_type": "code",
   "execution_count": null,
   "id": "8f0b285e-381c-41cd-820b-4c26b65fb4f8",
   "metadata": {},
   "outputs": [],
   "source": []
  },
  {
   "cell_type": "code",
   "execution_count": null,
   "id": "81f01070-1a83-40a4-b5a8-05459d48517e",
   "metadata": {},
   "outputs": [],
   "source": []
  },
  {
   "cell_type": "code",
   "execution_count": null,
   "id": "74ebc2ed-c97b-4d8d-8bc0-a591824b8af9",
   "metadata": {},
   "outputs": [],
   "source": []
  },
  {
   "cell_type": "code",
   "execution_count": null,
   "id": "d82a525c-514d-468d-9d1f-570f48416d63",
   "metadata": {},
   "outputs": [],
   "source": []
  },
  {
   "cell_type": "code",
   "execution_count": null,
   "id": "6929f07f-6b64-49a7-98d4-696476c35d89",
   "metadata": {},
   "outputs": [],
   "source": []
  },
  {
   "cell_type": "code",
   "execution_count": null,
   "id": "8464370e-5e6f-42a6-a1b1-b4fe1ea6e429",
   "metadata": {},
   "outputs": [],
   "source": []
  },
  {
   "cell_type": "code",
   "execution_count": null,
   "id": "45cb1f68-8175-4b9f-9252-ead78677376c",
   "metadata": {},
   "outputs": [],
   "source": []
  }
 ],
 "metadata": {
  "kernelspec": {
   "display_name": "Python 3 (ipykernel)",
   "language": "python",
   "name": "python3"
  },
  "language_info": {
   "codemirror_mode": {
    "name": "ipython",
    "version": 3
   },
   "file_extension": ".py",
   "mimetype": "text/x-python",
   "name": "python",
   "nbconvert_exporter": "python",
   "pygments_lexer": "ipython3",
   "version": "3.12.0"
  }
 },
 "nbformat": 4,
 "nbformat_minor": 5
}

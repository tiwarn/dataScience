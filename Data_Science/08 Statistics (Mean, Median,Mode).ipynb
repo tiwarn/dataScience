{
 "cells": [
  {
   "cell_type": "markdown",
   "id": "801ab13b-b9f5-41ae-97cf-7702fe985c5f",
   "metadata": {},
   "source": [
    "#Mean \n",
    "the mean is a type of average value, which describe where center of the data is located\n"
   ]
  },
  {
   "cell_type": "code",
   "execution_count": 1,
   "id": "36d68968-1ca2-4f1d-afe9-add27832bc71",
   "metadata": {},
   "outputs": [
    {
     "name": "stdout",
     "output_type": "stream",
     "text": [
      "9.0\n"
     ]
    }
   ],
   "source": [
    "import numpy \n",
    "values=[4,11,7,14]\n",
    "x=numpy.mean(values)\n",
    "print(x)"
   ]
  },
  {
   "cell_type": "code",
   "execution_count": 2,
   "id": "ee528e93-7c8c-44cb-9160-dc9ed2d4b0a9",
   "metadata": {},
   "outputs": [
    {
     "name": "stdout",
     "output_type": "stream",
     "text": [
      "5.0\n"
     ]
    }
   ],
   "source": [
    "import numpy as np\n",
    "values=[1,2,3,4,5,6,7,8,9]\n",
    "x=np.mean(values)\n",
    "print(x)"
   ]
  },
  {
   "cell_type": "code",
   "execution_count": 3,
   "id": "57f2aeb6-1dc7-4864-938a-0e22952c8145",
   "metadata": {},
   "outputs": [
    {
     "name": "stdout",
     "output_type": "stream",
     "text": [
      "52.62222222222222\n"
     ]
    }
   ],
   "source": [
    "import numpy as np\n",
    "values=[10.4,22.43,31.23,43.21,53.12,63.43,74.21,83.45,92.12]\n",
    "x=np.mean(values)\n",
    "print(x)"
   ]
  },
  {
   "cell_type": "markdown",
   "id": "efb57d8e-7de7-47f8-9c55-46ddc3ef7a3d",
   "metadata": {},
   "source": [
    "#Median\n",
    "the Median is a middel value"
   ]
  },
  {
   "cell_type": "code",
   "execution_count": 4,
   "id": "0951ef87-d85a-47aa-9ffb-81f951eca864",
   "metadata": {},
   "outputs": [
    {
     "name": "stdout",
     "output_type": "stream",
     "text": [
      "53.12\n"
     ]
    }
   ],
   "source": [
    "import numpy as np\n",
    "values=[10.4,22.43,31.23,43.21,53.12,63.43,74.21,83.45,92.12]\n",
    "x=np.median(values)\n",
    "print(x)"
   ]
  },
  {
   "cell_type": "code",
   "execution_count": 5,
   "id": "97c49441-df03-47be-92dc-f3dd84bbdb5d",
   "metadata": {},
   "outputs": [
    {
     "name": "stdout",
     "output_type": "stream",
     "text": [
      "18.0\n"
     ]
    }
   ],
   "source": [
    "import numpy as np\n",
    "values=[100,23,12,15,18]\n",
    "x=np.median(values)\n",
    "print(x)\n",
    "#12,15,18,23,100"
   ]
  },
  {
   "cell_type": "code",
   "execution_count": 6,
   "id": "33c2a348-64b5-45b5-af25-775569409d3a",
   "metadata": {},
   "outputs": [
    {
     "name": "stdout",
     "output_type": "stream",
     "text": [
      "41.0\n"
     ]
    }
   ],
   "source": [
    "import numpy as np\n",
    "values=[12,21,21,40,42,48,55,72]\n",
    "x=np.median(values)\n",
    "print(x)\n",
    "#40+42/2"
   ]
  },
  {
   "cell_type": "code",
   "execution_count": 7,
   "id": "d1e8117f-60f8-4ac0-af64-6ebaf810db80",
   "metadata": {},
   "outputs": [
    {
     "name": "stdout",
     "output_type": "stream",
     "text": [
      "25.0\n"
     ]
    }
   ],
   "source": [
    "import numpy as np\n",
    "values=[10,20,30,40]\n",
    "x=np.median(values)\n",
    "print(x)"
   ]
  },
  {
   "cell_type": "markdown",
   "id": "6cba6c36-3495-446c-803d-fc75996f02fa",
   "metadata": {},
   "source": [
    "#Mode\n",
    "#the mode is the value (s) that are the most common in data"
   ]
  },
  {
   "cell_type": "code",
   "execution_count": 8,
   "id": "8f2a7368-1378-455b-9119-effd8d24b3b2",
   "metadata": {},
   "outputs": [
    {
     "name": "stdout",
     "output_type": "stream",
     "text": [
      "[15]\n"
     ]
    }
   ],
   "source": [
    "from statistics import multimode\n",
    "values=[4,7,8,8,9,9,10,12,15,15,15]\n",
    "x=multimode(values)\n",
    "print(x)"
   ]
  },
  {
   "cell_type": "code",
   "execution_count": 9,
   "id": "dcf434d5-facf-413b-9b87-b4d1a2c6a844",
   "metadata": {},
   "outputs": [
    {
     "name": "stdout",
     "output_type": "stream",
     "text": [
      "15\n"
     ]
    }
   ],
   "source": [
    "#using mode -Return single value(1st repeated value)\n",
    "from statistics import mode\n",
    "values=[4,7,8,8,9,9,10,12,15,15,15,4]\n",
    "x=mode(values)\n",
    "print(x)"
   ]
  },
  {
   "cell_type": "code",
   "execution_count": 10,
   "id": "6acda259-6212-4546-9078-88fd37b2aee1",
   "metadata": {},
   "outputs": [
    {
     "name": "stdout",
     "output_type": "stream",
     "text": [
      "[4, 7, 12]\n",
      "[12]\n"
     ]
    }
   ],
   "source": [
    "#using multimode -Return multimode value(1st repeated value)\n",
    "from statistics import multimode\n",
    "values=[4,7,3,8,11,7,10,19,6,9,12,12,4]\n",
    "x=multimode(values)\n",
    "print(x)\n",
    "#here 4,7,12 was repeated 2 time if we are useing 3time repeted value(like 12)\n",
    "from statistics import multimode\n",
    "values=[4,7,3,8,11,7,10,19,6,9,12,12,12]\n",
    "x=multimode(values)\n",
    "print(x)"
   ]
  },
  {
   "cell_type": "code",
   "execution_count": 11,
   "id": "715a74d3-d103-4de3-b5dc-947f3d40d980",
   "metadata": {},
   "outputs": [
    {
     "name": "stdout",
     "output_type": "stream",
     "text": [
      "[4, 7, 3, 8]\n"
     ]
    }
   ],
   "source": [
    "#No repeat value -using multimode-return all value\n",
    "from statistics import multimode\n",
    "values=[4,7,3,8]\n",
    "x=multimode(values)\n",
    "print(x)\n",
    "\n"
   ]
  },
  {
   "cell_type": "code",
   "execution_count": 12,
   "id": "e6e43cf7-7b41-48a5-8052-3ff09bfa87f5",
   "metadata": {},
   "outputs": [
    {
     "name": "stdout",
     "output_type": "stream",
     "text": [
      "4\n"
     ]
    }
   ],
   "source": [
    "#No repeat value -using mode-return 1st value\n",
    "from statistics import mode\n",
    "values=[4,7,3,8]\n",
    "x=mode(values)\n",
    "print(x)"
   ]
  },
  {
   "cell_type": "code",
   "execution_count": 13,
   "id": "32828e7c-e67f-401b-ae81-41a5699485e0",
   "metadata": {},
   "outputs": [
    {
     "name": "stdout",
     "output_type": "stream",
     "text": [
      "['Renu']\n"
     ]
    }
   ],
   "source": [
    "from statistics import multimode\n",
    "values=['Renu','bipin','nitesh','shiva','Renu']\n",
    "x=multimode(values)\n",
    "print(x)"
   ]
  },
  {
   "cell_type": "markdown",
   "id": "7940b1cf-8914-4b75-84b1-749461ba76a4",
   "metadata": {},
   "source": [
    "***Range (PTP-Peak to Peak)**"
   ]
  },
  {
   "cell_type": "code",
   "execution_count": 14,
   "id": "e6acfe91-b4fe-4578-a91e-64ce3bc45b2c",
   "metadata": {},
   "outputs": [
    {
     "name": "stdout",
     "output_type": "stream",
     "text": [
      "59\n"
     ]
    }
   ],
   "source": [
    "import numpy as np\n",
    "values=[13,21,21,40,48,55,72]\n",
    "x=np.ptp(values)\n",
    "print(x)"
   ]
  },
  {
   "cell_type": "code",
   "execution_count": 15,
   "id": "f5abe6a8-8cb9-4534-8d53-6f146dd279e7",
   "metadata": {},
   "outputs": [
    {
     "name": "stdout",
     "output_type": "stream",
     "text": [
      "85\n"
     ]
    }
   ],
   "source": [
    "# A = 25,35,36,10,20,30,45,75,85,95,41,15,47,15\n",
    "# B = 100,20,25,24,58,59,68,74,15,1,25,14,18\n",
    "# C = 15,25,36,58,69,67,48,59,62,54,58,59,26,25\n",
    "\n",
    "import numpy as np\n",
    "A=[25,35,36,10,20,30,45,75,85,95,41,15,47,15]\n",
    "x=np.ptp(A)\n",
    "print(x)"
   ]
  },
  {
   "cell_type": "code",
   "execution_count": 16,
   "id": "a3bf958e-83c5-4529-b8a4-eeef1d5633c0",
   "metadata": {},
   "outputs": [
    {
     "name": "stdout",
     "output_type": "stream",
     "text": [
      "99\n"
     ]
    }
   ],
   "source": [
    "import numpy as np\n",
    "B = [100,20,25,24,58,59,68,74,15,1,25,14,18]\n",
    "x=np.ptp(B)\n",
    "print(x)\n"
   ]
  },
  {
   "cell_type": "code",
   "execution_count": 17,
   "id": "a70a3577-7dfc-4297-82b2-7572ab5be143",
   "metadata": {},
   "outputs": [
    {
     "name": "stdout",
     "output_type": "stream",
     "text": [
      "54\n"
     ]
    }
   ],
   "source": [
    "import numpy as np\n",
    "C = [15,25,36,58,69,67,48,59,62,54,58,59,26,25]\n",
    "x=np.ptp(C)\n",
    "print(x)"
   ]
  },
  {
   "cell_type": "markdown",
   "id": "12a1561c-7ced-487b-8023-5931928ce619",
   "metadata": {},
   "source": [
    "***Quantile**"
   ]
  },
  {
   "cell_type": "code",
   "execution_count": 18,
   "id": "4ba2f666-a4ca-4985-8c1f-1cce590f1705",
   "metadata": {},
   "outputs": [
    {
     "name": "stdout",
     "output_type": "stream",
     "text": [
      "[13.  21.  40.  51.5 72. ]\n"
     ]
    }
   ],
   "source": [
    "import numpy as np\n",
    "Values=[13,21,21,40,48,55,72]\n",
    "x=np.quantile(Values,[0,0.25,0.5,0.75,1])\n",
    "print(x)"
   ]
  },
  {
   "cell_type": "markdown",
   "id": "19ca34bb-91fe-4528-9ee3-3ee7b316239e",
   "metadata": {},
   "source": [
    "1.\t[20,25,30,14,15,25,26]\n",
    "\n",
    "Output : 14 17.5 25 25.5   30\n",
    "\n",
    "\n",
    "2.\t[35,36,25,24,84,95,68,67,85,98]\n",
    "\n",
    "Output : 24  35.25 67.5 84.65 98\n",
    "\n",
    "3.\t[15,36,59,58,74,85,98,36,15,59]\n",
    "\n",
    "Output : 15 36 58.5 70.25   98"
   ]
  },
  {
   "cell_type": "code",
   "execution_count": 19,
   "id": "22dddf26-d654-44dc-8df1-3473d3bf1eb4",
   "metadata": {},
   "outputs": [
    {
     "name": "stdout",
     "output_type": "stream",
     "text": [
      "[14.  17.5 25.  25.5 30. ]\n"
     ]
    }
   ],
   "source": [
    "import numpy as np\n",
    "Values=[20,25,30,14,15,25,26]\n",
    "x=np.quantile(Values,[0,0.25,0.5,0.75,1])\n",
    "print(x)\n"
   ]
  },
  {
   "cell_type": "code",
   "execution_count": 20,
   "id": "af750019-08e2-4b28-abe0-3e334286d3b4",
   "metadata": {},
   "outputs": [
    {
     "name": "stdout",
     "output_type": "stream",
     "text": [
      "[24.   35.25 67.5  84.75 98.  ]\n"
     ]
    }
   ],
   "source": [
    "import numpy as np\n",
    "Values=[35,36,25,24,84,95,68,67,85,98]\n",
    "x=np.quantile(Values,[0,0.25,0.5,0.75,1])\n",
    "print(x)"
   ]
  },
  {
   "cell_type": "code",
   "execution_count": 21,
   "id": "e4068469-4a59-438d-84e9-e382a695fca9",
   "metadata": {},
   "outputs": [
    {
     "name": "stdout",
     "output_type": "stream",
     "text": [
      "[15.   36.   58.5  70.25 98.  ]\n"
     ]
    }
   ],
   "source": [
    "import numpy as np\n",
    "Values=[15,36,59,58,74,85,98,36,15,59]\n",
    "x=np.quantile(Values,[0,0.25,0.5,0.75,1])\n",
    "print(x)"
   ]
  },
  {
   "cell_type": "markdown",
   "id": "79fc7ade-d84d-4550-930d-359d94c49907",
   "metadata": {},
   "source": [
    "***Percentile**\n",
    "# q0 = 13\r\n",
    "# q4 = 72"
   ]
  },
  {
   "cell_type": "code",
   "execution_count": 22,
   "id": "6201ee58-3ab7-4059-8f5b-b5f4069d261f",
   "metadata": {},
   "outputs": [
    {
     "name": "stdout",
     "output_type": "stream",
     "text": [
      "[13.  21.  40.  51.5 72. ]\n",
      "13.0\n"
     ]
    }
   ],
   "source": [
    "import numpy as np\n",
    "Values=[13,21,21,40,48,55,72]\n",
    "x=np.quantile(Values,[0,0.25,0.5,0.75,1])\n",
    "print(x)\n",
    "\n",
    "import numpy as np\n",
    "Values=[13,21,21,40,48,55,72]\n",
    "x=np.percentile(Values,0)\n",
    "print(x)"
   ]
  },
  {
   "cell_type": "code",
   "execution_count": 23,
   "id": "acb91915-8a98-4a9d-8035-16b5600a035e",
   "metadata": {},
   "outputs": [
    {
     "name": "stdout",
     "output_type": "stream",
     "text": [
      "10.0\n"
     ]
    }
   ],
   "source": [
    "import numpy\n",
    "values = [10,20,30,45,65,25,35,36,44,14]\n",
    "x = numpy.percentile(values, 0)\n",
    "print(x)\n"
   ]
  },
  {
   "cell_type": "code",
   "execution_count": 24,
   "id": "8223013b-883f-4418-90e7-6c80e24609ad",
   "metadata": {},
   "outputs": [
    {
     "name": "stdout",
     "output_type": "stream",
     "text": [
      "95.0\n"
     ]
    }
   ],
   "source": [
    "import numpy\n",
    "values = [74,58,69,52,63,41,75,35,95,15]\n",
    "x = numpy.percentile(values, 100)\n",
    "print(x)"
   ]
  },
  {
   "cell_type": "code",
   "execution_count": 25,
   "id": "7fc1f991-51ca-4525-a7b6-3014de64e455",
   "metadata": {},
   "outputs": [
    {
     "name": "stdout",
     "output_type": "stream",
     "text": [
      "38.25\n"
     ]
    }
   ],
   "source": [
    "import numpy\n",
    "values = [9,58,65,63,62,67,85,75,95,65,45,14,25,36]\n",
    "x = numpy.percentile(values, 25)\n",
    "print(x)"
   ]
  },
  {
   "cell_type": "markdown",
   "id": "99defe74-61d9-4c9e-9f99-71b41c4fa541",
   "metadata": {},
   "source": [
    "***Standard Deviantion**"
   ]
  },
  {
   "cell_type": "code",
   "execution_count": 26,
   "id": "1d6e1e4f-db86-407c-b8fd-20ecd9aedb17",
   "metadata": {},
   "outputs": [
    {
     "name": "stdout",
     "output_type": "stream",
     "text": [
      "3.8078865529319543\n"
     ]
    }
   ],
   "source": [
    "import numpy as np\n",
    "values=[4,11,7,14]\n",
    "x=np.std(values)\n",
    "print(x)"
   ]
  },
  {
   "cell_type": "code",
   "execution_count": 27,
   "id": "32bec9ea-fbae-42ff-af68-989c68dc1aba",
   "metadata": {},
   "outputs": [
    {
     "name": "stdout",
     "output_type": "stream",
     "text": [
      "11.180339887498949\n"
     ]
    }
   ],
   "source": [
    "import numpy as np\n",
    "values=[10,20,30,40]\n",
    "x=np.std(values)\n",
    "print(x)"
   ]
  },
  {
   "cell_type": "code",
   "execution_count": 28,
   "id": "aabef038-4222-4d7c-87a4-9bb8d53a2d06",
   "metadata": {},
   "outputs": [
    {
     "name": "stdout",
     "output_type": "stream",
     "text": [
      "34.078540737178145\n"
     ]
    }
   ],
   "source": [
    "import numpy as np\n",
    "values=[10,36,35,38,98,95,96]\n",
    "x=np.std(values)\n",
    "print(x)"
   ]
  },
  {
   "cell_type": "code",
   "execution_count": 29,
   "id": "e03bc242-15dd-40e2-8b5f-b5a7c273e8a6",
   "metadata": {},
   "outputs": [
    {
     "name": "stdout",
     "output_type": "stream",
     "text": [
      "23.15079229040487\n"
     ]
    }
   ],
   "source": [
    "import numpy as np\n",
    "values=[45,75,85,96,25,47,58]\n",
    "x=np.std(values)\n",
    "print(x)"
   ]
  },
  {
   "cell_type": "code",
   "execution_count": 30,
   "id": "48ca73a3-f194-4bf7-aa56-214fe4cdb396",
   "metadata": {},
   "outputs": [
    {
     "name": "stdout",
     "output_type": "stream",
     "text": [
      "29.62348764761103\n"
     ]
    }
   ],
   "source": [
    "import numpy as np\n",
    "values=[75,85,95,35,75,15,25]\n",
    "x=np.std(values)\n",
    "print(x)"
   ]
  },
  {
   "cell_type": "markdown",
   "id": "48efc8ab-fd22-4f03-a627-d4fce8f55872",
   "metadata": {},
   "source": [
    "***Skewed Distribution**"
   ]
  },
  {
   "cell_type": "code",
   "execution_count": 31,
   "id": "81dc8804-5b9c-4bea-9a74-42eb52df217e",
   "metadata": {},
   "outputs": [],
   "source": [
    "#10,20,30,40,50,150,200\n",
    "#Mean=500/7=71.42\n",
    "#Median=40\n",
    "#Mode 10"
   ]
  },
  {
   "cell_type": "code",
   "execution_count": 32,
   "id": "8c846fe8-e92a-4d05-83dc-76ef0e679353",
   "metadata": {},
   "outputs": [
    {
     "name": "stdout",
     "output_type": "stream",
     "text": [
      "Mean 71.42857142857143\n",
      "40.0\n",
      "10\n"
     ]
    }
   ],
   "source": [
    "import numpy \n",
    "values=[10,20,30,40,50,150,200]\n",
    "x=numpy.mean(values)\n",
    "print(\"Mean\",x)\n",
    "\n",
    "import numpy \n",
    "values=[10,20,30,40,50,150,200]\n",
    "x=numpy.median(values)\n",
    "print(x)\n",
    "\n",
    "from statistics import mode\n",
    "values=[10,20,30,40,50,150,200]\n",
    "x=mode(values)\n",
    "print(x)\n",
    "\n",
    "#it +ve Symentric"
   ]
  },
  {
   "cell_type": "code",
   "execution_count": 33,
   "id": "3ee63d6f-85b3-4df1-af26-e1c6b97ab419",
   "metadata": {},
   "outputs": [],
   "source": [
    "#In excel Skewness =SKEW.P(B1:B10)"
   ]
  },
  {
   "cell_type": "code",
   "execution_count": 34,
   "id": "993366c6-d1d8-42ca-81ad-1fe407b5955d",
   "metadata": {},
   "outputs": [
    {
     "name": "stdout",
     "output_type": "stream",
     "text": [
      "-0.08789729640938802\n"
     ]
    }
   ],
   "source": [
    "#IN JUPYTER\n",
    "[52,45,36,95,85,74,85,65,95,25,15,24]\n",
    "#[10,20,30,35,85,95,68,78,24,14]\n",
    "[98,87,74,45,45,56,65,32,63,21,14,15,16]\n",
    "\n",
    "from scipy.stats import skew\n",
    "data=[52,45,36,95,85,74,85,65,95,25,15,24]\n",
    "print(skew(data,axis=0))"
   ]
  },
  {
   "cell_type": "code",
   "execution_count": 35,
   "id": "76457b74-f325-4994-9c42-2eb01a884bc8",
   "metadata": {},
   "outputs": [
    {
     "name": "stdout",
     "output_type": "stream",
     "text": [
      "Requirement already satisfied: scipy in c:\\users\\admin\\appdata\\local\\programs\\python\\python312\\lib\\site-packages (1.12.0)Note: you may need to restart the kernel to use updated packages.\n",
      "\n",
      "Requirement already satisfied: numpy<1.29.0,>=1.22.4 in c:\\users\\admin\\appdata\\local\\programs\\python\\python312\\lib\\site-packages (from scipy) (1.26.3)\n"
     ]
    },
    {
     "name": "stderr",
     "output_type": "stream",
     "text": [
      "\n",
      "[notice] A new release of pip is available: 23.2.1 -> 24.0\n",
      "[notice] To update, run: python.exe -m pip install --upgrade pip\n"
     ]
    }
   ],
   "source": [
    "pip install scipy"
   ]
  },
  {
   "cell_type": "code",
   "execution_count": 36,
   "id": "92793740-f76d-42e9-988c-af25442736df",
   "metadata": {},
   "outputs": [
    {
     "name": "stdout",
     "output_type": "stream",
     "text": [
      "0.3890108886347531\n"
     ]
    }
   ],
   "source": [
    "from scipy.stats import skew\n",
    "data=[10,20,30,35,85,95,68,78,24,14]\n",
    "print(skew(data,axis=0))"
   ]
  },
  {
   "cell_type": "code",
   "execution_count": 37,
   "id": "c6827e1d-3de3-481b-9478-66f62c9a94c3",
   "metadata": {},
   "outputs": [
    {
     "name": "stdout",
     "output_type": "stream",
     "text": [
      "0.24533378551707735\n"
     ]
    }
   ],
   "source": [
    "from scipy.stats import skew\n",
    "data=[98,87,74,45,45,56,65,32,63,21,14,15,16]\n",
    "print(skew(data,axis=0))"
   ]
  },
  {
   "cell_type": "markdown",
   "id": "00818d3f-7469-40ec-b1f5-8b4edb29cecd",
   "metadata": {},
   "source": [
    "***KURTOSIS**"
   ]
  },
  {
   "cell_type": "code",
   "execution_count": 38,
   "id": "1eda6d8e-bf15-4800-8fe5-8363e4de8291",
   "metadata": {},
   "outputs": [
    {
     "name": "stdout",
     "output_type": "stream",
     "text": [
      "-0.29271198374234686\n"
     ]
    }
   ],
   "source": [
    "from scipy.stats import kurtosis\n",
    "data=[88,85,82,97,67,77,74,86,81,95,77,88,85,76,81]\n",
    "print(kurtosis(data,axis=0))"
   ]
  },
  {
   "cell_type": "code",
   "execution_count": 39,
   "id": "cf807517-c39a-4687-a03d-a67ac3e83d87",
   "metadata": {},
   "outputs": [
    {
     "name": "stdout",
     "output_type": "stream",
     "text": [
      "0.4508591527002199\n"
     ]
    }
   ],
   "source": [
    "from scipy.stats import kurtosis\n",
    "data=[10000,20000,30000,4000,5000,600,7000,8000,9000]\n",
    "print(kurtosis(data,axis=0))"
   ]
  },
  {
   "cell_type": "code",
   "execution_count": null,
   "id": "848b0dba-980d-4b86-8459-59394f7435c8",
   "metadata": {},
   "outputs": [],
   "source": []
  },
  {
   "cell_type": "code",
   "execution_count": null,
   "id": "535ea847-6b1a-4a66-acf4-61adbcd321d4",
   "metadata": {},
   "outputs": [],
   "source": []
  },
  {
   "cell_type": "code",
   "execution_count": null,
   "id": "c309c66e-38a9-427f-8b07-265e895abd33",
   "metadata": {},
   "outputs": [],
   "source": []
  }
 ],
 "metadata": {
  "kernelspec": {
   "display_name": "Python 3 (ipykernel)",
   "language": "python",
   "name": "python3"
  },
  "language_info": {
   "codemirror_mode": {
    "name": "ipython",
    "version": 3
   },
   "file_extension": ".py",
   "mimetype": "text/x-python",
   "name": "python",
   "nbconvert_exporter": "python",
   "pygments_lexer": "ipython3",
   "version": "3.12.0"
  }
 },
 "nbformat": 4,
 "nbformat_minor": 5
}

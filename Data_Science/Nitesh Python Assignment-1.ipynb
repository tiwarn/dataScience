{
 "cells": [
  {
   "cell_type": "code",
   "execution_count": 1,
   "id": "cc2b0706-5a66-4324-9cff-de301e77738c",
   "metadata": {},
   "outputs": [],
   "source": [
    "#1 D/F (2 or 3 points)"
   ]
  },
  {
   "cell_type": "code",
   "execution_count": 2,
   "id": "1c590917-1f5d-4dca-81fa-0107a0fff044",
   "metadata": {},
   "outputs": [],
   "source": [
    "#A LIST & TUPLE\n",
    "#LIST\n",
    "#List is mutable\n",
    "#List is ordered\n",
    "#list donate with [] bracket\n",
    "\n",
    "#TUPLE\n",
    "#Tuple is immutable\n",
    "#Tuple donate with () bracket."
   ]
  },
  {
   "cell_type": "code",
   "execution_count": 3,
   "id": "9e261e5b-1e52-4ee2-9e52-dee2facc4afc",
   "metadata": {},
   "outputs": [],
   "source": [
    "#B Set and Dict\n",
    "#SET\n",
    "#Set is conllection of non repetitive value\n",
    "#set is unordered\n",
    "#set is mutable\n",
    "\n",
    "#Dictionary\n",
    "#Dictionary is a collection of Key & Values.\n",
    "#Can not repeat keys,value repeted.\n",
    "#key can be Null(but not multiple Null allow)\n"
   ]
  },
  {
   "cell_type": "code",
   "execution_count": 4,
   "id": "3c3941c1-0f5e-4928-91ee-9c6a992aac3e",
   "metadata": {},
   "outputs": [],
   "source": [
    "#C List and set\n",
    "#LIST\n",
    "#List can contain duplicate value.\n",
    "#List is ordered\n",
    "#list donate with [] bracket\n",
    "\n",
    "#SET\n",
    "#SET can't contain duplicate value.\n",
    "#List is unordered\n",
    "#Set donate with {} bracket"
   ]
  },
  {
   "cell_type": "code",
   "execution_count": 5,
   "id": "7f410d5f-50af-4a3d-bf3e-f5a6f57465ae",
   "metadata": {},
   "outputs": [],
   "source": [
    "#D List and dict\n",
    "#LIST\n",
    "#List can contain duplicate value.\n",
    "#List cantain value only\n",
    "\n",
    "#DICTIONARY\n",
    "#Dict can't contain duplicate value.\n",
    "#dict cantain Key & Value"
   ]
  },
  {
   "cell_type": "code",
   "execution_count": 6,
   "id": "a9a123d6-9475-4bab-99ca-ddee4e33eb60",
   "metadata": {},
   "outputs": [],
   "source": [
    "#2.five inbuilt funcations of list?\n",
    "#extend\n",
    "#remove\n",
    "#count\n",
    "#apend\n",
    "#pop\n"
   ]
  },
  {
   "cell_type": "code",
   "execution_count": 7,
   "id": "471a3eba-1839-48cd-bb95-c76039107df5",
   "metadata": {},
   "outputs": [],
   "source": [
    "#3.five inbuilt funcations of tuple?\n",
    "#len\n",
    "#max\n",
    "#min\n",
    "#index\n",
    "#count"
   ]
  },
  {
   "cell_type": "code",
   "execution_count": 8,
   "id": "2f94fe01-63bf-4bc7-8822-3afcc97f7ffd",
   "metadata": {},
   "outputs": [],
   "source": [
    "#4.five inbuilt funcations of set?\n",
    "#add\n",
    "#clear\n",
    "#copy\n",
    "#remove\n",
    "#update"
   ]
  },
  {
   "cell_type": "code",
   "execution_count": 9,
   "id": "c6856ab6-d2ce-4e0a-8217-927fb20ee419",
   "metadata": {},
   "outputs": [],
   "source": [
    "#5.five inbuilt funcations of dict?\n",
    "#clear\n",
    "#copy\n",
    "#keys\n",
    "#values\n",
    "#update"
   ]
  },
  {
   "cell_type": "code",
   "execution_count": 10,
   "id": "8bc7403b-e42b-493b-83c6-becebc31206b",
   "metadata": {},
   "outputs": [
    {
     "name": "stdout",
     "output_type": "stream",
     "text": [
      "[10, 20, 30, 40, 50, 60, 70, 90, 'Manu', 'TOSHI']\n"
     ]
    }
   ],
   "source": [
    "#6.Perform below list functions. \n",
    "#List=Extend, Append, Reverse, Pop, Remove, Delete, (Reverse with out using reverse word)\n",
    "list=[10,20,30,40,50,60,70]\n",
    "list.extend([90,\"Manu\",\"TOSHI\"])\n",
    "print(list)\n"
   ]
  },
  {
   "cell_type": "code",
   "execution_count": 11,
   "id": "b9811fb9-55d6-4a91-877f-ad2616758d44",
   "metadata": {},
   "outputs": [
    {
     "name": "stdout",
     "output_type": "stream",
     "text": [
      "[10, 20, 30, 40, 50, 60, 70, 65]\n"
     ]
    }
   ],
   "source": [
    "list=[10,20,30,40,50,60,70]\n",
    "list.append(65)\n",
    "print(list)"
   ]
  },
  {
   "cell_type": "code",
   "execution_count": 12,
   "id": "efeb111c-4c57-4bc8-8f2d-bfc53a755659",
   "metadata": {},
   "outputs": [
    {
     "name": "stdout",
     "output_type": "stream",
     "text": [
      "[70, 60, 50, 40, 30, 20, 10]\n"
     ]
    }
   ],
   "source": [
    "list=[10,20,30,40,50,60,70]\n",
    "list.reverse()\n",
    "print(list)"
   ]
  },
  {
   "cell_type": "code",
   "execution_count": 13,
   "id": "ca45c516-069a-40f0-b5c6-cdd3a4067568",
   "metadata": {},
   "outputs": [
    {
     "name": "stdout",
     "output_type": "stream",
     "text": [
      "[10, 20, 40, 50, 60, 70]\n"
     ]
    }
   ],
   "source": [
    "list=[10,20,30,40,50,60,70]\n",
    "list.pop(2)\n",
    "print(list)"
   ]
  },
  {
   "cell_type": "code",
   "execution_count": 14,
   "id": "8646d5c0-aeeb-4f95-9925-84bd9b0dc28e",
   "metadata": {},
   "outputs": [
    {
     "name": "stdout",
     "output_type": "stream",
     "text": [
      "[10, 30, 40, 50, 60, 70]\n"
     ]
    }
   ],
   "source": [
    "list=[10,20,30,40,50,60,70]\n",
    "list.remove(20)\n",
    "print(list)"
   ]
  },
  {
   "cell_type": "code",
   "execution_count": 15,
   "id": "bc5a8b4d-e106-45ca-b445-e605140bda6d",
   "metadata": {},
   "outputs": [
    {
     "name": "stdout",
     "output_type": "stream",
     "text": [
      "[10, 20, 30, 50, 60, 70]\n"
     ]
    }
   ],
   "source": [
    "list=[10,20,30,40,50,60,70]\n",
    "del list[3]\n",
    "print(list)"
   ]
  },
  {
   "cell_type": "code",
   "execution_count": 16,
   "id": "300a66d5-a74a-4baf-81ba-3f240ae7d732",
   "metadata": {},
   "outputs": [
    {
     "name": "stdout",
     "output_type": "stream",
     "text": [
      "[70, 60, 50, 40, 30, 20, 10]\n"
     ]
    }
   ],
   "source": [
    "#Reverse with out using reverse word.\n",
    "list=[10,20,30,40,50,60,70]\n",
    "A=list[::-1]\n",
    "print(A)\n"
   ]
  },
  {
   "cell_type": "code",
   "execution_count": null,
   "id": "f949c578-d3f6-42bd-b62a-7a26dd48dbd8",
   "metadata": {},
   "outputs": [],
   "source": []
  },
  {
   "cell_type": "code",
   "execution_count": 17,
   "id": "99e3c2a6-da9a-411a-85ac-e764b792aacb",
   "metadata": {},
   "outputs": [],
   "source": [
    "#7.Perform below tuple functions.\n",
    "#tuple = Minimum, Maximun, Len, Type, count"
   ]
  },
  {
   "cell_type": "code",
   "execution_count": 18,
   "id": "b540e733-3bf4-4c96-aa62-a4b6a8098d64",
   "metadata": {},
   "outputs": [
    {
     "name": "stdout",
     "output_type": "stream",
     "text": [
      "10\n"
     ]
    }
   ],
   "source": [
    "Tuple=(10,20,30,40,50,60,70)\n",
    "a=min(Tuple)\n",
    "print(a)"
   ]
  },
  {
   "cell_type": "code",
   "execution_count": 19,
   "id": "d4e84440-e6ab-4687-83d9-1594e7d3a791",
   "metadata": {},
   "outputs": [
    {
     "name": "stdout",
     "output_type": "stream",
     "text": [
      "70\n"
     ]
    }
   ],
   "source": [
    "Tuple=(10,20,30,40,50,60,70)\n",
    "b=max(Tuple)\n",
    "print(b)"
   ]
  },
  {
   "cell_type": "code",
   "execution_count": 20,
   "id": "dd44752b-0ee7-44b0-b3c8-f790613bd9d9",
   "metadata": {},
   "outputs": [
    {
     "name": "stdout",
     "output_type": "stream",
     "text": [
      "7\n"
     ]
    }
   ],
   "source": [
    "Tuple=(10,20,30,40,50,60,70)\n",
    "c=len(Tuple)\n",
    "print(c)"
   ]
  },
  {
   "cell_type": "code",
   "execution_count": 21,
   "id": "94f3c036-fd50-44ff-9b87-66956c875b0d",
   "metadata": {},
   "outputs": [
    {
     "name": "stdout",
     "output_type": "stream",
     "text": [
      "<class 'tuple'>\n"
     ]
    }
   ],
   "source": [
    "Tuple=(10,20,30,40,50,60,70)\n",
    "d=type(Tuple)\n",
    "print(d)"
   ]
  },
  {
   "cell_type": "code",
   "execution_count": 22,
   "id": "116c730b-8a0c-48dc-8ae5-c7cb3775fed2",
   "metadata": {},
   "outputs": [
    {
     "name": "stdout",
     "output_type": "stream",
     "text": [
      "2\n"
     ]
    }
   ],
   "source": [
    "Tuple=(10,20,30,40,70,50,60,70)\n",
    "print(Tuple.count(70))\n"
   ]
  },
  {
   "cell_type": "code",
   "execution_count": 23,
   "id": "a71313c7-3148-4673-83e1-ca1da9a557ef",
   "metadata": {},
   "outputs": [],
   "source": [
    "#8.Perform below set functions. \n",
    "#set = Add, Update, Discard, Copy, Clear"
   ]
  },
  {
   "cell_type": "code",
   "execution_count": 24,
   "id": "fa59801e-01d5-4356-9419-98b18fab81f7",
   "metadata": {},
   "outputs": [
    {
     "name": "stdout",
     "output_type": "stream",
     "text": [
      "{50, 20, 70, 6, 40, 10, 60, 30}\n"
     ]
    }
   ],
   "source": [
    "Set={10,20,30,40,50,60,70}\n",
    "Set.add(6)\n",
    "print(Set)"
   ]
  },
  {
   "cell_type": "code",
   "execution_count": 25,
   "id": "fd8ed6a8-e18a-4488-b78b-ebc1b2a3b384",
   "metadata": {},
   "outputs": [
    {
     "name": "stdout",
     "output_type": "stream",
     "text": [
      "{50, 20, 70, 40, 9, 10, 60, 30}\n"
     ]
    }
   ],
   "source": [
    "Set = {10,20,30,40,50,60,70}\n",
    "Set.update({9})\n",
    "print(Set)"
   ]
  },
  {
   "cell_type": "code",
   "execution_count": 26,
   "id": "96fe8567-7409-4259-89b8-326c236560c3",
   "metadata": {},
   "outputs": [
    {
     "name": "stdout",
     "output_type": "stream",
     "text": [
      "{50, 70, 40, 10, 60, 30}\n"
     ]
    }
   ],
   "source": [
    "Set = {10,20,30,40,50,60,70}\n",
    "Set.discard(20)\n",
    "print(Set)"
   ]
  },
  {
   "cell_type": "code",
   "execution_count": 27,
   "id": "4790eb36-7bd7-47a0-9a35-f97dfca9f5da",
   "metadata": {},
   "outputs": [
    {
     "name": "stdout",
     "output_type": "stream",
     "text": [
      "{50, 20, 70, 40, 10, 60, 30}\n"
     ]
    }
   ],
   "source": [
    "Set = {10,20,30,40,50,60,70}\n",
    "Set1=Set.copy()\n",
    "print(Set1)"
   ]
  },
  {
   "cell_type": "code",
   "execution_count": 28,
   "id": "2ce5e527-9aab-49e5-b7cf-a356dfdbd7bc",
   "metadata": {},
   "outputs": [
    {
     "name": "stdout",
     "output_type": "stream",
     "text": [
      "set()\n"
     ]
    }
   ],
   "source": [
    "Set = {10,20,30,40,50,60,70}\n",
    "Set.clear()\n",
    "print(Set)"
   ]
  },
  {
   "cell_type": "code",
   "execution_count": null,
   "id": "eec0eb5a-3d20-41ad-8694-598f0c782ec6",
   "metadata": {},
   "outputs": [],
   "source": []
  },
  {
   "cell_type": "code",
   "execution_count": 29,
   "id": "393f0a56-5a31-4a47-8c70-d542ce9dfc7e",
   "metadata": {},
   "outputs": [],
   "source": [
    "#9.Perform below dict functions. \n",
    "#dict = Keys, Values, Items, Clear, get\n"
   ]
  },
  {
   "cell_type": "code",
   "execution_count": 30,
   "id": "aae94512-d560-4e44-bf70-8d3a0789c8ac",
   "metadata": {},
   "outputs": [
    {
     "name": "stdout",
     "output_type": "stream",
     "text": [
      "dict_keys(['name', 'surname', '', 'age'])\n"
     ]
    }
   ],
   "source": [
    "Dict = {\"name\":\"parth\", \"surname\":\"Department\", \"\":\"it\", \"age\":25}\n",
    "a=Dict.keys()\n",
    "print(a)"
   ]
  },
  {
   "cell_type": "code",
   "execution_count": 31,
   "id": "581a1929-19a0-4168-bece-8e71e1541dff",
   "metadata": {},
   "outputs": [
    {
     "name": "stdout",
     "output_type": "stream",
     "text": [
      "dict_values(['parth', 'Department', 'it', 25])\n"
     ]
    }
   ],
   "source": [
    "Dict = {\"name\":\"parth\", \"surname\":\"Department\", \"\":\"it\", \"age\":25}\n",
    "b=Dict.values()\n",
    "print(b)"
   ]
  },
  {
   "cell_type": "code",
   "execution_count": 32,
   "id": "cfe243a0-1253-4a81-ba0e-bd080b497963",
   "metadata": {},
   "outputs": [
    {
     "name": "stdout",
     "output_type": "stream",
     "text": [
      "dict_items([('name', 'parth'), ('surname', 'Department'), ('', 'it'), ('age', 25)])\n"
     ]
    }
   ],
   "source": [
    "Dict = {\"name\":\"parth\", \"surname\":\"Department\", \"\":\"it\", \"age\":25}\n",
    "C=Dict.items()\n",
    "print(C)"
   ]
  },
  {
   "cell_type": "code",
   "execution_count": 33,
   "id": "1257e07f-cf03-4df1-a922-e8c86eaa2ed5",
   "metadata": {},
   "outputs": [
    {
     "name": "stdout",
     "output_type": "stream",
     "text": [
      "{}\n"
     ]
    }
   ],
   "source": [
    "Dict = {\"name\":\"parth\", \"surname\":\"Department\", \"\":\"it\", \"age\":25}\n",
    "Dict.clear()\n",
    "print(Dict)"
   ]
  },
  {
   "cell_type": "code",
   "execution_count": 34,
   "id": "055a172e-b631-4594-9706-065d8ec1b00b",
   "metadata": {},
   "outputs": [
    {
     "name": "stdout",
     "output_type": "stream",
     "text": [
      "None\n"
     ]
    }
   ],
   "source": [
    "Dict = {\"name\":\"parth\", \"surname\":\"Department\", \"\":\"it\", \"age\":25}\n",
    "print(Dict.clear())\n"
   ]
  },
  {
   "cell_type": "code",
   "execution_count": 35,
   "id": "6110a988-b4f0-4961-b714-9f6b7bb75e17",
   "metadata": {},
   "outputs": [
    {
     "name": "stdout",
     "output_type": "stream",
     "text": [
      "parth\n"
     ]
    }
   ],
   "source": [
    "Dict = {\"name\":\"parth\", \"surname\":\"Department\", \"\":\"it\", \"age\":25}\n",
    "print(Dict.get(\"name\"))"
   ]
  },
  {
   "cell_type": "code",
   "execution_count": 36,
   "id": "0396ecd8-e97b-4002-9cc1-30e811ecada5",
   "metadata": {},
   "outputs": [
    {
     "name": "stdout",
     "output_type": "stream",
     "text": [
      "Department\n"
     ]
    }
   ],
   "source": [
    "Dict = {\"name\":\"parth\", \"surname\":\"Department\", \"\":\"it\", \"age\":25}\n",
    "a=(Dict.get(\"surname\"))\n",
    "print(a)"
   ]
  },
  {
   "cell_type": "code",
   "execution_count": null,
   "id": "795dbaed-b0d8-4dfb-b1fe-8845c86bd891",
   "metadata": {},
   "outputs": [],
   "source": []
  },
  {
   "cell_type": "code",
   "execution_count": 37,
   "id": "a94e0f2e-68a4-4e40-b795-0119f493c32a",
   "metadata": {},
   "outputs": [],
   "source": [
    "#10.Perform below string functions.\n",
    "#string  = len, upper , lower , capitalize, reverse"
   ]
  },
  {
   "cell_type": "code",
   "execution_count": 38,
   "id": "e45d45ba-5670-4b80-b307-466dec81c2ef",
   "metadata": {},
   "outputs": [
    {
     "name": "stdout",
     "output_type": "stream",
     "text": [
      "hello, i am in meeting\n"
     ]
    }
   ],
   "source": [
    "string = \"hello, i am in meeting\"\n",
    "a=string.lower()\n",
    "print(a)"
   ]
  },
  {
   "cell_type": "code",
   "execution_count": 39,
   "id": "ea8459c6-54e6-407e-b786-ecd1c93cc8e7",
   "metadata": {},
   "outputs": [
    {
     "name": "stdout",
     "output_type": "stream",
     "text": [
      "HELLO, I AM IN MEETING\n"
     ]
    }
   ],
   "source": [
    "string = \"hello, i am in meeting\"\n",
    "b=string.upper()\n",
    "print(b)"
   ]
  },
  {
   "cell_type": "code",
   "execution_count": 40,
   "id": "ff42455a-b736-45e8-8a9e-8cd041695a88",
   "metadata": {},
   "outputs": [
    {
     "name": "stdout",
     "output_type": "stream",
     "text": [
      "22\n"
     ]
    }
   ],
   "source": [
    "string = \"hello, i am in meeting\"\n",
    "print(len(string))"
   ]
  },
  {
   "cell_type": "code",
   "execution_count": 41,
   "id": "7645bb7b-0a0a-4f73-b738-e7169da1b186",
   "metadata": {},
   "outputs": [
    {
     "name": "stdout",
     "output_type": "stream",
     "text": [
      "Hello, i am in meeting\n"
     ]
    }
   ],
   "source": [
    "string = \"hello, i am in meeting\"\n",
    "c=string.capitalize()\n",
    "print(c)\n"
   ]
  },
  {
   "cell_type": "code",
   "execution_count": 42,
   "id": "ea573dc3-1f6b-4805-a24d-5bc52f85db15",
   "metadata": {},
   "outputs": [
    {
     "name": "stdout",
     "output_type": "stream",
     "text": [
      "gniteem ni ma i ,olleh\n"
     ]
    }
   ],
   "source": [
    "string = \"hello, i am in meeting\"[::-1]\n",
    "print(string)\n",
    "\n"
   ]
  }
 ],
 "metadata": {
  "kernelspec": {
   "display_name": "Python 3 (ipykernel)",
   "language": "python",
   "name": "python3"
  },
  "language_info": {
   "codemirror_mode": {
    "name": "ipython",
    "version": 3
   },
   "file_extension": ".py",
   "mimetype": "text/x-python",
   "name": "python",
   "nbconvert_exporter": "python",
   "pygments_lexer": "ipython3",
   "version": "3.12.0"
  }
 },
 "nbformat": 4,
 "nbformat_minor": 5
}

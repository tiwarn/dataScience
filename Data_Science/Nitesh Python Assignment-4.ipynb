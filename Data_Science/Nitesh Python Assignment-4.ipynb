{
 "cells": [
  {
   "cell_type": "code",
   "execution_count": 1,
   "id": "176c09f8-30ec-4c11-a61e-66c731e078db",
   "metadata": {},
   "outputs": [
    {
     "name": "stdin",
     "output_type": "stream",
     "text": [
      "Enter your number 15\n"
     ]
    },
    {
     "name": "stdout",
     "output_type": "stream",
     "text": [
      "The factorial of 15 is 1307674368000\n"
     ]
    }
   ],
   "source": [
    "#1 find the factorial of 15.\n",
    "Num=int(input(\"Enter your number\"))\n",
    "factorial=1\n",
    "if Num<0:\n",
    "    print(\"Sorry factorial does not exist for negative Num\")\n",
    "elif Num==0:\n",
    "    print(\"Zero factorila will be Zero\")\n",
    "else:\n",
    "    for i in range (1,Num+1):\n",
    "        factorial=factorial*i\n",
    "    print(\"The factorial of\", Num, \"is\",factorial)\n"
   ]
  },
  {
   "cell_type": "code",
   "execution_count": 2,
   "id": "ed1aa4a1-5733-458f-a3a0-181dc9e4e50d",
   "metadata": {},
   "outputs": [
    {
     "name": "stdout",
     "output_type": "stream",
     "text": [
      "0_1_2_3_4_5_6_7_"
     ]
    }
   ],
   "source": [
    "#2.perform python Key word (Breake,continue,pass)\n",
    "#Break\n",
    "for i in range(10):\n",
    "    if i==8:\n",
    "        break\n",
    "    print(i,end=\"_\")"
   ]
  },
  {
   "cell_type": "code",
   "execution_count": 3,
   "id": "2444e04e-e8ca-450f-bdbc-96275fa39d3f",
   "metadata": {},
   "outputs": [
    {
     "name": "stdout",
     "output_type": "stream",
     "text": [
      "<class 'list'>\n"
     ]
    }
   ],
   "source": [
    "#3 How to find out the type for (list, tuple,set,dict,string,None,int,float)\n",
    "#List\n",
    "List=[1,2,3,4]\n",
    "\n",
    "print(type(List))"
   ]
  },
  {
   "cell_type": "code",
   "execution_count": 4,
   "id": "7e297f2f-a5f4-4090-8c08-ba56978a9fcf",
   "metadata": {},
   "outputs": [
    {
     "name": "stdout",
     "output_type": "stream",
     "text": [
      "<class 'tuple'>\n"
     ]
    }
   ],
   "source": [
    "#tuple\n",
    "Tuple=(\"Nitesh\",\"Sumit\",\"Aastha\",\"Kapil\")\n",
    "\n",
    "print(type(Tuple))"
   ]
  },
  {
   "cell_type": "code",
   "execution_count": 5,
   "id": "10b4d449-3e91-4763-8b27-12d89fd0d7c1",
   "metadata": {},
   "outputs": [
    {
     "name": "stdout",
     "output_type": "stream",
     "text": [
      "<class 'set'>\n"
     ]
    }
   ],
   "source": [
    "#set\n",
    "Set={\"Manu\",\"Sonu\",\"Sandeep\",\"Aman\"}\n",
    "print(type(Set))"
   ]
  },
  {
   "cell_type": "code",
   "execution_count": 6,
   "id": "646a17f6-82bb-46b7-9e71-740875d524a1",
   "metadata": {},
   "outputs": [
    {
     "name": "stdout",
     "output_type": "stream",
     "text": [
      "<class 'dict'>\n"
     ]
    }
   ],
   "source": [
    "#dictinary\n",
    "Dict={\"Nitesh\":\"12645\",\"Sumit\":\"789879\"}\n",
    "\n",
    "print(type(Dict))"
   ]
  },
  {
   "cell_type": "code",
   "execution_count": 7,
   "id": "4a9dc426-5e68-4d7b-89db-44d1224d7042",
   "metadata": {},
   "outputs": [
    {
     "name": "stdout",
     "output_type": "stream",
     "text": [
      "<class 'str'>\n",
      "<class 'NoneType'>\n",
      "<class 'int'>\n",
      "<class 'float'>\n"
     ]
    }
   ],
   "source": [
    "#string,None,int,float\n",
    "#String\n",
    "X=\"Nitesh\"\n",
    "print(type(X))\n",
    "\n",
    "#None\n",
    "Y=None\n",
    "print(type(Y))\n",
    "\n",
    "#int\n",
    "x=12345\n",
    "print(type(x))\n",
    "\n",
    "#Float\n",
    "x=23.6\n",
    "print(type(x))"
   ]
  },
  {
   "cell_type": "code",
   "execution_count": 8,
   "id": "2b1771f6-bdec-4239-8628-5026d9f1e038",
   "metadata": {},
   "outputs": [
    {
     "name": "stdout",
     "output_type": "stream",
     "text": [
      "7.5\n"
     ]
    }
   ],
   "source": [
    "#4 Lamda function 1 example\n",
    "x=lambda a:a+5/2\n",
    "\n",
    "print(x(5))"
   ]
  },
  {
   "cell_type": "code",
   "execution_count": 9,
   "id": "11eb2663-2c24-4977-9e46-0ffae44bd5ae",
   "metadata": {},
   "outputs": [
    {
     "name": "stdout",
     "output_type": "stream",
     "text": [
      "[1, 2, 3, 4, 5]\n",
      "<class 'list'>\n"
     ]
    }
   ],
   "source": [
    "#5 conver tuple in to list\n",
    "\n",
    "Tuple=(1,2,3,4,5)\n",
    "\n",
    "List=list(Tuple)\n",
    "\n",
    "print(List)\n",
    "print(type(List))"
   ]
  },
  {
   "cell_type": "code",
   "execution_count": 10,
   "id": "a7847a79-a246-4589-baae-8d0a9d758048",
   "metadata": {},
   "outputs": [
    {
     "name": "stdout",
     "output_type": "stream",
     "text": [
      "(56, 34, 23, 78, 98)\n",
      "<class 'tuple'>\n"
     ]
    }
   ],
   "source": [
    "#6 conver list in to tuple\n",
    "List=[56,34,23,78,98]\n",
    "Tuple=tuple(List)\n",
    "print(Tuple)\n",
    "print(type(Tuple))"
   ]
  },
  {
   "cell_type": "code",
   "execution_count": 11,
   "id": "3d60534c-de2c-4832-8c64-8d8f932637cf",
   "metadata": {},
   "outputs": [
    {
     "name": "stdout",
     "output_type": "stream",
     "text": [
      "{34, 98, 78, 23, 56}\n",
      "<class 'set'>\n"
     ]
    }
   ],
   "source": [
    "#7 conver list in to Set\n",
    "List=[56,34,23,78,23,78,56,34,98]\n",
    "Set=set(List)\n",
    "print(Set)\n",
    "print(type(Set))\n"
   ]
  },
  {
   "cell_type": "code",
   "execution_count": 12,
   "id": "79b6fd66-cd56-477a-baf0-50d2c2bcc463",
   "metadata": {},
   "outputs": [
    {
     "name": "stdout",
     "output_type": "stream",
     "text": [
      "stu_name is Nitesh roll_num 64 age 31 Stu_gender M\n",
      "stu_name is Sumit roll_num 23 age 29 Stu_gender M\n"
     ]
    }
   ],
   "source": [
    "#8 *args(stu_name,stu_roll_num,stu_age,stu_gender)\n",
    "\n",
    "def fun1(*args):\n",
    "    print(\"stu_name is\",args[0],\"roll_num\",args[1],\"age\",args[2],\"Stu_gender\",args[3])\n",
    "\n",
    "fun1(\"Nitesh\",\"64\",\"31\",\"M\")\n",
    "fun1(\"Sumit\",\"23\",\"29\",\"M\")"
   ]
  },
  {
   "cell_type": "code",
   "execution_count": 13,
   "id": "a0a72e58-941a-4d63-96f2-f69f59028079",
   "metadata": {},
   "outputs": [
    {
     "name": "stdout",
     "output_type": "stream",
     "text": [
      "Manu 240000\n",
      "Kavita 678687\n",
      "Aastha 768769\n"
     ]
    }
   ],
   "source": [
    "#**kwargs(emp_id,emp_salary)\n",
    "def emp_id(**kwargs):\n",
    "    \n",
    "    for key,value in kwargs.items():\n",
    "        print(key,value)\n",
    "Salary={\"Manu\":240000,\"Kavita\":678687,\"Aastha\":768769}\n",
    "\n",
    "emp_id(**Salary)"
   ]
  },
  {
   "cell_type": "code",
   "execution_count": 14,
   "id": "fa5d8790-bbc9-4319-a882-9cf2ff455bef",
   "metadata": {},
   "outputs": [
    {
     "name": "stdin",
     "output_type": "stream",
     "text": [
      "Enter your age 18\n"
     ]
    },
    {
     "name": "stdout",
     "output_type": "stream",
     "text": [
      "You can vote\n"
     ]
    }
   ],
   "source": [
    "#9.ternary operation-1-example\n",
    "\n",
    "Age= int(input(\"Enter your age\"))\n",
    "\n",
    "print(\"You can vote\") if Age >= 18 else print(\"can't vote\")\n",
    "\n"
   ]
  },
  {
   "cell_type": "code",
   "execution_count": 15,
   "id": "b9deac8e-48a1-4acd-9d44-0db6c949f243",
   "metadata": {},
   "outputs": [
    {
     "name": "stdout",
     "output_type": "stream",
     "text": [
      "[2, 4, 6, 8, 10, 12, 14, 16, 18, 20, 22, 24, 26, 28, 30, 32, 34, 36, 38, 40, 42, 44, 46, 48]\n",
      "[1, 3, 5, 7, 9, 11, 13, 15, 17, 19, 21, 23, 25, 27, 29, 31, 33, 35, 37, 39, 41, 43, 45, 47, 49]\n"
     ]
    }
   ],
   "source": [
    "#10how to divide data in to 2 different list(1-example).\n",
    "evenlist=[]\n",
    "oddlist=[]\n",
    "\n",
    "for i in range(1,50,1):\n",
    "    if i%2==0:\n",
    "        evenlist.append(i)\n",
    "    else:\n",
    "        oddlist.append(i)\n",
    "        \n",
    "print(evenlist)\n",
    "print(oddlist)"
   ]
  },
  {
   "cell_type": "code",
   "execution_count": null,
   "id": "f9146ae3-5f90-4002-864a-98bbf26a5651",
   "metadata": {},
   "outputs": [],
   "source": []
  },
  {
   "cell_type": "code",
   "execution_count": null,
   "id": "eb50ce5d-9eba-4d67-ba75-f2c3ceb3f3e0",
   "metadata": {},
   "outputs": [],
   "source": []
  }
 ],
 "metadata": {
  "kernelspec": {
   "display_name": "Python 3 (ipykernel)",
   "language": "python",
   "name": "python3"
  },
  "language_info": {
   "codemirror_mode": {
    "name": "ipython",
    "version": 3
   },
   "file_extension": ".py",
   "mimetype": "text/x-python",
   "name": "python",
   "nbconvert_exporter": "python",
   "pygments_lexer": "ipython3",
   "version": "3.12.0"
  }
 },
 "nbformat": 4,
 "nbformat_minor": 5
}

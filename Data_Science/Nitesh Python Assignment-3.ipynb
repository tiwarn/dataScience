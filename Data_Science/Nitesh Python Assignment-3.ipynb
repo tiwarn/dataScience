{
 "cells": [
  {
   "cell_type": "markdown",
   "id": "acf9369f-8568-4f0d-81bb-e2ba2337cb19",
   "metadata": {},
   "source": [
    "#1 palidrome series (user define function and pre-define function)\n"
   ]
  },
  {
   "cell_type": "code",
   "execution_count": 1,
   "id": "57488590-8ffe-4361-aa00-fd28ee767c21",
   "metadata": {},
   "outputs": [
    {
     "name": "stdout",
     "output_type": "stream",
     "text": [
      "yes,It's palindrom series\n"
     ]
    }
   ],
   "source": [
    "#User define function(909,505,mom,taat)\n",
    "a=\"taat\"\n",
    "if a==a[::-1]:\n",
    "    print(\"yes,It's palindrom series\")\n",
    "else:\n",
    "    print(\"No\")"
   ]
  },
  {
   "cell_type": "code",
   "execution_count": 2,
   "id": "f1c6a0d5-3abc-49c4-a759-3a046ff9b4b5",
   "metadata": {},
   "outputs": [
    {
     "name": "stdin",
     "output_type": "stream",
     "text": [
      "Enter your Num 121\n"
     ]
    },
    {
     "name": "stdout",
     "output_type": "stream",
     "text": [
      "Yes,It's palindrom series\n"
     ]
    }
   ],
   "source": [
    "#Pre define function\n",
    "\n",
    "a= input(\"Enter your Num\")\n",
    "\n",
    "if a==a[::-1]:\n",
    "    print(\"Yes,It's palindrom series\")\n",
    "else:\n",
    "    print(\"No\")"
   ]
  },
  {
   "cell_type": "markdown",
   "id": "e7747ca3-5215-4193-9834-fd1ebd87a9ad",
   "metadata": {},
   "source": [
    "#2. Deep copy and shallow copy \n",
    "   ex.\n",
    "   l=[[1,2],[\"raj\",\"jay\"]]\n",
    "\n",
    "deep copy = (\"raj\" replace with \"manisha\")\n",
    "\n",
    "shallow copy = (2 replace with 10)"
   ]
  },
  {
   "cell_type": "code",
   "execution_count": 3,
   "id": "7cb1fcef-9bc8-4a2b-9be0-5ebacd734261",
   "metadata": {},
   "outputs": [
    {
     "name": "stdout",
     "output_type": "stream",
     "text": [
      "[[1, 2], ['raj', 'jay']]\n",
      "[[1, 2], ['Manisha', 'jay']]\n"
     ]
    }
   ],
   "source": [
    "#Deep copy(deep copy = (\"raj\" replace with \"manisha\"))\n",
    "l=[[1,2],[\"raj\",\"jay\"]]\n",
    "import copy\n",
    "a=copy.deepcopy(l)\n",
    "\n",
    "a[1][0]=\"Manisha\"\n",
    "\n",
    "print(l)\n",
    "print(a)"
   ]
  },
  {
   "cell_type": "code",
   "execution_count": 4,
   "id": "c3703b37-f838-4c70-a64f-3c538e17e9d9",
   "metadata": {},
   "outputs": [
    {
     "name": "stdout",
     "output_type": "stream",
     "text": [
      "[[1, 10], ['raj', 'jay']]\n",
      "[[1, 10], ['raj', 'jay']]\n"
     ]
    }
   ],
   "source": [
    "#shallow copy (shallow copy = (2 replace with 10))\n",
    "l=[[1,2],[\"raj\",\"jay\"]]\n",
    "\n",
    "import copy\n",
    "\n",
    "a=copy.copy(l)\n",
    "\n",
    "a[0][1]=10\n",
    "\n",
    "print(l)\n",
    "print(a)\n"
   ]
  },
  {
   "cell_type": "code",
   "execution_count": 5,
   "id": "09465b8c-3f30-4fdc-b09e-6a560c39993d",
   "metadata": {},
   "outputs": [
    {
     "name": "stdin",
     "output_type": "stream",
     "text": [
      "Enter your Num1 12\n",
      "Enter your Num1 45\n",
      "Enter your Num1 23\n"
     ]
    },
    {
     "name": "stdout",
     "output_type": "stream",
     "text": [
      "45 is the largest Number\n"
     ]
    }
   ],
   "source": [
    "#3. Write a Python program that takes three numbers as input and prints the larger number.\n",
    "\n",
    "Num1=int(input(\"Enter your Num1\"))\n",
    "Num2=int(input(\"Enter your Num1\"))\n",
    "Num3=int(input(\"Enter your Num1\"))\n",
    "\n",
    "if (Num1>Num2) and (Num1>Num3):\n",
    "    largest=Num1\n",
    "if (Num2>Num1) and (Num2>Num3):\n",
    "    largest=Num2\n",
    "else:\n",
    "    largest=Num3\n",
    "\n",
    "print(largest,\"is the largest Number\")\n"
   ]
  },
  {
   "cell_type": "code",
   "execution_count": 6,
   "id": "f65fa8d2-d783-4aef-9d0b-a5d8628b5499",
   "metadata": {},
   "outputs": [
    {
     "name": "stdin",
     "output_type": "stream",
     "text": [
      "Enter your table number 7\n"
     ]
    },
    {
     "name": "stdout",
     "output_type": "stream",
     "text": [
      "7 x 1 = 7\n",
      "7 x 2 = 14\n",
      "7 x 3 = 21\n",
      "7 x 4 = 28\n",
      "7 x 5 = 35\n",
      "7 x 6 = 42\n",
      "7 x 7 = 49\n",
      "7 x 8 = 56\n",
      "7 x 9 = 63\n",
      "7 x 10 = 70\n",
      "The Multiplication table of : 7\n"
     ]
    }
   ],
   "source": [
    "#4. create Table = 7\n",
    "Num=int(input(\"Enter your table number\"))\n",
    "\n",
    "for i in range(1,11):\n",
    "    print(Num,\"x\",i,\"=\", Num*i)\n",
    "    \n",
    "print(\"The Multiplication table of :\",Num)   "
   ]
  },
  {
   "cell_type": "markdown",
   "id": "bd3ab0af-2289-4503-b5cb-d1ba685dfced",
   "metadata": {},
   "source": [
    "5. performe operators :\n",
    "   \n",
    "   perfome all 6 operator with 2 example\n",
    "   A.Arithmetic operators (+,-,*,/,%,//,**)\n",
    "   B.Assignment Operators (=,+=,-=,*=,/=,%=,**=,//=)\n",
    "   C.Comparison Operators (==,!=,>,>=,<,<=)\n",
    "   D.Logical Operators (and, or, not)\n",
    "   E.Identity Operators (is, is not)\n",
    "   F.Membership Operators (in, not in)\n"
   ]
  },
  {
   "cell_type": "code",
   "execution_count": 7,
   "id": "cf4ee41a-3bb8-4b8f-8fbe-1fcf83819184",
   "metadata": {},
   "outputs": [
    {
     "name": "stdout",
     "output_type": "stream",
     "text": [
      "700\n",
      "3200000\n"
     ]
    }
   ],
   "source": [
    "#A.Arithmetic operators (+,-,*,/,%,//,**)\n",
    "A=300\n",
    "B=400\n",
    "print(A+B)\n",
    "\n",
    "C=20\n",
    "D=5\n",
    "print(C**D)\n"
   ]
  },
  {
   "cell_type": "code",
   "execution_count": 8,
   "id": "7b4cb2ab-2f2f-4c9e-b05a-bdc256200b6b",
   "metadata": {},
   "outputs": [
    {
     "name": "stdout",
     "output_type": "stream",
     "text": [
      "12\n",
      "16\n"
     ]
    }
   ],
   "source": [
    "#B.Assignment Operators (=,+=,-=,*=,/=,%=,**=,//=)\n",
    "A=10\n",
    "A+=2\n",
    "print(A)\n",
    "\n",
    "B=4\n",
    "B**=2\n",
    "print(B)"
   ]
  },
  {
   "cell_type": "code",
   "execution_count": 9,
   "id": "3ab0629f-71e6-42f5-8811-c9a688e0ce6a",
   "metadata": {},
   "outputs": [
    {
     "name": "stdout",
     "output_type": "stream",
     "text": [
      "True\n",
      "False\n"
     ]
    }
   ],
   "source": [
    "#C.Comparison Operators (==,!=,>,>=,<,<=)\n",
    "A=5\n",
    "B=3\n",
    "print(A>B)\n",
    "\n",
    "A=10\n",
    "B=3\n",
    "print(A<B)"
   ]
  },
  {
   "cell_type": "code",
   "execution_count": 10,
   "id": "9baf1c35-49fc-431f-a87e-e391901eda96",
   "metadata": {},
   "outputs": [
    {
     "name": "stdout",
     "output_type": "stream",
     "text": [
      "False\n",
      "True\n"
     ]
    }
   ],
   "source": [
    "#D.Logical Operators (and, or, not)\n",
    "A=23\n",
    "\n",
    "print(A>3 and A<10)\n",
    "\n",
    "A=23\n",
    "\n",
    "print(A>3 or A<10)"
   ]
  },
  {
   "cell_type": "code",
   "execution_count": 11,
   "id": "0e6617b1-e691-4e78-8ebe-aee5a43850b7",
   "metadata": {},
   "outputs": [
    {
     "name": "stdout",
     "output_type": "stream",
     "text": [
      "False\n",
      "True\n"
     ]
    }
   ],
   "source": [
    "#E.Identity Operators (is, is not)\n",
    "#IS\n",
    "x=\"nitesh\"\n",
    "y=\"Santosh\"\n",
    "print(x is y)\n",
    "\n",
    "#IS NOT\n",
    "x=\"Manu\"\n",
    "y=\"Gungun\"\n",
    "print(x is not y)"
   ]
  },
  {
   "cell_type": "code",
   "execution_count": 12,
   "id": "61615925-06a2-4346-a0f4-60002109350a",
   "metadata": {},
   "outputs": [
    {
     "name": "stdout",
     "output_type": "stream",
     "text": [
      "True\n",
      "True\n"
     ]
    }
   ],
   "source": [
    "#F.Membership Operators (in, not in)\n",
    "#In\n",
    "\n",
    "List=[\"Delhi\",\"Faridabad\",\"Gurugram\"]\n",
    "\n",
    "print(\"Delhi\" in List)\n",
    "\n",
    "#NOT IN\n",
    "\n",
    "List=[\"Delhi\",\"Faridabad\",\"Gurugram\"]\n",
    "\n",
    "print(\"Mumbai\" not in List)\n"
   ]
  },
  {
   "cell_type": "markdown",
   "id": "ff529347-7f1b-4b92-b0f2-ae4a01e737ee",
   "metadata": {},
   "source": [
    "#6 swap value (2 variable) (use int or float as input)\r",
    " (pre defind and user defind\n",
    "\n"
   ]
  },
  {
   "cell_type": "code",
   "execution_count": 13,
   "id": "c62f8962-2088-4c2c-b3e0-2d7ff0249d6c",
   "metadata": {},
   "outputs": [
    {
     "name": "stdout",
     "output_type": "stream",
     "text": [
      "30\n",
      "10\n"
     ]
    }
   ],
   "source": [
    "#pre defind\n",
    "X=10\n",
    "Y=30\n",
    "\n",
    "X,Y=Y,X\n",
    "\n",
    "print(X)\n",
    "print(Y)"
   ]
  },
  {
   "cell_type": "code",
   "execution_count": 14,
   "id": "28030b34-9bca-4646-b9f4-cd6abb993298",
   "metadata": {},
   "outputs": [
    {
     "name": "stdin",
     "output_type": "stream",
     "text": [
      "Enter your X value 45\n",
      "Enter your Y value 23\n"
     ]
    },
    {
     "name": "stdout",
     "output_type": "stream",
     "text": [
      "X= 23\n",
      "Y= 45\n"
     ]
    }
   ],
   "source": [
    "#User defind\n",
    "X=int(input(\"Enter your X value\"))\n",
    "Y=int(input(\"Enter your Y value\"))\n",
    "\n",
    "X,Y=Y,X\n",
    "\n",
    "print(\"X=\",X)\n",
    "print(\"Y=\",Y)"
   ]
  },
  {
   "cell_type": "code",
   "execution_count": null,
   "id": "6936483c-40e0-420b-8efb-913ee5b105d8",
   "metadata": {},
   "outputs": [],
   "source": []
  },
  {
   "cell_type": "markdown",
   "id": "a9e76102-d55d-412a-975c-c43defccaee7",
   "metadata": {},
   "source": [
    "7. swap value (3 variable) (use string as input)\n",
    "   (pre defind and user defind)"
   ]
  },
  {
   "cell_type": "code",
   "execution_count": 15,
   "id": "3743f36f-83bc-48f5-aed9-a58ff2a082a1",
   "metadata": {},
   "outputs": [
    {
     "name": "stdout",
     "output_type": "stream",
     "text": [
      "The value of x after swapping Manu\n",
      "The value of y after swapping NitesH\n"
     ]
    }
   ],
   "source": [
    "#pre defind swap value (3 variable)\n",
    "x=\"NitesH\"\n",
    "y=\"Manu\"\n",
    "\n",
    "temp=x\n",
    "x=y\n",
    "y=temp\n",
    "\n",
    "print(\"The value of x after swapping\",x)\n",
    "print(\"The value of y after swapping\",y)"
   ]
  },
  {
   "cell_type": "code",
   "execution_count": 16,
   "id": "1a644906-8d0c-43d0-8443-609dadb92deb",
   "metadata": {},
   "outputs": [
    {
     "name": "stdin",
     "output_type": "stream",
     "text": [
      "Enter the name Manu\n",
      "Enter the name Nitesh\n"
     ]
    },
    {
     "name": "stdout",
     "output_type": "stream",
     "text": [
      "The value of x after swapping Nitesh\n",
      "The value of y after swapping Manu\n"
     ]
    }
   ],
   "source": [
    "#User defind swap value (3 variable)\n",
    "x=input(\"Enter the name\")\n",
    "y=input(\"Enter the name\")\n",
    "\n",
    "temp=x\n",
    "x=y\n",
    "y=temp\n",
    "\n",
    "print(\"The value of x after swapping\",x)\n",
    "print(\"The value of y after swapping\",y)"
   ]
  },
  {
   "cell_type": "code",
   "execution_count": 17,
   "id": "7013ba33-06d2-4971-a9ce-a198231748b9",
   "metadata": {},
   "outputs": [
    {
     "name": "stdout",
     "output_type": "stream",
     "text": [
      "Positive number\n"
     ]
    }
   ],
   "source": [
    "#8. one example of nested if-else statement.\n",
    "Num = 14\n",
    "if Num >= 0:\n",
    "    print(\"Positive number\") \n",
    "else:\n",
    "    print(\"Negative number\")"
   ]
  },
  {
   "cell_type": "code",
   "execution_count": 18,
   "id": "2d086c6f-1483-451a-b1c2-6cafb1906c0d",
   "metadata": {},
   "outputs": [
    {
     "name": "stdin",
     "output_type": "stream",
     "text": [
      "Enter your num1 23\n",
      "Enter your num2 14\n",
      "Enter your num3 56\n",
      "Enter your num4 21\n",
      "Enter your num5 67\n",
      "Enter your num6 36\n",
      "Enter your num7 78\n"
     ]
    },
    {
     "name": "stdout",
     "output_type": "stream",
     "text": [
      "Number is in ascending order: [14, 21, 23, 36, 56, 67, 78]\n"
     ]
    }
   ],
   "source": [
    "#create a program that asks the user for Seven numbers and then prints them in ascending order.\n",
    "\n",
    "Num1=int(input(\"Enter your num1\"))\n",
    "Num2=int(input(\"Enter your num2\"))\n",
    "Num3=int(input(\"Enter your num3\"))\n",
    "Num4=int(input(\"Enter your num4\"))\n",
    "Num5=int(input(\"Enter your num5\"))\n",
    "Num6=int(input(\"Enter your num6\"))\n",
    "Num7=int(input(\"Enter your num7\"))\n",
    "\n",
    "Asending_Order=sorted([Num1,Num2,Num3,Num4,Num5,Num6,Num7])\n",
    "\n",
    "print(\"Number is in ascending order:\",Asending_Order)"
   ]
  },
  {
   "cell_type": "code",
   "execution_count": 19,
   "id": "1090b771-4d9b-4bc1-a40c-071448e63db8",
   "metadata": {},
   "outputs": [
    {
     "name": "stdin",
     "output_type": "stream",
     "text": [
      "Enter your Num1 12\n",
      "Enter your Num1 45\n"
     ]
    },
    {
     "name": "stdout",
     "output_type": "stream",
     "text": [
      "45 is the largest Number\n"
     ]
    }
   ],
   "source": [
    "#10.Write a Python program that takes two numbers as input and prints the larger number.\n",
    "\n",
    "Num1=int(input(\"Enter your Num1\"))\n",
    "Num2=int(input(\"Enter your Num1\"))\n",
    "\n",
    "if Num1>Num2:\n",
    "    largest=Num1\n",
    "else:\n",
    "    largest=Num2\n",
    "\n",
    "print(largest,\"is the largest Number\")\n",
    " "
   ]
  },
  {
   "cell_type": "code",
   "execution_count": null,
   "id": "a2392ece-071e-43e9-8632-9ec5681ac26f",
   "metadata": {},
   "outputs": [],
   "source": []
  },
  {
   "cell_type": "code",
   "execution_count": null,
   "id": "dcf23c5c-0abf-417b-af70-82d47bf5daad",
   "metadata": {},
   "outputs": [],
   "source": []
  },
  {
   "cell_type": "code",
   "execution_count": null,
   "id": "5fa70d75-4ffd-4c3b-88d2-54a9fa8c2019",
   "metadata": {},
   "outputs": [],
   "source": []
  }
 ],
 "metadata": {
  "kernelspec": {
   "display_name": "Python 3 (ipykernel)",
   "language": "python",
   "name": "python3"
  },
  "language_info": {
   "codemirror_mode": {
    "name": "ipython",
    "version": 3
   },
   "file_extension": ".py",
   "mimetype": "text/x-python",
   "name": "python",
   "nbconvert_exporter": "python",
   "pygments_lexer": "ipython3",
   "version": "3.12.0"
  }
 },
 "nbformat": 4,
 "nbformat_minor": 5
}

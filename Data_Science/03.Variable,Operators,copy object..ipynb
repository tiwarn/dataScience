{
 "cells": [
  {
   "cell_type": "markdown",
   "id": "b128aeeb-28e7-4107-9ee1-c4f6d6cec94e",
   "metadata": {},
   "source": [
    "variable :\n",
    "Variables are containers for storing data values.\n",
    "Python has no command for declaring a variable.\n",
    "A variable is created the moment you first assign a value to it."
   ]
  },
  {
   "cell_type": "code",
   "execution_count": 1,
   "id": "78cdc7e3-7aa9-46c5-a527-7b952f1312ad",
   "metadata": {},
   "outputs": [
    {
     "name": "stdout",
     "output_type": "stream",
     "text": [
      "5\n",
      "john\n"
     ]
    }
   ],
   "source": [
    "x=5\n",
    "y=\"john\"\n",
    "print(x)\n",
    "print(y)"
   ]
  },
  {
   "cell_type": "code",
   "execution_count": 2,
   "id": "802f9a23-ab0b-42f5-9024-fe6e26b86e94",
   "metadata": {},
   "outputs": [
    {
     "name": "stdout",
     "output_type": "stream",
     "text": [
      "3\n",
      "3\n",
      "3.0\n"
     ]
    }
   ],
   "source": [
    "#If you want to specify the data type a variable , This can be done with casting.\n",
    "x=str(3) #x will be \"3\"\n",
    "y=int(3) #y will be 3\n",
    "z=float(3) #z will be 3.0\n",
    "\n",
    "print(x)\n",
    "print(y)\n",
    "print(z)"
   ]
  },
  {
   "cell_type": "code",
   "execution_count": 3,
   "id": "8fb5d3c2-7900-4524-ac7f-4723f0bc6332",
   "metadata": {},
   "outputs": [
    {
     "name": "stdout",
     "output_type": "stream",
     "text": [
      "<class 'int'>\n",
      "<class 'str'>\n",
      "<class 'complex'>\n",
      "<class 'float'>\n"
     ]
    }
   ],
   "source": [
    "x=5\n",
    "y=\"john\"\n",
    "z=1j\n",
    "a=10.5\n",
    "print(type(x))\n",
    "print(type(y))\n",
    "print(type(z))\n",
    "print(type(a))"
   ]
  },
  {
   "cell_type": "code",
   "execution_count": 4,
   "id": "6ba1560d-03d3-4f8b-ba81-bd966ac59261",
   "metadata": {},
   "outputs": [
    {
     "name": "stdout",
     "output_type": "stream",
     "text": [
      "jone\n"
     ]
    }
   ],
   "source": [
    "x=\"john\"\n",
    "# is the same as john\n",
    "x='jone'\n",
    "print(x)"
   ]
  },
  {
   "cell_type": "code",
   "execution_count": 5,
   "id": "d4804367-15ba-4f9b-9ec7-99d8ccd800ea",
   "metadata": {},
   "outputs": [
    {
     "name": "stdout",
     "output_type": "stream",
     "text": [
      "4\n",
      "Nitesh\n"
     ]
    }
   ],
   "source": [
    "a=4\n",
    "A=\"Nitesh\"\n",
    "#A will not overwrite a\n",
    "print(a)\n",
    "print(A)"
   ]
  },
  {
   "cell_type": "code",
   "execution_count": 6,
   "id": "ca0bd8df-d6e8-48ab-a35c-e32466716c03",
   "metadata": {},
   "outputs": [
    {
     "name": "stdout",
     "output_type": "stream",
     "text": [
      "Cat\n",
      "mat\n",
      "chat\n"
     ]
    }
   ],
   "source": [
    "#Many value to multiple variable \n",
    "x,y,z=\"Cat\",\"mat\",\"chat\"\n",
    "print(x)\n",
    "print(y)\n",
    "print(z)"
   ]
  },
  {
   "cell_type": "code",
   "execution_count": 7,
   "id": "277e317e-6da5-436d-be0a-4ee5718e3ac1",
   "metadata": {},
   "outputs": [],
   "source": [
    "#one value to be multiple variable\n",
    "#x,y,z = \"nitesh\"\n",
    "#print(x)\n",
    "#print(y)\n",
    "#print(z)"
   ]
  },
  {
   "cell_type": "code",
   "execution_count": 8,
   "id": "0730d35d-0459-4353-b8fb-9b5b150442d8",
   "metadata": {},
   "outputs": [],
   "source": [
    "#some example of variable"
   ]
  },
  {
   "cell_type": "code",
   "execution_count": 9,
   "id": "61527a45-234e-4535-8fce-4ad1132507a7",
   "metadata": {},
   "outputs": [
    {
     "name": "stdout",
     "output_type": "stream",
     "text": [
      "python is awesome\n"
     ]
    }
   ],
   "source": [
    "x=\"python is awesome\"\n",
    "print(x)"
   ]
  },
  {
   "cell_type": "code",
   "execution_count": 10,
   "id": "7d9e22c2-ee27-4fda-9cbe-a872623be736",
   "metadata": {},
   "outputs": [],
   "source": [
    "# x = 5\n",
    "# y = \"John\"\n",
    "# print(x + y)\n",
    "\n",
    "# here they give error"
   ]
  },
  {
   "cell_type": "code",
   "execution_count": 11,
   "id": "79ef7fd1-20c5-434a-bfce-26b1eacfac1e",
   "metadata": {},
   "outputs": [
    {
     "name": "stdout",
     "output_type": "stream",
     "text": [
      "nitesh kumar\n"
     ]
    }
   ],
   "source": [
    "x=\"nitesh\"\n",
    "y=\"kumar\"\n",
    "print(x,y)"
   ]
  },
  {
   "cell_type": "code",
   "execution_count": 12,
   "id": "e6192a74-5b15-4f3e-a58e-b55f0728c41d",
   "metadata": {},
   "outputs": [
    {
     "name": "stdout",
     "output_type": "stream",
     "text": [
      "nitesh kumar\n"
     ]
    }
   ],
   "source": [
    "x=\"nitesh \"\n",
    "y=\"kumar\"\n",
    "print(x+y)"
   ]
  },
  {
   "cell_type": "code",
   "execution_count": 13,
   "id": "dd21c58a-0fc6-4904-a5a2-4b53ffd26d66",
   "metadata": {},
   "outputs": [
    {
     "name": "stdout",
     "output_type": "stream",
     "text": [
      "14\n"
     ]
    }
   ],
   "source": [
    "x=6\n",
    "y=8\n",
    "print(x+y)"
   ]
  },
  {
   "cell_type": "code",
   "execution_count": 14,
   "id": "b5612e9e-b0f7-46c3-aa93-8ca0a4bf2465",
   "metadata": {},
   "outputs": [
    {
     "name": "stdout",
     "output_type": "stream",
     "text": [
      "6 nitesh\n"
     ]
    }
   ],
   "source": [
    "x=6\n",
    "y=\"nitesh\"\n",
    "print(x,y)"
   ]
  },
  {
   "cell_type": "code",
   "execution_count": 15,
   "id": "df96f884-2f50-4432-b33c-42c058e3f644",
   "metadata": {},
   "outputs": [],
   "source": [
    "#python Operators"
   ]
  },
  {
   "cell_type": "code",
   "execution_count": 16,
   "id": "773a5654-88f2-43aa-926a-c180218009f3",
   "metadata": {},
   "outputs": [],
   "source": [
    "#1.Arithmetic operators (+,-,*,/,%,//,**)"
   ]
  },
  {
   "cell_type": "code",
   "execution_count": 17,
   "id": "42864c44-db46-4f58-9376-1f604d4bfe4a",
   "metadata": {},
   "outputs": [
    {
     "name": "stdout",
     "output_type": "stream",
     "text": [
      "8\n"
     ]
    }
   ],
   "source": [
    "x=2\n",
    "y=6\n",
    "print(x+y)"
   ]
  },
  {
   "cell_type": "code",
   "execution_count": 18,
   "id": "0af076f7-125e-4ae8-9bfa-15cc38f96a02",
   "metadata": {},
   "outputs": [
    {
     "name": "stdout",
     "output_type": "stream",
     "text": [
      "-4\n"
     ]
    }
   ],
   "source": [
    "x=2\n",
    "y=6\n",
    "print(x-y)"
   ]
  },
  {
   "cell_type": "code",
   "execution_count": 19,
   "id": "9d96ec57-a27e-41a8-a06e-3cd06c8b4ead",
   "metadata": {},
   "outputs": [
    {
     "name": "stdout",
     "output_type": "stream",
     "text": [
      "12\n"
     ]
    }
   ],
   "source": [
    "x=2\n",
    "y=6\n",
    "print(x*y)"
   ]
  },
  {
   "cell_type": "code",
   "execution_count": 2,
   "id": "02377765-4735-495f-8294-d68657099511",
   "metadata": {},
   "outputs": [
    {
     "name": "stdout",
     "output_type": "stream",
     "text": [
      "2.0\n"
     ]
    }
   ],
   "source": [
    "x=12\n",
    "y=6\n",
    "print(x/y)"
   ]
  },
  {
   "cell_type": "code",
   "execution_count": 3,
   "id": "b2dc6403-6926-4591-a0ea-9b9ee75ef4ce",
   "metadata": {},
   "outputs": [
    {
     "name": "stdout",
     "output_type": "stream",
     "text": [
      "3\n"
     ]
    }
   ],
   "source": [
    "x=123\n",
    "y=6\n",
    "print(x%y)\n",
    "#% will give the reminder value."
   ]
  },
  {
   "cell_type": "code",
   "execution_count": 22,
   "id": "66997288-a369-4d31-98e4-654754efd925",
   "metadata": {},
   "outputs": [
    {
     "name": "stdout",
     "output_type": "stream",
     "text": [
      "1728\n"
     ]
    }
   ],
   "source": [
    "x=12\n",
    "y=3\n",
    "print(x**y) #y value will be number of time(12*12*12)"
   ]
  },
  {
   "cell_type": "code",
   "execution_count": 23,
   "id": "41ef60a4-218c-4713-aa48-07d76c140127",
   "metadata": {},
   "outputs": [
    {
     "name": "stdout",
     "output_type": "stream",
     "text": [
      "2\n",
      "2.1666666666666665\n"
     ]
    }
   ],
   "source": [
    "x=13\n",
    "y=6\n",
    "print(x//y)#the floor division //round the result done to the nearest of whole number.\n",
    "x=13\n",
    "y=6\n",
    "print(x/y)"
   ]
  },
  {
   "cell_type": "code",
   "execution_count": 24,
   "id": "91913446-23dc-4a4d-9fdf-c8c702707d65",
   "metadata": {},
   "outputs": [],
   "source": [
    "#2. Assignment Operators (=,+=,-=,*=,/=,%=,**=,//=)"
   ]
  },
  {
   "cell_type": "code",
   "execution_count": 25,
   "id": "a16d9b2e-8d55-468c-825f-6111a9a1113e",
   "metadata": {},
   "outputs": [
    {
     "name": "stdout",
     "output_type": "stream",
     "text": [
      "5\n"
     ]
    }
   ],
   "source": [
    "x=5\n",
    "print(x)"
   ]
  },
  {
   "cell_type": "code",
   "execution_count": 26,
   "id": "c52d8312-125e-48a1-b63d-2ff85afb3d91",
   "metadata": {},
   "outputs": [
    {
     "name": "stdout",
     "output_type": "stream",
     "text": [
      "7\n"
     ]
    }
   ],
   "source": [
    "x=5\n",
    "x +=2\n",
    "print(x)"
   ]
  },
  {
   "cell_type": "code",
   "execution_count": 27,
   "id": "c3fac1de-6bad-433c-9225-816060a7d155",
   "metadata": {},
   "outputs": [
    {
     "name": "stdout",
     "output_type": "stream",
     "text": [
      "3\n"
     ]
    }
   ],
   "source": [
    "x=5\n",
    "x -=2\n",
    "print(x)"
   ]
  },
  {
   "cell_type": "code",
   "execution_count": 28,
   "id": "3d78f11b-b378-4f86-8897-4f701885d3ca",
   "metadata": {},
   "outputs": [
    {
     "name": "stdout",
     "output_type": "stream",
     "text": [
      "10\n"
     ]
    }
   ],
   "source": [
    "x=5\n",
    "x *=2\n",
    "print(x)"
   ]
  },
  {
   "cell_type": "code",
   "execution_count": 29,
   "id": "7b8506f0-9cc1-4e73-b6ff-d81e02262f56",
   "metadata": {},
   "outputs": [
    {
     "name": "stdout",
     "output_type": "stream",
     "text": [
      "2.5\n"
     ]
    }
   ],
   "source": [
    "x=5\n",
    "x /=2\n",
    "print(x)"
   ]
  },
  {
   "cell_type": "code",
   "execution_count": 30,
   "id": "f007e85a-056f-4f8d-a1f1-75d8fa7f3e4f",
   "metadata": {},
   "outputs": [
    {
     "name": "stdout",
     "output_type": "stream",
     "text": [
      "1\n"
     ]
    }
   ],
   "source": [
    "x=5\n",
    "x %=2\n",
    "print(x)"
   ]
  },
  {
   "cell_type": "code",
   "execution_count": 31,
   "id": "162bd2a9-d8d8-43b5-a94e-d21856f2f54d",
   "metadata": {},
   "outputs": [
    {
     "name": "stdout",
     "output_type": "stream",
     "text": [
      "2\n"
     ]
    }
   ],
   "source": [
    "x=5\n",
    "x //=2\n",
    "print(x)"
   ]
  },
  {
   "cell_type": "code",
   "execution_count": 32,
   "id": "d6e64450-8423-4513-9cc3-15b73bae206c",
   "metadata": {},
   "outputs": [
    {
     "name": "stdout",
     "output_type": "stream",
     "text": [
      "25\n"
     ]
    }
   ],
   "source": [
    "x=5\n",
    "x **=2\n",
    "#(5x5...2 time)\n",
    "print(x)"
   ]
  },
  {
   "cell_type": "code",
   "execution_count": 33,
   "id": "86bbddce-83be-49c9-8ef9-c11233e1960d",
   "metadata": {},
   "outputs": [],
   "source": [
    "#3. Comparison Operators (==,!=,>,>=,<,<=)"
   ]
  },
  {
   "cell_type": "code",
   "execution_count": 34,
   "id": "2df08978-4c55-421b-8e4d-d78c71551f00",
   "metadata": {},
   "outputs": [
    {
     "name": "stdout",
     "output_type": "stream",
     "text": [
      "False\n"
     ]
    }
   ],
   "source": [
    "x=5\n",
    "y=3\n",
    "print(x==y)"
   ]
  },
  {
   "cell_type": "code",
   "execution_count": 35,
   "id": "fd0158c1-ab64-47a3-9f6e-cc43d648a45e",
   "metadata": {},
   "outputs": [
    {
     "name": "stdout",
     "output_type": "stream",
     "text": [
      "True\n"
     ]
    }
   ],
   "source": [
    "x=5\n",
    "y=3\n",
    "print(x!=y)"
   ]
  },
  {
   "cell_type": "code",
   "execution_count": 36,
   "id": "3fe11902-7f4e-4d93-8ff0-448557224cb4",
   "metadata": {},
   "outputs": [
    {
     "name": "stdout",
     "output_type": "stream",
     "text": [
      "True\n"
     ]
    }
   ],
   "source": [
    "x=5\n",
    "y=3\n",
    "print(x>y)"
   ]
  },
  {
   "cell_type": "code",
   "execution_count": 37,
   "id": "12580375-cf88-424d-8259-ec77091f214a",
   "metadata": {},
   "outputs": [
    {
     "name": "stdout",
     "output_type": "stream",
     "text": [
      "True\n"
     ]
    }
   ],
   "source": [
    "x=5\n",
    "y=3\n",
    "print(x>=y)"
   ]
  },
  {
   "cell_type": "code",
   "execution_count": 38,
   "id": "d5a9b0b1-4e0f-47e3-9860-9de9af5b9662",
   "metadata": {},
   "outputs": [
    {
     "name": "stdout",
     "output_type": "stream",
     "text": [
      "False\n"
     ]
    }
   ],
   "source": [
    "x=5\n",
    "y=3\n",
    "print(x<y)"
   ]
  },
  {
   "cell_type": "code",
   "execution_count": 39,
   "id": "20527e52-fd39-4aac-9590-68f3c9fac3b9",
   "metadata": {},
   "outputs": [
    {
     "name": "stdout",
     "output_type": "stream",
     "text": [
      "False\n"
     ]
    }
   ],
   "source": [
    "x=5\n",
    "y=3\n",
    "print(x<=y)"
   ]
  },
  {
   "cell_type": "code",
   "execution_count": 40,
   "id": "a5b7c62c-8db3-494e-9d7a-f48a9adb9256",
   "metadata": {},
   "outputs": [],
   "source": [
    "#4.Logical Operators (and, or, not)"
   ]
  },
  {
   "cell_type": "code",
   "execution_count": 41,
   "id": "3af456f0-eec2-40c0-a4a5-5ae8285244b8",
   "metadata": {},
   "outputs": [
    {
     "name": "stdout",
     "output_type": "stream",
     "text": [
      "True\n"
     ]
    }
   ],
   "source": [
    "#AND\n",
    "x=5\n",
    "print(x>3 and x<10)\n",
    "# returns True because 5 is greater than 3 AND 5 is less than 10"
   ]
  },
  {
   "cell_type": "code",
   "execution_count": 42,
   "id": "188c5365-7a3b-44ba-958e-483d5906f134",
   "metadata": {},
   "outputs": [
    {
     "name": "stdout",
     "output_type": "stream",
     "text": [
      "True\n"
     ]
    }
   ],
   "source": [
    "#OR\n",
    "x=5\n",
    "print(x>3 or x<4)\n",
    "# returns True because one of the conditions are true (5 is greater than 3, but 5 is not less than 4)"
   ]
  },
  {
   "cell_type": "code",
   "execution_count": 43,
   "id": "20d686af-a1e2-4a32-826c-dc477cd03425",
   "metadata": {},
   "outputs": [
    {
     "name": "stdout",
     "output_type": "stream",
     "text": [
      "False\n"
     ]
    }
   ],
   "source": [
    "#NOT\n",
    "x=5\n",
    "print(not(x>3 and x<10))\n",
    "# returns False because not is used to reverse the result"
   ]
  },
  {
   "cell_type": "code",
   "execution_count": 44,
   "id": "f802fe83-ae40-45e0-848e-8da89ba52de4",
   "metadata": {},
   "outputs": [],
   "source": [
    "#5. Identity Operators (is, is not)"
   ]
  },
  {
   "cell_type": "code",
   "execution_count": 45,
   "id": "5852ad99-765e-40cf-98aa-f9f04951289f",
   "metadata": {},
   "outputs": [
    {
     "name": "stdout",
     "output_type": "stream",
     "text": [
      "True\n"
     ]
    }
   ],
   "source": [
    "#IS\n",
    "x=\"nitesh\"\n",
    "y=\"nitesh\"\n",
    "print(x is y)"
   ]
  },
  {
   "cell_type": "code",
   "execution_count": 46,
   "id": "6aaf9915-9849-414f-b2ed-20e4347bfd4a",
   "metadata": {},
   "outputs": [
    {
     "name": "stdout",
     "output_type": "stream",
     "text": [
      "False\n"
     ]
    }
   ],
   "source": [
    "#IS\n",
    "x=\"nitesh\"\n",
    "y=\"Santosh\"\n",
    "print(x is y)"
   ]
  },
  {
   "cell_type": "code",
   "execution_count": 47,
   "id": "bfe7f526-e9f0-43a2-adee-b37fc164a9d8",
   "metadata": {},
   "outputs": [
    {
     "name": "stdout",
     "output_type": "stream",
     "text": [
      "False\n"
     ]
    }
   ],
   "source": [
    "#IS NOT\n",
    "x=\"nitesh\"\n",
    "y=\"nitesh\"\n",
    "print(x is not y)"
   ]
  },
  {
   "cell_type": "code",
   "execution_count": 48,
   "id": "3a896b3a-22e0-4534-94ff-f13fdcb396bf",
   "metadata": {},
   "outputs": [
    {
     "name": "stdout",
     "output_type": "stream",
     "text": [
      "True\n"
     ]
    }
   ],
   "source": [
    "#IS NOT\n",
    "x=\"nitesh\"\n",
    "y=\"santosh\"\n",
    "\n",
    "print(x is not y)"
   ]
  },
  {
   "cell_type": "code",
   "execution_count": 49,
   "id": "8d87f6f5-73bc-492c-9cca-4322d1405970",
   "metadata": {},
   "outputs": [],
   "source": [
    "#6. Membership Operators (in, not in)\n"
   ]
  },
  {
   "cell_type": "code",
   "execution_count": 50,
   "id": "63748683-b84b-4867-8845-259c5788eb59",
   "metadata": {},
   "outputs": [
    {
     "name": "stdout",
     "output_type": "stream",
     "text": [
      "True\n"
     ]
    }
   ],
   "source": [
    "#In\n",
    "x=[\"Banana\",\"car\"]\n",
    "print(\"Banana\" in x)\n",
    "# returns True because a sequence with the value \"banana\" is in the list"
   ]
  },
  {
   "cell_type": "code",
   "execution_count": 51,
   "id": "7aa00103-bd8e-44fe-a253-5c75ca8e5353",
   "metadata": {},
   "outputs": [
    {
     "name": "stdout",
     "output_type": "stream",
     "text": [
      "True\n"
     ]
    }
   ],
   "source": [
    "#Not in\n",
    "x=[\"Banana\",\"car\"]\n",
    "print(\"pineapple\" not in x)\n",
    "# returns True because a sequence with the value \"pineapple\" is not in the list"
   ]
  },
  {
   "cell_type": "markdown",
   "id": "a6fac0cc-b1d2-41d6-a290-a67b885e1559",
   "metadata": {},
   "source": [
    "#how to copy object in python ?\n",
    "1.deep copy = any change made to a copy of object do not reflect in original object.\n",
    "Syntax: copy.deepcopy()\n",
    "\n",
    "2.shallow copy = a copy of the original object is stored and only the reference address is finally copied.  \n",
    "Syntax: copy.copy()"
   ]
  },
  {
   "cell_type": "code",
   "execution_count": 52,
   "id": "408442dd-1e15-4728-9225-21ac9ba1129f",
   "metadata": {},
   "outputs": [
    {
     "name": "stdout",
     "output_type": "stream",
     "text": [
      "[[1, 2], [23, 34], [56, 67]]\n",
      "[[1, 89], [10, 34], [56, 67]]\n",
      "[[1, 2], [23, 34], [56, 67]]\n"
     ]
    }
   ],
   "source": [
    "#deep copy\n",
    "l=[[1,2],[23,34],[56,67]]\n",
    "import copy\n",
    "a=copy.deepcopy(l)\n",
    "print(a)\n",
    "\n",
    "a[1][0]=10\n",
    "a[0][1]=89\n",
    "\n",
    "print(a)\n",
    "print(l)\n"
   ]
  },
  {
   "cell_type": "code",
   "execution_count": 53,
   "id": "ee1726f9-cc7d-4ac4-87bc-16fdb0cc408b",
   "metadata": {},
   "outputs": [
    {
     "name": "stdout",
     "output_type": "stream",
     "text": [
      "['a', 'b', 'c', 'd']\n",
      "['a', 10, 20, 'd']\n",
      "['a', 'b', 'c', 'd']\n"
     ]
    }
   ],
   "source": [
    "l = [\"a\",\"b\",\"c\",\"d\"]\n",
    "import copy\n",
    "a=copy.deepcopy(l)\n",
    "print(a)\n",
    "\n",
    "a[2]= 20\n",
    "a[1]=10\n",
    "print(a)\n",
    "print(l)"
   ]
  },
  {
   "cell_type": "code",
   "execution_count": 54,
   "id": "c124bd32-da14-41b7-bf70-c76ac60797a8",
   "metadata": {},
   "outputs": [
    {
     "name": "stdout",
     "output_type": "stream",
     "text": [
      "[[10, 20], [30, 40]]\n",
      "[['abc', 20], [30, 'xyz']]\n",
      "[[10, 20], [30, 40]]\n"
     ]
    }
   ],
   "source": [
    "#deep copy\n",
    "l=[[10,20],[30,40]]\n",
    "import copy\n",
    "a=copy.deepcopy(l)\n",
    "print(a)\n",
    "a[0][0]=\"abc\"\n",
    "a[1][1]=\"xyz\"\n",
    "\n",
    "print(a)\n",
    "print(l)\n"
   ]
  },
  {
   "cell_type": "code",
   "execution_count": 6,
   "id": "51ef66f6-12a6-4e45-b4a7-94f9e1e76249",
   "metadata": {},
   "outputs": [
    {
     "ename": "AttributeError",
     "evalue": "module 'copy' has no attribute 'shallowcopy'",
     "output_type": "error",
     "traceback": [
      "\u001b[1;31m---------------------------------------------------------------------------\u001b[0m",
      "\u001b[1;31mAttributeError\u001b[0m                            Traceback (most recent call last)",
      "Cell \u001b[1;32mIn[6], line 4\u001b[0m\n\u001b[0;32m      2\u001b[0m a\u001b[38;5;241m=\u001b[39m[[\u001b[38;5;124m\"\u001b[39m\u001b[38;5;124mNitesj\u001b[39m\u001b[38;5;124m\"\u001b[39m,\u001b[38;5;124m\"\u001b[39m\u001b[38;5;124msanju\u001b[39m\u001b[38;5;124m\"\u001b[39m],[\u001b[38;5;124m\"\u001b[39m\u001b[38;5;124mhema\u001b[39m\u001b[38;5;124m\"\u001b[39m,\u001b[38;5;124m\"\u001b[39m\u001b[38;5;124mseema\u001b[39m\u001b[38;5;124m\"\u001b[39m]]\n\u001b[0;32m      3\u001b[0m \u001b[38;5;28;01mimport\u001b[39;00m \u001b[38;5;21;01mcopy\u001b[39;00m\n\u001b[1;32m----> 4\u001b[0m b\u001b[38;5;241m=\u001b[39m\u001b[43mcopy\u001b[49m\u001b[38;5;241;43m.\u001b[39;49m\u001b[43mshallowcopy\u001b[49m(a)\n\u001b[0;32m      6\u001b[0m \u001b[38;5;28mprint\u001b[39m(b)\n\u001b[0;32m      8\u001b[0m a[\u001b[38;5;241m0\u001b[39m][\u001b[38;5;241m1\u001b[39m]\u001b[38;5;241m=\u001b[39m\u001b[38;5;124m\"\u001b[39m\u001b[38;5;124mmanu\u001b[39m\u001b[38;5;124m\"\u001b[39m\n",
      "\u001b[1;31mAttributeError\u001b[0m: module 'copy' has no attribute 'shallowcopy'"
     ]
    }
   ],
   "source": [
    "#shallow copy\n",
    "a=[[\"Nitesj\",\"sanju\"],[\"hema\",\"seema\"]]\n",
    "import copy\n",
    "b=copy.copy(a)\n",
    "\n",
    "print(b)\n",
    "\n",
    "a[0][1]=\"manu\"\n",
    "a[1][1]=\"rachana\"\n",
    "\n",
    "print(a)\n",
    "print(b)\n"
   ]
  },
  {
   "cell_type": "code",
   "execution_count": 1,
   "id": "aa37b83c-77ec-4362-b0d3-458e531e6285",
   "metadata": {},
   "outputs": [
    {
     "name": "stdout",
     "output_type": "stream",
     "text": [
      "[['abc', 'def'], ['xyz', 'mno']]\n",
      "[[10, 'def'], ['xyz', 50]]\n",
      "[[10, 'def'], ['xyz', 50]]\n"
     ]
    }
   ],
   "source": [
    "#shallow copy\n",
    "a=[[\"abc\",\"def\"],[\"xyz\",\"mno\"]]\n",
    "import copy\n",
    "b=copy.copy(a)\n",
    "print(b)\n",
    "a[0][0]=10\n",
    "a[1][1]=50\n",
    "\n",
    "print(b)\n",
    "print(a)\n",
    "\n",
    "\n"
   ]
  },
  {
   "cell_type": "code",
   "execution_count": 57,
   "id": "73aec9f9-b28d-4ded-95d8-734c15f7ad82",
   "metadata": {},
   "outputs": [
    {
     "name": "stdin",
     "output_type": "stream",
     "text": [
      "enter your table number 2\n"
     ]
    },
    {
     "name": "stdout",
     "output_type": "stream",
     "text": [
      "2 x 1 = 2\n",
      "2 x 2 = 4\n",
      "2 x 3 = 6\n",
      "2 x 4 = 8\n",
      "2 x 5 = 10\n",
      "2 x 6 = 12\n",
      "2 x 7 = 14\n",
      "2 x 8 = 16\n",
      "2 x 9 = 18\n",
      "2 x 10 = 20\n",
      "The Multiplication table of : 2\n"
     ]
    }
   ],
   "source": [
    "#how to create table\n",
    "Num=int(input(\"enter your table number\"))\n",
    "for i in range (1,11):\n",
    "    print(Num,\"x\",i,\"=\", Num*i)\n",
    "    \n",
    "print(\"The Multiplication table of :\",Num)\n"
   ]
  },
  {
   "cell_type": "code",
   "execution_count": 58,
   "id": "973ce317-a4ed-418b-86dc-246933bd8a9a",
   "metadata": {},
   "outputs": [
    {
     "name": "stdout",
     "output_type": "stream",
     "text": [
      "10\n",
      "5\n",
      "x = 10\n",
      "y = 5\n"
     ]
    }
   ],
   "source": [
    "# pre-define function\n",
    "x=5\n",
    "y=10\n",
    "\n",
    "x, y = y, x\n",
    "print(x)\n",
    "print(y)\n",
    "\n",
    "print(\"x =\", x)\n",
    "print(\"y =\", y)"
   ]
  },
  {
   "cell_type": "code",
   "execution_count": 59,
   "id": "524f9717-bd8b-4acf-a411-14d9d5fc0ac2",
   "metadata": {},
   "outputs": [
    {
     "name": "stdout",
     "output_type": "stream",
     "text": [
      "preet patel\n",
      "parth soni\n",
      "x = preet patel\n",
      "y = parth soni\n"
     ]
    }
   ],
   "source": [
    "# pre-define function\n",
    "x=\"parth soni\"\n",
    "y=\"preet patel\"\n",
    "\n",
    "x, y = y, x\n",
    "\n",
    "print(x)\n",
    "print(y)\n",
    "\n",
    "print(\"x =\", x)\n",
    "print(\"y =\", y)"
   ]
  },
  {
   "cell_type": "code",
   "execution_count": 60,
   "id": "26c838a8-496b-484b-8ca0-6dd7dcceb746",
   "metadata": {},
   "outputs": [
    {
     "name": "stdin",
     "output_type": "stream",
     "text": [
      "Enter your name nitesh\n",
      "Enter your name sunil\n"
     ]
    },
    {
     "name": "stdout",
     "output_type": "stream",
     "text": [
      "sunil\n",
      "nitesh\n",
      "x = sunil\n",
      "y = nitesh\n"
     ]
    }
   ],
   "source": [
    "# User-define function\n",
    "x=input(\"Enter your name\")\n",
    "y=input(\"Enter your name\")\n",
    "\n",
    "x, y = y, x\n",
    "\n",
    "print(x)\n",
    "print(y)\n",
    "\n",
    "print(\"x =\", x)\n",
    "print(\"y =\", y)"
   ]
  },
  {
   "cell_type": "code",
   "execution_count": 61,
   "id": "73cbbdb5-2eff-48b4-90d9-18ffc3d28beb",
   "metadata": {},
   "outputs": [
    {
     "name": "stdout",
     "output_type": "stream",
     "text": [
      "20\n",
      "10\n",
      "the value of x after swapping 20\n",
      "the value of y after swapping 10\n"
     ]
    }
   ],
   "source": [
    "#pre define fuction\n",
    "x=10\n",
    "y=20\n",
    "\n",
    "temp=x\n",
    "x=y\n",
    "y=temp\n",
    "\n",
    "#Temp=x=y=temp\n",
    "print(x)\n",
    "print(y)\n",
    "\n",
    "print(\"the value of x after swapping\",x)\n",
    "print(\"the value of y after swapping\",y)\n",
    "\n"
   ]
  },
  {
   "cell_type": "code",
   "execution_count": 62,
   "id": "8a21688e-bcd7-45ea-b2f5-93f1f17a48d5",
   "metadata": {},
   "outputs": [
    {
     "name": "stdin",
     "output_type": "stream",
     "text": [
      "enter your name  Nitesh\n",
      "enter your name  Sunil\n"
     ]
    },
    {
     "name": "stdout",
     "output_type": "stream",
     "text": [
      "the value of x after swapping  Sunil\n",
      "the value of y after swapping  Nitesh\n"
     ]
    }
   ],
   "source": [
    "# user define function\n",
    "x=input(\"enter your name \")\n",
    "y=input(\"enter your name \")\n",
    "\n",
    "temp=x\n",
    "x=y\n",
    "y=temp\n",
    "\n",
    "print(\"the value of x after swapping \", x)\n",
    "print(\"the value of y after swapping \", y)"
   ]
  },
  {
   "cell_type": "code",
   "execution_count": 63,
   "id": "2513e278-1f03-44ff-aed6-90eb18fa69e9",
   "metadata": {},
   "outputs": [
    {
     "name": "stdout",
     "output_type": "stream",
     "text": [
      "['False', 'None', 'True', 'and', 'as', 'assert', 'async', 'await', 'break', 'class', 'continue', 'def', 'del', 'elif', 'else', 'except', 'finally', 'for', 'from', 'global', 'if', 'import', 'in', 'is', 'lambda', 'nonlocal', 'not', 'or', 'pass', 'raise', 'return', 'try', 'while', 'with', 'yield']\n"
     ]
    }
   ],
   "source": [
    "#keywords=33\n",
    "import keyword\n",
    "a=keyword.kwlist\n",
    "print(a)"
   ]
  },
  {
   "cell_type": "code",
   "execution_count": 64,
   "id": "5d04982c-b9a8-435f-8c0e-6910791f2bd6",
   "metadata": {},
   "outputs": [
    {
     "name": "stdout",
     "output_type": "stream",
     "text": [
      "2023-11-14 22:35:17.111458\n"
     ]
    }
   ],
   "source": [
    "#date & time import\n",
    "import datetime\n",
    "today=datetime.datetime.now()\n",
    "print(today)"
   ]
  },
  {
   "cell_type": "code",
   "execution_count": 65,
   "id": "29659174-0ab8-44c5-9988-5f3208d939ac",
   "metadata": {},
   "outputs": [
    {
     "name": "stdout",
     "output_type": "stream",
     "text": [
      "3.12.0 (tags/v3.12.0:0fb18b0, Oct  2 2023, 13:03:39) [MSC v.1935 64 bit (AMD64)]\n"
     ]
    }
   ],
   "source": [
    "#python version\n",
    "import sys\n",
    "print(sys.version)"
   ]
  },
  {
   "cell_type": "code",
   "execution_count": 66,
   "id": "871309b2-6429-43c0-825e-6c6b38b9fd47",
   "metadata": {},
   "outputs": [],
   "source": [
    "#empty list,tuple,set,dict& None class."
   ]
  },
  {
   "cell_type": "code",
   "execution_count": 67,
   "id": "aacf31c2-f9db-4e20-bc89-5e687777d8b0",
   "metadata": {},
   "outputs": [
    {
     "name": "stdout",
     "output_type": "stream",
     "text": [
      "[]\n"
     ]
    }
   ],
   "source": [
    "#empty list\n",
    "a=[]\n",
    "print(a)"
   ]
  },
  {
   "cell_type": "code",
   "execution_count": 68,
   "id": "a62f1dd2-188f-45d7-9315-9e3f3c1685af",
   "metadata": {},
   "outputs": [
    {
     "name": "stdout",
     "output_type": "stream",
     "text": [
      "()\n"
     ]
    }
   ],
   "source": [
    "#empty tuple\n",
    "a=()\n",
    "print(a)"
   ]
  },
  {
   "cell_type": "code",
   "execution_count": 69,
   "id": "479c5bb4-6a2b-4240-b63f-0dcd144adefd",
   "metadata": {},
   "outputs": [
    {
     "name": "stdout",
     "output_type": "stream",
     "text": [
      "{}\n"
     ]
    }
   ],
   "source": [
    "#empty dict\n",
    "a={}\n",
    "print(a)"
   ]
  },
  {
   "cell_type": "code",
   "execution_count": 70,
   "id": "6b5a4cc7-e224-45a7-b832-5883fe22cad5",
   "metadata": {},
   "outputs": [
    {
     "name": "stdout",
     "output_type": "stream",
     "text": [
      "set()\n"
     ]
    }
   ],
   "source": [
    "#empty set\n",
    "a=set()\n",
    "print(a)"
   ]
  },
  {
   "cell_type": "code",
   "execution_count": 71,
   "id": "0c76b328-0f40-44a4-b96f-f1a6ac412d0f",
   "metadata": {},
   "outputs": [
    {
     "name": "stdout",
     "output_type": "stream",
     "text": [
      "None\n"
     ]
    }
   ],
   "source": [
    "#none class\n",
    "a=None\n",
    "print(a)"
   ]
  },
  {
   "cell_type": "code",
   "execution_count": 72,
   "id": "362ad6a2-c2d4-4c83-a340-3121933f39ab",
   "metadata": {},
   "outputs": [],
   "source": [
    "#Palindrom in pyton:-\n",
    "#A string is said to be palindrome if the reverse of the string is the same as string.ex.(wow,101,202,mom)"
   ]
  },
  {
   "cell_type": "code",
   "execution_count": null,
   "id": "09ea2e46-ae72-4b21-9930-fd76cb3fea01",
   "metadata": {},
   "outputs": [],
   "source": []
  },
  {
   "cell_type": "code",
   "execution_count": 73,
   "id": "e76596ed-076d-442e-b81d-dd2f93ca23d6",
   "metadata": {},
   "outputs": [
    {
     "name": "stdout",
     "output_type": "stream",
     "text": [
      "yes,It's palindrom series\n"
     ]
    }
   ],
   "source": [
    "#Palindrom (madam,101,wow,202,121,303,404,555,111)\n",
    "#Pre define function\n",
    "a=\"madam\"\n",
    "if a==a[::-1]:\n",
    "    print(\"yes,It's palindrom series\")\n",
    "else:\n",
    "    print(\"No\")"
   ]
  },
  {
   "cell_type": "code",
   "execution_count": 74,
   "id": "04083ed2-a3c0-4ae1-bfd9-5696137c5b73",
   "metadata": {},
   "outputs": [
    {
     "name": "stdin",
     "output_type": "stream",
     "text": [
      "Enter your num 121\n"
     ]
    },
    {
     "name": "stdout",
     "output_type": "stream",
     "text": [
      "yes,It's palindrom series\n"
     ]
    }
   ],
   "source": [
    "#User define function\n",
    "a=input(\"Enter your num\")\n",
    "if a==a[::-1]:\n",
    "    print(\"yes,It's palindrom series\")\n",
    "else:\n",
    "    print(\"No\")"
   ]
  },
  {
   "cell_type": "code",
   "execution_count": 75,
   "id": "6dca7db2-551d-45c1-836e-773fbdb819f3",
   "metadata": {},
   "outputs": [],
   "source": [
    " # A list containing average daily temperature over a week"
   ]
  },
  {
   "cell_type": "code",
   "execution_count": 76,
   "id": "1cdcbdf9-839f-4fb8-9710-853fc47a78ba",
   "metadata": {},
   "outputs": [
    {
     "name": "stdout",
     "output_type": "stream",
     "text": [
      "[20, 30, 40, 45, 34, 50]\n"
     ]
    },
    {
     "data": {
      "text/plain": [
       "list"
      ]
     },
     "execution_count": 76,
     "metadata": {},
     "output_type": "execute_result"
    }
   ],
   "source": [
    "temperatures= [20,30,40,45,34,50]\n",
    "print(temperatures)\n",
    "type(temperatures)"
   ]
  },
  {
   "cell_type": "code",
   "execution_count": 77,
   "id": "f113fd99-8cb1-461d-8ff2-a25c6cd809e8",
   "metadata": {},
   "outputs": [
    {
     "data": {
      "text/plain": [
       "6"
      ]
     },
     "execution_count": 77,
     "metadata": {},
     "output_type": "execute_result"
    }
   ],
   "source": [
    "len(temperatures)"
   ]
  },
  {
   "cell_type": "code",
   "execution_count": 78,
   "id": "5e6b129c-e10d-4704-bcad-bde06f9ed9be",
   "metadata": {},
   "outputs": [
    {
     "data": {
      "text/plain": [
       "219"
      ]
     },
     "execution_count": 78,
     "metadata": {},
     "output_type": "execute_result"
    }
   ],
   "source": [
    "sum(temperatures)"
   ]
  },
  {
   "cell_type": "code",
   "execution_count": 79,
   "id": "41c8ec7e-a84e-481c-9b44-1e891d425fc6",
   "metadata": {},
   "outputs": [
    {
     "name": "stdout",
     "output_type": "stream",
     "text": [
      "[45, 34]\n"
     ]
    }
   ],
   "source": [
    "print(temperatures[3:5])"
   ]
  },
  {
   "cell_type": "code",
   "execution_count": 80,
   "id": "aa2889b0-1814-406c-bd80-57cace316d81",
   "metadata": {},
   "outputs": [
    {
     "name": "stdout",
     "output_type": "stream",
     "text": [
      "46\n"
     ]
    }
   ],
   "source": [
    "max_temp=[20,34,35,46]\n",
    "print(max_temp[3])"
   ]
  },
  {
   "cell_type": "code",
   "execution_count": 81,
   "id": "27c7f006-dc7f-49b7-826e-13a59dc2b6b1",
   "metadata": {},
   "outputs": [
    {
     "name": "stdout",
     "output_type": "stream",
     "text": [
      "20\n"
     ]
    }
   ],
   "source": [
    "Min_temp=[20,34,35,46]\n",
    "print(Min_temp[0])"
   ]
  },
  {
   "cell_type": "code",
   "execution_count": 82,
   "id": "f0213d31-19db-48e5-aae1-58bd913e12bf",
   "metadata": {},
   "outputs": [
    {
     "name": "stdin",
     "output_type": "stream",
     "text": [
      "enter the age:  13\n",
      "enter the gender (M/F):  F\n"
     ]
    },
    {
     "name": "stdout",
     "output_type": "stream",
     "text": [
      "you are a young girl\n"
     ]
    }
   ],
   "source": [
    "#nested if-else statement\n",
    "age=int(input(\"enter the age: \"))\n",
    "gender=input(\"enter the gender (M/F): \").upper()\n",
    "\n",
    "\n",
    "if age <18:\n",
    "    if gender==\"M\":\n",
    "        print(\"you are a young boy\")\n",
    "    elif gender==\"F\":\n",
    "        print(\"you are a young girl\")\n",
    "    \n",
    "else:\n",
    "    if gender==\"M\":\n",
    "        print(\"you are a old Man\")\n",
    "    elif gender==\"F\":\n",
    "        print(\"you are a old Woman\")"
   ]
  },
  {
   "cell_type": "code",
   "execution_count": 83,
   "id": "bd60c9a4-b8c7-4ac0-9cb8-9e47cdeeb138",
   "metadata": {},
   "outputs": [
    {
     "name": "stdin",
     "output_type": "stream",
     "text": [
      "Enter the temperature:  56\n"
     ]
    },
    {
     "name": "stdout",
     "output_type": "stream",
     "text": [
      "56.0 celsius to fahrenheit conversion in fahrenheit is:  132.8\n"
     ]
    }
   ],
   "source": [
    "# create a program that takes a temperature in celsius and converts it to Fahrenheit.\n",
    "# Display the result with an appropriate message.\n",
    "Celsius=float(input(\"Enter the temperature: \"))\n",
    "\n",
    "# conversion celsius to fahrenheit\n",
    "# multiply by 1.8 (or 9/5) and add 32.\n",
    "\n",
    "\n",
    "Fahrenheit=(Celsius*1.8)+32\n",
    "\n",
    "print( Celsius,'celsius to fahrenheit conversion in fahrenheit is: ', Fahrenheit)"
   ]
  },
  {
   "cell_type": "code",
   "execution_count": 84,
   "id": "d3fade56-5624-4138-8ae0-8a2a08ef4a63",
   "metadata": {},
   "outputs": [
    {
     "name": "stdin",
     "output_type": "stream",
     "text": [
      "Enter your num 12\n",
      "Enter your num 24\n",
      "Enter your num 11\n"
     ]
    },
    {
     "name": "stdout",
     "output_type": "stream",
     "text": [
      "Number in Asending order:  [11, 12, 24]\n"
     ]
    }
   ],
   "source": [
    "# create a program that asks the user for three numbers and then prints them in ascending order.\n",
    "# sorted function\n",
    "Num1=int(input(\"Enter your num\"))\n",
    "Num2=int(input(\"Enter your num\"))\n",
    "Num3=int(input(\"Enter your num\"))\n",
    "\n",
    "sorted_Fuction=sorted([Num1,Num2,Num3])\n",
    "\n",
    "print(\"Number in Asending order: \",sorted_Fuction)"
   ]
  },
  {
   "cell_type": "code",
   "execution_count": null,
   "id": "37b3e3e7-6939-44ad-9835-58192fe824cb",
   "metadata": {},
   "outputs": [],
   "source": []
  },
  {
   "cell_type": "code",
   "execution_count": null,
   "id": "3988ab9e-bb8b-46ff-b198-c96f107e3447",
   "metadata": {},
   "outputs": [],
   "source": []
  },
  {
   "cell_type": "code",
   "execution_count": null,
   "id": "00f97aac-c653-481b-9d3f-1ae55e098fa2",
   "metadata": {},
   "outputs": [],
   "source": []
  },
  {
   "cell_type": "code",
   "execution_count": null,
   "id": "3524625a-cc04-40ba-81b1-037b30247057",
   "metadata": {},
   "outputs": [],
   "source": []
  }
 ],
 "metadata": {
  "kernelspec": {
   "display_name": "Python 3 (ipykernel)",
   "language": "python",
   "name": "python3"
  },
  "language_info": {
   "codemirror_mode": {
    "name": "ipython",
    "version": 3
   },
   "file_extension": ".py",
   "mimetype": "text/x-python",
   "name": "python",
   "nbconvert_exporter": "python",
   "pygments_lexer": "ipython3",
   "version": "3.12.0"
  }
 },
 "nbformat": 4,
 "nbformat_minor": 5
}

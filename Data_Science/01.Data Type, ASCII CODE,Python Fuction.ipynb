{
 "cells": [
  {
   "cell_type": "markdown",
   "id": "19ca144c-e443-4e4b-8eea-25ac194dbda7",
   "metadata": {},
   "source": [
    "python datatypes"
   ]
  },
  {
   "cell_type": "markdown",
   "id": "0acc5c75-f9b8-4d3a-9701-76b011d1a57a",
   "metadata": {},
   "source": [
    "number (int, float.complex)\n",
    "int = 20,50,75,10,2,5\n",
    "float = 1.52,25.52,14.52,85.69\n",
    "\n",
    "comment and multiline comment\n",
    "comment - #\n",
    "multiline commnet = \"\"\"   \"\"\""
   ]
  },
  {
   "cell_type": "code",
   "execution_count": 1,
   "id": "567e77e8-ac60-4b12-b781-97745c0e0831",
   "metadata": {},
   "outputs": [
    {
     "name": "stdout",
     "output_type": "stream",
     "text": [
      "20\n",
      "<class 'int'>\n"
     ]
    }
   ],
   "source": [
    "#  example - int (10,5,12,14,18,20)\n",
    "a= 20\n",
    "print(a) \n",
    "print(type(a))"
   ]
  },
  {
   "cell_type": "code",
   "execution_count": 2,
   "id": "ec7b4fb0-dfc8-45ef-b16e-9685ef38aed9",
   "metadata": {},
   "outputs": [
    {
     "name": "stdout",
     "output_type": "stream",
     "text": [
      "20.55\n",
      "<class 'float'>\n"
     ]
    }
   ],
   "source": [
    "# ex.float\n",
    "\n",
    "\"\"\"asd\n",
    "KEFJWF\n",
    "DFEGT\n",
    "RWRTHETY\n",
    "RGRTHE5\n",
    "ERTWRTYE\n",
    "RGRTE5\n",
    "RTE4TY5\n",
    "RTR7\n",
    "TRER6\"\"\"\n",
    "\n",
    "a = 20.55\n",
    "print(a)\n",
    "print(type(a))"
   ]
  },
  {
   "cell_type": "code",
   "execution_count": 3,
   "id": "5d3850b6-fa8d-4191-8d75-b1c935813ef8",
   "metadata": {},
   "outputs": [
    {
     "name": "stdout",
     "output_type": "stream",
     "text": [
      "1j\n",
      "<class 'complex'>\n"
     ]
    }
   ],
   "source": [
    "# ex - complex\n",
    "\n",
    "a = 1j\n",
    "print(a)\n",
    "print(type(a))"
   ]
  },
  {
   "cell_type": "code",
   "execution_count": 4,
   "id": "69e5002d-a494-47f8-ba3e-fc87487b1d3c",
   "metadata": {},
   "outputs": [],
   "source": [
    "#list (ordered, mutable, duplicate allowed) -[ ]-(dir(list)}'append','clear','copy','count','extend','index','insert','pop','remove','reverse','sort']"
   ]
  },
  {
   "cell_type": "code",
   "execution_count": 5,
   "id": "fe1d3d0f-c28b-4083-9bc6-4a7059e4b2ad",
   "metadata": {},
   "outputs": [],
   "source": [
    "#indexing\n",
    "#list=[10,20,30,40,50,60]\n",
    "      #[0, 1, 2, 3, 4, 5]"
   ]
  },
  {
   "cell_type": "code",
   "execution_count": 6,
   "id": "902cfd3b-9b77-4476-826f-2e7e5d95d349",
   "metadata": {},
   "outputs": [
    {
     "name": "stdout",
     "output_type": "stream",
     "text": [
      "[1, 2, 3, 4, 5, 1, 1]\n"
     ]
    }
   ],
   "source": [
    "#Order and duplicate allowed\n",
    "list=[1,2,3,4,5,1,1]\n",
    "print(list)\n"
   ]
  },
  {
   "cell_type": "code",
   "execution_count": 7,
   "id": "beece5e6-850a-421a-b1b5-a263eb065b85",
   "metadata": {},
   "outputs": [
    {
     "name": "stdout",
     "output_type": "stream",
     "text": [
      "[10, 20, 30, 10]\n"
     ]
    }
   ],
   "source": [
    "#when we have to add one element\n",
    "list=[10,20,30]\n",
    "list.append(10)\n",
    "print(list)"
   ]
  },
  {
   "cell_type": "code",
   "execution_count": 8,
   "id": "ca55b808-446e-41ee-85cc-fb706d307352",
   "metadata": {},
   "outputs": [
    {
     "name": "stdout",
     "output_type": "stream",
     "text": [
      "[10, 20, 30, 10, 40, 50, 'hy', 60, 80, 'hello']\n"
     ]
    }
   ],
   "source": [
    "#when we have to add more than one element\n",
    "list=[10,20,30,10]\n",
    "list.extend([40,50,\"hy\",60,80,\"hello\"])\n",
    "print(list)\n"
   ]
  },
  {
   "cell_type": "code",
   "execution_count": 9,
   "id": "a6fc5330-b049-49de-84b6-052b56777264",
   "metadata": {},
   "outputs": [
    {
     "name": "stdout",
     "output_type": "stream",
     "text": [
      "[10, 5, 20, 8, 30, 40, 50]\n"
     ]
    }
   ],
   "source": [
    "#insert fuction(It will add on give index)\n",
    "list=[10,20,30,40,50]\n",
    "list.insert(1,5)\n",
    "list.insert(3,8)\n",
    "print (list)\n"
   ]
  },
  {
   "cell_type": "code",
   "execution_count": 10,
   "id": "efc0a706-9449-48d2-9ced-b90f6d4a4c14",
   "metadata": {},
   "outputs": [
    {
     "name": "stdout",
     "output_type": "stream",
     "text": [
      "[123, 234, 243]\n"
     ]
    }
   ],
   "source": [
    "#remove function remove same element\n",
    "list=[123,234,243,23]\n",
    "list.remove(23)\n",
    "print(list)\n"
   ]
  },
  {
   "cell_type": "code",
   "execution_count": 11,
   "id": "d2111181-af29-4dc1-8a87-a8d32d608e3d",
   "metadata": {},
   "outputs": [
    {
     "name": "stdout",
     "output_type": "stream",
     "text": [
      "[1, 3]\n"
     ]
    }
   ],
   "source": [
    "#pop function remove as per index\n",
    "list=[1,2,3]\n",
    "list.pop(1)\n",
    "print(list)"
   ]
  },
  {
   "cell_type": "code",
   "execution_count": 12,
   "id": "4f4e0456-ae30-41f1-8a58-9e2d9103d7e1",
   "metadata": {},
   "outputs": [
    {
     "name": "stdout",
     "output_type": "stream",
     "text": [
      "2\n"
     ]
    }
   ],
   "source": [
    "#Find out index\n",
    "list=[10,20,45,48,90,56]\n",
    "a=list.index(45)\n",
    "print(a)"
   ]
  },
  {
   "cell_type": "code",
   "execution_count": 13,
   "id": "46a1a658-78d9-4a7b-b163-1159c6f6a88f",
   "metadata": {},
   "outputs": [
    {
     "name": "stdout",
     "output_type": "stream",
     "text": [
      "4\n"
     ]
    }
   ],
   "source": [
    "#count particular element\n",
    "list=[10,20,30,20,40,44,20,10,20]\n",
    "a=list.count(20)\n",
    "print(a)\n"
   ]
  },
  {
   "cell_type": "code",
   "execution_count": 14,
   "id": "7b1f8561-a9ed-445d-afb5-13fe5ca45ef4",
   "metadata": {},
   "outputs": [
    {
     "name": "stdout",
     "output_type": "stream",
     "text": [
      "[1, 2, 3, 7, 4, 5, 6]\n"
     ]
    }
   ],
   "source": [
    "#copy whole list\n",
    "list=[1,2,3,7,4,5,6]\n",
    "a=list.copy()\n",
    "print(a)"
   ]
  },
  {
   "cell_type": "code",
   "execution_count": 15,
   "id": "ff106307-6d20-474c-9aed-bbe66ff4b72a",
   "metadata": {},
   "outputs": [
    {
     "name": "stdout",
     "output_type": "stream",
     "text": [
      "[3, 4, 5, 6, 8, 9]\n"
     ]
    }
   ],
   "source": [
    "#sort list in asc order\n",
    "list=[8,9,3,4,5,6]\n",
    "list.sort()\n",
    "print(list)"
   ]
  },
  {
   "cell_type": "code",
   "execution_count": 16,
   "id": "83369042-91a0-4a6b-8879-63417cf2574b",
   "metadata": {},
   "outputs": [
    {
     "name": "stdout",
     "output_type": "stream",
     "text": [
      "[0, 9, 8, 7, 6, 4, 3, 2, 1]\n"
     ]
    }
   ],
   "source": [
    "#reverse list without using reverse word\n",
    "list=[1,2,3,4,6,7,8,9,0]\n",
    "a=list[::-1]\n",
    "print(a)"
   ]
  },
  {
   "cell_type": "code",
   "execution_count": 17,
   "id": "60c75255-ca1e-4fdd-bd9e-5748a07530fc",
   "metadata": {},
   "outputs": [
    {
     "name": "stdout",
     "output_type": "stream",
     "text": [
      "[0, 9, 8, 7, 6, 5, 4, 3, 2, 1]\n"
     ]
    }
   ],
   "source": [
    "#reverse function\n",
    "a=[1,2,3,4,5,6,7,8,9,0]\n",
    "a.reverse()\n",
    "print(a)"
   ]
  },
  {
   "cell_type": "code",
   "execution_count": 18,
   "id": "a6ab1f96-b658-4030-92c2-2990abb0e097",
   "metadata": {},
   "outputs": [
    {
     "name": "stdout",
     "output_type": "stream",
     "text": [
      "[3, 6, 7, 8]\n"
     ]
    }
   ],
   "source": [
    "#delete element according to index number\n",
    "a=[3,5,6,7,8]\n",
    "del a[1]\n",
    "print(a)"
   ]
  },
  {
   "cell_type": "code",
   "execution_count": 19,
   "id": "7505c675-7a6a-4438-b34a-59e13d469820",
   "metadata": {},
   "outputs": [
    {
     "name": "stdout",
     "output_type": "stream",
     "text": [
      "['Sachin', 'sonu', 'santosh']\n"
     ]
    }
   ],
   "source": [
    "#update the name in list\n",
    "\n",
    "list=[\"nitesh\",\"sonu\",\"santosh\"]\n",
    "list[0]=\"Sachin\"\n",
    "print(list)"
   ]
  },
  {
   "cell_type": "code",
   "execution_count": 20,
   "id": "c9665d71-ea12-4b91-a5ef-1899f0479276",
   "metadata": {},
   "outputs": [
    {
     "name": "stdout",
     "output_type": "stream",
     "text": [
      "['sanju', 'santosh', 'kapil', 'monu']\n"
     ]
    }
   ],
   "source": [
    "list=[\"anil\",\"ramu\",\"shivi\",\"monu\"]\n",
    "list[1]=\"santosh\"\n",
    "list[2]=\"kapil\"\n",
    "list[0]=\"sanju\"\n",
    "print(list)\n"
   ]
  },
  {
   "cell_type": "markdown",
   "id": "4212ae10-4a09-44f5-8601-89ca4e292e0d",
   "metadata": {},
   "source": [
    "slicing in list \n",
    "syntax:\n",
    "[start:stop:step]\n",
    "start = where to start slicing\n",
    "stop  = where to stop slicing\n",
    "step  = jump on step"
   ]
  },
  {
   "cell_type": "code",
   "execution_count": 21,
   "id": "267ef272-421a-493f-8277-c95bb3307923",
   "metadata": {},
   "outputs": [
    {
     "name": "stdout",
     "output_type": "stream",
     "text": [
      "[10, 20, 30]\n"
     ]
    }
   ],
   "source": [
    "list=[10,20,30,40,50,60]\n",
    "print(list[:3])"
   ]
  },
  {
   "cell_type": "code",
   "execution_count": 22,
   "id": "47e62505-2035-40ef-b57c-dfbf07c3a654",
   "metadata": {},
   "outputs": [
    {
     "name": "stdout",
     "output_type": "stream",
     "text": [
      "[30]\n"
     ]
    }
   ],
   "source": [
    "print(list[2:3])"
   ]
  },
  {
   "cell_type": "code",
   "execution_count": 23,
   "id": "a157b9a8-d586-4b97-a1ba-b84bf0b4f17d",
   "metadata": {},
   "outputs": [
    {
     "name": "stdout",
     "output_type": "stream",
     "text": [
      "[30, 40, 50, 60]\n"
     ]
    }
   ],
   "source": [
    "print(list[2:])"
   ]
  },
  {
   "cell_type": "code",
   "execution_count": 24,
   "id": "ec8a7340-59a3-4674-aa66-d082d7b49b89",
   "metadata": {},
   "outputs": [
    {
     "name": "stdout",
     "output_type": "stream",
     "text": [
      "[10, 20, 30, 40, 50, 60]\n"
     ]
    }
   ],
   "source": [
    "print(list[:])"
   ]
  },
  {
   "cell_type": "code",
   "execution_count": 25,
   "id": "3cd2b070-c584-4540-a049-b9c4d205131a",
   "metadata": {},
   "outputs": [
    {
     "name": "stdout",
     "output_type": "stream",
     "text": [
      "[10, 20, 30, 40, 50]\n"
     ]
    }
   ],
   "source": [
    "print(list[:-1])"
   ]
  },
  {
   "cell_type": "code",
   "execution_count": 26,
   "id": "3148f787-6cba-4c24-aa42-ccf22b2940ef",
   "metadata": {},
   "outputs": [
    {
     "name": "stdout",
     "output_type": "stream",
     "text": [
      "60\n"
     ]
    }
   ],
   "source": [
    "print(list[-1])"
   ]
  },
  {
   "cell_type": "code",
   "execution_count": 27,
   "id": "46841ccf-5c51-47aa-ab9c-49992e09f0f3",
   "metadata": {},
   "outputs": [],
   "source": [
    "#Negative Index\n"
   ]
  },
  {
   "cell_type": "code",
   "execution_count": 28,
   "id": "70432969-f6ef-44f5-8322-9c5b54a887e3",
   "metadata": {},
   "outputs": [
    {
     "name": "stdout",
     "output_type": "stream",
     "text": [
      "30\n"
     ]
    }
   ],
   "source": [
    "list=[20,30,40,50,60,70]\n",
    "print(list[-5])"
   ]
  },
  {
   "cell_type": "code",
   "execution_count": 29,
   "id": "8b681569-a931-40f6-b912-cc549aa76fc3",
   "metadata": {},
   "outputs": [
    {
     "name": "stdout",
     "output_type": "stream",
     "text": [
      "[10, 20, 30]\n"
     ]
    }
   ],
   "source": [
    "list=[10,20,30,40,50,60,70,80]\n",
    "print(list[:-5])"
   ]
  },
  {
   "cell_type": "code",
   "execution_count": 30,
   "id": "3e1eee34-2bcd-4f84-a070-c7073afc88cd",
   "metadata": {},
   "outputs": [
    {
     "name": "stdout",
     "output_type": "stream",
     "text": [
      "[20, 30, 40, 50, 60]\n"
     ]
    }
   ],
   "source": [
    "list=[10,20,30,40,50,60]\n",
    "print(list[-5:])"
   ]
  },
  {
   "cell_type": "code",
   "execution_count": 31,
   "id": "c343839f-6695-430b-995b-bcf1bc99785d",
   "metadata": {},
   "outputs": [],
   "source": [
    "#tuple(orderd,immutable,duplicate allow)"
   ]
  },
  {
   "cell_type": "code",
   "execution_count": 32,
   "id": "161cdb2c-2ee7-42ad-93b3-944e91bf5492",
   "metadata": {},
   "outputs": [
    {
     "name": "stdout",
     "output_type": "stream",
     "text": [
      "(1, 2, 3, 4, 5, 6, 7)\n"
     ]
    }
   ],
   "source": [
    "#print tupel order duplicate allow\n",
    "tuple=(1,2,3,4,5,6,7)\n",
    "print(tuple)"
   ]
  },
  {
   "cell_type": "code",
   "execution_count": 33,
   "id": "7f0add98-6f06-4961-93cd-26ab97562abe",
   "metadata": {},
   "outputs": [
    {
     "name": "stdout",
     "output_type": "stream",
     "text": [
      "5\n"
     ]
    }
   ],
   "source": [
    "#find out max in the tupel\n",
    "tupel=(1,2,3,4,5)\n",
    "a=max(tupel)\n",
    "print(a)"
   ]
  },
  {
   "cell_type": "code",
   "execution_count": 34,
   "id": "e35a2cde-4d72-4e15-8ba2-0a10f5b0708e",
   "metadata": {},
   "outputs": [
    {
     "name": "stdout",
     "output_type": "stream",
     "text": [
      "1\n"
     ]
    }
   ],
   "source": [
    "#find out min in the tupel\n",
    "tupel=(1,2,3,4,5)\n",
    "a=min(tupel)\n",
    "print(a)"
   ]
  },
  {
   "cell_type": "code",
   "execution_count": 35,
   "id": "5eeebe00-6586-48c4-baa5-2f8623f76b73",
   "metadata": {},
   "outputs": [
    {
     "name": "stdout",
     "output_type": "stream",
     "text": [
      "7\n"
     ]
    }
   ],
   "source": [
    "#find out lenth in the tupel\n",
    "tupel=(1,2,3,4,5,6,9)\n",
    "a=len(tupel)\n",
    "print(a)\n"
   ]
  },
  {
   "cell_type": "code",
   "execution_count": 36,
   "id": "14dd42c3-809b-46c4-ade4-dc72f8e84b67",
   "metadata": {},
   "outputs": [
    {
     "name": "stdout",
     "output_type": "stream",
     "text": [
      "<class 'tuple'>\n"
     ]
    }
   ],
   "source": [
    "#find data type in the tupel\n",
    "tupel=(1,2,3,4,5,6,9)\n",
    "a=type(tupel)\n",
    "print(a)"
   ]
  },
  {
   "cell_type": "code",
   "execution_count": 37,
   "id": "13e00956-c975-48d5-9acc-05d5f755b35e",
   "metadata": {},
   "outputs": [
    {
     "name": "stdout",
     "output_type": "stream",
     "text": [
      "4\n"
     ]
    }
   ],
   "source": [
    "#count fuction\n",
    "tuple=(1,2,3,1,1,1,5,7,8)\n",
    "print(tuple.count(1))"
   ]
  },
  {
   "cell_type": "code",
   "execution_count": 38,
   "id": "79809f00-e3d9-41d1-ac76-c3388d707886",
   "metadata": {},
   "outputs": [
    {
     "name": "stdout",
     "output_type": "stream",
     "text": [
      "2\n"
     ]
    }
   ],
   "source": [
    "#find out index(We are find out the value of index)\n",
    "tuple=(1,2,3,1,1,1,5,7,8)\n",
    "print(tuple.index(3))"
   ]
  },
  {
   "cell_type": "code",
   "execution_count": 39,
   "id": "b9c4df73-1081-40e1-8b76-960c0f2b9d2f",
   "metadata": {},
   "outputs": [
    {
     "name": "stdout",
     "output_type": "stream",
     "text": [
      "('nitesh', 5, 6, 6.5, 'Sanjay')\n"
     ]
    }
   ],
   "source": [
    "tuple=(\"nitesh\",5,6,6.5,\"Sanjay\")\n",
    "print(tuple)"
   ]
  },
  {
   "cell_type": "code",
   "execution_count": 40,
   "id": "75f4e83a-c1f2-4125-809a-78e3f6a37c6f",
   "metadata": {},
   "outputs": [
    {
     "name": "stdout",
     "output_type": "stream",
     "text": [
      "('nitesh', [1, 2, 3, 4], 'monu')\n"
     ]
    }
   ],
   "source": [
    "tuple=(\"nitesh\",[1,2,3,4],\"monu\")\n",
    "print(tuple)"
   ]
  },
  {
   "cell_type": "code",
   "execution_count": 41,
   "id": "2b1c3e74-c50f-4691-97a9-f71857b396c3",
   "metadata": {},
   "outputs": [
    {
     "name": "stdout",
     "output_type": "stream",
     "text": [
      "[1, 2, 3, 4]\n"
     ]
    }
   ],
   "source": [
    "#here we are using [1] for find out the value\n",
    "\n",
    "tuple=(\"nitesh\",[1,2,3,4],\"monu\")\n",
    "\n",
    "print(tuple[1])"
   ]
  },
  {
   "cell_type": "code",
   "execution_count": 42,
   "id": "21188aab-f8d9-451f-80b5-121809497cf6",
   "metadata": {},
   "outputs": [
    {
     "name": "stdout",
     "output_type": "stream",
     "text": [
      "(3, 4.5, 'dog')\n",
      "3\n",
      "4.5\n",
      "dog\n"
     ]
    }
   ],
   "source": [
    "t1=(3,4.5,\"dog\")\n",
    "print(t1)\n",
    "a,b,c=t1\n",
    "\n",
    "print(a)\n",
    "print(b)\n",
    "print(c)"
   ]
  },
  {
   "cell_type": "code",
   "execution_count": 43,
   "id": "3eb41b6c-7a0b-41c5-af96-d8476b496665",
   "metadata": {},
   "outputs": [
    {
     "name": "stdout",
     "output_type": "stream",
     "text": [
      "p\n",
      "b\n",
      "c\n",
      "d\n"
     ]
    }
   ],
   "source": [
    "my_tuple=(\"p\",\"b\",\"c\",\"d\")\n",
    "print(my_tuple[0])\n",
    "print(my_tuple[1])\n",
    "print(my_tuple[2])\n",
    "print(my_tuple[3])\n",
    "\n",
    "\n",
    "\n"
   ]
  },
  {
   "cell_type": "code",
   "execution_count": 44,
   "id": "9ba9fc78-8392-47ad-bba0-62eea4d04205",
   "metadata": {},
   "outputs": [
    {
     "name": "stdout",
     "output_type": "stream",
     "text": [
      "d\n",
      "c\n",
      "b\n",
      "p\n"
     ]
    }
   ],
   "source": [
    "my_tuple=(\"p\",\"b\",\"c\",\"d\")\n",
    "print(my_tuple[-1])\n",
    "print(my_tuple[-2])\n",
    "print(my_tuple[-3])\n",
    "print(my_tuple[-4])"
   ]
  },
  {
   "cell_type": "code",
   "execution_count": 45,
   "id": "c419b701-f0e3-40d5-a2da-a226216410fd",
   "metadata": {},
   "outputs": [
    {
     "name": "stdout",
     "output_type": "stream",
     "text": [
      "False\n",
      "True\n",
      "True\n"
     ]
    }
   ],
   "source": [
    "#operaters\n",
    "tuple=(\"a\",\"f\",\"v\",\"g\",\"t\")\n",
    "\n",
    "print(\"a\" not in tuple)\n",
    "print(\"v\" in  tuple)\n",
    "print(\"t\" in  tuple)\n"
   ]
  },
  {
   "cell_type": "code",
   "execution_count": 46,
   "id": "cad5bb4a-3c26-4c8d-a34f-a26ac566b7e5",
   "metadata": {},
   "outputs": [
    {
     "name": "stdout",
     "output_type": "stream",
     "text": [
      "(1, 2, 3, 4, 5, 6)\n"
     ]
    }
   ],
   "source": [
    "#merge two tuple\n",
    "tuple_1=(1,2,3)\n",
    "tuple2=(4,5,6)\n",
    "tuple3=tuple_1+tuple2\n",
    "print(tuple3)"
   ]
  },
  {
   "cell_type": "code",
   "execution_count": 47,
   "id": "5cf87923-e0a7-489a-9dbf-292f09215538",
   "metadata": {},
   "outputs": [],
   "source": [
    "#set (unorder,mutable,duplicate not allow)"
   ]
  },
  {
   "cell_type": "code",
   "execution_count": 48,
   "id": "884742d2-7e1c-4961-acb1-3dbc64423c15",
   "metadata": {},
   "outputs": [
    {
     "name": "stdout",
     "output_type": "stream",
     "text": [
      "{'grapes', 'apple', 'cherry', 'banana'}\n"
     ]
    }
   ],
   "source": [
    "#unorder\n",
    "set={\"apple\",\"banana\",\"cherry\",\"grapes\"}\n",
    "print(set)"
   ]
  },
  {
   "cell_type": "code",
   "execution_count": 49,
   "id": "331592c3-baa2-46c8-a735-e9f24c4e642e",
   "metadata": {},
   "outputs": [
    {
     "name": "stdout",
     "output_type": "stream",
     "text": [
      "{'Apple', 'apple', 2, 'banana'}\n"
     ]
    }
   ],
   "source": [
    "#duplicate not allow\n",
    "set={\"apple\",\"banana\",\"banana\",2,2.0,\"Apple\"}\n",
    "print(set)"
   ]
  },
  {
   "cell_type": "code",
   "execution_count": 50,
   "id": "74b6b3c3-ac04-4bc0-8222-6d627ba11d81",
   "metadata": {},
   "outputs": [
    {
     "name": "stdout",
     "output_type": "stream",
     "text": [
      "4\n"
     ]
    }
   ],
   "source": [
    "#len fuction\n",
    "set={\"apple\",\"banana\",\"banana\",2,2.0,\"Apple\"}\n",
    "print(len(set))\n"
   ]
  },
  {
   "cell_type": "code",
   "execution_count": 51,
   "id": "f60bda73-586e-49cf-8a37-18adf48087a9",
   "metadata": {},
   "outputs": [
    {
     "name": "stdout",
     "output_type": "stream",
     "text": [
      "{2, 6, 'apple', 'Apple', 'banana'}\n"
     ]
    }
   ],
   "source": [
    "#add fuction\n",
    "set={\"apple\",\"banana\",\"banana\",2,2.0,\"Apple\"}\n",
    "set.add(6)\n",
    "print(set)"
   ]
  },
  {
   "cell_type": "code",
   "execution_count": 52,
   "id": "b20f7f61-ebf9-4a15-81e2-6b30f1cf1fa2",
   "metadata": {},
   "outputs": [
    {
     "name": "stdout",
     "output_type": "stream",
     "text": [
      "{2, 6, 'Apple', 'apple', 'banana', 'Aashtha'}\n"
     ]
    }
   ],
   "source": [
    "#Update fuction\n",
    "set={\"apple\",\"banana\",\"banana\",2,2.0,\"Apple\"}\n",
    "set.update({6,\"Aashtha\"})\n",
    "print(set)"
   ]
  },
  {
   "cell_type": "code",
   "execution_count": 53,
   "id": "77570bb8-df93-4bad-868f-1372381c1c7c",
   "metadata": {},
   "outputs": [
    {
     "name": "stdout",
     "output_type": "stream",
     "text": [
      "{'Apple', 2, 'banana'}\n"
     ]
    }
   ],
   "source": [
    "#Discard fuction\n",
    "set={\"apple\",\"banana\",\"banana\",2,2.0,\"Apple\"}\n",
    "set.discard(\"apple\")\n",
    "print(set)"
   ]
  },
  {
   "cell_type": "code",
   "execution_count": 54,
   "id": "ba9a2907-ccac-4229-af9c-9ab4cfe00dc4",
   "metadata": {},
   "outputs": [
    {
     "name": "stdout",
     "output_type": "stream",
     "text": [
      "{3, 6, 8, 9}\n"
     ]
    }
   ],
   "source": [
    "#Remove fuction\n",
    "set={1,2,3,6,8,9}\n",
    "set.remove(1)\n",
    "set.remove(2)\n",
    "print(set)"
   ]
  },
  {
   "cell_type": "code",
   "execution_count": 55,
   "id": "2689c1d3-4bf4-4d55-86cb-f7c24887a46a",
   "metadata": {},
   "outputs": [
    {
     "name": "stdout",
     "output_type": "stream",
     "text": [
      "{1, 2, 3, 6, 8, 9}\n"
     ]
    }
   ],
   "source": [
    "#copy fuction\n",
    "set={1,2,3,6,8,9}\n",
    "set1=set.copy()\n",
    "print(set1)"
   ]
  },
  {
   "cell_type": "code",
   "execution_count": 56,
   "id": "1d3ea283-b92f-4e5b-b692-4327f2a70c13",
   "metadata": {},
   "outputs": [
    {
     "name": "stdout",
     "output_type": "stream",
     "text": [
      "set()\n"
     ]
    }
   ],
   "source": [
    "#Clear fuction\n",
    "set={1,2,3,6,8,9}\n",
    "set.clear()\n",
    "print(set)"
   ]
  },
  {
   "cell_type": "code",
   "execution_count": 57,
   "id": "65e78e10-7c5b-45da-a1a2-026c9adbf9a3",
   "metadata": {},
   "outputs": [
    {
     "name": "stdout",
     "output_type": "stream",
     "text": [
      "<class 'set'>\n"
     ]
    }
   ],
   "source": [
    "#type fuction\n",
    "set={\"apple\",\"banana\",\"cherry\"}\n",
    "print(type(set))\n"
   ]
  },
  {
   "cell_type": "markdown",
   "id": "4e1b212e-f4f9-44dc-a055-d2c0485b4a14",
   "metadata": {},
   "source": [
    "myList = [1, 2, 3, 4, 4]\n",
    "mySet = set(myList)\n",
    "print(mySet)"
   ]
  },
  {
   "cell_type": "code",
   "execution_count": 58,
   "id": "e2f6b1bc-0a66-4895-a27b-5fa0e756c6a1",
   "metadata": {},
   "outputs": [],
   "source": [
    "#frozen set ( Freeze the list, and make it unchangeable)"
   ]
  },
  {
   "cell_type": "code",
   "execution_count": 59,
   "id": "b68c35af-1f02-4c1a-bf84-b33dd5838361",
   "metadata": {},
   "outputs": [
    {
     "name": "stdout",
     "output_type": "stream",
     "text": [
      "frozenset({'apple', 3, 'nitesh'})\n"
     ]
    }
   ],
   "source": [
    "#unorder\n",
    "list=[\"apple\",\"nitesh\",3,]\n",
    "x=frozenset(list)\n",
    "print(x)"
   ]
  },
  {
   "cell_type": "code",
   "execution_count": 60,
   "id": "c6d23e82-ec09-4d1c-9bf0-16e5f2cc3fb0",
   "metadata": {},
   "outputs": [
    {
     "name": "stdout",
     "output_type": "stream",
     "text": [
      "frozenset({'manu', 'u', 'm'})\n"
     ]
    }
   ],
   "source": [
    "fs=[\"m\",\"u\",\"manu\"]\n",
    "x=frozenset(fs)\n",
    "print(x)"
   ]
  },
  {
   "cell_type": "code",
   "execution_count": 61,
   "id": "84897d95-676e-442a-89fd-326459acdba3",
   "metadata": {},
   "outputs": [
    {
     "name": "stdout",
     "output_type": "stream",
     "text": [
      "frozenset({1, 2, 5, 6, 7})\n"
     ]
    }
   ],
   "source": [
    "#duplicate not allow\n",
    "fs=[1,2,2,5,6,6,7]\n",
    "x=frozenset(fs)\n",
    "print(x)"
   ]
  },
  {
   "cell_type": "code",
   "execution_count": 62,
   "id": "5c2a4f94-2c26-48ec-9bb0-7fd0edca52d8",
   "metadata": {},
   "outputs": [],
   "source": [
    "#dictionery(orderd,mutable,duplicate not allow) \n",
    "#dic have key and value."
   ]
  },
  {
   "cell_type": "code",
   "execution_count": 63,
   "id": "0e51f0e6-d28c-4a16-9482-4a527b5aaac7",
   "metadata": {},
   "outputs": [
    {
     "name": "stdout",
     "output_type": "stream",
     "text": [
      "Ford\n"
     ]
    }
   ],
   "source": [
    "# dict item\n",
    "thisdict = {\"brand\": \"Ford\", \"model\": \"Mustang\", \"year\": 1964}\n",
    "print(thisdict[\"brand\"])"
   ]
  },
  {
   "cell_type": "code",
   "execution_count": 64,
   "id": "12a9ee85-9caf-4f00-a21a-a22878d5bfb4",
   "metadata": {},
   "outputs": [
    {
     "name": "stdout",
     "output_type": "stream",
     "text": [
      "{'brand': 'Ford', 'model': 'Mustang', 'year': 2000}\n"
     ]
    }
   ],
   "source": [
    "#duplicate not allowed\n",
    "dict={\"brand\": \"Ford\", \"model\": \"Mustang\", \"year\": 1964,\"year\": 2000}\n",
    "print(dict)"
   ]
  },
  {
   "cell_type": "code",
   "execution_count": 65,
   "id": "a871bca8-e053-4358-a9a4-e1619cc9b041",
   "metadata": {},
   "outputs": [
    {
     "name": "stdout",
     "output_type": "stream",
     "text": [
      "{'roll no': 3}\n"
     ]
    }
   ],
   "source": [
    "#Can not repeat keys,value repeted.\n",
    "a={\"roll no\":1,\"roll no\":2,\"roll no\":3}\n",
    "print(a)"
   ]
  },
  {
   "cell_type": "code",
   "execution_count": 66,
   "id": "8055c32e-a96d-4c2e-a6e2-79954ee14c9e",
   "metadata": {},
   "outputs": [
    {
     "name": "stdout",
     "output_type": "stream",
     "text": [
      "{'roll no': 3, '': 3}\n"
     ]
    }
   ],
   "source": [
    "#key can be Null(but not multiple Null allow)\n",
    "a={\"roll no\":1,\"roll no\":2,\"roll no\":3,\"\":3}\n",
    "print(a)"
   ]
  },
  {
   "cell_type": "code",
   "execution_count": 67,
   "id": "71cb9a0d-3f74-4711-8836-8dd3edbe55d7",
   "metadata": {},
   "outputs": [
    {
     "name": "stdout",
     "output_type": "stream",
     "text": [
      "{'roll no': 3, '': 4}\n"
     ]
    }
   ],
   "source": [
    "#key can be Null(but not multiple Null allow)\n",
    "a={\"roll no\":1,\"roll no\":2,\"roll no\":3,\"\":3,\"\":4}\n",
    "print(a)"
   ]
  },
  {
   "cell_type": "code",
   "execution_count": 68,
   "id": "dd35feb3-dc0b-447e-ae48-154ac2659231",
   "metadata": {},
   "outputs": [
    {
     "name": "stdout",
     "output_type": "stream",
     "text": [
      "{'santosh': 'value', 'parag': 'kamal'}\n"
     ]
    }
   ],
   "source": [
    "#delete key pair in dict(only key apply, not value)\n",
    "thisdict={\"brand\":\"nitesh\",\"santosh\":\"value\",\"parag\":\"kamal\"}\n",
    "del(thisdict[\"brand\"])\n",
    "print(thisdict)"
   ]
  },
  {
   "cell_type": "code",
   "execution_count": 69,
   "id": "38525f0d-dfb8-4676-b486-22f6e3508f69",
   "metadata": {},
   "outputs": [
    {
     "name": "stdout",
     "output_type": "stream",
     "text": [
      "dict_keys(['brand', 'santosh', 'parag'])\n"
     ]
    }
   ],
   "source": [
    "#key fuction\n",
    "a={\"brand\":\"nitesh\",\"santosh\":\"value\",\"parag\":\"kamal\"}\n",
    "print(a.keys())"
   ]
  },
  {
   "cell_type": "code",
   "execution_count": 70,
   "id": "bb9a5d41-46b5-4ee2-9c59-5e3400d30a4a",
   "metadata": {},
   "outputs": [
    {
     "name": "stdout",
     "output_type": "stream",
     "text": [
      "dict_values(['nitesh', 'value', 'kamal'])\n"
     ]
    }
   ],
   "source": [
    "#value fuction\n",
    "a={\"brand\":\"nitesh\",\"santosh\":\"value\",\"parag\":\"kamal\"}\n",
    "print(a.values())"
   ]
  },
  {
   "cell_type": "code",
   "execution_count": 71,
   "id": "6f40b753-98eb-438f-b0f6-b6c3060335a6",
   "metadata": {},
   "outputs": [
    {
     "name": "stdout",
     "output_type": "stream",
     "text": [
      "dict_items([('brand', 'nitesh'), ('santosh', 'value'), ('parag', 'kamal')])\n"
     ]
    }
   ],
   "source": [
    "#Item fuction\n",
    "a={\"brand\":\"nitesh\",\"santosh\":\"value\",\"parag\":\"kamal\"}\n",
    "print(a.items())"
   ]
  },
  {
   "cell_type": "code",
   "execution_count": 72,
   "id": "aa77ba72-a3b7-41be-9e06-ab78de09d88f",
   "metadata": {},
   "outputs": [
    {
     "name": "stdout",
     "output_type": "stream",
     "text": [
      "nitesh\n"
     ]
    }
   ],
   "source": [
    "#get fuction(it will use only for keys)\n",
    "a={\"brand\":\"nitesh\",\"santosh\":\"value\",\"parag\":\"kamal\"}\n",
    "print(a.get(\"brand\"))"
   ]
  },
  {
   "cell_type": "code",
   "execution_count": 73,
   "id": "edddae06-2c30-4c74-bfdc-7f008794b2a1",
   "metadata": {},
   "outputs": [
    {
     "name": "stdout",
     "output_type": "stream",
     "text": [
      "None\n"
     ]
    }
   ],
   "source": [
    "#clear fuction\n",
    "a={\"brand\":\"nitesh\",\"santosh\":\"value\",\"parag\":\"kamal\"}\n",
    "print(a.clear())"
   ]
  },
  {
   "cell_type": "markdown",
   "id": "19d49253-0f70-4f70-b5a1-7ba9e321a562",
   "metadata": {},
   "source": [
    "#convert two list in dict\n",
    "keys=[\"one\",\"two\",\"three\"]\n",
    "values=[1,2,3]\n",
    "dict1=dict(zip(keys,values))\n",
    "print(dict1)"
   ]
  },
  {
   "cell_type": "code",
   "execution_count": 74,
   "id": "575a8366-4f79-4503-a8a4-622873c39483",
   "metadata": {},
   "outputs": [
    {
     "name": "stdout",
     "output_type": "stream",
     "text": [
      "{'roll1': 1, 'roll2': 2, 'parth': 25, 'mayur': 28}\n"
     ]
    }
   ],
   "source": [
    "#marge two dict in to one\n",
    "a={\"roll1\":1,\"roll2\":2}\n",
    "b={\"parth\":25,\"mayur\":28}\n",
    "c={**a,**b}\n",
    "print(c)"
   ]
  },
  {
   "cell_type": "code",
   "execution_count": 75,
   "id": "6a9abcfa-655c-4f77-b556-376c2aba846a",
   "metadata": {},
   "outputs": [
    {
     "name": "stdout",
     "output_type": "stream",
     "text": [
      "3\n",
      "1\n"
     ]
    }
   ],
   "source": [
    "#max & Min\n",
    "a={\"roll1\":1,\"roll2\":2,\"roll3\":3}\n",
    "print(max(a.values()))\n",
    "print(min(a.values()))"
   ]
  },
  {
   "cell_type": "code",
   "execution_count": 76,
   "id": "9e16cecb-4773-486e-b33c-270a096a96f9",
   "metadata": {},
   "outputs": [
    {
     "name": "stdout",
     "output_type": "stream",
     "text": [
      "false\n"
     ]
    }
   ],
   "source": [
    "#dict is empty or not\n",
    "a={\"roll1\":1,\"roll2\":2,\"roll3\":3}\n",
    "if a=={}:\n",
    "    print(\"true\")\n",
    "else:\n",
    "    print(\"false\")"
   ]
  },
  {
   "cell_type": "code",
   "execution_count": 77,
   "id": "c26eb58f-1688-42ca-84a1-5af3df83a1d3",
   "metadata": {},
   "outputs": [
    {
     "name": "stdout",
     "output_type": "stream",
     "text": [
      "true\n"
     ]
    }
   ],
   "source": [
    "a={}\n",
    "if a=={}:\n",
    "    print(\"true\")\n",
    "else:\n",
    "    print(\"false\")"
   ]
  },
  {
   "cell_type": "code",
   "execution_count": 78,
   "id": "e9a77d9a-784d-4af7-9b41-1679b714d56b",
   "metadata": {},
   "outputs": [],
   "source": [
    "#string (order, immutable, duplicate allow) = \" \""
   ]
  },
  {
   "cell_type": "code",
   "execution_count": 79,
   "id": "ba981077-4dbd-4bae-8acb-3c364d7e9f6d",
   "metadata": {},
   "outputs": [
    {
     "name": "stdout",
     "output_type": "stream",
     "text": [
      "hello my friend\n"
     ]
    }
   ],
   "source": [
    "#print string\n",
    "a=\"hello my friend\"\n",
    "print(a)"
   ]
  },
  {
   "cell_type": "code",
   "execution_count": 80,
   "id": "604a190f-82b6-4067-89ba-4fa86c6328b0",
   "metadata": {},
   "outputs": [
    {
     "name": "stdout",
     "output_type": "stream",
     "text": [
      "22\n"
     ]
    }
   ],
   "source": [
    "#len fuction(here space will be count)\n",
    "b=(\"sorry, you are bad boy\")\n",
    "print(len(b))"
   ]
  },
  {
   "cell_type": "code",
   "execution_count": 81,
   "id": "65369063-fe00-4a55-aa16-b856e3f1a6ac",
   "metadata": {},
   "outputs": [
    {
     "name": "stdout",
     "output_type": "stream",
     "text": [
      "sorry\n"
     ]
    }
   ],
   "source": [
    "#lower case fuction\n",
    "b=(\"SORRY\")\n",
    "c=b.lower()\n",
    "print(c)"
   ]
  },
  {
   "cell_type": "code",
   "execution_count": 82,
   "id": "869d6bbc-f242-4d2b-9280-0f96a11b90bd",
   "metadata": {},
   "outputs": [
    {
     "name": "stdout",
     "output_type": "stream",
     "text": [
      "HELLO MY DEAR FRIEND\n"
     ]
    }
   ],
   "source": [
    "#uppercase fuction\n",
    "b=(\"hello my dear friend\")\n",
    "c=b.upper()\n",
    "print(c)"
   ]
  },
  {
   "cell_type": "code",
   "execution_count": 83,
   "id": "58aa0943-ac13-4601-9078-af759145d18d",
   "metadata": {},
   "outputs": [
    {
     "name": "stdout",
     "output_type": "stream",
     "text": [
      "Hello good morning\n"
     ]
    }
   ],
   "source": [
    "#capitalize the 1st latter of string\n",
    "a=(\"hello good morning\")\n",
    "b=a.capitalize()\n",
    "print(b)"
   ]
  },
  {
   "cell_type": "code",
   "execution_count": 84,
   "id": "4f00d45c-d2e2-4c71-af0e-185ec0ca0753",
   "metadata": {},
   "outputs": [
    {
     "name": "stdout",
     "output_type": "stream",
     "text": [
      "olleh\n"
     ]
    }
   ],
   "source": [
    "#reverse string\n",
    "a=\"hello\"[::-1]\n",
    "print(a)\n"
   ]
  },
  {
   "cell_type": "code",
   "execution_count": 85,
   "id": "ff61f2dd-ce90-4b1d-a5c7-0508dbc50551",
   "metadata": {},
   "outputs": [
    {
     "name": "stdout",
     "output_type": "stream",
     "text": [
      "snatosh manu\n"
     ]
    }
   ],
   "source": [
    "#marge two string\n",
    "a=\"snatosh\"\n",
    "b=\" manu\"\n",
    "print(a+b)"
   ]
  },
  {
   "cell_type": "code",
   "execution_count": 86,
   "id": "c09831a0-7b75-4489-bcb8-6a3e955f48a8",
   "metadata": {},
   "outputs": [],
   "source": [
    "# split string  and join string\n",
    "# split()=This method is used to split/break a string into pieces.\n",
    "# join()=This method is used to join strings into one string."
   ]
  },
  {
   "cell_type": "code",
   "execution_count": 87,
   "id": "b2214d31-a22f-4876-bd52-8944894acf31",
   "metadata": {},
   "outputs": [
    {
     "name": "stdout",
     "output_type": "stream",
     "text": [
      "['hello', 'how', 'are', 'you']\n",
      "['hello', 'how', 'are', 'manu']\n"
     ]
    }
   ],
   "source": [
    "#split\n",
    "a=\"hello-how-are-you\"\n",
    "b=a.split('-')\n",
    "print(b)\n",
    "#or\n",
    "a=\"hello how are manu\"\n",
    "b=a.split(' ')\n",
    "print(b)"
   ]
  },
  {
   "cell_type": "code",
   "execution_count": 88,
   "id": "dbf531dc-eb13-4ad3-aaa7-a598705512f3",
   "metadata": {},
   "outputs": [
    {
     "name": "stdout",
     "output_type": "stream",
     "text": [
      "hello how are you\n"
     ]
    }
   ],
   "source": [
    "#jion\n",
    "a=('hello', 'how', 'are', 'you')\n",
    "b=\" \".join(a)\n",
    "print(b)"
   ]
  },
  {
   "cell_type": "code",
   "execution_count": 89,
   "id": "90494220-9c07-4691-94af-9a715ce6d06c",
   "metadata": {},
   "outputs": [
    {
     "name": "stdout",
     "output_type": "stream",
     "text": [
      "hello welcome home\n",
      "hello_welcome_home\n"
     ]
    }
   ],
   "source": [
    "# join\n",
    "a=('hello','welcome','home')\n",
    "b=' '.join(a)\n",
    "print(b)\n",
    "\n",
    "# or\n",
    "\n",
    "a=('hello','welcome','home')\n",
    "b='_'.join(a)\n",
    "print(b)"
   ]
  },
  {
   "cell_type": "code",
   "execution_count": 90,
   "id": "881e0ead-26eb-4eab-8077-c43b10a35187",
   "metadata": {},
   "outputs": [],
   "source": [
    "#boolean (true/false)"
   ]
  },
  {
   "cell_type": "code",
   "execution_count": 91,
   "id": "983fac73-7272-4502-bd12-9d2625fe1edd",
   "metadata": {},
   "outputs": [],
   "source": [
    "#boolean\n",
    "#boolean contain only 2 values\n",
    "#1.true\n",
    "#2.false"
   ]
  },
  {
   "cell_type": "code",
   "execution_count": 92,
   "id": "fb7efebf-2176-44fb-be02-d554f7637ed3",
   "metadata": {},
   "outputs": [
    {
     "name": "stdout",
     "output_type": "stream",
     "text": [
      "True\n",
      "False\n"
     ]
    }
   ],
   "source": [
    "x=\"nitesh\"\n",
    "print(\"n\" in x)\n",
    "print(\"y\" in x)"
   ]
  },
  {
   "cell_type": "code",
   "execution_count": 93,
   "id": "ebe4c388-6981-403c-8aee-f96fb29c8bd5",
   "metadata": {},
   "outputs": [
    {
     "name": "stdout",
     "output_type": "stream",
     "text": [
      "False\n",
      "True\n"
     ]
    }
   ],
   "source": [
    "x=1\n",
    "y=2\n",
    "print(x is y)\n",
    "print(x is not y)"
   ]
  },
  {
   "cell_type": "code",
   "execution_count": 94,
   "id": "9285e8b6-0366-48fb-9c2a-3d76ad379467",
   "metadata": {},
   "outputs": [
    {
     "name": "stdout",
     "output_type": "stream",
     "text": [
      "False\n",
      "True\n",
      "True\n",
      "<class 'str'>\n"
     ]
    }
   ],
   "source": [
    "#boolean(.isalnum=alpha and numeric)\n",
    "#ex.1\n",
    "mystr='12345'\n",
    "print(mystr.isalpha())\n",
    "print(mystr.isalnum())\n",
    "print(mystr.isnumeric())\n",
    "\n",
    "print(type(mystr))"
   ]
  },
  {
   "cell_type": "code",
   "execution_count": 95,
   "id": "ea35ac42-d2b3-435a-b881-6ee7b7ce16bc",
   "metadata": {},
   "outputs": [
    {
     "name": "stdout",
     "output_type": "stream",
     "text": [
      "True\n",
      "True\n",
      "False\n",
      "False\n"
     ]
    }
   ],
   "source": [
    "#ex.2\n",
    "mystr='nitesh'\n",
    "print(mystr.isalpha())\n",
    "print(mystr.isalnum())\n",
    "print(mystr.isdecimal())\n",
    "print(mystr.isnumeric())"
   ]
  },
  {
   "cell_type": "code",
   "execution_count": 96,
   "id": "4a152706-0e84-4303-a8a7-9113157fa902",
   "metadata": {},
   "outputs": [
    {
     "name": "stdout",
     "output_type": "stream",
     "text": [
      "False\n",
      "True\n",
      "False\n",
      "False\n"
     ]
    }
   ],
   "source": [
    "#ex.3\n",
    "mystr='nitesh1234'\n",
    "print(mystr.isalpha())\n",
    "print(mystr.isalnum())\n",
    "print(mystr.isdecimal())\n",
    "print(mystr.isnumeric())"
   ]
  },
  {
   "cell_type": "code",
   "execution_count": 97,
   "id": "7d26d790-966d-439c-80bb-2f3549e29aa0",
   "metadata": {},
   "outputs": [
    {
     "name": "stdout",
     "output_type": "stream",
     "text": [
      "True\n",
      "False\n"
     ]
    }
   ],
   "source": [
    "#ex4\n",
    "mystr=\"ABCD\"\n",
    "print(mystr.isupper())\n",
    "print(mystr.islower())"
   ]
  },
  {
   "cell_type": "code",
   "execution_count": 98,
   "id": "e20f177b-1f1f-47fa-bbeb-df7594efa335",
   "metadata": {},
   "outputs": [
    {
     "name": "stdout",
     "output_type": "stream",
     "text": [
      "False\n",
      "True\n"
     ]
    }
   ],
   "source": [
    "#ex5\n",
    "mystr=\"book\"\n",
    "print(mystr.isupper())\n",
    "print(mystr.islower())"
   ]
  },
  {
   "cell_type": "code",
   "execution_count": 99,
   "id": "38939b23-ed25-4a34-8c69-fbb56a6f791a",
   "metadata": {},
   "outputs": [],
   "source": [
    "#data type completed"
   ]
  },
  {
   "cell_type": "code",
   "execution_count": null,
   "id": "c7780f5b-56f0-4797-b7b3-40e233a7fb4c",
   "metadata": {},
   "outputs": [],
   "source": []
  },
  {
   "cell_type": "code",
   "execution_count": 100,
   "id": "175e06ee-8890-4164-a842-8ed41606ccbb",
   "metadata": {},
   "outputs": [],
   "source": [
    "#how to write statement"
   ]
  },
  {
   "cell_type": "code",
   "execution_count": 101,
   "id": "e30594cc-d30d-43fb-97a5-d8e23489a207",
   "metadata": {},
   "outputs": [
    {
     "name": "stdout",
     "output_type": "stream",
     "text": [
      "I like data science course very much\n"
     ]
    }
   ],
   "source": [
    "fav = \"data science\"\n",
    "print(\"I like \" + fav + \" course very much\")"
   ]
  },
  {
   "cell_type": "code",
   "execution_count": 102,
   "id": "9ba686fe-56cc-47f2-b13d-f2b658e9a713",
   "metadata": {},
   "outputs": [
    {
     "name": "stdout",
     "output_type": "stream",
     "text": [
      "The python programming is easy to use\n"
     ]
    }
   ],
   "source": [
    "lang = \"python\"\n",
    "print(\"The \" + lang + \" programming is easy to use\")"
   ]
  },
  {
   "cell_type": "code",
   "execution_count": 103,
   "id": "039ab4af-424a-4b9d-bd56-db7e781925ff",
   "metadata": {},
   "outputs": [
    {
     "name": "stdout",
     "output_type": "stream",
     "text": [
      "value of a is 20\n"
     ]
    }
   ],
   "source": [
    "a = 20\n",
    "print(\"value of a is\", a)"
   ]
  },
  {
   "cell_type": "code",
   "execution_count": 104,
   "id": "6aa5e97d-0c84-4f82-abb9-fd0f7d7cd239",
   "metadata": {},
   "outputs": [
    {
     "name": "stdout",
     "output_type": "stream",
     "text": [
      "26\n",
      "26\n"
     ]
    }
   ],
   "source": [
    "#ascii code (american standard code)\n",
    "\n",
    "#capital A - 65, capital Z - 90 \n",
    "#A,B,C,D,E,F,G,H,I,J,K,L,M,N,O,P,Q,R,S,T,U,V,W,X,Y,Z\n",
    "#65,66,67..............90\n",
    "\n",
    "#small a - 97, small z = 122\n",
    "#a,b,c,d.....z\n",
    "#97,98,99,100....122\n",
    "\n",
    "#0,1,2,.....9\n",
    "#48,49,50....57\n",
    "\n",
    "x=90-65+1\n",
    "print(x)\n",
    "y=122-97+1\n",
    "print(y)"
   ]
  },
  {
   "cell_type": "code",
   "execution_count": 105,
   "id": "c48a240e-fffd-4a3e-8519-074e6d4c3b44",
   "metadata": {},
   "outputs": [
    {
     "name": "stdout",
     "output_type": "stream",
     "text": [
      "65\n"
     ]
    }
   ],
   "source": [
    "a=ord(\"A\")\n",
    "print(a)"
   ]
  },
  {
   "cell_type": "code",
   "execution_count": 106,
   "id": "469cf8c8-b3f0-4c29-b36b-bf005c7f9284",
   "metadata": {},
   "outputs": [
    {
     "name": "stdout",
     "output_type": "stream",
     "text": [
      "97\n"
     ]
    }
   ],
   "source": [
    "a=ord(\"a\")\n",
    "print(a)"
   ]
  },
  {
   "cell_type": "code",
   "execution_count": 107,
   "id": "343bd945-73ba-4254-a356-d75e4005e5f1",
   "metadata": {},
   "outputs": [
    {
     "name": "stdout",
     "output_type": "stream",
     "text": [
      "122\n"
     ]
    }
   ],
   "source": [
    "a=ord(\"z\")\n",
    "print(a)"
   ]
  },
  {
   "cell_type": "code",
   "execution_count": 108,
   "id": "68a4dfa8-5182-4660-8ecf-c31ab63a334d",
   "metadata": {},
   "outputs": [
    {
     "name": "stdout",
     "output_type": "stream",
     "text": [
      "90\n"
     ]
    }
   ],
   "source": [
    "a=ord(\"Z\")\n",
    "print(a)"
   ]
  },
  {
   "cell_type": "code",
   "execution_count": 109,
   "id": "c5b50a3c-89f4-4f29-a019-9d38e817191f",
   "metadata": {},
   "outputs": [
    {
     "name": "stdout",
     "output_type": "stream",
     "text": [
      "48\n"
     ]
    }
   ],
   "source": [
    "a=ord(\"0\")\n",
    "print(a)"
   ]
  },
  {
   "cell_type": "code",
   "execution_count": 110,
   "id": "b643700d-ee7d-49ee-8d1a-f228d9f5ea85",
   "metadata": {},
   "outputs": [
    {
     "name": "stdout",
     "output_type": "stream",
     "text": [
      "57\n"
     ]
    }
   ],
   "source": [
    "a=ord(\"9\")\n",
    "print(a)"
   ]
  },
  {
   "cell_type": "code",
   "execution_count": 111,
   "id": "ad1c5d1f-76b9-4488-9fa3-73ea7acdde4d",
   "metadata": {},
   "outputs": [],
   "source": [
    "#python function\n",
    "#1. user define function\n",
    "#2. pre define function"
   ]
  },
  {
   "cell_type": "code",
   "execution_count": 112,
   "id": "fb9ddeee-742f-4a25-8482-d17ea6e6b321",
   "metadata": {},
   "outputs": [
    {
     "name": "stdout",
     "output_type": "stream",
     "text": [
      "67\n"
     ]
    }
   ],
   "source": [
    "#1. user define function\n",
    "a=34\n",
    "b=33\n",
    "c=a+b\n",
    "print(c)"
   ]
  },
  {
   "cell_type": "code",
   "execution_count": 113,
   "id": "91240eae-2d6f-48d6-964c-29f0523f729d",
   "metadata": {},
   "outputs": [
    {
     "name": "stdin",
     "output_type": "stream",
     "text": [
      "enter your number  1\n",
      "enter your number  2\n"
     ]
    },
    {
     "name": "stdout",
     "output_type": "stream",
     "text": [
      "3\n"
     ]
    }
   ],
   "source": [
    "#2. pre define function(float values not allow)\n",
    "a=int(input(\"enter your number \"))\n",
    "b=int(input(\"enter your number \"))\n",
    "c=a+b\n",
    "print(c)"
   ]
  },
  {
   "cell_type": "code",
   "execution_count": 114,
   "id": "cb3cfbbe-233c-4f91-8f4e-7ebda9b4ba61",
   "metadata": {},
   "outputs": [
    {
     "name": "stdin",
     "output_type": "stream",
     "text": [
      "enter your number  3\n",
      "enter your number  4\n"
     ]
    },
    {
     "name": "stdout",
     "output_type": "stream",
     "text": [
      "7.0\n"
     ]
    }
   ],
   "source": [
    "#(float & Int both values allow)\n",
    "a=float(input(\"enter your number \"))\n",
    "b=float(input(\"enter your number \"))\n",
    "c=a+b\n",
    "print(c)"
   ]
  }
 ],
 "metadata": {
  "kernelspec": {
   "display_name": "Python 3 (ipykernel)",
   "language": "python",
   "name": "python3"
  },
  "language_info": {
   "codemirror_mode": {
    "name": "ipython",
    "version": 3
   },
   "file_extension": ".py",
   "mimetype": "text/x-python",
   "name": "python",
   "nbconvert_exporter": "python",
   "pygments_lexer": "ipython3",
   "version": "3.12.0"
  }
 },
 "nbformat": 4,
 "nbformat_minor": 5
}

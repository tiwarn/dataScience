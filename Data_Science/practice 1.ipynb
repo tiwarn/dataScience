{
 "cells": [
  {
   "cell_type": "code",
   "execution_count": null,
   "id": "9de42398-922c-47d0-ba13-e26a18cdf6df",
   "metadata": {},
   "outputs": [],
   "source": [
    "[append',extend',insert, clear',copy',count',index',',pop',remove',reverse',sort']"
   ]
  },
  {
   "cell_type": "code",
   "execution_count": 5,
   "id": "0e018e07-958f-413b-8afd-1a578de97636",
   "metadata": {},
   "outputs": [
    {
     "name": "stdout",
     "output_type": "stream",
     "text": [
      "[1, 2, 4, 8, 9, 5]\n"
     ]
    }
   ],
   "source": [
    "#append\n",
    "a=[1,2,4,8,9]\n",
    "a.append(5)\n",
    "print(a)"
   ]
  },
  {
   "cell_type": "code",
   "execution_count": 8,
   "id": "6f6906b3-6e25-4db7-b0da-fc435273c465",
   "metadata": {},
   "outputs": [
    {
     "name": "stdout",
     "output_type": "stream",
     "text": [
      "[1, 2, 3, 4, 5, 'nitesh', 'tiwari']\n"
     ]
    }
   ],
   "source": [
    "#extend\n",
    "a=[1,2,3,4,5]\n",
    "a.extend([\"nitesh\",\"tiwari\"])\n",
    "print(a)"
   ]
  },
  {
   "cell_type": "code",
   "execution_count": 9,
   "id": "c3c45bfe-6738-4dae-abb0-9e18a32662de",
   "metadata": {},
   "outputs": [
    {
     "name": "stdout",
     "output_type": "stream",
     "text": [
      "[23, 45, 34, 67, 89]\n"
     ]
    }
   ],
   "source": [
    "#insert(it will add numbers/Str as per index wise)\n",
    "a=[23,45,67,89]\n",
    "a.insert(2,34)\n",
    "print(a)\n"
   ]
  },
  {
   "cell_type": "code",
   "execution_count": 12,
   "id": "62b34bea-23c4-4412-b03a-3716049c9974",
   "metadata": {},
   "outputs": [
    {
     "name": "stdout",
     "output_type": "stream",
     "text": [
      "[45, 67, 89]\n",
      "[23, 45, 67]\n"
     ]
    }
   ],
   "source": [
    "#remove function remove same element\n",
    "a=[23,45,67,89]\n",
    "a.remove(23)\n",
    "print(a)\n",
    "#pop function remove as per index\n",
    "a=[23,45,67,89]\n",
    "a.pop(3)\n",
    "print(a)\n",
    "\n"
   ]
  },
  {
   "cell_type": "code",
   "execution_count": null,
   "id": "6fa9a7da-835c-4fad-981e-94a419b645ed",
   "metadata": {},
   "outputs": [],
   "source": []
  },
  {
   "cell_type": "code",
   "execution_count": null,
   "id": "06c3a553-63a7-42d5-b214-caeb73fc3247",
   "metadata": {},
   "outputs": [],
   "source": []
  },
  {
   "cell_type": "code",
   "execution_count": null,
   "id": "cc2e852e-cd60-4ce3-84af-1ebe98501c00",
   "metadata": {},
   "outputs": [],
   "source": []
  }
 ],
 "metadata": {
  "kernelspec": {
   "display_name": "Python 3 (ipykernel)",
   "language": "python",
   "name": "python3"
  },
  "language_info": {
   "codemirror_mode": {
    "name": "ipython",
    "version": 3
   },
   "file_extension": ".py",
   "mimetype": "text/x-python",
   "name": "python",
   "nbconvert_exporter": "python",
   "pygments_lexer": "ipython3",
   "version": "3.12.0"
  }
 },
 "nbformat": 4,
 "nbformat_minor": 5
}

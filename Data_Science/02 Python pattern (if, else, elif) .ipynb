{
 "cells": [
  {
   "cell_type": "markdown",
   "id": "e369cff9-c7f2-4ccd-8e69-81cb440e4af3",
   "metadata": {},
   "source": [
    "## 1 square pattern [row=i, column=j]"
   ]
  },
  {
   "cell_type": "code",
   "execution_count": 2,
   "id": "59cda98b-3147-4f39-8cdd-8a7a0d83f7a4",
   "metadata": {},
   "outputs": [
    {
     "name": "stdout",
     "output_type": "stream",
     "text": [
      "* * * * * \n",
      "* * * * * \n",
      "* * * * * \n",
      "* * * * * \n",
      "* * * * * \n"
     ]
    }
   ],
   "source": [
    "#pre define function\n",
    "for i in range(5):\n",
    "    for j in range(5):\n",
    "        print(\"*\",end=\" \")\n",
    "    print()\n",
    "       \n",
    "    "
   ]
  },
  {
   "cell_type": "code",
   "execution_count": 3,
   "id": "6edfc9d7-828d-4be9-9861-bf4871adb51e",
   "metadata": {},
   "outputs": [
    {
     "name": "stdout",
     "output_type": "stream",
     "text": [
      "* * * * * \n",
      "* * * * * \n",
      "* * * * * \n",
      "* * * * * \n",
      "* * * * * \n"
     ]
    }
   ],
   "source": [
    "#pre define using variable n\n",
    "n=5\n",
    "for i in range(n):\n",
    "    for j in range(n):\n",
    "        print(\"*\",end=\" \")\n",
    "    print()"
   ]
  },
  {
   "cell_type": "code",
   "execution_count": 4,
   "id": "8e79dbe3-5fdd-4807-a5ad-0b42a9742dea",
   "metadata": {},
   "outputs": [
    {
     "name": "stdin",
     "output_type": "stream",
     "text": [
      "enter your number 1\n"
     ]
    },
    {
     "name": "stdout",
     "output_type": "stream",
     "text": [
      "* \n"
     ]
    }
   ],
   "source": [
    "#User define fuction\n",
    "n=int(input(\"enter your number\"))\n",
    "for i in range(n):\n",
    "    for j in range(n):\n",
    "        print(\"*\",end=\" \")\n",
    "    print()"
   ]
  },
  {
   "cell_type": "code",
   "execution_count": 5,
   "id": "c2ed230b-ecf1-4fe4-a396-bda71161419b",
   "metadata": {},
   "outputs": [
    {
     "name": "stdout",
     "output_type": "stream",
     "text": [
      "*\n",
      "***\n",
      "*****\n",
      "*******\n"
     ]
    }
   ],
   "source": [
    "for i in range(1,8,2):\n",
    "    for j in range(1,i+1):\n",
    "        print(\"*\",end=\"\")\n",
    "    print()\n",
    "#1# it will start from one and end with 7 and sequence will increase with 2 values"
   ]
  },
  {
   "cell_type": "code",
   "execution_count": 6,
   "id": "6986d613-6f8b-4ffc-8492-96ef5ee48f51",
   "metadata": {},
   "outputs": [
    {
     "name": "stdout",
     "output_type": "stream",
     "text": [
      "**\n",
      "*****\n",
      "********\n",
      "***********\n",
      "**************\n"
     ]
    }
   ],
   "source": [
    "for i in range(2,17,3):\n",
    "    for j in range(1,i+1):\n",
    "        print(\"*\",end=\"\")\n",
    "    print()"
   ]
  },
  {
   "cell_type": "code",
   "execution_count": 7,
   "id": "6820110d-cb3a-41cf-ab19-1b4f135a468e",
   "metadata": {},
   "outputs": [
    {
     "name": "stdout",
     "output_type": "stream",
     "text": [
      "*\n",
      "**\n",
      "***\n",
      "****\n",
      "*****\n"
     ]
    }
   ],
   "source": [
    "for i in range(1,6):\n",
    "    for j in range(1,i+1):\n",
    "        print(\"*\",end=\"\")\n",
    "    print()"
   ]
  },
  {
   "cell_type": "code",
   "execution_count": 8,
   "id": "191c9dbc-56d5-4158-81c8-3d11996cdc86",
   "metadata": {},
   "outputs": [
    {
     "name": "stdout",
     "output_type": "stream",
     "text": [
      "***\n",
      "****\n",
      "*****\n",
      "******\n",
      "*******\n"
     ]
    }
   ],
   "source": [
    "for i in range(3,8):\n",
    "    for j in range(1,i+1):\n",
    "        print(\"*\",end=\"\")\n",
    "    print()"
   ]
  },
  {
   "cell_type": "code",
   "execution_count": 9,
   "id": "0850f051-367e-475e-8143-1f2475787b5f",
   "metadata": {},
   "outputs": [],
   "source": [
    "#2.numerical pattern (row=i, column = j)"
   ]
  },
  {
   "cell_type": "code",
   "execution_count": 10,
   "id": "44df9598-4b21-4011-8377-fcdba6c8a664",
   "metadata": {},
   "outputs": [
    {
     "name": "stdout",
     "output_type": "stream",
     "text": [
      "12345\n",
      "12345\n",
      "12345\n",
      "12345\n",
      "12345\n"
     ]
    }
   ],
   "source": [
    "for i in range(5):\n",
    "    for j in range(5):\n",
    "        print(j+1,end=\"\")\n",
    "    print()"
   ]
  },
  {
   "cell_type": "code",
   "execution_count": 11,
   "id": "a23a9c6e-932e-43cc-b574-26972b1ab332",
   "metadata": {},
   "outputs": [
    {
     "name": "stdout",
     "output_type": "stream",
     "text": [
      "11111\n",
      "22222\n",
      "33333\n",
      "44444\n",
      "55555\n"
     ]
    }
   ],
   "source": [
    "for i in range(5):\n",
    "    for j in range(5):\n",
    "        print(i+1,end=\"\")\n",
    "    print()"
   ]
  },
  {
   "cell_type": "code",
   "execution_count": 12,
   "id": "93215603-1252-4b59-afac-798b892302cd",
   "metadata": {},
   "outputs": [
    {
     "name": "stdout",
     "output_type": "stream",
     "text": [
      "\n",
      "1\n",
      "12\n",
      "123\n",
      "1234\n",
      "12345\n"
     ]
    }
   ],
   "source": [
    "n=5\n",
    "for i in range(n+1):\n",
    "    for j in range(1,i+1):\n",
    "        print(j,end=\"\")\n",
    "    print()"
   ]
  },
  {
   "cell_type": "code",
   "execution_count": 13,
   "id": "22209562-29a3-423e-9f5d-ac31f33059c5",
   "metadata": {},
   "outputs": [
    {
     "name": "stdout",
     "output_type": "stream",
     "text": [
      "\n",
      "1\n",
      "22\n",
      "333\n",
      "4444\n",
      "55555\n"
     ]
    }
   ],
   "source": [
    "n=5\n",
    "for i in range(n+1):\n",
    "    for j in range(1,i+1):\n",
    "        print(i,end=\"\")\n",
    "    print()"
   ]
  },
  {
   "cell_type": "code",
   "execution_count": 14,
   "id": "84c26c40-1008-4008-a277-f61909cbdb0f",
   "metadata": {},
   "outputs": [],
   "source": [
    "#alphabetical pattern"
   ]
  },
  {
   "cell_type": "code",
   "execution_count": 15,
   "id": "a16db00d-5c49-4cb5-a4cd-079b2ce4fd81",
   "metadata": {},
   "outputs": [
    {
     "name": "stdout",
     "output_type": "stream",
     "text": [
      "A,B,C,D,E,F,G,H,I,J,K,L,M,N,O,P,Q,R,S,T,U,V,W,X,Y,Z,\n"
     ]
    }
   ],
   "source": [
    "#capital A to Z\n",
    "for i in range (65,91):\n",
    "    print(chr(i),end=\",\")\n",
    "print()"
   ]
  },
  {
   "cell_type": "code",
   "execution_count": 16,
   "id": "d784f701-1cae-4ff6-a51b-5c3a0fb44056",
   "metadata": {},
   "outputs": [
    {
     "name": "stdout",
     "output_type": "stream",
     "text": [
      "a,b,c,d,e,f,g,h,i,j,k,l,m,n,o,p,q,r,s,t,u,v,w,x,y,z,\n"
     ]
    }
   ],
   "source": [
    "#Small a to z\n",
    "for i in range (97,123):\n",
    "    print(chr(i),end=\",\")\n",
    "print()"
   ]
  },
  {
   "cell_type": "code",
   "execution_count": 17,
   "id": "a630784f-dd4b-44d9-942e-59b7ec461734",
   "metadata": {},
   "outputs": [
    {
     "name": "stdout",
     "output_type": "stream",
     "text": [
      "ABCDE\n",
      "FGHIJ\n",
      "KLMNO\n",
      "PQRST\n",
      "UVWXY\n"
     ]
    }
   ],
   "source": [
    "size=5\n",
    "count=0\n",
    "for i in range(size):\n",
    "    for j in range(size):\n",
    "        print(chr(65+count),end=\"\")\n",
    "        count+=1\n",
    "    print()\n",
    "        "
   ]
  },
  {
   "cell_type": "code",
   "execution_count": 18,
   "id": "5b6d711f-06fc-461b-ae54-4f3e5c59d887",
   "metadata": {},
   "outputs": [
    {
     "name": "stdout",
     "output_type": "stream",
     "text": [
      "AAAAA\n",
      "BBBBB\n",
      "CCCCC\n",
      "DDDDD\n",
      "EEEEE\n"
     ]
    }
   ],
   "source": [
    "size=5\n",
    "for i in range(size):\n",
    "    for j in range(size):\n",
    "        print(chr(65+i),end=\"\")\n",
    "    print()"
   ]
  },
  {
   "cell_type": "code",
   "execution_count": 19,
   "id": "e9441958-4608-4a0b-b761-16c5b0c485bf",
   "metadata": {},
   "outputs": [
    {
     "name": "stdout",
     "output_type": "stream",
     "text": [
      "ABCDE\n",
      "ABCDE\n",
      "ABCDE\n",
      "ABCDE\n",
      "ABCDE\n"
     ]
    }
   ],
   "source": [
    "size=5\n",
    "for i in range(size):\n",
    "    for j in range(size):\n",
    "        print(chr(65+j),end=\"\")\n",
    "    print()"
   ]
  },
  {
   "cell_type": "code",
   "execution_count": 20,
   "id": "358ee2f6-ef30-4aaf-b6e4-1d4882fb13c8",
   "metadata": {},
   "outputs": [
    {
     "name": "stdout",
     "output_type": "stream",
     "text": [
      "A\n",
      "AB\n",
      "ABC\n",
      "ABCD\n",
      "ABCDE\n"
     ]
    }
   ],
   "source": [
    "for i in range(5):\n",
    "    for j in range(i+1):\n",
    "        print(chr(65+j),end=\"\")\n",
    "    print()"
   ]
  },
  {
   "cell_type": "code",
   "execution_count": 21,
   "id": "f60f9be6-9938-46bb-ac8c-7be34e1e61f8",
   "metadata": {},
   "outputs": [
    {
     "name": "stdout",
     "output_type": "stream",
     "text": [
      "A\n",
      "BB\n",
      "CCC\n",
      "DDDD\n",
      "EEEEE\n"
     ]
    }
   ],
   "source": [
    "for i in range(5):\n",
    "    for j in range(i+1):\n",
    "        print(chr(65+i),end=\"\")\n",
    "    print()"
   ]
  },
  {
   "cell_type": "code",
   "execution_count": 22,
   "id": "6d9a859b-580f-4739-b8f2-f51b625d777d",
   "metadata": {},
   "outputs": [],
   "source": [
    "#if-else statement(conditional statement)\n"
   ]
  },
  {
   "cell_type": "code",
   "execution_count": 23,
   "id": "b0807b1f-baa6-41ce-ade0-27340612c848",
   "metadata": {},
   "outputs": [
    {
     "name": "stdin",
     "output_type": "stream",
     "text": [
      "enter you age 2\n"
     ]
    },
    {
     "name": "stdout",
     "output_type": "stream",
     "text": [
      "sorry, you are not eligible\n"
     ]
    }
   ],
   "source": [
    "a=int(input(\"enter you age\"))\n",
    "if a>50:\n",
    "    print(\"you will get discount in bus ticket\")\n",
    "else:\n",
    "    print(\"sorry, you are not eligible\")\n",
    "\n",
    "    "
   ]
  },
  {
   "cell_type": "code",
   "execution_count": 24,
   "id": "8a701a3b-9339-4817-a6a7-dd88a75a352f",
   "metadata": {},
   "outputs": [
    {
     "name": "stdin",
     "output_type": "stream",
     "text": [
      "enter you number 3\n"
     ]
    },
    {
     "name": "stdout",
     "output_type": "stream",
     "text": [
      "Given number is positive\n"
     ]
    }
   ],
   "source": [
    "a=float(input(\"enter you number\"))\n",
    "if a>0:\n",
    "    print(\"Given number is positive\")\n",
    "else:\n",
    "    print(\"Given number is negative\")"
   ]
  },
  {
   "cell_type": "markdown",
   "id": "17a2c16f-0954-4ff4-be0b-54b1615b2703",
   "metadata": {},
   "source": [
    "a=input(\"enter you gender\")\n",
    "if M in a:\n",
    "    print(\"you will get discount in bus ticket\")\n",
    "else:\n",
    "    print(\"sorry, you are not eligible\")"
   ]
  },
  {
   "cell_type": "code",
   "execution_count": 25,
   "id": "8f6b03bf-bc33-4dce-a59b-d2a41b3b1d68",
   "metadata": {},
   "outputs": [],
   "source": [
    "#elif statement"
   ]
  },
  {
   "cell_type": "code",
   "execution_count": 26,
   "id": "b74efefc-4b6e-46f7-858f-781f9501dbfa",
   "metadata": {},
   "outputs": [
    {
     "name": "stdin",
     "output_type": "stream",
     "text": [
      "enter you number 4\n"
     ]
    },
    {
     "name": "stdout",
     "output_type": "stream",
     "text": [
      "Given number is positive\n"
     ]
    }
   ],
   "source": [
    "a=float(input(\"enter you number\"))\n",
    "if a>0:\n",
    "    print(\"Given number is positive\")\n",
    "elif a==0:\n",
    "    print(\"Given number if zero\")\n",
    "else:\n",
    "    print(\"Given number is negative\")"
   ]
  },
  {
   "cell_type": "code",
   "execution_count": 27,
   "id": "cb569efb-9a52-40db-9266-d05b44bb788a",
   "metadata": {},
   "outputs": [
    {
     "name": "stdin",
     "output_type": "stream",
     "text": [
      "enter your age  5\n"
     ]
    },
    {
     "name": "stdout",
     "output_type": "stream",
     "text": [
      "sorry, you are not eligible\n"
     ]
    }
   ],
   "source": [
    "a=float(input(\"enter your age \"))\n",
    "if a>50:\n",
    "    print(\"you will get discount in bus ticket\")\n",
    "elif a==50:\n",
    "    print(\"you will get half bus ticket\")\n",
    "else:\n",
    "    print(\"sorry, you are not eligible\")"
   ]
  },
  {
   "cell_type": "code",
   "execution_count": 28,
   "id": "cc76e331-b96a-49bb-a774-33eaafce21bf",
   "metadata": {},
   "outputs": [],
   "source": [
    "#odd & even\n",
    "#odd=1,3,5,7,9,11\n",
    "#even=2,4,6,8,10"
   ]
  },
  {
   "cell_type": "code",
   "execution_count": 29,
   "id": "c3e57e05-f27e-4606-9e84-b7fef4a51c11",
   "metadata": {},
   "outputs": [
    {
     "name": "stdin",
     "output_type": "stream",
     "text": [
      "enter you number 6\n"
     ]
    },
    {
     "name": "stdout",
     "output_type": "stream",
     "text": [
      "Given number is even\n"
     ]
    }
   ],
   "source": [
    "a=int(input(\"enter you number\"))\n",
    "if a%2==0:\n",
    "    print(\"Given number is even\")\n",
    "else:\n",
    "    print(\"Given number is odd\")\n",
    "    "
   ]
  },
  {
   "cell_type": "code",
   "execution_count": 30,
   "id": "613ce87d-925a-4f1f-8f29-3b43617301fc",
   "metadata": {},
   "outputs": [
    {
     "name": "stdin",
     "output_type": "stream",
     "text": [
      "enter you number 7\n"
     ]
    },
    {
     "name": "stdout",
     "output_type": "stream",
     "text": [
      "Given number is odd\n"
     ]
    }
   ],
   "source": [
    "a=float(input(\"enter you number\"))\n",
    "if a%2==1:\n",
    "    print(\"Given number is odd\")\n",
    "else:\n",
    "    print(\"Given number is even\")"
   ]
  },
  {
   "cell_type": "code",
   "execution_count": 31,
   "id": "40dd5da3-a9e1-46f3-b02e-bdafe990f87e",
   "metadata": {},
   "outputs": [
    {
     "name": "stdout",
     "output_type": "stream",
     "text": [
      "10 given num is even\n",
      "25 given num is odd\n",
      "30 given num is even\n",
      "44 given num is even\n",
      "55 given num is odd\n",
      "66 given num is even\n",
      "76 given num is even\n"
     ]
    }
   ],
   "source": [
    "list=[10,25,30,44,55,66,76]\n",
    "for i in list:\n",
    "    if (i%2==0):\n",
    "        print(i,\"given num is even\")\n",
    "    else:\n",
    "        print(i,\"given num is odd\")"
   ]
  },
  {
   "cell_type": "code",
   "execution_count": 32,
   "id": "8705ba7e-3f9e-4a31-aadb-3f11abd1c95f",
   "metadata": {},
   "outputs": [
    {
     "name": "stdout",
     "output_type": "stream",
     "text": [
      "b is greater than a\n"
     ]
    }
   ],
   "source": [
    "#if statement\n",
    "a=15\n",
    "b=16\n",
    "if b>a:\n",
    "    print(\"b is greater than a\")"
   ]
  },
  {
   "cell_type": "code",
   "execution_count": 33,
   "id": "c5c141cc-4e99-4586-aa4a-79836e147188",
   "metadata": {},
   "outputs": [
    {
     "name": "stdout",
     "output_type": "stream",
     "text": [
      "b is greater than a\n"
     ]
    }
   ],
   "source": [
    "#elif statement\n",
    "a=15\n",
    "b=16\n",
    "if b>a:\n",
    "    print(\"b is greater than a\")\n",
    "elif a==b:\n",
    "    print(\"a & b is equal\")"
   ]
  },
  {
   "cell_type": "code",
   "execution_count": 34,
   "id": "94c12600-f9b0-49db-baf0-06e2350dc05a",
   "metadata": {},
   "outputs": [
    {
     "name": "stdout",
     "output_type": "stream",
     "text": [
      "a is greater than b\n"
     ]
    }
   ],
   "source": [
    "#else statement\n",
    "a=1150\n",
    "b=160\n",
    "if b>a:\n",
    "    print(\"b is greater than a\")\n",
    "elif a==b:\n",
    "    print(\"a & b is equal\")\n",
    "else:\n",
    "    print(\"a is greater than b\")"
   ]
  },
  {
   "cell_type": "code",
   "execution_count": 35,
   "id": "c6d1a8bb-9dd3-45bc-956e-953ddfae7260",
   "metadata": {},
   "outputs": [],
   "source": [
    "# Ternary Operator -  one line version of if-else statement to test the condition.\n",
    "# This technique is known as Ternary Operators, or Conditional Expressions."
   ]
  },
  {
   "cell_type": "code",
   "execution_count": 36,
   "id": "c6cd3b2c-de3d-4295-ba14-6d69a1348c63",
   "metadata": {},
   "outputs": [
    {
     "name": "stdout",
     "output_type": "stream",
     "text": [
      "B\n"
     ]
    }
   ],
   "source": [
    "a=300\n",
    "b=350\n",
    "print(\"A\") if a>b else print(\"B\")"
   ]
  },
  {
   "cell_type": "code",
   "execution_count": 37,
   "id": "02750df6-baea-41c5-b13b-7da71d6fa0fb",
   "metadata": {},
   "outputs": [
    {
     "name": "stdout",
     "output_type": "stream",
     "text": [
      "both conditions are ture\n"
     ]
    }
   ],
   "source": [
    "#AND\n",
    "a=200\n",
    "b=30\n",
    "c=300\n",
    "if a>b and c>a:\n",
    "    print(\"both conditions are ture\")"
   ]
  },
  {
   "cell_type": "code",
   "execution_count": 38,
   "id": "b51e5035-9394-4345-990e-2d3f25413e1f",
   "metadata": {},
   "outputs": [
    {
     "name": "stdout",
     "output_type": "stream",
     "text": [
      "At least one of the condition is true\n"
     ]
    }
   ],
   "source": [
    "#or\n",
    "a=50\n",
    "b=60\n",
    "c=45\n",
    "if a>b or a>c:\n",
    "    print(\"At least one of the condition is true\")"
   ]
  },
  {
   "cell_type": "code",
   "execution_count": 39,
   "id": "7b45a43b-40fc-4575-983f-3217b637b94b",
   "metadata": {},
   "outputs": [
    {
     "name": "stdout",
     "output_type": "stream",
     "text": [
      " a is not greater then b\n"
     ]
    }
   ],
   "source": [
    "#not\n",
    "a=33\n",
    "b=200\n",
    "if not a>b:\n",
    "    print(\" a is not greater then b\")"
   ]
  },
  {
   "cell_type": "code",
   "execution_count": 40,
   "id": "08e0bf42-d22b-4fe0-8544-84993ea4c27f",
   "metadata": {},
   "outputs": [
    {
     "name": "stdin",
     "output_type": "stream",
     "text": [
      "enter your rating  8\n"
     ]
    },
    {
     "name": "stdout",
     "output_type": "stream",
     "text": [
      "your rating:invalid\n"
     ]
    }
   ],
   "source": [
    "# if-elif-else (movie rating) \n",
    "rating=float(input(\"enter your rating \"))\n",
    "if rating==5:\n",
    "    print(\"your rating:excellent\")\n",
    "elif rating<5 and rating>=4:\n",
    "    print(\"your rating:very good\")\n",
    "elif rating<4 and rating>=3:\n",
    "    print(\"your rating:good\")\n",
    "elif rating<3 and rating>=2:\n",
    "    print(\"your rating:poor\")\n",
    "elif rating<2 and rating>=1:\n",
    "    print(\"your rating:very poor\")\n",
    "else:\n",
    "    print(\"your rating:invalid\")"
   ]
  },
  {
   "cell_type": "code",
   "execution_count": 2,
   "id": "5e0dcf10-ec0b-4723-9b89-5f319b62c475",
   "metadata": {},
   "outputs": [
    {
     "name": "stdin",
     "output_type": "stream",
     "text": [
      "enter your first  number  3\n",
      "enter your second number  6\n",
      "enter operation  *\n"
     ]
    },
    {
     "name": "stdout",
     "output_type": "stream",
     "text": [
      "18.0\n"
     ]
    }
   ],
   "source": [
    "# calculator \n",
    "num1=float(input(\"enter your first  number \"))\n",
    "num2=float(input(\"enter your second number \"))\n",
    "op=input(\"enter operation \")\n",
    "if op==\"+\":\n",
    "    print(num1+num2)\n",
    "elif op==\"-\":\n",
    "    print(num1-num2)\n",
    "elif op==\"*\":\n",
    "    print(num1*num2)\n",
    "elif op==\"/\":\n",
    "    print(num1/num2)\n",
    "else:\n",
    "    print(\"invalid\")"
   ]
  },
  {
   "cell_type": "code",
   "execution_count": 43,
   "id": "37f72999-6f8f-4da3-ac75-3d902da87faa",
   "metadata": {},
   "outputs": [
    {
     "name": "stdin",
     "output_type": "stream",
     "text": [
      "enter your  first number  1\n",
      "enter your second number  2\n",
      "enter your third number  3\n"
     ]
    },
    {
     "name": "stdout",
     "output_type": "stream",
     "text": [
      "the largest number is 3.0\n"
     ]
    }
   ],
   "source": [
    "# large number\n",
    "num1=float(input(\"enter your  first number \"))\n",
    "num2=float(input(\"enter your second number \"))\n",
    "num3=float(input(\"enter your third number \"))\n",
    "\n",
    "if (num1 >= num2) and (num1 >= num3):\n",
    "    largest = num1\n",
    "elif (num2 >= num1) and (num2 >= num3):\n",
    "    largest = num2\n",
    "else:\n",
    "    largest = num3\n",
    "\n",
    "print(\"the largest number is\", largest)"
   ]
  },
  {
   "cell_type": "code",
   "execution_count": null,
   "id": "cbad7af8-6f56-4fa8-8ae3-164db33e5179",
   "metadata": {},
   "outputs": [],
   "source": []
  },
  {
   "cell_type": "code",
   "execution_count": null,
   "id": "fc408105-10ba-4911-9cc0-ad7973f62782",
   "metadata": {},
   "outputs": [],
   "source": []
  },
  {
   "cell_type": "code",
   "execution_count": null,
   "id": "5ad1b6b2-e643-4eef-aab6-04bf01af28e0",
   "metadata": {},
   "outputs": [],
   "source": []
  },
  {
   "cell_type": "code",
   "execution_count": null,
   "id": "40351ab7-bd61-4024-b485-1f1d933ea771",
   "metadata": {},
   "outputs": [],
   "source": []
  },
  {
   "cell_type": "code",
   "execution_count": null,
   "id": "c69080e1-471b-4232-b43c-2d0c58355606",
   "metadata": {},
   "outputs": [],
   "source": []
  },
  {
   "cell_type": "code",
   "execution_count": null,
   "id": "d46313ab-e906-486f-b8b6-fe3e38d1f536",
   "metadata": {},
   "outputs": [],
   "source": []
  },
  {
   "cell_type": "code",
   "execution_count": null,
   "id": "7a7fda14-4b63-45ca-8a49-14c82f2b7786",
   "metadata": {},
   "outputs": [],
   "source": []
  },
  {
   "cell_type": "code",
   "execution_count": null,
   "id": "303b7d5b-c110-4031-88c6-2a61bd922ca1",
   "metadata": {},
   "outputs": [],
   "source": []
  },
  {
   "cell_type": "code",
   "execution_count": null,
   "id": "fe4455dd-9038-4ecf-b0a4-6bb607394ce7",
   "metadata": {},
   "outputs": [],
   "source": []
  },
  {
   "cell_type": "code",
   "execution_count": null,
   "id": "29fd1c7a-4ed0-458d-b8be-f7588fceb922",
   "metadata": {},
   "outputs": [],
   "source": []
  }
 ],
 "metadata": {
  "kernelspec": {
   "display_name": "Python 3 (ipykernel)",
   "language": "python",
   "name": "python3"
  },
  "language_info": {
   "codemirror_mode": {
    "name": "ipython",
    "version": 3
   },
   "file_extension": ".py",
   "mimetype": "text/x-python",
   "name": "python",
   "nbconvert_exporter": "python",
   "pygments_lexer": "ipython3",
   "version": "3.12.0"
  }
 },
 "nbformat": 4,
 "nbformat_minor": 5
}

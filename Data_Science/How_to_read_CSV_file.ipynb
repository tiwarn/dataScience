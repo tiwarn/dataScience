{
 "cells": [
  {
   "cell_type": "markdown",
   "id": "95846799-246e-4b6f-a364-790f1a692316",
   "metadata": {},
   "source": [
    "***Importing pandas***"
   ]
  },
  {
   "cell_type": "code",
   "execution_count": 1,
   "id": "af3ea01c-45c6-4547-8e0b-7b1a4c0f96be",
   "metadata": {},
   "outputs": [],
   "source": [
    "import pandas as pd"
   ]
  },
  {
   "cell_type": "markdown",
   "id": "ff5891d6-2f67-4f11-9b2e-75ca57377fe9",
   "metadata": {},
   "source": [
    "***Opening a Local CSV file***"
   ]
  },
  {
   "cell_type": "code",
   "execution_count": 4,
   "id": "256502c1-0f81-49e9-852c-11d601d2b72b",
   "metadata": {},
   "outputs": [
    {
     "data": {
      "text/html": [
       "<div>\n",
       "<style scoped>\n",
       "    .dataframe tbody tr th:only-of-type {\n",
       "        vertical-align: middle;\n",
       "    }\n",
       "\n",
       "    .dataframe tbody tr th {\n",
       "        vertical-align: top;\n",
       "    }\n",
       "\n",
       "    .dataframe thead th {\n",
       "        text-align: right;\n",
       "    }\n",
       "</style>\n",
       "<table border=\"1\" class=\"dataframe\">\n",
       "  <thead>\n",
       "    <tr style=\"text-align: right;\">\n",
       "      <th></th>\n",
       "      <th>gender</th>\n",
       "      <th>race/ethnicity</th>\n",
       "      <th>parental level of education</th>\n",
       "      <th>lunch</th>\n",
       "      <th>test preparation course</th>\n",
       "      <th>math score</th>\n",
       "      <th>reading score</th>\n",
       "      <th>writing score</th>\n",
       "    </tr>\n",
       "  </thead>\n",
       "  <tbody>\n",
       "    <tr>\n",
       "      <th>0</th>\n",
       "      <td>female</td>\n",
       "      <td>group B</td>\n",
       "      <td>bachelor's degree</td>\n",
       "      <td>standard</td>\n",
       "      <td>none</td>\n",
       "      <td>72</td>\n",
       "      <td>72</td>\n",
       "      <td>74</td>\n",
       "    </tr>\n",
       "    <tr>\n",
       "      <th>1</th>\n",
       "      <td>female</td>\n",
       "      <td>group C</td>\n",
       "      <td>some college</td>\n",
       "      <td>standard</td>\n",
       "      <td>completed</td>\n",
       "      <td>69</td>\n",
       "      <td>90</td>\n",
       "      <td>88</td>\n",
       "    </tr>\n",
       "    <tr>\n",
       "      <th>2</th>\n",
       "      <td>female</td>\n",
       "      <td>group B</td>\n",
       "      <td>master's degree</td>\n",
       "      <td>standard</td>\n",
       "      <td>none</td>\n",
       "      <td>90</td>\n",
       "      <td>95</td>\n",
       "      <td>93</td>\n",
       "    </tr>\n",
       "    <tr>\n",
       "      <th>3</th>\n",
       "      <td>male</td>\n",
       "      <td>group A</td>\n",
       "      <td>associate's degree</td>\n",
       "      <td>free/reduced</td>\n",
       "      <td>none</td>\n",
       "      <td>47</td>\n",
       "      <td>57</td>\n",
       "      <td>44</td>\n",
       "    </tr>\n",
       "    <tr>\n",
       "      <th>4</th>\n",
       "      <td>male</td>\n",
       "      <td>group C</td>\n",
       "      <td>some college</td>\n",
       "      <td>standard</td>\n",
       "      <td>none</td>\n",
       "      <td>76</td>\n",
       "      <td>78</td>\n",
       "      <td>75</td>\n",
       "    </tr>\n",
       "  </tbody>\n",
       "</table>\n",
       "</div>"
      ],
      "text/plain": [
       "   gender race/ethnicity parental level of education         lunch  \\\n",
       "0  female        group B           bachelor's degree      standard   \n",
       "1  female        group C                some college      standard   \n",
       "2  female        group B             master's degree      standard   \n",
       "3    male        group A          associate's degree  free/reduced   \n",
       "4    male        group C                some college      standard   \n",
       "\n",
       "  test preparation course  math score  reading score  writing score  \n",
       "0                    none          72             72             74  \n",
       "1               completed          69             90             88  \n",
       "2                    none          90             95             93  \n",
       "3                    none          47             57             44  \n",
       "4                    none          76             78             75  "
      ]
     },
     "execution_count": 4,
     "metadata": {},
     "output_type": "execute_result"
    }
   ],
   "source": [
    "df=pd.read_csv(r'C:\\Users\\Admin\\Desktop\\Viska\\EDA/student.csv')\n",
    "df.head()"
   ]
  },
  {
   "cell_type": "markdown",
   "id": "6a6098e1-01ac-417a-8559-b7f4f83a09a2",
   "metadata": {},
   "source": [
    "***Opening a CSV file from an URL***"
   ]
  },
  {
   "cell_type": "markdown",
   "id": "e64a9d9c-184d-4145-b4df-af5f0a2c72a1",
   "metadata": {},
   "source": [
    "import requests\n",
    "from io import StringIO\n",
    "\n",
    "url = \"https://github.com/dr5hn/countries-states-cities-database/blob/master/csv/countries.csv\"\n",
    "headers = {\"User-Agent\": \"Mozilla/5.0(Macintosh; Intel Mac OS X 10.14; rv:66.0) Gecko/20100101 Firefox/66.0\"}\n",
    "req = requests.get(url, headers=headers)\n",
    "data = StringIO(req.text)\n",
    "pd.read_csv(data)"
   ]
  },
  {
   "cell_type": "markdown",
   "id": "aefe0ce5-7c0c-41d3-b83d-7070a1ccac84",
   "metadata": {},
   "source": [
    "***Sep Parameter***"
   ]
  },
  {
   "cell_type": "code",
   "execution_count": null,
   "id": "37825431-e15b-432d-96d6-aba2c898fdc3",
   "metadata": {},
   "outputs": [],
   "source": [
    "pd.read_csv('movie_titel', sep='\\t')--here \\t is work as nexttab."
   ]
  },
  {
   "cell_type": "code",
   "execution_count": null,
   "id": "4427a125-4fda-419d-9ac7-9259a17d2363",
   "metadata": {},
   "outputs": [],
   "source": [
    "pd.read_csv('movie_titel', sep='\\t',name=['SR','name','movie_rating','vote'])--Name is column name."
   ]
  },
  {
   "cell_type": "markdown",
   "id": "2bbac3b3-c5f6-44a7-9ade-a2d4efe0f4f5",
   "metadata": {},
   "source": [
    "***Index_col Parameter***--It will change the automatic index and give index as per your record."
   ]
  },
  {
   "cell_type": "code",
   "execution_count": null,
   "id": "19103588-ea08-476b-a0d6-fbdb3f13b082",
   "metadata": {},
   "outputs": [],
   "source": [
    "pd.read_csv('aug_train',index_col='1st_column_name')"
   ]
  },
  {
   "cell_type": "markdown",
   "id": "89353275-eaa9-4a1d-842c-0c95a3632b5d",
   "metadata": {},
   "source": [
    "***Header_Parameter*** if your header is reflecting in 1st row."
   ]
  },
  {
   "cell_type": "code",
   "execution_count": null,
   "id": "546378b2-bbdb-4212-ac71-48c0e0ab2113",
   "metadata": {},
   "outputs": [],
   "source": [
    "pd.read_csv('aug_train',header=1)"
   ]
  },
  {
   "cell_type": "markdown",
   "id": "ec13489b-a300-4da2-9b4c-e98f10854b75",
   "metadata": {},
   "source": [
    "****Use_Column_Parameter****--It will select only those columns which is required for this."
   ]
  },
  {
   "cell_type": "code",
   "execution_count": null,
   "id": "067a741a-77ad-4280-b579-cc8877591449",
   "metadata": {},
   "outputs": [],
   "source": [
    "pd.read_csv('aug_train',usecols=['name','vote']"
   ]
  },
  {
   "cell_type": "markdown",
   "id": "7dff2a72-75f3-4106-8e25-80e224c8c6f9",
   "metadata": {},
   "source": [
    "***Encoding Parameter***"
   ]
  },
  {
   "cell_type": "code",
   "execution_count": null,
   "id": "f8a60e0b-6562-442e-9516-c2331434595b",
   "metadata": {},
   "outputs": [],
   "source": [
    "pd.read_csv('aug_train',encoding='latin-1')---it will use once we get the error UnicodeDecoderError"
   ]
  },
  {
   "cell_type": "markdown",
   "id": "aeaaa6aa-e8c0-4841-a243-dbefbf816fe3",
   "metadata": {},
   "source": [
    "***Skip Bad Lines***---once you are getting Parser Error"
   ]
  },
  {
   "cell_type": "code",
   "execution_count": null,
   "id": "d6cdcce7-0179-4bd4-a85a-1a728f17735f",
   "metadata": {},
   "outputs": [],
   "source": [
    "pd.read_csv('aug_train',encoding='latin-1',sep=';',error_bad_lines=False)"
   ]
  },
  {
   "cell_type": "markdown",
   "id": "79e72b5c-bc73-4120-846f-750c0711efed",
   "metadata": {},
   "source": [
    "***dtypes Paramater***--Change the data type"
   ]
  },
  {
   "cell_type": "code",
   "execution_count": null,
   "id": "e0ee1832-e0e8-4e66-a3d8-76a0fb6fb1dc",
   "metadata": {},
   "outputs": [],
   "source": [
    "pd.read_csv('aug_train',dtype={'target':int})"
   ]
  },
  {
   "cell_type": "markdown",
   "id": "2d8d1134-13cb-48de-8e8c-27f2e89f0c88",
   "metadata": {},
   "source": [
    "***Handling Dates***---parse_date is convert text to date."
   ]
  },
  {
   "cell_type": "code",
   "execution_count": null,
   "id": "f6b828f4-fbab-451b-ab10-515c365f9d03",
   "metadata": {},
   "outputs": [],
   "source": [
    "pd.read_csv('aug_train',parse_dates=['date']"
   ]
  },
  {
   "cell_type": "markdown",
   "id": "1d427ba1-5021-4723-a96a-1f8cb773ea5f",
   "metadata": {},
   "source": [
    "***covertors***"
   ]
  },
  {
   "cell_type": "code",
   "execution_count": 16,
   "id": "46e1496e-3b1e-4099-939f-d0430401a6fe",
   "metadata": {},
   "outputs": [],
   "source": [
    "def rename (name):\n",
    "    if name == \"Royal Challenger Bangalore\":\n",
    "        return \"RCB\"\n",
    "    else:\n",
    "        return name"
   ]
  },
  {
   "cell_type": "code",
   "execution_count": 17,
   "id": "ee083ec1-47f4-4714-ac8c-2affe4b04ac0",
   "metadata": {},
   "outputs": [
    {
     "data": {
      "text/plain": [
       "'RCB'"
      ]
     },
     "execution_count": 17,
     "metadata": {},
     "output_type": "execute_result"
    }
   ],
   "source": [
    "rename('Royal Challenger Bangalore')"
   ]
  },
  {
   "cell_type": "markdown",
   "id": "e0998f03-90f5-46b2-95d7-798bc9f50770",
   "metadata": {},
   "source": [
    "pd.read_csv('aug_train',converters={'team':rename})--Here team is column name and rename is def function"
   ]
  },
  {
   "cell_type": "markdown",
   "id": "32f57a12-7b51-4315-8240-66596d0401b4",
   "metadata": {},
   "source": [
    "***na_values parameter***\n"
   ]
  },
  {
   "cell_type": "code",
   "execution_count": null,
   "id": "0c1f50ed-83cd-4c56-98d7-787abd5ad867",
   "metadata": {},
   "outputs": [],
   "source": [
    "pd.read_csv('aug_train', na_values=['Male'])"
   ]
  },
  {
   "cell_type": "markdown",
   "id": "74b79a3d-480c-4653-81ba-537d075637b8",
   "metadata": {},
   "source": [
    "***Loading a huge dataset in chunks***"
   ]
  },
  {
   "cell_type": "code",
   "execution_count": null,
   "id": "1d3e7504-2038-46ff-9f7f-dfe900e8adc1",
   "metadata": {},
   "outputs": [],
   "source": [
    "dfs=pd.read_csv('aug_train', chunksize=5000)"
   ]
  },
  {
   "cell_type": "code",
   "execution_count": null,
   "id": "c5ce020d-426d-49e1-8d65-f7b289df45e3",
   "metadata": {},
   "outputs": [],
   "source": [
    "for chunks in dfs:\n",
    "    print(chunk.shape)"
   ]
  },
  {
   "cell_type": "code",
   "execution_count": null,
   "id": "aa3317ef-1a0e-4540-8890-08afdd8f2fc2",
   "metadata": {},
   "outputs": [],
   "source": []
  },
  {
   "cell_type": "code",
   "execution_count": null,
   "id": "2c98e942-de3d-44e2-a4c0-f321a9320198",
   "metadata": {},
   "outputs": [],
   "source": []
  },
  {
   "cell_type": "code",
   "execution_count": null,
   "id": "00e70647-bcc5-4c2d-8b09-fea7f1b43f37",
   "metadata": {},
   "outputs": [],
   "source": []
  },
  {
   "cell_type": "code",
   "execution_count": null,
   "id": "6f71ab86-144f-453a-bee4-219f697628ea",
   "metadata": {},
   "outputs": [],
   "source": []
  },
  {
   "cell_type": "code",
   "execution_count": null,
   "id": "163cc00a-a42f-4c24-bdc6-a0694a2b4d82",
   "metadata": {},
   "outputs": [],
   "source": []
  }
 ],
 "metadata": {
  "kernelspec": {
   "display_name": "Python 3 (ipykernel)",
   "language": "python",
   "name": "python3"
  },
  "language_info": {
   "codemirror_mode": {
    "name": "ipython",
    "version": 3
   },
   "file_extension": ".py",
   "mimetype": "text/x-python",
   "name": "python",
   "nbconvert_exporter": "python",
   "pygments_lexer": "ipython3",
   "version": "3.12.0"
  }
 },
 "nbformat": 4,
 "nbformat_minor": 5
}

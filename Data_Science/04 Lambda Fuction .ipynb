{
 "cells": [
  {
   "cell_type": "code",
   "execution_count": 1,
   "id": "941bda03-37e7-472b-8b09-83017c81a262",
   "metadata": {},
   "outputs": [],
   "source": [
    "#lambda function\n",
    "#lambda function can take any number of arguments, but can only one expression\n",
    "#syntax = lambda argument : expression"
   ]
  },
  {
   "cell_type": "code",
   "execution_count": 2,
   "id": "a370b5b2-051a-4923-82f7-e905c53069b1",
   "metadata": {},
   "outputs": [
    {
     "name": "stdout",
     "output_type": "stream",
     "text": [
      "15\n"
     ]
    }
   ],
   "source": [
    "x=lambda a:a+5\n",
    "print(x(10))"
   ]
  },
  {
   "cell_type": "code",
   "execution_count": 3,
   "id": "a6d41d64-0946-427a-a12a-e6745b9ae7e2",
   "metadata": {},
   "outputs": [
    {
     "name": "stdout",
     "output_type": "stream",
     "text": [
      "5\n"
     ]
    }
   ],
   "source": [
    "x=lambda a:a-5\n",
    "print(x(10))"
   ]
  },
  {
   "cell_type": "code",
   "execution_count": 4,
   "id": "33e52a1c-e32e-4b5a-9ee2-92ffb5d68dc1",
   "metadata": {},
   "outputs": [
    {
     "name": "stdout",
     "output_type": "stream",
     "text": [
      "14.0\n"
     ]
    }
   ],
   "source": [
    "x=lambda a:a+10*2/5\n",
    "print(x(10))"
   ]
  },
  {
   "cell_type": "code",
   "execution_count": 5,
   "id": "43eb779d-0150-4ac7-9047-b7e3d61d9dd5",
   "metadata": {},
   "outputs": [
    {
     "name": "stdout",
     "output_type": "stream",
     "text": [
      "2035.5\n"
     ]
    }
   ],
   "source": [
    "x=lambda a:a/5*200/10+50/100+500*100/25-5\n",
    "print(x(10))"
   ]
  },
  {
   "cell_type": "code",
   "execution_count": 64,
   "id": "5424a798-1d9c-4eeb-87b1-5382774f9dcc",
   "metadata": {},
   "outputs": [
    {
     "name": "stdout",
     "output_type": "stream",
     "text": [
      "15\n"
     ]
    }
   ],
   "source": [
    "x=lambda a:a+5\n",
    "print(x(10))"
   ]
  },
  {
   "cell_type": "code",
   "execution_count": 65,
   "id": "3a549555-e00d-48d8-ba6a-252b0f7cbc51",
   "metadata": {},
   "outputs": [
    {
     "name": "stdout",
     "output_type": "stream",
     "text": [
      "9.0\n"
     ]
    }
   ],
   "source": [
    "x=lambda a:a+10*2/5\n",
    "print(x(5))"
   ]
  },
  {
   "cell_type": "markdown",
   "id": "95cf4410-02e9-49b8-bbb8-b6c7c2e362b2",
   "metadata": {},
   "source": [
    "#The Bodmas rule follows the order of the BODMAS acronym ie  \n",
    "B – Brackets, O – Order of powers or roots, D – Division, M – Multiplication A – Addition, and S – Subtraction. \n",
    "Mathematical expressions with multiple operators need to be solved from left to right in the order of BODMAS"
   ]
  },
  {
   "cell_type": "code",
   "execution_count": 66,
   "id": "85247ad8-f216-4e13-b6f5-e6a29d1afc3a",
   "metadata": {},
   "outputs": [
    {
     "name": "stdout",
     "output_type": "stream",
     "text": [
      "19.5\n"
     ]
    }
   ],
   "source": [
    "x=lambda x:x+5*2-3/6\n",
    "print(x(10))"
   ]
  },
  {
   "cell_type": "code",
   "execution_count": 67,
   "id": "a2f0636b-ca05-4b4c-9c6f-1812c71cd8b0",
   "metadata": {},
   "outputs": [
    {
     "name": "stdout",
     "output_type": "stream",
     "text": [
      "7\n"
     ]
    }
   ],
   "source": [
    "x=lambda a,b:a+b\n",
    "print(x(3,4))"
   ]
  },
  {
   "cell_type": "code",
   "execution_count": 69,
   "id": "923630b0-fc89-4c97-9695-2683ff5bb78e",
   "metadata": {},
   "outputs": [
    {
     "name": "stdout",
     "output_type": "stream",
     "text": [
      "6\n"
     ]
    }
   ],
   "source": [
    "x=lambda a,b:a*b\n",
    "print(x(2,3))"
   ]
  },
  {
   "cell_type": "code",
   "execution_count": 70,
   "id": "df1914c0-ff7b-450a-b859-26b7a32f6ae8",
   "metadata": {},
   "outputs": [
    {
     "name": "stdout",
     "output_type": "stream",
     "text": [
      "24\n"
     ]
    }
   ],
   "source": [
    "x=lambda x,y,z: x*y*z\n",
    "print(x(2,3,4))"
   ]
  },
  {
   "cell_type": "code",
   "execution_count": 71,
   "id": "2674b8e3-7c3b-4f95-95d5-1f316be74359",
   "metadata": {},
   "outputs": [
    {
     "name": "stdout",
     "output_type": "stream",
     "text": [
      "48\n"
     ]
    }
   ],
   "source": [
    "A=lambda x,y=14,z=24 : z+x+y\n",
    "print(A(10))"
   ]
  },
  {
   "cell_type": "markdown",
   "id": "8f886dea-44dc-4320-80b4-04a2c7c9737f",
   "metadata": {},
   "source": []
  },
  {
   "cell_type": "code",
   "execution_count": 76,
   "id": "e4fa487b-d5cc-4ff4-8d38-b670b6b698da",
   "metadata": {},
   "outputs": [
    {
     "name": "stdout",
     "output_type": "stream",
     "text": [
      "9\n"
     ]
    }
   ],
   "source": [
    "A=lambda * args:sum(args)\n",
    "print(A(2,3,4))"
   ]
  },
  {
   "cell_type": "code",
   "execution_count": 77,
   "id": "30d9bb10-a6c6-4810-b3c8-74c522e42fdb",
   "metadata": {},
   "outputs": [
    {
     "name": "stdout",
     "output_type": "stream",
     "text": [
      "420\n"
     ]
    }
   ],
   "source": [
    "#Higher order of fuction\n",
    "A=lambda x,fun:x+fun(x)\n",
    "print(A(20,lambda x:x*x))"
   ]
  },
  {
   "cell_type": "code",
   "execution_count": 80,
   "id": "90ee32c6-fad2-4e52-a5b5-b52ef9f137f0",
   "metadata": {},
   "outputs": [
    {
     "name": "stdout",
     "output_type": "stream",
     "text": [
      "Even\n"
     ]
    }
   ],
   "source": [
    "#display odd and even \n",
    "A=lambda x:(x%2 and 'Add' or 'Even')\n",
    "print(A(20))"
   ]
  },
  {
   "cell_type": "code",
   "execution_count": 82,
   "id": "2ca4819a-6a7a-4cac-a496-476a441f669f",
   "metadata": {},
   "outputs": [
    {
     "name": "stdout",
     "output_type": "stream",
     "text": [
      "True\n",
      "False\n"
     ]
    }
   ],
   "source": [
    "Str=lambda string: string in \"Welcome to Python tutorial\"\n",
    "print(Str(\"Python\"))\n",
    "print(Str(\"Java\"))"
   ]
  },
  {
   "cell_type": "code",
   "execution_count": 88,
   "id": "98c1b82b-3bd8-4878-90a2-4680dea39e4d",
   "metadata": {},
   "outputs": [
    {
     "name": "stdin",
     "output_type": "stream",
     "text": [
      "Enter you number 45\n"
     ]
    },
    {
     "name": "stdout",
     "output_type": "stream",
     "text": [
      "Yes\n"
     ]
    }
   ],
   "source": [
    "num=int(input(\"Enter you number\"))\n",
    "greater= lambda num:(num>30 and \"Yes\" or \"No\")\n",
    "print(greater(num))"
   ]
  },
  {
   "cell_type": "markdown",
   "id": "839b5116-9b31-42eb-8ec3-d9a8754bcb99",
   "metadata": {},
   "source": [
    "num=[20,34,23,45]\n",
    "greater = num(filter(lambda num : num>30,num))\n",
    "print(greater)                 "
   ]
  },
  {
   "cell_type": "markdown",
   "id": "5d25a6b3-61d4-431f-8b54-76163f815a63",
   "metadata": {},
   "source": [
    "num=[20,34,23,45]\n",
    "divide = list(filter(lambda x : (x%4==0),num))\n",
    "print(divide)  "
   ]
  },
  {
   "cell_type": "code",
   "execution_count": null,
   "id": "54a49cd5-da6e-4641-ba46-9e180498e33c",
   "metadata": {},
   "outputs": [],
   "source": []
  },
  {
   "cell_type": "markdown",
   "id": "44285f6e-6554-4d20-980c-2a8869d597ee",
   "metadata": {},
   "source": [
    "python function : def\n",
    "A function is a block of code which only runs when it is called.\n",
    "def keyword is use for python function."
   ]
  },
  {
   "cell_type": "code",
   "execution_count": 1,
   "id": "7eb3b0a2-6fc6-49aa-8dc2-045ed0b3c5a8",
   "metadata": {},
   "outputs": [
    {
     "name": "stdout",
     "output_type": "stream",
     "text": [
      "Hi Nilesh you are champ\n"
     ]
    }
   ],
   "source": [
    "def my_function():\n",
    "  print(\"Hi Nilesh you are champ\")\n",
    "my_function()\n"
   ]
  },
  {
   "cell_type": "code",
   "execution_count": 7,
   "id": "9f294294-7f73-4432-91b3-9a7c42d40723",
   "metadata": {},
   "outputs": [
    {
     "name": "stdout",
     "output_type": "stream",
     "text": [
      "My Name is Nitesh\n"
     ]
    }
   ],
   "source": [
    "def abc():\n",
    " print (\"My Name is Nitesh\")\n",
    "abc()"
   ]
  },
  {
   "cell_type": "code",
   "execution_count": 8,
   "id": "92c57ea6-6a98-46f4-9d6f-a8db6acbf43e",
   "metadata": {},
   "outputs": [],
   "source": [
    "#Python pre-define Function:\n",
    "#A pre-defined function is built into the software and does not need  to be created by a programmer."
   ]
  },
  {
   "cell_type": "code",
   "execution_count": 9,
   "id": "90f2f139-c9d0-4030-bf31-f3e87a0693ba",
   "metadata": {},
   "outputs": [
    {
     "name": "stdout",
     "output_type": "stream",
     "text": [
      "11\n"
     ]
    }
   ],
   "source": [
    "#ex.(+,/,-,*)\n",
    "def add():\n",
    "    a=5\n",
    "    b=6\n",
    "    c=a+b\n",
    "    print(c)\n",
    "add()"
   ]
  },
  {
   "cell_type": "code",
   "execution_count": 10,
   "id": "e520446a-a8fa-41ec-aa6a-335939fa7f23",
   "metadata": {},
   "outputs": [],
   "source": [
    "#Python User-defined Function:\n",
    "#That you use to organize your code in the body of a policy."
   ]
  },
  {
   "cell_type": "code",
   "execution_count": 11,
   "id": "ebc28ffd-8bee-4921-a41c-8a8bf255e499",
   "metadata": {},
   "outputs": [
    {
     "name": "stdin",
     "output_type": "stream",
     "text": [
      "Enter your Num 4\n",
      "Enter your Num 2\n"
     ]
    },
    {
     "name": "stdout",
     "output_type": "stream",
     "text": [
      "8.0\n"
     ]
    }
   ],
   "source": [
    "#ex.(+,/,-,*)\n",
    "def multi():\n",
    "    a=float(input(\"Enter your Num\"))\n",
    "    b=float(input(\"Enter your Num\"))\n",
    "    c=a*b\n",
    "    print(c)\n",
    "multi()"
   ]
  },
  {
   "cell_type": "markdown",
   "id": "b9200fe7-b4ca-4fd5-967f-949b01b2517d",
   "metadata": {},
   "source": [
    "arguments:\n",
    "Information can be passed into functions as arguments.\n",
    "Arguments are specified after the function name, inside the parentheses. You can add as many arguments as you want, just separate them with a comma"
   ]
  },
  {
   "cell_type": "code",
   "execution_count": 12,
   "id": "46a2c38f-11f7-4ecc-9741-47145307dbb8",
   "metadata": {},
   "outputs": [
    {
     "name": "stdout",
     "output_type": "stream",
     "text": [
      "Parth Tiwari\n",
      "Manju Tiwari\n",
      "Nilesh Tiwari\n"
     ]
    }
   ],
   "source": [
    "def my_function(fstname):\n",
    "    print(fstname,\"Tiwari\")\n",
    "my_function(\"Parth\")\n",
    "my_function(\"Manju\")\n",
    "my_function(\"Nilesh\")"
   ]
  },
  {
   "cell_type": "code",
   "execution_count": 13,
   "id": "a34cb085-3daf-458e-b683-43685a4d4dc6",
   "metadata": {},
   "outputs": [
    {
     "name": "stdout",
     "output_type": "stream",
     "text": [
      "Parth Kumar 123 Tiwari\n",
      "Manju Kumar 123 Tiwari\n",
      "Nilesh Kumar 123 Tiwari\n"
     ]
    }
   ],
   "source": [
    "def my_function(fstname):\n",
    "    print(fstname,\"Kumar\",123,\"Tiwari\")\n",
    "my_function(\"Parth\")\n",
    "my_function(\"Manju\")\n",
    "my_function(\"Nilesh\")"
   ]
  },
  {
   "cell_type": "code",
   "execution_count": 14,
   "id": "53851237-b6f7-4d27-a4cc-f3e54ffda37c",
   "metadata": {},
   "outputs": [
    {
     "name": "stdout",
     "output_type": "stream",
     "text": [
      "Sanjay kumar tiwari\n",
      "Manu kumar tiwari\n",
      "Rajeev kumar tiwari\n"
     ]
    }
   ],
   "source": [
    "def my_fuction(Name):\n",
    "    print(Name,\"kumar\",\"tiwari\")\n",
    "my_fuction(\"Sanjay\")\n",
    "my_fuction(\"Manu\")\n",
    "my_fuction(\"Rajeev\")"
   ]
  },
  {
   "cell_type": "code",
   "execution_count": 15,
   "id": "cf8284c5-8122-4d52-ad77-2fef1242ad7f",
   "metadata": {},
   "outputs": [
    {
     "name": "stdin",
     "output_type": "stream",
     "text": [
      "Enter month Name 4\n"
     ]
    },
    {
     "name": "stdout",
     "output_type": "stream",
     "text": [
      "For Month number: 4\n",
      "spring\n"
     ]
    }
   ],
   "source": [
    "#Python program to print the season\n",
    "#Name based on the month number\n",
    "\n",
    "def findseason (M):\n",
    "    list1=[[12,1,2],[3,4,5],[6,7,8],[9,10,11]]\n",
    "    \n",
    "    if M in list1[0]:\n",
    "        print(\"Winter\")\n",
    "    elif M in list1[1]:\n",
    "        print(\"spring\")\n",
    "    elif M in list1[2]:\n",
    "        print(\"Summer\")\n",
    "    elif M in list1[3]:\n",
    "        print(\"Autumn\")\n",
    "    else:\n",
    "        print(\"Invalid Month Number\")\n",
    "#Pre-define\n",
    "#M=4\n",
    "#print(\"For Month number:\",M);\n",
    "#findseason(M)\n",
    "\n",
    "#User-define\n",
    "M=int(input(\"Enter month Name\"))\n",
    "print(\"For Month number:\",M);\n",
    "findseason(M)\n",
    "\n",
    "        "
   ]
  },
  {
   "cell_type": "code",
   "execution_count": 16,
   "id": "d47a7a06-abe5-47c2-aca6-ea049eb76f5d",
   "metadata": {},
   "outputs": [
    {
     "name": "stdin",
     "output_type": "stream",
     "text": [
      "Enter month Name 3\n"
     ]
    },
    {
     "name": "stdout",
     "output_type": "stream",
     "text": [
      "For Month number: 3\n",
      "spring\n"
     ]
    }
   ],
   "source": [
    "def findseason (M):\n",
    "    list=[[12,1,2],[3,4,5],[6,7,8],[9,10,11]]\n",
    "    \n",
    "    if M in list [0]:\n",
    "        print(\"Winter\")\n",
    "    elif M in list [1]:\n",
    "        print(\"spring\")\n",
    "    elif M in list [2]:\n",
    "        print(\"Summer\")\n",
    "    elif M in list [3]:\n",
    "        print(\"Autums\")\n",
    "\n",
    "\n",
    "M=int(input(\"Enter month Name\"))\n",
    "print(\"For Month number:\",M);\n",
    "findseason(M)\n"
   ]
  },
  {
   "cell_type": "markdown",
   "id": "4a33aa95-e9dd-4b23-bec5-91edfd36d6ec",
   "metadata": {},
   "source": [
    "*args and **kwargs ?\n",
    "when you are not clear how many arguments you need to pass in particular function, that time we use *args and **kwargs.\n",
    "\n",
    "*args =  arguments. It is used to pass multiple arguments in a function.\n",
    "\n",
    "**kwargs=keyword arguments. It is used to pass multiple keyword arguments in a function"
   ]
  },
  {
   "cell_type": "code",
   "execution_count": 17,
   "id": "1f376087-d823-400c-9d90-ff5b59771357",
   "metadata": {},
   "outputs": [
    {
     "name": "stdout",
     "output_type": "stream",
     "text": [
      "My name is  Nitesh My age is 32 and my roll # is  64\n"
     ]
    }
   ],
   "source": [
    "# here we know how many arguments will pass.\n",
    "\n",
    "def fun1(Name,age,roll_no):\n",
    "    print(\"My name is \", Name,\"My age is\",age,\"and my roll # is \", roll_no)\n",
    "\n",
    "fun1(\"Nitesh\",32,64)\n"
   ]
  },
  {
   "cell_type": "code",
   "execution_count": 18,
   "id": "ed3b6dab-5c33-4feb-8a7b-985c397c787f",
   "metadata": {},
   "outputs": [
    {
     "name": "stdout",
     "output_type": "stream",
     "text": [
      "My name is  Nitesh My age is 32 and my roll # is  64\n",
      "<class 'tuple'>\n"
     ]
    }
   ],
   "source": [
    "# Appling *args\n",
    "def fun1(*args):\n",
    "    print(\"My name is \", args[0],\"My age is\",args[1],\"and my roll # is \", args[2])\n",
    "    print(type(args))\n",
    "fun1(\"Nitesh\",32,64)"
   ]
  },
  {
   "cell_type": "code",
   "execution_count": 19,
   "id": "22dce8e3-f536-4325-b139-39a993d485dc",
   "metadata": {},
   "outputs": [
    {
     "name": "stdout",
     "output_type": "stream",
     "text": [
      "My name is  Nitesh My age is 32 and my roll # is  64 Gender Male\n"
     ]
    }
   ],
   "source": [
    "#Add Gender\n",
    "def fun2(*args):\n",
    "    print(\"My name is \", args[0], \"My age is\", args[1], \"and my roll # is \", args[2], \"Gender\",args[3])\n",
    "   \n",
    "fun2 (\"Nitesh\",\"32\",\"64\",\"Male\")"
   ]
  },
  {
   "cell_type": "code",
   "execution_count": 20,
   "id": "342d1241-5664-4774-a11a-75faf90d9728",
   "metadata": {},
   "outputs": [
    {
     "name": "stdout",
     "output_type": "stream",
     "text": [
      "My name is  Nitesh My age is 32 and my roll # is  64 Adhar_number 7428-8094-0569 Address Vill_Ramnipur,Post_pilkichha,Dist_Jaunpur,UP-223104\n"
     ]
    }
   ],
   "source": [
    "#Add adhar number & address\n",
    "def fun2(*args):\n",
    "    print(\"My name is \", args[0], \"My age is\", args[1], \"and my roll # is \", args[2], \"Adhar_number\",args[3],\"Address\",args[4])\n",
    "   \n",
    "fun2 (\"Nitesh\",\"32\",\"64\",\"7428-8094-0569\",\"Vill_Ramnipur,Post_pilkichha,Dist_Jaunpur,UP-223104\")"
   ]
  },
  {
   "cell_type": "code",
   "execution_count": 21,
   "id": "e79f52b8-25db-43ec-b6f5-6cf39a660687",
   "metadata": {},
   "outputs": [
    {
     "name": "stdout",
     "output_type": "stream",
     "text": [
      "My name is  Nitesh My age is 32 and my roll # is  64\n",
      "My name is  Sanju My age is 32\n",
      "My name is  Manoj My age is 32 and my roll # is  56\n",
      "My name is  Aatu\n",
      "My name is  Shivi My age is 27 and my roll # is  113065\n"
     ]
    }
   ],
   "source": [
    "#*args (student name,age,roll_Number)\n",
    "# When we have only same details and some details are missing\n",
    "def fun2(*args):\n",
    "    if (len(args)==3):\n",
    "        print(\"My name is \", args[0], \"My age is\", args[1], \"and my roll # is \", args[2])\n",
    "    \n",
    "    elif (len(args)==2):\n",
    "        print(\"My name is \", args[0], \"My age is\", args[1],)\n",
    "    elif (len(args)==1):\n",
    "        print(\"My name is \", args[0])\n",
    "\n",
    "fun2 (\"Nitesh\",\"32\",\"64\")\n",
    "fun2 (\"Sanju\",\"32\")\n",
    "fun2 (\"Manoj\",32,56)\n",
    "fun2(\"Aatu\")\n",
    "fun2(\"Shivi\",27,113065)"
   ]
  },
  {
   "cell_type": "code",
   "execution_count": 22,
   "id": "2e19204e-0b3c-4f22-a3bd-099d7dda9bdb",
   "metadata": {},
   "outputs": [
    {
     "name": "stdout",
     "output_type": "stream",
     "text": [
      "<class 'dict'>\n",
      "Nitesh 32\n",
      "Shivi 28\n",
      "Ashtha 2\n",
      "Nilesh 30\n",
      "papa 48\n",
      "Mom 45\n"
     ]
    }
   ],
   "source": [
    "# **kwargs (here pass 2 element (key and value))\n",
    "# ex.1 (student name, marks)\n",
    "def stu_marks(**kwargs):\n",
    "    print(type(kwargs))\n",
    "    for key,value in kwargs.items():\n",
    "        print(key,value)\n",
    "marklist={\"Nitesh\":32,\"Shivi\":28,\"Ashtha\":2,\"Nilesh\":30,\"papa\":48,\"Mom\":45}\n",
    "stu_marks(**marklist)\n"
   ]
  },
  {
   "cell_type": "code",
   "execution_count": 23,
   "id": "760a8343-2637-48e0-9454-c67de207f4a0",
   "metadata": {},
   "outputs": [
    {
     "name": "stdout",
     "output_type": "stream",
     "text": [
      "<class 'dict'>\n",
      "astha 101\n",
      "preeti 102\n",
      "krina 103\n",
      "dhruv 104\n",
      "jimmy 105\n",
      "jaya 106\n",
      "ashish 107\n"
     ]
    }
   ],
   "source": [
    "# **kwargs (here pass 2 element (key and value))\n",
    "def emp(**kwargs):\n",
    "    print(type(kwargs))\n",
    "    for key,value in kwargs.items():\n",
    "        print(key,value)\n",
    "    \n",
    "emp_details = {\"astha\":101, \"preeti\":102, \"krina\":103, \"dhruv\":104, \"jimmy\":105, \"jaya\":106, \"ashish\":107}\n",
    "emp(**emp_details)\n"
   ]
  },
  {
   "cell_type": "code",
   "execution_count": 24,
   "id": "8b8bf28f-a20b-4ab6-a89e-f7e754f60f04",
   "metadata": {},
   "outputs": [
    {
     "name": "stdout",
     "output_type": "stream",
     "text": [
      "My youngest child is  Ashtha\n"
     ]
    }
   ],
   "source": [
    "#Keyword arguments\n",
    "#you can also send arguments with the key=value syntex\n",
    "def my_fuction(child3,child2,child1):\n",
    "    print(\"My youngest child is \" ,child1)\n",
    "    \n",
    "my_fuction(child1=\"Ashtha\",child2=\"Shiva\",child3=\"Manu\")"
   ]
  },
  {
   "cell_type": "code",
   "execution_count": 25,
   "id": "16af7a54-c48c-4e89-936b-18ff227e8769",
   "metadata": {},
   "outputs": [
    {
     "name": "stdout",
     "output_type": "stream",
     "text": [
      "My youngest child is  Ashtha\n",
      "My youngest child is  Shiva\n",
      "My youngest child is  Manu\n"
     ]
    }
   ],
   "source": [
    "def my_fuction(child3,child2,child1):\n",
    "    print(\"My youngest child is \" ,child1)\n",
    "    print(\"My youngest child is \" ,child2)\n",
    "    print(\"My youngest child is \" ,child3)\n",
    "    \n",
    "my_fuction(child1=\"Ashtha\",child2=\"Shiva\",child3=\"Manu\")"
   ]
  },
  {
   "cell_type": "code",
   "execution_count": 26,
   "id": "cfe7fa45-ae3b-4231-b7fb-7cce695359a6",
   "metadata": {},
   "outputs": [
    {
     "name": "stdout",
     "output_type": "stream",
     "text": [
      "I am living in  India\n",
      "I am living in  Astria\n",
      "I am living in  Pak\n"
     ]
    }
   ],
   "source": [
    "#default parameter value\n",
    "#the following example show how to use the default parameter value.\n",
    "\n",
    "def my_fuction(counrty=\"Norwey\"):\n",
    "    print(\"I am living in \" ,counrty)\n",
    "    \n",
    "my_fuction(\"India\")\n",
    "my_fuction(\"Astria\")\n",
    "my_fuction(\"Pak\")"
   ]
  },
  {
   "cell_type": "markdown",
   "id": "d96bff58-5e0a-4636-ae71-0b0c5cf10318",
   "metadata": {},
   "source": [
    "factorial\n",
    "The factorial is always found for a positive integer by multiplying all the integers starting from 1 till the given number.\n",
    "ex. given number is 5\n",
    "5*4*3*2*1\n",
    "output = 120.\n",
    "\n",
    "4 = 4*3*2*1 = 24\n",
    "8 = 8*7*6*5*4*3*2*1 = 40320"
   ]
  },
  {
   "cell_type": "code",
   "execution_count": 27,
   "id": "aa3ee6f0-ba62-4a12-a874-8c5d4f7a64b4",
   "metadata": {},
   "outputs": [
    {
     "name": "stdin",
     "output_type": "stream",
     "text": [
      "enter your number 3\n"
     ]
    },
    {
     "name": "stdout",
     "output_type": "stream",
     "text": [
      "the factorial of  3 is 6\n"
     ]
    }
   ],
   "source": [
    "#User define function\n",
    "num=int(input(\"enter your number\"))\n",
    "factorial=1\n",
    "if num<0:\n",
    "    print(\"Sorry factorial does not exist for negative number\")\n",
    "elif num==0:\n",
    "    print(\"the factorial of 0 is 0\")\n",
    "else:\n",
    "    for i in range(1,num+1):\n",
    "        factorial = factorial*i\n",
    "    print(\"the factorial of \",num,\"is\",factorial)\n",
    "    "
   ]
  },
  {
   "cell_type": "code",
   "execution_count": 28,
   "id": "d139d59a-f245-45b8-b0d0-fdb6c333e560",
   "metadata": {},
   "outputs": [
    {
     "name": "stdout",
     "output_type": "stream",
     "text": [
      "The factorial of  7 is 5040\n"
     ]
    }
   ],
   "source": [
    "#Pre define function\n",
    "num=7\n",
    "factorial=1\n",
    "if num<0:\n",
    "    print (\"sorry factorial does not exist for negative number\")\n",
    "elif num==0:\n",
    "    print(\"Zero factorial will be 0\")\n",
    "else:\n",
    "    for i in range (1,num+1):\n",
    "        factorial = factorial*i\n",
    "    print(\"The factorial of \",num,\"is\",factorial)"
   ]
  },
  {
   "cell_type": "code",
   "execution_count": 29,
   "id": "06fc8858-1387-4d1f-871d-095bd9c41f07",
   "metadata": {},
   "outputs": [],
   "source": [
    "#Break, continue, pass"
   ]
  },
  {
   "cell_type": "code",
   "execution_count": 30,
   "id": "8964d5ab-09c7-4ac5-90f9-77208beabf1b",
   "metadata": {},
   "outputs": [],
   "source": [
    "#Break statement use inside the loop, will terminate the loop and exist."
   ]
  },
  {
   "cell_type": "code",
   "execution_count": 31,
   "id": "cab5324b-6fdf-4b98-9a1c-31944b6b6590",
   "metadata": {},
   "outputs": [
    {
     "name": "stdout",
     "output_type": "stream",
     "text": [
      "0 1 2 3 4 "
     ]
    }
   ],
   "source": [
    "# (0,1,2,3,4,5,6,7,8)\n",
    "for i in range(9):\n",
    "    if i==5:\n",
    "        break\n",
    "    print(i,end=\" \")"
   ]
  },
  {
   "cell_type": "code",
   "execution_count": 32,
   "id": "972fc47e-d2a3-4143-a849-e9ddc4522378",
   "metadata": {},
   "outputs": [
    {
     "name": "stdout",
     "output_type": "stream",
     "text": [
      "Mango Banana "
     ]
    }
   ],
   "source": [
    "x=(\"Mango\",\"Banana\",\"Gia\",\"Book\",\"santo\")\n",
    "\n",
    "for i in x:\n",
    "    if i==\"Gia\":\n",
    "        break\n",
    "    print(i,end=\" \")"
   ]
  },
  {
   "cell_type": "code",
   "execution_count": 33,
   "id": "bf25537e-fce0-4e7a-a44a-86997f3af8ef",
   "metadata": {},
   "outputs": [
    {
     "name": "stdout",
     "output_type": "stream",
     "text": [
      "0 1 2 3 4 6 7 8 "
     ]
    }
   ],
   "source": [
    "#continue\n",
    "#a continue statement will stop the current execution when used in side loop, and the control will go back to the \n",
    "#start of the loop.\n",
    "    \n",
    "# (0,1,2,3,4,5,6,7,8)\n",
    "    \n",
    "for i in range(9):\n",
    "    if i==5:\n",
    "        continue\n",
    "    print(i,end=\" \")"
   ]
  },
  {
   "cell_type": "code",
   "execution_count": 34,
   "id": "0b21a1e2-1f69-44a2-b8cd-8e15b06df46a",
   "metadata": {},
   "outputs": [
    {
     "name": "stdout",
     "output_type": "stream",
     "text": [
      "Mango Banana Book santo "
     ]
    }
   ],
   "source": [
    "x=(\"Mango\",\"Banana\",\"Gia\",\"Book\",\"santo\")\n",
    "\n",
    "for i in x:\n",
    "    if i==\"Gia\":\n",
    "        continue\n",
    "    print(i,end=\" \")"
   ]
  },
  {
   "cell_type": "markdown",
   "id": "33ce4e22-bee4-4799-944a-305d3b76246a",
   "metadata": {},
   "source": [
    "pass statement  is used to do nothing.\n",
    "(it can be used when a statement required syntactically correct but we do not do any operation.)"
   ]
  },
  {
   "cell_type": "code",
   "execution_count": 35,
   "id": "ceae2606-2aa0-4aa6-aae6-0cc18a9c364d",
   "metadata": {},
   "outputs": [
    {
     "name": "stdout",
     "output_type": "stream",
     "text": [
      "\n"
     ]
    }
   ],
   "source": [
    "#pass \n",
    "if 5>2:\n",
    "    pass\n",
    "else:\n",
    "    print (\"else part\")\n",
    "print()"
   ]
  },
  {
   "cell_type": "code",
   "execution_count": 36,
   "id": "494b4d12-b020-4deb-8610-5d6f25e21fbc",
   "metadata": {},
   "outputs": [
    {
     "name": "stdout",
     "output_type": "stream",
     "text": [
      "else part\n",
      "\n"
     ]
    }
   ],
   "source": [
    "if 5>10:\n",
    "    pass\n",
    "else:\n",
    "    print (\"else part\")\n",
    "print()"
   ]
  },
  {
   "cell_type": "code",
   "execution_count": 37,
   "id": "acff9cfc-aaa7-4f94-ad09-e8bd8c2c1808",
   "metadata": {},
   "outputs": [],
   "source": [
    "#for loop and while loop \n"
   ]
  },
  {
   "cell_type": "code",
   "execution_count": 38,
   "id": "1b0bf946-efab-41fb-9791-dc5d87f46084",
   "metadata": {},
   "outputs": [
    {
     "name": "stdout",
     "output_type": "stream",
     "text": [
      "nitesh sanchin mango "
     ]
    }
   ],
   "source": [
    "#for Loop\n",
    "#ex.1\n",
    "x=(\"nitesh\",\"sanchin\",\"mango\")\n",
    "for i in x:\n",
    "    print(i,end=\" \")"
   ]
  },
  {
   "cell_type": "code",
   "execution_count": 39,
   "id": "0b2dfad3-1b75-4084-96ce-974ef51f2919",
   "metadata": {},
   "outputs": [
    {
     "name": "stdout",
     "output_type": "stream",
     "text": [
      "b\n",
      "a\n",
      "n\n",
      "a\n",
      "n\n",
      "a\n"
     ]
    }
   ],
   "source": [
    "#ex.2\n",
    "for i in \"banana\":\n",
    "    print(i)"
   ]
  },
  {
   "cell_type": "code",
   "execution_count": 40,
   "id": "70f2e6b7-82a3-442f-803b-493fde546cf2",
   "metadata": {},
   "outputs": [
    {
     "name": "stdout",
     "output_type": "stream",
     "text": [
      "0\n",
      "1\n",
      "2\n",
      "3\n",
      "4\n",
      "5\n",
      "6\n",
      "7\n",
      "8\n",
      "9\n"
     ]
    }
   ],
   "source": [
    "#ex.3\n",
    "for i in range (10):\n",
    "    print(i)"
   ]
  },
  {
   "cell_type": "code",
   "execution_count": 41,
   "id": "9445f25a-0503-4944-99b5-eb1f836e2a6e",
   "metadata": {},
   "outputs": [
    {
     "name": "stdout",
     "output_type": "stream",
     "text": [
      "1\n",
      "3\n",
      "5\n",
      "7\n"
     ]
    }
   ],
   "source": [
    "#ex.4\n",
    "for i in range (1,8,2):\n",
    "    print(i)"
   ]
  },
  {
   "cell_type": "markdown",
   "id": "b5d41668-e08d-493c-93f6-08c2e76ebc36",
   "metadata": {},
   "source": [
    "#while loop"
   ]
  },
  {
   "cell_type": "code",
   "execution_count": 42,
   "id": "613aadfb-3ae9-40b3-b32b-1cb1d7500ba6",
   "metadata": {},
   "outputs": [
    {
     "name": "stdout",
     "output_type": "stream",
     "text": [
      "1\n",
      "2\n",
      "3\n",
      "4\n",
      "5\n",
      "6\n",
      "7\n",
      "8\n"
     ]
    }
   ],
   "source": [
    "#ex.1\n",
    "i=1\n",
    "while i<9:\n",
    "    print(i)\n",
    "    i += 1"
   ]
  },
  {
   "cell_type": "code",
   "execution_count": 43,
   "id": "80a1322c-a5e5-4a75-8f64-08c28394e6d3",
   "metadata": {},
   "outputs": [
    {
     "name": "stdout",
     "output_type": "stream",
     "text": [
      "2\n",
      "4\n",
      "6\n"
     ]
    }
   ],
   "source": [
    "#ex.2\n",
    "i=2\n",
    "while i<7:\n",
    "    print(i)\n",
    "    i += 2"
   ]
  },
  {
   "cell_type": "code",
   "execution_count": 44,
   "id": "0aeb353a-0e25-4504-a3fc-90a57bf99f14",
   "metadata": {},
   "outputs": [
    {
     "name": "stdout",
     "output_type": "stream",
     "text": [
      "1\n",
      "2\n",
      "3\n",
      "4\n"
     ]
    }
   ],
   "source": [
    "#ex.3 (0,1,2,3) (1,2,3,4)\n",
    "i=1\n",
    "while i<6:\n",
    "    print(i)\n",
    "    if i==4:\n",
    "        break\n",
    "    i+=1"
   ]
  },
  {
   "cell_type": "code",
   "execution_count": 45,
   "id": "3d4a6d26-8858-4b4c-a296-84d982d9bc68",
   "metadata": {},
   "outputs": [],
   "source": [
    "#python casting "
   ]
  },
  {
   "cell_type": "code",
   "execution_count": 46,
   "id": "293fe253-ee5b-438e-8220-1114e46e3c0a",
   "metadata": {},
   "outputs": [
    {
     "name": "stdout",
     "output_type": "stream",
     "text": [
      "4\n",
      "5\n",
      "3\n"
     ]
    }
   ],
   "source": [
    "# INT casting\n",
    "x=int(4)\n",
    "y=int(5.6)\n",
    "z=int(\"3\")\n",
    "\n",
    "print(x)\n",
    "print(y)\n",
    "print(z)"
   ]
  },
  {
   "cell_type": "code",
   "execution_count": 47,
   "id": "541c218f-8a0d-4f43-a869-183a69d445c3",
   "metadata": {},
   "outputs": [
    {
     "name": "stdout",
     "output_type": "stream",
     "text": [
      "3.4\n",
      "3.0\n",
      "4.0\n"
     ]
    }
   ],
   "source": [
    "#float casting\n",
    "x=float(3.4)\n",
    "y=float(3)\n",
    "z=float(\"4\")\n",
    "\n",
    "print(x)\n",
    "print(y)\n",
    "print(z)"
   ]
  },
  {
   "cell_type": "code",
   "execution_count": 48,
   "id": "f5afdc07-f578-49f9-a7ff-aa78eb809a25",
   "metadata": {},
   "outputs": [
    {
     "name": "stdout",
     "output_type": "stream",
     "text": [
      "3.4\n",
      "3\n",
      "Nitesh\n"
     ]
    }
   ],
   "source": [
    "#String casting\n",
    "x=str(3.4)\n",
    "y=str(3)\n",
    "z=str(\"Nitesh\")\n",
    "\n",
    "print(x)\n",
    "print(y)\n",
    "print(z)"
   ]
  },
  {
   "cell_type": "code",
   "execution_count": 49,
   "id": "8fefed3d-f7e1-4e64-8c4e-f37024934b24",
   "metadata": {},
   "outputs": [],
   "source": [
    "#how to find out data type"
   ]
  },
  {
   "cell_type": "code",
   "execution_count": 50,
   "id": "c2bc69a2-85f4-4965-988e-bc082aa9f631",
   "metadata": {},
   "outputs": [
    {
     "name": "stdout",
     "output_type": "stream",
     "text": [
      "<class 'tuple'>\n",
      "<class 'list'>\n"
     ]
    }
   ],
   "source": [
    "mylist=(\"apple,\",\"banan\",\"cherry\")\n",
    "print(type(mylist))\n",
    "\n",
    "mylist=[\"apple,\",\"banan\",\"cherry\"]\n",
    "print(type(mylist))"
   ]
  },
  {
   "cell_type": "code",
   "execution_count": 51,
   "id": "b37bd924-9629-4ca8-a531-8c48ae5ac623",
   "metadata": {},
   "outputs": [
    {
     "name": "stdout",
     "output_type": "stream",
     "text": [
      "<class 'set'>\n",
      "<class 'str'>\n"
     ]
    }
   ],
   "source": [
    "mylist={\"apple,\",\"banan\",\"cherry\"}\n",
    "print(type(mylist))\n",
    "\n",
    "mylist=\"apple\"\n",
    "print(type(mylist))"
   ]
  },
  {
   "cell_type": "code",
   "execution_count": 52,
   "id": "af1f9cd0-d08f-46ae-a492-c0b864bdd3b5",
   "metadata": {},
   "outputs": [
    {
     "name": "stdout",
     "output_type": "stream",
     "text": [
      "<class 'int'>\n",
      "<class 'float'>\n"
     ]
    }
   ],
   "source": [
    "mylist=45\n",
    "print(type(mylist))\n",
    "\n",
    "mylist=45.25\n",
    "print(type(mylist))"
   ]
  },
  {
   "cell_type": "code",
   "execution_count": 53,
   "id": "c5ab2a75-499a-4750-a05a-4c65633b3b19",
   "metadata": {},
   "outputs": [
    {
     "name": "stdout",
     "output_type": "stream",
     "text": [
      "<class 'dict'>\n",
      "<class 'complex'>\n"
     ]
    }
   ],
   "source": [
    "mylist={\"apple\":\"banana\",\"cherry\":\"grapes\"}\n",
    "print(type(mylist))\n",
    "\n",
    "mylist=1j\n",
    "print(type(mylist))"
   ]
  },
  {
   "cell_type": "code",
   "execution_count": 54,
   "id": "764a4e77-21a0-43d4-9dcd-535b32052bf8",
   "metadata": {},
   "outputs": [
    {
     "name": "stdout",
     "output_type": "stream",
     "text": [
      "<class 'range'>\n",
      "<class 'NoneType'>\n"
     ]
    }
   ],
   "source": [
    "r=range(9)\n",
    "print(type(r))\n",
    "\n",
    "x = None\n",
    "print(type(x))"
   ]
  },
  {
   "cell_type": "code",
   "execution_count": 55,
   "id": "6120d170-226c-4f37-a159-354ad8e839b8",
   "metadata": {},
   "outputs": [
    {
     "name": "stdout",
     "output_type": "stream",
     "text": [
      "(1, 2, 3, 4, 5, 6, 7, 3, 4, 5, 6)\n",
      "<class 'tuple'>\n"
     ]
    }
   ],
   "source": [
    "#convert list into tuple = tuple function\n",
    "list=[1,2,3,4,5,6,7,3,4,5,6]\n",
    "\n",
    "tuple1=tuple(list)\n",
    "print(tuple1)\n",
    "print(type(tuple1))\n"
   ]
  },
  {
   "cell_type": "markdown",
   "id": "05c28428-b3bb-4f8b-9675-0164e73a69dc",
   "metadata": {},
   "source": [
    "#convert tuple into list = list function\n",
    "\n",
    "tuple1=(1,2,3,4,5,6,7,3,4,5,6)\n",
    "#Tuple to list\n",
    "list1= list(tuple1)\n",
    "\n",
    "print(list1)\n",
    "print(type(list1))\n"
   ]
  },
  {
   "cell_type": "code",
   "execution_count": 56,
   "id": "295e73f2-00c7-4a45-b853-4bfed33cecaa",
   "metadata": {},
   "outputs": [
    {
     "name": "stdout",
     "output_type": "stream",
     "text": [
      "{1, 2, 3, 4, 5}\n",
      "<class 'set'>\n"
     ]
    }
   ],
   "source": [
    "#convert list into set = set function\n",
    "#it's use when we have to remove duplicates from list\n",
    "mylist=[1,2,3,4,2,3,4,5]\n",
    "\n",
    "set1=set(mylist)\n",
    "print(set1)\n",
    "print(type(set1))\n",
    "\n"
   ]
  },
  {
   "cell_type": "code",
   "execution_count": 57,
   "id": "1c8f2507-69de-4f3d-8c56-6c05ce69287f",
   "metadata": {},
   "outputs": [
    {
     "name": "stdout",
     "output_type": "stream",
     "text": [
      "Nitesh\n",
      "Nitesh\n",
      "Nitesh\n",
      "Nitesh\n",
      "Nitesh\n"
     ]
    }
   ],
   "source": [
    "# Using a for loop \"Nitesh\" 5 time\n",
    "\n",
    "for i in range(5):\n",
    "    print(\"Nitesh\")"
   ]
  },
  {
   "cell_type": "code",
   "execution_count": 58,
   "id": "8d76e9c1-1285-4903-9a2b-8f7fdf1e8eb4",
   "metadata": {},
   "outputs": [
    {
     "name": "stdout",
     "output_type": "stream",
     "text": [
      "10 9 8 7 6 5 4 3 2 1 "
     ]
    }
   ],
   "source": [
    "#Using for loop to display the number 10 to 1\n",
    "for i in range(10,0,-1):\n",
    "    print(i,end=' ')"
   ]
  },
  {
   "cell_type": "code",
   "execution_count": 59,
   "id": "a803800c-9cdb-46b6-891f-384f28e2b898",
   "metadata": {},
   "outputs": [
    {
     "name": "stdin",
     "output_type": "stream",
     "text": [
      "Enter your name niltesh\n"
     ]
    },
    {
     "name": "stdout",
     "output_type": "stream",
     "text": [
      "7\n"
     ]
    }
   ],
   "source": [
    "#write a program which accept name from user and display length of its name\n",
    "\n",
    "name=input(\"Enter your name\")\n",
    "\n",
    "print(len(name))\n"
   ]
  },
  {
   "cell_type": "code",
   "execution_count": 60,
   "id": "60c816c4-188e-460a-85c6-6074e5e09084",
   "metadata": {},
   "outputs": [
    {
     "name": "stdin",
     "output_type": "stream",
     "text": [
      "Enter your phone# 7428809506\n"
     ]
    },
    {
     "name": "stdout",
     "output_type": "stream",
     "text": [
      "length of mobile# 10\n"
     ]
    }
   ],
   "source": [
    "#Enter you phone#\n",
    "Phone_num = input(\"Enter your phone#\")\n",
    "lenght = len(Phone_num)\n",
    "\n",
    "print(\"length of mobile#\",lenght)\n",
    "\n"
   ]
  },
  {
   "cell_type": "code",
   "execution_count": 61,
   "id": "e9e34957-2e78-4005-876f-7f10c01352e1",
   "metadata": {},
   "outputs": [
    {
     "name": "stdout",
     "output_type": "stream",
     "text": [
      "[2, 4, 6, 8, 10]\n",
      "[1, 3, 5, 7, 9]\n"
     ]
    }
   ],
   "source": [
    "#how to divide odd and even number in to different list\n",
    "\n",
    "list=[1,2,3,4,5,6,7,8,9,10]\n",
    "\n",
    "evenlist=[]\n",
    "oddlist=[]\n",
    "\n",
    "for i in list:\n",
    "    if i%2==0:\n",
    "        evenlist.append(i)\n",
    "    else:\n",
    "        oddlist.append(i)\n",
    "        \n",
    "print(evenlist)\n",
    "print(oddlist)\n"
   ]
  },
  {
   "cell_type": "code",
   "execution_count": 62,
   "id": "dda4ff49-600b-4913-a2a3-a908ff5c2139",
   "metadata": {},
   "outputs": [
    {
     "name": "stdout",
     "output_type": "stream",
     "text": [
      "[2, 4, 6, 8, 10, 12, 14, 16, 18, 20, 22, 24, 26, 28, 30, 32, 34, 36, 38, 40, 42, 44, 46, 48, 50, 52, 54, 56, 58, 60, 62, 64, 66, 68, 70, 72, 74, 76, 78, 80, 82, 84, 86, 88, 90, 92, 94, 96, 98, 100]\n",
      "[1, 3, 5, 7, 9, 11, 13, 15, 17, 19, 21, 23, 25, 27, 29, 31, 33, 35, 37, 39, 41, 43, 45, 47, 49, 51, 53, 55, 57, 59, 61, 63, 65, 67, 69, 71, 73, 75, 77, 79, 81, 83, 85, 87, 89, 91, 93, 95, 97, 99]\n"
     ]
    }
   ],
   "source": [
    "#how to divide odd and even number in to different list\n",
    "evenlist=[]\n",
    "oddlist=[]\n",
    "\n",
    "for i in range(1,101,1):\n",
    "    if i%2==0:\n",
    "        evenlist.append(i)\n",
    "    else:\n",
    "        oddlist.append(i)\n",
    "        \n",
    "print(evenlist)\n",
    "print(oddlist)"
   ]
  },
  {
   "cell_type": "code",
   "execution_count": 63,
   "id": "91a5cd17-b953-489a-9264-200960262369",
   "metadata": {},
   "outputs": [
    {
     "name": "stdout",
     "output_type": "stream",
     "text": [
      "[50, 60, 70, 80, 90, 100, 110]\n",
      "[10, 20, 30, 40]\n"
     ]
    }
   ],
   "source": [
    "#divide age in to above 50 and below 50.\n",
    "age=[10,20,30,40,50,60,70,80,90,100,110]\n",
    "\n",
    "above50=[]\n",
    "below50=[]\n",
    "\n",
    "for i in age:\n",
    "    if i>=50:\n",
    "        above50.append(i)\n",
    "    else:\n",
    "        below50.append(i)\n",
    "\n",
    "print(above50)\n",
    "print(below50)\n",
    "    "
   ]
  },
  {
   "cell_type": "code",
   "execution_count": null,
   "id": "ab8b8ed8-74a2-4402-8847-38b10286834a",
   "metadata": {},
   "outputs": [],
   "source": []
  },
  {
   "cell_type": "code",
   "execution_count": null,
   "id": "1307a590-e8ef-4a27-88d4-d47564bd28d3",
   "metadata": {},
   "outputs": [],
   "source": []
  },
  {
   "cell_type": "code",
   "execution_count": null,
   "id": "94b487a1-1994-4dac-bba7-1ff22fbc6295",
   "metadata": {},
   "outputs": [],
   "source": []
  },
  {
   "cell_type": "code",
   "execution_count": null,
   "id": "a7bf01ed-6314-40fe-86ae-1baec731f169",
   "metadata": {},
   "outputs": [],
   "source": []
  },
  {
   "cell_type": "code",
   "execution_count": null,
   "id": "a6df495a-3c17-4fa7-9215-1f50614dc432",
   "metadata": {},
   "outputs": [],
   "source": []
  }
 ],
 "metadata": {
  "kernelspec": {
   "display_name": "Python 3 (ipykernel)",
   "language": "python",
   "name": "python3"
  },
  "language_info": {
   "codemirror_mode": {
    "name": "ipython",
    "version": 3
   },
   "file_extension": ".py",
   "mimetype": "text/x-python",
   "name": "python",
   "nbconvert_exporter": "python",
   "pygments_lexer": "ipython3",
   "version": "3.12.0"
  }
 },
 "nbformat": 4,
 "nbformat_minor": 5
}

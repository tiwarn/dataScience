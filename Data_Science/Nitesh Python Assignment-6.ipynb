{
 "cells": [
  {
   "cell_type": "markdown",
   "id": "f18dd36d-d92e-4f46-ae11-a9c3ee239f25",
   "metadata": {},
   "source": [
    "#1. what is data abstraction?\n",
    "#Ans; Data abstraction in python is a programming concept that hides \"complex implementation\" or \"Important details\" details while exposing\n",
    "only required detail to end processer."
   ]
  },
  {
   "cell_type": "markdown",
   "id": "55bad286-5a24-45be-9a15-277b3740f2d2",
   "metadata": {},
   "source": [
    "#2. how to create class in python ?\n",
    "Ans:-We can create class with the help of object then we define the relation with the help of \"def\" then we will create \"object\" and that object will link(method) with defined relations.\n",
    "Ex(Refer to the below Ex.1"
   ]
  },
  {
   "cell_type": "code",
   "execution_count": 1,
   "id": "4bd6738a-3ea8-481a-9e5a-7ca049587bbb",
   "metadata": {},
   "outputs": [
    {
     "name": "stdout",
     "output_type": "stream",
     "text": [
      "I am sister\n",
      "I am brother\n"
     ]
    }
   ],
   "source": [
    "#Ex.1\n",
    "class family:#class\n",
    "    def sister(self):#relation\n",
    "        print(\"I am sister\")\n",
    "    def brother(self):#relation\n",
    "        print(\"I am brother\")\n",
    "obj=family()#object\n",
    "\n",
    "obj.sister()#method\n",
    "obj.brother()#method\n"
   ]
  },
  {
   "cell_type": "code",
   "execution_count": 2,
   "id": "d7b1ab5f-51a5-4db7-aed3-6a8377fd6d58",
   "metadata": {},
   "outputs": [
    {
     "name": "stdout",
     "output_type": "stream",
     "text": [
      "[4, 5, 3, 7, 9, 8, 2, 3]\n",
      "('Babli', 'Sunil', 'Santosh', 'Vikas')\n"
     ]
    }
   ],
   "source": [
    "#3. Give two example of polymorphism.\n",
    "A=[4,5,3,7]\n",
    "B=[9,8,2,3]\n",
    "\n",
    "print(A+B)\n",
    "\n",
    "a=(\"Babli\",\"Sunil\")\n",
    "b=(\"Santosh\",\"Vikas\")\n",
    "\n",
    "print(a+b)"
   ]
  },
  {
   "cell_type": "code",
   "execution_count": 3,
   "id": "abc479f6-3cf0-4ecf-aa12-1804091ac611",
   "metadata": {},
   "outputs": [
    {
     "name": "stdout",
     "output_type": "stream",
     "text": [
      "This function is in school.\n",
      "This function is in student 1. \n",
      "This function is in student 3.\n",
      "This function is in student 2.\n"
     ]
    }
   ],
   "source": [
    "#4. Defination of hybrid inheritance and give one example.\n",
    "#Inheritance consisting of multiple types of inheritance is called hybrid inheritance.\n",
    "#EX.1\n",
    "class School:\n",
    "    def func1(self):\n",
    "        print(\"This function is in school.\")\n",
    " \n",
    " \n",
    "class Student1(School):\n",
    "    def func2(self):\n",
    "        print(\"This function is in student 1. \")\n",
    " \n",
    "class Student2(Student1):\n",
    "    def func3(self):\n",
    "        print(\"This function is in student 2.\")\n",
    " \n",
    " \n",
    "class Student3(Student1, School):\n",
    "    def func4(self):\n",
    "        print(\"This function is in student 3.\")\n",
    " \n",
    " \n",
    "object = Student3()\n",
    "object.func1()\n",
    "object.func2()\n",
    "object.func4()\n",
    "\n",
    "obj2=Student2()\n",
    "obj2.func3()"
   ]
  },
  {
   "cell_type": "code",
   "execution_count": 4,
   "id": "c6c3a1bb-46db-4026-b45b-e0c13feda6f1",
   "metadata": {},
   "outputs": [
    {
     "name": "stdout",
     "output_type": "stream",
     "text": [
      "My name is : Nitesh\n",
      "Gender : M\n",
      "City : Gurugram\n",
      "My name is : Babli\n",
      "Gender : F\n",
      "City : New Delhi\n"
     ]
    }
   ],
   "source": [
    "#5.Give one example of encapsulation.\n",
    "class Team():\n",
    "    def __init__(self,Emp_Name,Gender,City):\n",
    "        self.Emp_Name = Emp_Name\n",
    "        self.Gender=Gender\n",
    "        self.City=City\n",
    "        \n",
    "    def display (self):\n",
    "        print(\"My name is :\",self.Emp_Name)\n",
    "        print(\"Gender :\",self.Gender)\n",
    "        print(\"City :\",self.City)\n",
    "\n",
    "s1=Team(\"Nitesh\",\"M\",\"Gurugram\")\n",
    "s1.display()\n",
    "s2=Team(\"Babli\",\"F\",\"New Delhi\")\n",
    "s2.display()"
   ]
  },
  {
   "cell_type": "code",
   "execution_count": 5,
   "id": "51d6d62f-4039-4e34-a91b-99b499c1d253",
   "metadata": {},
   "outputs": [
    {
     "name": "stdout",
     "output_type": "stream",
     "text": [
      "9.0\n",
      "99\n",
      "56\n"
     ]
    }
   ],
   "source": [
    "#6.Two example of math module.\n",
    "#ex.1\n",
    "import math\n",
    "x=math.sqrt(81)\n",
    "\n",
    "print(x)\n",
    "\n",
    "#ex.2\n",
    "import math\n",
    "x=math.ceil(98.7)\n",
    "y=math.floor(56.8)\n",
    "print(x)\n",
    "print(y)"
   ]
  },
  {
   "cell_type": "code",
   "execution_count": 6,
   "id": "f4e53f6e-9988-4eb7-a243-dda64aa082c9",
   "metadata": {},
   "outputs": [
    {
     "name": "stdout",
     "output_type": "stream",
     "text": [
      "27\n",
      "4\n"
     ]
    }
   ],
   "source": [
    "#7.Two example of random number module.\n",
    "#ex.1\n",
    "import random\n",
    "x=random.randrange(23,29)\n",
    "print(x)\n",
    "\n",
    "#ex.2\n",
    "import random\n",
    "x=random.randint(1,20)\n",
    "print(x)"
   ]
  },
  {
   "cell_type": "code",
   "execution_count": 7,
   "id": "8333254f-393e-412f-b3ff-e0597253248f",
   "metadata": {},
   "outputs": [
    {
     "name": "stdout",
     "output_type": "stream",
     "text": [
      "['n', 's', 'n', 't', 's', 't', 'w', 'r']\n",
      "yes, the string starts with 'hello' \n"
     ]
    }
   ],
   "source": [
    "#8.Two example of re module.\n",
    "#ex.1\n",
    "import re\n",
    "txt=\"My name is nitesh tiwari\"\n",
    "\n",
    "x=re.findall(\"[n-w]\",txt)\n",
    "print(x)\n",
    "\n",
    "#ex.2\n",
    "import re \n",
    "txt =\"hello Sir\"\n",
    "\n",
    "x=re.findall(\"^hello\",txt)\n",
    "if x:\n",
    "    print(\"yes, the string starts with 'hello' \")\n",
    "else:\n",
    "    print(\"No match\")"
   ]
  },
  {
   "cell_type": "markdown",
   "id": "d00a5073-1430-4a00-904c-a5b9ac562c3f",
   "metadata": {},
   "source": [
    "#9.Describe below python keywords.\n",
    "  1.import:-It is used to import a module.\n",
    "  2.else:-It is used in a conditional statement after if/elif.\n",
    "  3.break:-Break out a Loop.\n",
    "  4.try:-Try is used to handle errors.\n",
    "  5.not in:-To check if a value is not present in a Tuple, List.\n",
    "  6.def:-It is used to define the Function.\n",
    "  7.and:-It is a Logical Operator.\n",
    "  8.is:-It is used to test if two variables are equal."
   ]
  },
  {
   "cell_type": "markdown",
   "id": "0d1d013c-c4be-4e17-a0d6-014d2f0d2bd3",
   "metadata": {},
   "source": [
    "#10.Describe all mode of file handling in details.\n",
    "R – (Read-only mode):- This mode allows you to read from the file, but you can’t make any changes to it.\n",
    "W– (Write-only mode):- This mode allows you to write to the file, but you can’t read from it.\n",
    "A – (Append-only mode):- This mode allows you to write to the file, but you can’t read from this mode. It creates the file if it does not exist on your system. It will add new data if the file already has data.\n",
    "R+ – (Read + Write mode):- This mode allows you to read from and write to the file. It raises an error if the file is not existing on your system.\n",
    "W+ – (Write + Read mode):- This mode allows you to read from and write to the file. It creates the file if it does not exist on your system. It will overwrite if the file is present in your system.\n",
    "A+ – (Append + Read mode):- This mode allows you to read from and write to the file. It creates the file if it does not exist on your system. It will add new data if the file already has data."
   ]
  },
  {
   "cell_type": "code",
   "execution_count": null,
   "id": "a588f87f-69e0-4dc6-acc9-159ba917a92e",
   "metadata": {},
   "outputs": [],
   "source": []
  },
  {
   "cell_type": "code",
   "execution_count": null,
   "id": "da0b5d87-d70c-4614-baf6-428fb1131454",
   "metadata": {},
   "outputs": [],
   "source": []
  }
 ],
 "metadata": {
  "kernelspec": {
   "display_name": "Python 3 (ipykernel)",
   "language": "python",
   "name": "python3"
  },
  "language_info": {
   "codemirror_mode": {
    "name": "ipython",
    "version": 3
   },
   "file_extension": ".py",
   "mimetype": "text/x-python",
   "name": "python",
   "nbconvert_exporter": "python",
   "pygments_lexer": "ipython3",
   "version": "3.12.0"
  }
 },
 "nbformat": 4,
 "nbformat_minor": 5
}

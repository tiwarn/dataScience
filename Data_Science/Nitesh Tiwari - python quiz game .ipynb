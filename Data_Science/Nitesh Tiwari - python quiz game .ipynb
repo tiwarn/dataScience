{
 "cells": [
  {
   "cell_type": "code",
   "execution_count": null,
   "id": "f1c10f9d-9214-4dc8-900c-7dfed5f25f9b",
   "metadata": {},
   "outputs": [],
   "source": []
  },
  {
   "cell_type": "code",
   "execution_count": 15,
   "id": "50d18ab9-96f1-4ab1-83b2-3f7bef7ad0c7",
   "metadata": {},
   "outputs": [
    {
     "name": "stdout",
     "output_type": "stream",
     "text": [
      "Welcom to My computer quiz\n"
     ]
    },
    {
     "name": "stdin",
     "output_type": "stream",
     "text": [
      "Do you want to play? Yes\n"
     ]
    },
    {
     "name": "stdout",
     "output_type": "stream",
     "text": [
      "ok,Let's Play\n"
     ]
    },
    {
     "name": "stdin",
     "output_type": "stream",
     "text": [
      "My Sql is structured Query Language ? yes\n"
     ]
    },
    {
     "name": "stdout",
     "output_type": "stream",
     "text": [
      "correct\n"
     ]
    },
    {
     "name": "stdin",
     "output_type": "stream",
     "text": [
      " My Sql is consider which type of data ? relational database\n"
     ]
    },
    {
     "name": "stdout",
     "output_type": "stream",
     "text": [
      "correct\n"
     ]
    },
    {
     "name": "stdin",
     "output_type": "stream",
     "text": [
      "Tuple is mutable or immutable ?  immutable\n"
     ]
    },
    {
     "name": "stdout",
     "output_type": "stream",
     "text": [
      "correct\n"
     ]
    },
    {
     "name": "stdin",
     "output_type": "stream",
     "text": [
      "List is mutable or immutable ?  mutable\n"
     ]
    },
    {
     "name": "stdout",
     "output_type": "stream",
     "text": [
      "correct\n"
     ]
    },
    {
     "name": "stdin",
     "output_type": "stream",
     "text": [
      "how many keywords in python ?  33\n"
     ]
    },
    {
     "name": "stdout",
     "output_type": "stream",
     "text": [
      "correct\n"
     ]
    },
    {
     "name": "stdin",
     "output_type": "stream",
     "text": [
      "which keywords are start with capital letter ?  None\n"
     ]
    },
    {
     "name": "stdout",
     "output_type": "stream",
     "text": [
      "correct\n"
     ]
    },
    {
     "name": "stdin",
     "output_type": "stream",
     "text": [
      "Does primary key contain the Null Values no\n"
     ]
    },
    {
     "name": "stdout",
     "output_type": "stream",
     "text": [
      "correct\n"
     ]
    },
    {
     "name": "stdin",
     "output_type": "stream",
     "text": [
      "Does Unique key contain the Null Values yes\n"
     ]
    },
    {
     "name": "stdout",
     "output_type": "stream",
     "text": [
      "correct\n"
     ]
    },
    {
     "name": "stdin",
     "output_type": "stream",
     "text": [
      "In comparison Numpy & Python_who will wrok faster numpy\n"
     ]
    },
    {
     "name": "stdout",
     "output_type": "stream",
     "text": [
      "correct\n",
      "You got 9question correct\n"
     ]
    }
   ],
   "source": [
    "print (\"Welcom to My computer quiz\")\n",
    "\n",
    "playing= input(\"Do you want to play?\")\n",
    "\n",
    "if playing !=\"Yes\":\n",
    "    Quit()\n",
    "print(\"ok,Let's Play\")\n",
    "score=0\n",
    "\n",
    "answer = input (\"My Sql is structured Query Language ?\").lower()\n",
    "if answer == \"yes\":\n",
    "    print(\"correct\")\n",
    "    score+=1\n",
    "else:\n",
    "    print(\"Incorrect\")\n",
    "\n",
    "answer = input(\" My Sql is consider which type of data ?\").lower()\n",
    "if answer == \"relational database\":\n",
    "    print(\"correct\")\n",
    "    score+=1\n",
    "else:\n",
    "    print(\"Incorrect\")\n",
    "    \n",
    "answer = input(\"Tuple is mutable or immutable ? \").lower()\n",
    "if answer == \"immutable\":\n",
    "    print(\"correct\")\n",
    "    score+=1\n",
    "else:\n",
    "    print(\"Incorrect\")\n",
    "\n",
    "answer = input(\"List is mutable or immutable ? \").lower()\n",
    "if answer == \"mutable\":\n",
    "    print(\"correct\")\n",
    "    score+=1\n",
    "else:\n",
    "    print(\"Incorrect\")\n",
    "\n",
    "answer = input(\"how many keywords in python ? \").lower()\n",
    "if answer == \"33\":\n",
    "    print(\"correct\")\n",
    "    score+=1\n",
    "\n",
    "else:\n",
    "    print(\"incorrect\")  \n",
    "\n",
    "answer = input(\"which keywords are start with capital letter ? \")\n",
    "if answer == \"True\":\n",
    "    print(\"correct\")\n",
    "elif answer == \"False\":\n",
    "    print(\"correct\")\n",
    "elif answer == \"None\":\n",
    "    print(\"correct\")\n",
    "    score+=1\n",
    "\n",
    "else:\n",
    "    print(\"incorrect\")\n",
    "\n",
    "answer = input(\"Does primary key contain the Null Values\").lower()\n",
    "if answer ==\"no\":\n",
    "    print(\"correct\")\n",
    "    score+=1\n",
    "else:\n",
    "    print(\"Incorrect\")\n",
    "\n",
    "answer = input(\"Does Unique key contain the Null Values\").lower()\n",
    "if answer ==\"yes\":\n",
    "    print(\"correct\")\n",
    "    score+=1\n",
    "else:\n",
    "    print(\"Incorrect\")\n",
    "\n",
    "answer = input(\"In comparison Numpy & Python_who will wrok faster\").lower()\n",
    "if answer==\"numpy\":\n",
    "    print(\"correct\")\n",
    "    score+=1\n",
    "else:\n",
    "    print(\"Incorrect\")\n",
    "\n",
    "print(\"You got \" + str(score ) + \"question correct\")\n"
   ]
  },
  {
   "cell_type": "code",
   "execution_count": null,
   "id": "ce62518f-327f-45c4-8bf1-6aa1c5521ede",
   "metadata": {},
   "outputs": [],
   "source": []
  },
  {
   "cell_type": "code",
   "execution_count": null,
   "id": "7de17667-6060-4982-b7f0-ec8a27442cb3",
   "metadata": {},
   "outputs": [],
   "source": []
  },
  {
   "cell_type": "code",
   "execution_count": null,
   "id": "975d5600-17e7-4580-8812-d204732d79a2",
   "metadata": {},
   "outputs": [],
   "source": []
  },
  {
   "cell_type": "code",
   "execution_count": null,
   "id": "2b3cb192-afea-4ed8-8ea5-4485ac462664",
   "metadata": {},
   "outputs": [],
   "source": []
  },
  {
   "cell_type": "code",
   "execution_count": null,
   "id": "5e299d29-0deb-4f5e-8c9c-1262c1fca87f",
   "metadata": {},
   "outputs": [],
   "source": []
  },
  {
   "cell_type": "code",
   "execution_count": null,
   "id": "f77d5c65-76e8-47dc-a483-476d782ba529",
   "metadata": {},
   "outputs": [],
   "source": []
  },
  {
   "cell_type": "code",
   "execution_count": null,
   "id": "a78bcee6-2dcc-419b-99fa-f52091abd96b",
   "metadata": {},
   "outputs": [],
   "source": []
  },
  {
   "cell_type": "code",
   "execution_count": null,
   "id": "a0b8ef84-30b9-46be-9622-240ff47e056f",
   "metadata": {},
   "outputs": [],
   "source": []
  },
  {
   "cell_type": "code",
   "execution_count": null,
   "id": "8d1f254a-cb54-48ab-a1f8-5eaaf3c3e794",
   "metadata": {},
   "outputs": [],
   "source": []
  },
  {
   "cell_type": "code",
   "execution_count": null,
   "id": "f9985b5d-cdf8-4bdc-9d64-313c0ba01ddd",
   "metadata": {},
   "outputs": [],
   "source": []
  },
  {
   "cell_type": "code",
   "execution_count": null,
   "id": "52bd9303-49fa-44e5-ab94-f7674e1f5c4d",
   "metadata": {},
   "outputs": [],
   "source": []
  },
  {
   "cell_type": "code",
   "execution_count": null,
   "id": "43c88ed8-0c7a-4deb-9267-8db7b8c8a4e8",
   "metadata": {},
   "outputs": [],
   "source": []
  },
  {
   "cell_type": "code",
   "execution_count": null,
   "id": "ba767b1b-564c-424a-b4c7-463f720b51d1",
   "metadata": {},
   "outputs": [],
   "source": []
  },
  {
   "cell_type": "code",
   "execution_count": null,
   "id": "51f8f6c7-54a4-4c15-8e86-cf6e54d8e639",
   "metadata": {},
   "outputs": [],
   "source": []
  },
  {
   "cell_type": "code",
   "execution_count": null,
   "id": "8723e4bc-1040-492b-bdc1-b99308bea33d",
   "metadata": {},
   "outputs": [],
   "source": []
  },
  {
   "cell_type": "code",
   "execution_count": null,
   "id": "0198af95-7f90-4cbd-a3b9-6af4798899d3",
   "metadata": {},
   "outputs": [],
   "source": []
  },
  {
   "cell_type": "code",
   "execution_count": null,
   "id": "43ba8472-c91b-4d21-9559-592ea1644b10",
   "metadata": {},
   "outputs": [],
   "source": []
  }
 ],
 "metadata": {
  "kernelspec": {
   "display_name": "Python 3 (ipykernel)",
   "language": "python",
   "name": "python3"
  },
  "language_info": {
   "codemirror_mode": {
    "name": "ipython",
    "version": 3
   },
   "file_extension": ".py",
   "mimetype": "text/x-python",
   "name": "python",
   "nbconvert_exporter": "python",
   "pygments_lexer": "ipython3",
   "version": "3.12.0"
  }
 },
 "nbformat": 4,
 "nbformat_minor": 5
}
